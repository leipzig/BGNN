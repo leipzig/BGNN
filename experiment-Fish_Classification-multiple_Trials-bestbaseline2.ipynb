{
 "cells": [
  {
   "cell_type": "markdown",
   "metadata": {},
   "source": [
    "Setup"
   ]
  },
  {
   "cell_type": "code",
   "execution_count": 1,
   "metadata": {},
   "outputs": [],
   "source": [
    "%matplotlib inline\n",
    "\n",
    "import matplotlib.pyplot as plt\n",
    "import torch\n",
    "import CNN\n",
    "\n",
    "# from config_plots import global_settings\n",
    "# global_settings()\n",
    "import warnings\n",
    "warnings.filterwarnings(\"ignore\")"
   ]
  },
  {
   "cell_type": "markdown",
   "metadata": {},
   "source": [
    "Hyper parameters"
   ]
  },
  {
   "cell_type": "code",
   "execution_count": 2,
   "metadata": {},
   "outputs": [],
   "source": [
    "# defining global variables\n",
    "experimentName = \"test_22987_suffix50_11_CNN2_differentConfig_bestbaseline2\"\n",
    "showListOfSpecies = False\n",
    "\n",
    "from configParser import ConfigParser, getModelName\n",
    "config_parser = ConfigParser(experimentName)\n",
    "\n",
    "import os\n",
    "experimentName = os.path.join(experimentName, \"multi-trial\")\n",
    "import TrialStatistics\n",
    "ts = TrialStatistics.TrialStatistics(experimentName)\n",
    "ts_genus = TrialStatistics.TrialStatistics(experimentName, \"genus\")\n",
    "\n",
    "import dataLoader"
   ]
  },
  {
   "cell_type": "markdown",
   "metadata": {},
   "source": [
    "Cuda support"
   ]
  },
  {
   "cell_type": "code",
   "execution_count": 3,
   "metadata": {},
   "outputs": [
    {
     "name": "stdout",
     "output_type": "stream",
     "text": [
      "We are using cuda\n"
     ]
    }
   ],
   "source": [
    "# CUDA support \n",
    "if torch.cuda.is_available():\n",
    "    torch.cuda.set_device(0) # 0\n",
    "    torch.set_default_tensor_type('torch.cuda.FloatTensor')\n",
    "    print(\"We are using cuda\")"
   ]
  },
  {
   "cell_type": "markdown",
   "metadata": {},
   "source": [
    "Iterate"
   ]
  },
  {
   "cell_type": "code",
   "execution_count": 4,
   "metadata": {},
   "outputs": [
    {
     "name": "stderr",
     "output_type": "stream",
     "text": [
      "N/A% (0 of 1) |                          | Elapsed Time: 0:00:00 ETA:  --:--:--"
     ]
    },
    {
     "name": "stdout",
     "output_type": "stream",
     "text": [
      "experiment  1 / 1 :  {'image_path': '/data/BGNN_data/INHS_cropped', 'suffix': '50_11', 'training_count': 0.64, 'validation_count': 0.16, 'imageDimension': 224, 'n_channels': 3, 'augmentation': False, 'batchSize': 550, 'n_epochs': 1000, 'learning_rate': 0.0001, 'numOfTrials': 3, 'patience': 100, 'useHeirarchy': False, 'useRelu': False, 'downsample': True, 'downsampleOutput': 50, 'takeFromIntermediate': True, 'takeFromIntermediateOutput': 50, 'useAdam': True, 'resnet': '18', 'normalize': False, 'dummy': 0}\n",
      "Loading dataset...\n",
      "Going through image files\n"
     ]
    },
    {
     "name": "stderr",
     "output_type": "stream",
     "text": [
      "100% (550 of 550) |######################| Elapsed Time: 0:00:40 Time:  0:00:40\n"
     ]
    },
    {
     "name": "stdout",
     "output_type": "stream",
     "text": [
      "dataset has a mean: tensor([0.7661, 0.7249, 0.6513]) and std: tensor([0.1420, 0.1753, 0.2096])\n",
      "file /data/BGNN_data/INHS_cropped/50_11/test_22987_suffix50_11_CNN2_differentConfig_bestbaseline2/multi-trial/tc0.640000_vc0.160000_d224_c3_augFalse_nFalse/dataset.pkl written\n",
      "using a pretrained resnet model...\n",
      "file /data/BGNN_data/INHS_cropped/50_11/test_22987_suffix50_11_CNN2_differentConfig_bestbaseline2/multi-trial/trainingIndex.pkl written\n",
      "file /data/BGNN_data/INHS_cropped/50_11/test_22987_suffix50_11_CNN2_differentConfig_bestbaseline2/multi-trial/valIndex.pkl written\n",
      "file /data/BGNN_data/INHS_cropped/50_11/test_22987_suffix50_11_CNN2_differentConfig_bestbaseline2/multi-trial/testIndex.pkl written\n",
      "file /data/BGNN_data/INHS_cropped/50_11/test_22987_suffix50_11_CNN2_differentConfig_bestbaseline2/multi-trial/tc0.640000_vc0.160000_d224_c3_augFalse_nFalse/trainingLoader.pkl written\n",
      "file /data/BGNN_data/INHS_cropped/50_11/test_22987_suffix50_11_CNN2_differentConfig_bestbaseline2/multi-trial/tc0.640000_vc0.160000_d224_c3_augFalse_nFalse/valLoader.pkl written\n"
     ]
    },
    {
     "name": "stderr",
     "output_type": "stream",
     "text": [
      "\r",
      "N/A% (0 of 1000) |                       | Elapsed Time: 0:00:00 ETA:  --:--:--"
     ]
    },
    {
     "name": "stdout",
     "output_type": "stream",
     "text": [
      "file /data/BGNN_data/INHS_cropped/50_11/test_22987_suffix50_11_CNN2_differentConfig_bestbaseline2/multi-trial/tc0.640000_vc0.160000_d224_c3_augFalse_nFalse/testLoader.pkl written\n",
      "Training started...\n"
     ]
    },
    {
     "name": "stderr",
     "output_type": "stream",
     "text": [
      "100% (1000 of 1000) |####################| Elapsed Time: 3:16:32 Time:  3:16:32\n",
      "N/A% (0 of 1000) |                       | Elapsed Time: 0:00:00 ETA:  --:--:--"
     ]
    },
    {
     "name": "stdout",
     "output_type": "stream",
     "text": [
      "using a pretrained resnet model...\n",
      "Training started...\n"
     ]
    },
    {
     "name": "stderr",
     "output_type": "stream",
     "text": [
      "100% (1000 of 1000) |####################| Elapsed Time: 3:21:28 Time:  3:21:28\n",
      "N/A% (0 of 1000) |                       | Elapsed Time: 0:00:00 ETA:  --:--:--"
     ]
    },
    {
     "name": "stdout",
     "output_type": "stream",
     "text": [
      "using a pretrained resnet model...\n",
      "Training started...\n"
     ]
    },
    {
     "name": "stderr",
     "output_type": "stream",
     "text": [
      "100% (1000 of 1000) |####################| Elapsed Time: 3:21:50 Time:  3:21:50\n",
      "100% (1 of 1) |#########################| Elapsed Time: 10:01:55 Time: 10:01:55\n"
     ]
    }
   ],
   "source": [
    "from sklearn.metrics import confusion_matrix, classification_report, f1_score\n",
    "from confusion_matrix_plotter import plot_confusion_matrix2, generate_classification_report\n",
    "import numpy as np\n",
    "import os\n",
    "import progressbar\n",
    "\n",
    "paramsIterator = config_parser.getHyperpIter()  \n",
    "number_of_experiments = sum(1 for e in paramsIterator)\n",
    "paramsIterator = config_parser.getHyperpIter()  \n",
    "experiment_index = 0\n",
    "\n",
    "datasetManager = dataLoader.datasetManager(experimentName, showListOfSpecies)\n",
    "with progressbar.ProgressBar(max_value=number_of_experiments) as bar:\n",
    "    for experiment_params in paramsIterator:\n",
    "        bar.update(experiment_index)\n",
    "        experiment_params[\"numOfTrials\"] = experiment_params[\"numOfTrials\"] or 1\n",
    "\n",
    "        print(\"experiment \", experiment_index+1, \"/\", number_of_experiments, \": \", experiment_params)\n",
    "\n",
    "        # load images\n",
    "        datasetManager.updateParams(experiment_params)\n",
    "        dataset = datasetManager.getDataset()\n",
    "        speciesList = dataset.getSpeciesList()\n",
    "        numberOfSpecies = len(speciesList)\n",
    "        numberOfGenus = len(dataset.getGenusList())\n",
    "\n",
    "        confusionMatricesPerTrial = []\n",
    "\n",
    "        for i in range(experiment_params[\"numOfTrials\"]):\n",
    "            trialName = os.path.join(experimentName, getModelName(experiment_params, i))\n",
    "\n",
    "            # Train/Load model\n",
    "            architecture = {\n",
    "                \"species\": numberOfSpecies,\n",
    "                \"genus\" : numberOfGenus\n",
    "            }\n",
    "            model = CNN.create_model(architecture, experiment_params)\n",
    "            train_loader, validation_loader, test_loader = datasetManager.getLoaders()\n",
    "            if os.path.exists(CNN.getModelFile(trialName)):\n",
    "                _, _, epochs, time_elapsed = CNN.loadModel(model, trialName)\n",
    "                print(\"Model {0} loaded!\".format(trialName))\n",
    "            else:\n",
    "                _, _, epochs, time_elapsed = CNN.trainModel(train_loader, validation_loader, experiment_params, model, trialName)\n",
    "            \n",
    "            # Update trial outcomes for statistics\n",
    "            predlist, lbllist = CNN.getLoaderPredictions(test_loader, model, experiment_params)\n",
    "            ts.addTrialPredictions(experiment_params, predlist, lbllist, numberOfSpecies)\n",
    "            macro_f1 = f1_score(lbllist.cpu(), predlist.cpu(), average='macro')\n",
    "            macro_f1_genus = np.nan\n",
    "            if experiment_params[\"useHeirarchy\"]:\n",
    "                predlist, lbllist = CNN.getLoaderPredictions(test_loader, model, experiment_params, 'genus')\n",
    "                ts_genus.addTrialPredictions(experiment_params, predlist, lbllist, numberOfGenus)\n",
    "                macro_f1_genus = f1_score(lbllist.cpu(), predlist.cpu(), average='macro')\n",
    "\n",
    "            ts.addTrial(experiment_params,\n",
    "                    {'loss': CNN.getCrossEntropyFromLoader(test_loader, model, experiment_params),\n",
    "                     'accuracy': CNN.getAccuracyFromLoader(test_loader, model, experiment_params),\n",
    "                     'macro_f1_species': macro_f1,\n",
    "                     'macro_f1_genus': macro_f1_genus,\n",
    "                     'time': time_elapsed,\n",
    "                     'epochs': epochs\n",
    "                    }, i)\n",
    "        \n",
    "        experiment_index = experiment_index + 1"
   ]
  },
  {
   "cell_type": "markdown",
   "metadata": {},
   "source": [
    "Analyze"
   ]
  },
  {
   "cell_type": "code",
   "execution_count": 5,
   "metadata": {},
   "outputs": [
    {
     "name": "stdout",
     "output_type": "stream",
     "text": [
      "Aggregated statistics\n"
     ]
    },
    {
     "data": {
      "text/html": [
       "<table border=\"1\" class=\"dataframe\">\n",
       "  <thead>\n",
       "    <tr>\n",
       "      <th></th>\n",
       "      <th>image_path</th>\n",
       "      <th>suffix</th>\n",
       "      <th>training_count</th>\n",
       "      <th>validation_count</th>\n",
       "      <th>imageDimension</th>\n",
       "      <th>n_channels</th>\n",
       "      <th>augmentation</th>\n",
       "      <th>batchSize</th>\n",
       "      <th>n_epochs</th>\n",
       "      <th>learning_rate</th>\n",
       "      <th>numOfTrials</th>\n",
       "      <th>patience</th>\n",
       "      <th>useHeirarchy</th>\n",
       "      <th>useRelu</th>\n",
       "      <th>downsample</th>\n",
       "      <th>downsampleOutput</th>\n",
       "      <th>takeFromIntermediate</th>\n",
       "      <th>takeFromIntermediateOutput</th>\n",
       "      <th>useAdam</th>\n",
       "      <th>resnet</th>\n",
       "      <th>normalize</th>\n",
       "      <th>dummy</th>\n",
       "      <th>hash</th>\n",
       "      <th colspan=\"2\" halign=\"left\">loss</th>\n",
       "      <th colspan=\"2\" halign=\"left\">accuracy</th>\n",
       "      <th colspan=\"2\" halign=\"left\">macro_f1_species</th>\n",
       "      <th colspan=\"2\" halign=\"left\">macro_f1_genus</th>\n",
       "      <th colspan=\"2\" halign=\"left\">time</th>\n",
       "      <th colspan=\"2\" halign=\"left\">epochs</th>\n",
       "    </tr>\n",
       "    <tr>\n",
       "      <th></th>\n",
       "      <th></th>\n",
       "      <th></th>\n",
       "      <th></th>\n",
       "      <th></th>\n",
       "      <th></th>\n",
       "      <th></th>\n",
       "      <th></th>\n",
       "      <th></th>\n",
       "      <th></th>\n",
       "      <th></th>\n",
       "      <th></th>\n",
       "      <th></th>\n",
       "      <th></th>\n",
       "      <th></th>\n",
       "      <th></th>\n",
       "      <th></th>\n",
       "      <th></th>\n",
       "      <th></th>\n",
       "      <th></th>\n",
       "      <th></th>\n",
       "      <th></th>\n",
       "      <th></th>\n",
       "      <th></th>\n",
       "      <th>mean</th>\n",
       "      <th>std</th>\n",
       "      <th>mean</th>\n",
       "      <th>std</th>\n",
       "      <th>mean</th>\n",
       "      <th>std</th>\n",
       "      <th>mean</th>\n",
       "      <th>std</th>\n",
       "      <th>mean</th>\n",
       "      <th>std</th>\n",
       "      <th>mean</th>\n",
       "      <th>std</th>\n",
       "    </tr>\n",
       "  </thead>\n",
       "  <tbody>\n",
       "    <tr>\n",
       "      <th>0</th>\n",
       "      <td>/data/BGNN_data/INHS_cropped</td>\n",
       "      <td>50_11</td>\n",
       "      <td>0.64</td>\n",
       "      <td>0.16</td>\n",
       "      <td>224</td>\n",
       "      <td>3</td>\n",
       "      <td>False</td>\n",
       "      <td>550</td>\n",
       "      <td>1000</td>\n",
       "      <td>0.0001</td>\n",
       "      <td>3</td>\n",
       "      <td>100</td>\n",
       "      <td>False</td>\n",
       "      <td>False</td>\n",
       "      <td>True</td>\n",
       "      <td>50</td>\n",
       "      <td>True</td>\n",
       "      <td>50</td>\n",
       "      <td>True</td>\n",
       "      <td>18</td>\n",
       "      <td>False</td>\n",
       "      <td>0</td>\n",
       "      <td>-2577348200223335590</td>\n",
       "      <td>1.417368</td>\n",
       "      <td>0.37383</td>\n",
       "      <td>0.539394</td>\n",
       "      <td>0.130585</td>\n",
       "      <td>0.443475</td>\n",
       "      <td>0.165017</td>\n",
       "      <td>NaN</td>\n",
       "      <td>NaN</td>\n",
       "      <td>11997.249586</td>\n",
       "      <td>177.595189</td>\n",
       "      <td>1000</td>\n",
       "      <td>0.0</td>\n",
       "    </tr>\n",
       "  </tbody>\n",
       "</table>"
      ],
      "text/plain": [
       "<IPython.core.display.HTML object>"
      ]
     },
     "metadata": {},
     "output_type": "display_data"
    }
   ],
   "source": [
    "ts.showStatistics()\n",
    "ts.saveStatistics()"
   ]
  },
  {
   "cell_type": "code",
   "execution_count": 6,
   "metadata": {},
   "outputs": [
    {
     "name": "stdout",
     "output_type": "stream",
     "text": [
      "Raw statistics\n"
     ]
    },
    {
     "data": {
      "text/html": [
       "<table border=\"1\" class=\"dataframe\">\n",
       "  <thead>\n",
       "    <tr style=\"text-align: right;\">\n",
       "      <th></th>\n",
       "      <th>image_path</th>\n",
       "      <th>suffix</th>\n",
       "      <th>training_count</th>\n",
       "      <th>validation_count</th>\n",
       "      <th>imageDimension</th>\n",
       "      <th>n_channels</th>\n",
       "      <th>augmentation</th>\n",
       "      <th>batchSize</th>\n",
       "      <th>n_epochs</th>\n",
       "      <th>learning_rate</th>\n",
       "      <th>numOfTrials</th>\n",
       "      <th>patience</th>\n",
       "      <th>useHeirarchy</th>\n",
       "      <th>useRelu</th>\n",
       "      <th>downsample</th>\n",
       "      <th>downsampleOutput</th>\n",
       "      <th>takeFromIntermediate</th>\n",
       "      <th>takeFromIntermediateOutput</th>\n",
       "      <th>useAdam</th>\n",
       "      <th>resnet</th>\n",
       "      <th>normalize</th>\n",
       "      <th>dummy</th>\n",
       "      <th>loss</th>\n",
       "      <th>accuracy</th>\n",
       "      <th>macro_f1_species</th>\n",
       "      <th>macro_f1_genus</th>\n",
       "      <th>time</th>\n",
       "      <th>epochs</th>\n",
       "      <th>hash</th>\n",
       "      <th>trial</th>\n",
       "    </tr>\n",
       "  </thead>\n",
       "  <tbody>\n",
       "    <tr>\n",
       "      <th>0</th>\n",
       "      <td>/data/BGNN_data/INHS_cropped</td>\n",
       "      <td>50_11</td>\n",
       "      <td>0.64</td>\n",
       "      <td>0.16</td>\n",
       "      <td>224</td>\n",
       "      <td>3</td>\n",
       "      <td>False</td>\n",
       "      <td>550</td>\n",
       "      <td>1000</td>\n",
       "      <td>0.0001</td>\n",
       "      <td>3</td>\n",
       "      <td>100</td>\n",
       "      <td>False</td>\n",
       "      <td>False</td>\n",
       "      <td>True</td>\n",
       "      <td>50</td>\n",
       "      <td>True</td>\n",
       "      <td>50</td>\n",
       "      <td>True</td>\n",
       "      <td>18</td>\n",
       "      <td>False</td>\n",
       "      <td>0</td>\n",
       "      <td>1.072864</td>\n",
       "      <td>0.636364</td>\n",
       "      <td>0.574604</td>\n",
       "      <td>NaN</td>\n",
       "      <td>11792.580898</td>\n",
       "      <td>1000</td>\n",
       "      <td>-2577348200223335590</td>\n",
       "      <td>0</td>\n",
       "    </tr>\n",
       "    <tr>\n",
       "      <th>1</th>\n",
       "      <td>/data/BGNN_data/INHS_cropped</td>\n",
       "      <td>50_11</td>\n",
       "      <td>0.64</td>\n",
       "      <td>0.16</td>\n",
       "      <td>224</td>\n",
       "      <td>3</td>\n",
       "      <td>False</td>\n",
       "      <td>550</td>\n",
       "      <td>1000</td>\n",
       "      <td>0.0001</td>\n",
       "      <td>3</td>\n",
       "      <td>100</td>\n",
       "      <td>False</td>\n",
       "      <td>False</td>\n",
       "      <td>True</td>\n",
       "      <td>50</td>\n",
       "      <td>True</td>\n",
       "      <td>50</td>\n",
       "      <td>True</td>\n",
       "      <td>18</td>\n",
       "      <td>False</td>\n",
       "      <td>0</td>\n",
       "      <td>1.364371</td>\n",
       "      <td>0.590909</td>\n",
       "      <td>0.497637</td>\n",
       "      <td>NaN</td>\n",
       "      <td>12088.489003</td>\n",
       "      <td>1000</td>\n",
       "      <td>-2577348200223335590</td>\n",
       "      <td>1</td>\n",
       "    </tr>\n",
       "    <tr>\n",
       "      <th>2</th>\n",
       "      <td>/data/BGNN_data/INHS_cropped</td>\n",
       "      <td>50_11</td>\n",
       "      <td>0.64</td>\n",
       "      <td>0.16</td>\n",
       "      <td>224</td>\n",
       "      <td>3</td>\n",
       "      <td>False</td>\n",
       "      <td>550</td>\n",
       "      <td>1000</td>\n",
       "      <td>0.0001</td>\n",
       "      <td>3</td>\n",
       "      <td>100</td>\n",
       "      <td>False</td>\n",
       "      <td>False</td>\n",
       "      <td>True</td>\n",
       "      <td>50</td>\n",
       "      <td>True</td>\n",
       "      <td>50</td>\n",
       "      <td>True</td>\n",
       "      <td>18</td>\n",
       "      <td>False</td>\n",
       "      <td>0</td>\n",
       "      <td>1.814868</td>\n",
       "      <td>0.390909</td>\n",
       "      <td>0.258184</td>\n",
       "      <td>NaN</td>\n",
       "      <td>12110.678856</td>\n",
       "      <td>1000</td>\n",
       "      <td>-2577348200223335590</td>\n",
       "      <td>2</td>\n",
       "    </tr>\n",
       "  </tbody>\n",
       "</table>"
      ],
      "text/plain": [
       "<IPython.core.display.HTML object>"
      ]
     },
     "metadata": {},
     "output_type": "display_data"
    }
   ],
   "source": [
    "ts.showStatistics(False)\n",
    "ts.saveStatistics(False)"
   ]
  },
  {
   "cell_type": "code",
   "execution_count": 9,
   "metadata": {},
   "outputs": [
    {
     "name": "stdout",
     "output_type": "stream",
     "text": [
      "experiment:  {'image_path': '/data/BGNN_data/INHS_cropped', 'suffix': '50_11', 'training_count': 0.64, 'validation_count': 0.16, 'imageDimension': 224, 'n_channels': 3, 'augmentation': False, 'batchSize': 550, 'n_epochs': 1000, 'learning_rate': 0.0001, 'numOfTrials': 3, 'patience': 100, 'useHeirarchy': False, 'useRelu': False, 'downsample': True, 'downsampleOutput': 50, 'takeFromIntermediate': True, 'takeFromIntermediateOutput': 50, 'useAdam': True, 'resnet': '18', 'normalize': False, 'dummy': 0}\n"
     ]
    },
    {
     "data": {
      "image/png": "[encoded data removed]",
      "text/plain": [
       "<Figure size 1440x1224 with 2 Axes>"
      ]
     },
     "metadata": {
      "needs_background": "light"
     },
     "output_type": "display_data"
    },
    {
     "data": {
      "text/html": [
       "<table border=\"1\" class=\"dataframe\">\n",
       "  <thead>\n",
       "    <tr style=\"text-align: right;\">\n",
       "      <th></th>\n",
       "      <th>species</th>\n",
       "      <th>genus</th>\n",
       "      <th>F1</th>\n",
       "      <th>F1_within_genus</th>\n",
       "      <th>F1_out_of_genus</th>\n",
       "    </tr>\n",
       "  </thead>\n",
       "  <tbody>\n",
       "    <tr>\n",
       "      <th>0</th>\n",
       "      <td>0 Lepomis cyanellus</td>\n",
       "      <td>0 Lepomis</td>\n",
       "      <td>0.540000</td>\n",
       "      <td>0.729730</td>\n",
       "      <td>0.675000</td>\n",
       "    </tr>\n",
       "    <tr>\n",
       "      <th>1</th>\n",
       "      <td>1 Lepomis auritus</td>\n",
       "      <td>0 Lepomis</td>\n",
       "      <td>0.450000</td>\n",
       "      <td>0.473684</td>\n",
       "      <td>0.900000</td>\n",
       "    </tr>\n",
       "    <tr>\n",
       "      <th>2</th>\n",
       "      <td>2 Carassius auratus</td>\n",
       "      <td>1 Carassius</td>\n",
       "      <td>0.372093</td>\n",
       "      <td>1.000000</td>\n",
       "      <td>0.372093</td>\n",
       "    </tr>\n",
       "    <tr>\n",
       "      <th>3</th>\n",
       "      <td>3 Cyprinus carpio</td>\n",
       "      <td>2 Cyprinus</td>\n",
       "      <td>0.586207</td>\n",
       "      <td>1.000000</td>\n",
       "      <td>0.586207</td>\n",
       "    </tr>\n",
       "    <tr>\n",
       "      <th>4</th>\n",
       "      <td>4 Esox americanus</td>\n",
       "      <td>3 Esox</td>\n",
       "      <td>0.610169</td>\n",
       "      <td>0.679245</td>\n",
       "      <td>0.857143</td>\n",
       "    </tr>\n",
       "    <tr>\n",
       "      <th>5</th>\n",
       "      <td>5 Esox lucius</td>\n",
       "      <td>3 Esox</td>\n",
       "      <td>0.480000</td>\n",
       "      <td>0.585366</td>\n",
       "      <td>0.727273</td>\n",
       "    </tr>\n",
       "    <tr>\n",
       "      <th>6</th>\n",
       "      <td>6 Noturus gyrinus</td>\n",
       "      <td>4 Noturus</td>\n",
       "      <td>0.571429</td>\n",
       "      <td>0.631579</td>\n",
       "      <td>0.857143</td>\n",
       "    </tr>\n",
       "    <tr>\n",
       "      <th>7</th>\n",
       "      <td>7 Noturus exilis</td>\n",
       "      <td>4 Noturus</td>\n",
       "      <td>0.571429</td>\n",
       "      <td>0.592593</td>\n",
       "      <td>0.941176</td>\n",
       "    </tr>\n",
       "    <tr>\n",
       "      <th>8</th>\n",
       "      <td>8 Noturus flavus</td>\n",
       "      <td>4 Noturus</td>\n",
       "      <td>0.367347</td>\n",
       "      <td>0.391304</td>\n",
       "      <td>0.857143</td>\n",
       "    </tr>\n",
       "    <tr>\n",
       "      <th>9</th>\n",
       "      <td>9 Noturus eleutherus</td>\n",
       "      <td>4 Noturus</td>\n",
       "      <td>0.691358</td>\n",
       "      <td>0.727273</td>\n",
       "      <td>0.933333</td>\n",
       "    </tr>\n",
       "    <tr>\n",
       "      <th>10</th>\n",
       "      <td>10 Noturus insignis</td>\n",
       "      <td>4 Noturus</td>\n",
       "      <td>0.524590</td>\n",
       "      <td>0.571429</td>\n",
       "      <td>0.864865</td>\n",
       "    </tr>\n",
       "  </tbody>\n",
       "</table>"
      ],
      "text/plain": [
       "<IPython.core.display.HTML object>"
      ]
     },
     "metadata": {},
     "output_type": "display_data"
    }
   ],
   "source": [
    "paramsIterator = config_parser.getHyperpIter() \n",
    "for experiment_params in paramsIterator:\n",
    "    experiment_params[\"numOfTrials\"] = experiment_params[\"numOfTrials\"] or 1\n",
    "    \n",
    "    print(\"experiment: \", experiment_params)\n",
    "    \n",
    "    datasetManager.updateParams(experiment_params)\n",
    "    dataset = datasetManager.getDataset()\n",
    "    speciesList = dataset.getSpeciesList()\n",
    "    ts.printTrialConfusionMatrix(experiment_params, speciesList, True)\n",
    "    ts.printF1table(experiment_params, dataset)"
   ]
  },
  {
   "cell_type": "code",
   "execution_count": 7,
   "metadata": {},
   "outputs": [],
   "source": [
    "paramsIterator = config_parser.getHyperpIter() \n",
    "for experiment_params in paramsIterator:\n",
    "    experiment_params[\"numOfTrials\"] = experiment_params[\"numOfTrials\"] or 1\n",
    "    if experiment_params[\"useHeirarchy\"]:\n",
    "        print(\"experiment: \", experiment_params)\n",
    "\n",
    "        datasetManager.updateParams(experiment_params)\n",
    "        dataset = datasetManager.getDataset()\n",
    "    \n",
    "        genusList = dataset.getGenusList()\n",
    "        ts_genus.printTrialConfusionMatrix(experiment_params, genusList, True)\n",
    "        ts_genus.printF1table(experiment_params, dataset)"
   ]
  },
  {
   "cell_type": "code",
   "execution_count": 8,
   "metadata": {},
   "outputs": [
    {
     "data": {
      "image/png": "[encoded data removed]",
      "text/plain": [
       "<Figure size 432x288 with 1 Axes>"
      ]
     },
     "metadata": {
      "needs_background": "light"
     },
     "output_type": "display_data"
    }
   ],
   "source": [
    "ts.trialScatter('accuracy', 'time', False)"
   ]
  }
 ],
 "metadata": {
  "kernelspec": {
   "display_name": "Python 3",
   "language": "python",
   "name": "python3"
  },
  "language_info": {
   "codemirror_mode": {
    "name": "ipython",
    "version": 3
   },
   "file_extension": ".py",
   "mimetype": "text/x-python",
   "name": "python",
   "nbconvert_exporter": "python",
   "pygments_lexer": "ipython3",
   "version": "3.6.9"
  }
 },
 "nbformat": 4,
 "nbformat_minor": 2
}
