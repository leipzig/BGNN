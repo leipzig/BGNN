{
 "cells": [
  {
   "cell_type": "markdown",
   "metadata": {},
   "source": [
    "Setup"
   ]
  },
  {
   "cell_type": "code",
   "execution_count": 1,
   "metadata": {},
   "outputs": [],
   "source": [
    "%matplotlib inline\n",
    "\n",
    "import matplotlib.pyplot as plt\n",
    "import torch\n",
    "import CNN\n",
    "\n",
    "# from config_plots import global_settings\n",
    "# global_settings()\n",
    "import warnings\n",
    "warnings.filterwarnings(\"ignore\")"
   ]
  },
  {
   "cell_type": "markdown",
   "metadata": {},
   "source": [
    "Hyper parameters"
   ]
  },
  {
   "cell_type": "code",
   "execution_count": 2,
   "metadata": {},
   "outputs": [],
   "source": [
    "# defining global variables\n",
    "experimentName = \"test_22987_suffix50_11_CNN2_differentConfig_batchsize\"\n",
    "showListOfSpecies = False\n",
    "\n",
    "from configParser import ConfigParser, getModelName\n",
    "config_parser = ConfigParser(experimentName)\n",
    "\n",
    "import os\n",
    "experimentName = os.path.join(experimentName, \"multi-trial\")\n",
    "import TrialStatistics\n",
    "ts = TrialStatistics.TrialStatistics(experimentName)\n",
    "ts_genus = TrialStatistics.TrialStatistics(experimentName, \"genus\")\n",
    "\n",
    "import dataLoader"
   ]
  },
  {
   "cell_type": "markdown",
   "metadata": {},
   "source": [
    "Cuda support"
   ]
  },
  {
   "cell_type": "code",
   "execution_count": 3,
   "metadata": {},
   "outputs": [
    {
     "name": "stdout",
     "output_type": "stream",
     "text": [
      "We are using cuda\n"
     ]
    }
   ],
   "source": [
    "# CUDA support \n",
    "if torch.cuda.is_available():\n",
    "    torch.cuda.set_device(0) # 0\n",
    "    torch.set_default_tensor_type('torch.cuda.FloatTensor')\n",
    "    print(\"We are using cuda\")"
   ]
  },
  {
   "cell_type": "markdown",
   "metadata": {},
   "source": [
    "Iterate"
   ]
  },
  {
   "cell_type": "code",
   "execution_count": 4,
   "metadata": {},
   "outputs": [
    {
     "name": "stderr",
     "output_type": "stream",
     "text": [
      "\r",
      "N/A% (0 of 4) |                          | Elapsed Time: 0:00:00 ETA:  --:--:--"
     ]
    },
    {
     "name": "stdout",
     "output_type": "stream",
     "text": [
      "experiment  1 / 4 :  {'image_path': '/data/BGNN_data/INHS_cropped', 'suffix': '50_11', 'useAdam': True, 'training_count': 0.64, 'validation_count': 0.16, 'imageDimension': 224, 'n_channels': 3, 'augmentation': False, 'batchSize': 50, 'n_epochs': 1000, 'learning_rate': 0.0001, 'numOfTrials': 3, 'patience': 100, 'useHeirarchy': True, 'useRelu': False, 'downsample': True, 'downsampleOutput': 50, 'takeFromIntermediate': True, 'takeFromIntermediateOutput': 50}\n",
      "file /data/BGNN_data/INHS_cropped/50_11/test_22987_suffix50_11_CNN2_differentConfig_batchsize/multi-trial/tc0.640000_vc0.160000_d224_c3_augFalse/dataset.pkl read\n",
      "Loading saved dataloaders...\n",
      "file /data/BGNN_data/INHS_cropped/50_11/test_22987_suffix50_11_CNN2_differentConfig_batchsize/multi-trial/tc0.640000_vc0.160000_d224_c3_augFalse/trainingLoader.pkl read\n",
      "file /data/BGNN_data/INHS_cropped/50_11/test_22987_suffix50_11_CNN2_differentConfig_batchsize/multi-trial/tc0.640000_vc0.160000_d224_c3_augFalse/valLoader.pkl read\n",
      "file /data/BGNN_data/INHS_cropped/50_11/test_22987_suffix50_11_CNN2_differentConfig_batchsize/multi-trial/tc0.640000_vc0.160000_d224_c3_augFalse/testLoader.pkl read\n",
      "Model test_22987_suffix50_11_CNN2_differentConfig_batchsize/multi-trial/tc0.640000_vc0.160000_d224_c3_augFalse_bs50_e1000_p100_lr0.000100_hTrue_reluFalse_dsTrue_dso50_tfiTrue_tfio50_admTrue_id0 loaded!\n"
     ]
    },
    {
     "name": "stderr",
     "output_type": "stream",
     "text": [
      "\r",
      "N/A% (0 of 1000) |                       | Elapsed Time: 0:00:00 ETA:  --:--:--"
     ]
    },
    {
     "name": "stdout",
     "output_type": "stream",
     "text": [
      "Training started...\n"
     ]
    },
    {
     "name": "stderr",
     "output_type": "stream",
     "text": [
      "100% (1000 of 1000) |####################| Elapsed Time: 1:08:39 Time:  1:08:39\n"
     ]
    },
    {
     "name": "stdout",
     "output_type": "stream",
     "text": [
      "Early stopping\n",
      "total number of epochs:  313\n"
     ]
    },
    {
     "name": "stderr",
     "output_type": "stream",
     "text": [
      "\r",
      "N/A% (0 of 1000) |                       | Elapsed Time: 0:00:00 ETA:  --:--:--"
     ]
    },
    {
     "name": "stdout",
     "output_type": "stream",
     "text": [
      "Training started...\n"
     ]
    },
    {
     "name": "stderr",
     "output_type": "stream",
     "text": [
      "100% (1000 of 1000) |####################| Elapsed Time: 0:57:26 Time:  0:57:26\n"
     ]
    },
    {
     "name": "stdout",
     "output_type": "stream",
     "text": [
      "Early stopping\n",
      "total number of epochs:  264\n"
     ]
    },
    {
     "name": "stderr",
     "output_type": "stream",
     "text": [
      "N/A% (0 of 1000) |                       | Elapsed Time: 0:00:00 ETA:  --:--:--"
     ]
    },
    {
     "name": "stdout",
     "output_type": "stream",
     "text": [
      "experiment  2 / 4 :  {'image_path': '/data/BGNN_data/INHS_cropped', 'suffix': '50_11', 'useAdam': True, 'training_count': 0.64, 'validation_count': 0.16, 'imageDimension': 224, 'n_channels': 3, 'augmentation': False, 'batchSize': 100, 'n_epochs': 1000, 'learning_rate': 0.0001, 'numOfTrials': 3, 'patience': 100, 'useHeirarchy': True, 'useRelu': False, 'downsample': True, 'downsampleOutput': 50, 'takeFromIntermediate': True, 'takeFromIntermediateOutput': 50}\n",
      "Training started...\n"
     ]
    },
    {
     "name": "stderr",
     "output_type": "stream",
     "text": [
      "100% (1000 of 1000) |####################| Elapsed Time: 0:33:04 Time:  0:33:04\n"
     ]
    },
    {
     "name": "stdout",
     "output_type": "stream",
     "text": [
      "Early stopping\n",
      "total number of epochs:  152\n"
     ]
    },
    {
     "name": "stderr",
     "output_type": "stream",
     "text": [
      "\r",
      "N/A% (0 of 1000) |                       | Elapsed Time: 0:00:00 ETA:  --:--:--"
     ]
    },
    {
     "name": "stdout",
     "output_type": "stream",
     "text": [
      "Training started...\n"
     ]
    },
    {
     "name": "stderr",
     "output_type": "stream",
     "text": [
      "100% (1000 of 1000) |####################| Elapsed Time: 1:17:44 Time:  1:17:44\n"
     ]
    },
    {
     "name": "stdout",
     "output_type": "stream",
     "text": [
      "Early stopping\n",
      "total number of epochs:  356\n"
     ]
    },
    {
     "name": "stderr",
     "output_type": "stream",
     "text": [
      "\r",
      "N/A% (0 of 1000) |                       | Elapsed Time: 0:00:00 ETA:  --:--:--"
     ]
    },
    {
     "name": "stdout",
     "output_type": "stream",
     "text": [
      "Training started...\n"
     ]
    },
    {
     "name": "stderr",
     "output_type": "stream",
     "text": [
      "100% (1000 of 1000) |####################| Elapsed Time: 0:58:22 Time:  0:58:22\n"
     ]
    },
    {
     "name": "stdout",
     "output_type": "stream",
     "text": [
      "Early stopping\n",
      "total number of epochs:  264\n"
     ]
    },
    {
     "name": "stderr",
     "output_type": "stream",
     "text": [
      "N/A% (0 of 1000) |                       | Elapsed Time: 0:00:00 ETA:  --:--:--"
     ]
    },
    {
     "name": "stdout",
     "output_type": "stream",
     "text": [
      "experiment  3 / 4 :  {'image_path': '/data/BGNN_data/INHS_cropped', 'suffix': '50_11', 'useAdam': True, 'training_count': 0.64, 'validation_count': 0.16, 'imageDimension': 224, 'n_channels': 3, 'augmentation': False, 'batchSize': 200, 'n_epochs': 1000, 'learning_rate': 0.0001, 'numOfTrials': 3, 'patience': 100, 'useHeirarchy': True, 'useRelu': False, 'downsample': True, 'downsampleOutput': 50, 'takeFromIntermediate': True, 'takeFromIntermediateOutput': 50}\n",
      "Training started...\n"
     ]
    },
    {
     "name": "stderr",
     "output_type": "stream",
     "text": [
      "100% (1000 of 1000) |####################| Elapsed Time: 1:20:50 Time:  1:20:50\n"
     ]
    },
    {
     "name": "stdout",
     "output_type": "stream",
     "text": [
      "Early stopping\n",
      "total number of epochs:  373\n"
     ]
    },
    {
     "name": "stderr",
     "output_type": "stream",
     "text": [
      "\r",
      "N/A% (0 of 1000) |                       | Elapsed Time: 0:00:00 ETA:  --:--:--"
     ]
    },
    {
     "name": "stdout",
     "output_type": "stream",
     "text": [
      "Training started...\n"
     ]
    },
    {
     "name": "stderr",
     "output_type": "stream",
     "text": [
      "100% (1000 of 1000) |####################| Elapsed Time: 1:05:23 Time:  1:05:23\n"
     ]
    },
    {
     "name": "stdout",
     "output_type": "stream",
     "text": [
      "Early stopping\n",
      "total number of epochs:  299\n"
     ]
    },
    {
     "name": "stderr",
     "output_type": "stream",
     "text": [
      "\r",
      "N/A% (0 of 1000) |                       | Elapsed Time: 0:00:00 ETA:  --:--:--"
     ]
    },
    {
     "name": "stdout",
     "output_type": "stream",
     "text": [
      "Training started...\n"
     ]
    },
    {
     "name": "stderr",
     "output_type": "stream",
     "text": [
      "100% (1000 of 1000) |####################| Elapsed Time: 1:04:29 Time:  1:04:29\n"
     ]
    },
    {
     "name": "stdout",
     "output_type": "stream",
     "text": [
      "Early stopping\n",
      "total number of epochs:  296\n"
     ]
    },
    {
     "name": "stderr",
     "output_type": "stream",
     "text": [
      "N/A% (0 of 1000) |                       | Elapsed Time: 0:00:00 ETA:  --:--:--"
     ]
    },
    {
     "name": "stdout",
     "output_type": "stream",
     "text": [
      "experiment  4 / 4 :  {'image_path': '/data/BGNN_data/INHS_cropped', 'suffix': '50_11', 'useAdam': True, 'training_count': 0.64, 'validation_count': 0.16, 'imageDimension': 224, 'n_channels': 3, 'augmentation': False, 'batchSize': 550, 'n_epochs': 1000, 'learning_rate': 0.0001, 'numOfTrials': 3, 'patience': 100, 'useHeirarchy': True, 'useRelu': False, 'downsample': True, 'downsampleOutput': 50, 'takeFromIntermediate': True, 'takeFromIntermediateOutput': 50}\n",
      "Training started...\n"
     ]
    },
    {
     "name": "stderr",
     "output_type": "stream",
     "text": [
      "100% (1000 of 1000) |####################| Elapsed Time: 1:11:59 Time:  1:11:59\n"
     ]
    },
    {
     "name": "stdout",
     "output_type": "stream",
     "text": [
      "Early stopping\n",
      "total number of epochs:  328\n"
     ]
    },
    {
     "name": "stderr",
     "output_type": "stream",
     "text": [
      "\r",
      "N/A% (0 of 1000) |                       | Elapsed Time: 0:00:00 ETA:  --:--:--"
     ]
    },
    {
     "name": "stdout",
     "output_type": "stream",
     "text": [
      "Training started...\n"
     ]
    },
    {
     "name": "stderr",
     "output_type": "stream",
     "text": [
      "100% (1000 of 1000) |####################| Elapsed Time: 1:03:58 Time:  1:03:58\n"
     ]
    },
    {
     "name": "stdout",
     "output_type": "stream",
     "text": [
      "Early stopping\n",
      "total number of epochs:  290\n"
     ]
    },
    {
     "name": "stderr",
     "output_type": "stream",
     "text": [
      "\r",
      "N/A% (0 of 1000) |                       | Elapsed Time: 0:00:00 ETA:  --:--:--"
     ]
    },
    {
     "name": "stdout",
     "output_type": "stream",
     "text": [
      "Training started...\n"
     ]
    },
    {
     "name": "stderr",
     "output_type": "stream",
     "text": [
      "100% (1000 of 1000) |####################| Elapsed Time: 1:16:44 Time:  1:16:44\n"
     ]
    },
    {
     "name": "stdout",
     "output_type": "stream",
     "text": [
      "Early stopping\n",
      "total number of epochs:  343\n"
     ]
    },
    {
     "name": "stderr",
     "output_type": "stream",
     "text": [
      "100% (4 of 4) |#########################| Elapsed Time: 12:03:19 Time: 12:03:19\n"
     ]
    }
   ],
   "source": [
    "from sklearn.metrics import confusion_matrix, classification_report, f1_score\n",
    "from confusion_matrix_plotter import plot_confusion_matrix2, generate_classification_report\n",
    "import numpy as np\n",
    "import os\n",
    "import progressbar\n",
    "\n",
    "paramsIterator = config_parser.getHyperpIter()  \n",
    "number_of_experiments = sum(1 for e in paramsIterator)\n",
    "paramsIterator = config_parser.getHyperpIter()  \n",
    "experiment_index = 0\n",
    "\n",
    "datasetManager = dataLoader.datasetManager(experimentName, showListOfSpecies)\n",
    "with progressbar.ProgressBar(max_value=number_of_experiments) as bar:\n",
    "    for experiment_params in paramsIterator:\n",
    "        bar.update(experiment_index)\n",
    "        experiment_params[\"numOfTrials\"] = experiment_params[\"numOfTrials\"] or 1\n",
    "\n",
    "        print(\"experiment \", experiment_index+1, \"/\", number_of_experiments, \": \", experiment_params)\n",
    "\n",
    "        # load images\n",
    "        datasetManager.updateParams(experiment_params)\n",
    "        dataset = datasetManager.getDataset()\n",
    "        speciesList = dataset.getSpeciesList()\n",
    "        numberOfSpecies = len(speciesList)\n",
    "        numberOfGenus = len(dataset.getGenusList())\n",
    "\n",
    "        confusionMatricesPerTrial = []\n",
    "\n",
    "        for i in range(experiment_params[\"numOfTrials\"]):\n",
    "            trialName = os.path.join(experimentName, getModelName(experiment_params, i))\n",
    "\n",
    "            # Train/Load model\n",
    "            architecture = {\n",
    "                \"species\": numberOfSpecies,\n",
    "                \"genus\" : numberOfGenus\n",
    "            }\n",
    "            model = CNN.create_model(architecture, experiment_params)\n",
    "            train_loader, validation_loader, test_loader = datasetManager.getLoaders()\n",
    "            if os.path.exists(CNN.getModelFile(trialName)):\n",
    "                _, _, epochs, time_elapsed = CNN.loadModel(model, trialName)\n",
    "                print(\"Model {0} loaded!\".format(trialName))\n",
    "            else:\n",
    "                _, _, epochs, time_elapsed = CNN.trainModel(train_loader, validation_loader, experiment_params, model, trialName)\n",
    "            \n",
    "            # Update trial outcomes for statistics\n",
    "            predlist, lbllist = CNN.getLoaderPredictions(test_loader, model, experiment_params)\n",
    "            ts.addTrialPredictions(experiment_params, predlist, lbllist, numberOfSpecies)\n",
    "            macro_f1 = f1_score(lbllist.cpu(), predlist.cpu(), average='macro')\n",
    "            macro_f1_genus = np.nan\n",
    "            if experiment_params[\"useHeirarchy\"]:\n",
    "                predlist, lbllist = CNN.getLoaderPredictions(test_loader, model, experiment_params, 'genus')\n",
    "                ts_genus.addTrialPredictions(experiment_params, predlist, lbllist, numberOfGenus)\n",
    "                macro_f1_genus = f1_score(lbllist.cpu(), predlist.cpu(), average='macro')\n",
    "\n",
    "            ts.addTrial(experiment_params,\n",
    "                    {'loss': CNN.getCrossEntropyFromLoader(test_loader, model, experiment_params),\n",
    "                     'accuracy': CNN.getAccuracyFromLoader(test_loader, model, experiment_params),\n",
    "                     'macro_f1_species': macro_f1,\n",
    "                     'macro_f1_genus': macro_f1_genus,\n",
    "                     'time': time_elapsed,\n",
    "                     'epochs': epochs\n",
    "                    }, i)\n",
    "        \n",
    "        experiment_index = experiment_index + 1"
   ]
  },
  {
   "cell_type": "markdown",
   "metadata": {},
   "source": [
    "Analyze"
   ]
  },
  {
   "cell_type": "code",
   "execution_count": 5,
   "metadata": {},
   "outputs": [
    {
     "name": "stdout",
     "output_type": "stream",
     "text": [
      "Aggregated statistics\n"
     ]
    },
    {
     "data": {
      "text/html": [
       "<table border=\"1\" class=\"dataframe\">\n",
       "  <thead>\n",
       "    <tr>\n",
       "      <th></th>\n",
       "      <th>image_path</th>\n",
       "      <th>suffix</th>\n",
       "      <th>useAdam</th>\n",
       "      <th>training_count</th>\n",
       "      <th>validation_count</th>\n",
       "      <th>imageDimension</th>\n",
       "      <th>n_channels</th>\n",
       "      <th>augmentation</th>\n",
       "      <th>batchSize</th>\n",
       "      <th>n_epochs</th>\n",
       "      <th>learning_rate</th>\n",
       "      <th>numOfTrials</th>\n",
       "      <th>patience</th>\n",
       "      <th>useHeirarchy</th>\n",
       "      <th>useRelu</th>\n",
       "      <th>downsample</th>\n",
       "      <th>downsampleOutput</th>\n",
       "      <th>takeFromIntermediate</th>\n",
       "      <th>takeFromIntermediateOutput</th>\n",
       "      <th>hash</th>\n",
       "      <th colspan=\"2\" halign=\"left\">loss</th>\n",
       "      <th colspan=\"2\" halign=\"left\">accuracy</th>\n",
       "      <th colspan=\"2\" halign=\"left\">macro_f1_species</th>\n",
       "      <th colspan=\"2\" halign=\"left\">macro_f1_genus</th>\n",
       "      <th colspan=\"2\" halign=\"left\">time</th>\n",
       "      <th colspan=\"2\" halign=\"left\">epochs</th>\n",
       "    </tr>\n",
       "    <tr>\n",
       "      <th></th>\n",
       "      <th></th>\n",
       "      <th></th>\n",
       "      <th></th>\n",
       "      <th></th>\n",
       "      <th></th>\n",
       "      <th></th>\n",
       "      <th></th>\n",
       "      <th></th>\n",
       "      <th></th>\n",
       "      <th></th>\n",
       "      <th></th>\n",
       "      <th></th>\n",
       "      <th></th>\n",
       "      <th></th>\n",
       "      <th></th>\n",
       "      <th></th>\n",
       "      <th></th>\n",
       "      <th></th>\n",
       "      <th></th>\n",
       "      <th></th>\n",
       "      <th>mean</th>\n",
       "      <th>std</th>\n",
       "      <th>mean</th>\n",
       "      <th>std</th>\n",
       "      <th>mean</th>\n",
       "      <th>std</th>\n",
       "      <th>mean</th>\n",
       "      <th>std</th>\n",
       "      <th>mean</th>\n",
       "      <th>std</th>\n",
       "      <th>mean</th>\n",
       "      <th>std</th>\n",
       "    </tr>\n",
       "  </thead>\n",
       "  <tbody>\n",
       "    <tr>\n",
       "      <th>0</th>\n",
       "      <td>/data/BGNN_data/INHS_cropped</td>\n",
       "      <td>50_11</td>\n",
       "      <td>True</td>\n",
       "      <td>0.64</td>\n",
       "      <td>0.16</td>\n",
       "      <td>224</td>\n",
       "      <td>3</td>\n",
       "      <td>False</td>\n",
       "      <td>50</td>\n",
       "      <td>1000</td>\n",
       "      <td>0.0001</td>\n",
       "      <td>3</td>\n",
       "      <td>100</td>\n",
       "      <td>True</td>\n",
       "      <td>False</td>\n",
       "      <td>True</td>\n",
       "      <td>50</td>\n",
       "      <td>True</td>\n",
       "      <td>50</td>\n",
       "      <td>6302126388252404148</td>\n",
       "      <td>0.777922</td>\n",
       "      <td>0.085869</td>\n",
       "      <td>0.724242</td>\n",
       "      <td>0.042962</td>\n",
       "      <td>0.708086</td>\n",
       "      <td>0.047389</td>\n",
       "      <td>0.694985</td>\n",
       "      <td>0.192979</td>\n",
       "      <td>3495.407156</td>\n",
       "      <td>601.174094</td>\n",
       "      <td>269.000000</td>\n",
       "      <td>43.139309</td>\n",
       "    </tr>\n",
       "    <tr>\n",
       "      <th>1</th>\n",
       "      <td>/data/BGNN_data/INHS_cropped</td>\n",
       "      <td>50_11</td>\n",
       "      <td>True</td>\n",
       "      <td>0.64</td>\n",
       "      <td>0.16</td>\n",
       "      <td>224</td>\n",
       "      <td>3</td>\n",
       "      <td>False</td>\n",
       "      <td>100</td>\n",
       "      <td>1000</td>\n",
       "      <td>0.0001</td>\n",
       "      <td>3</td>\n",
       "      <td>100</td>\n",
       "      <td>True</td>\n",
       "      <td>False</td>\n",
       "      <td>True</td>\n",
       "      <td>50</td>\n",
       "      <td>True</td>\n",
       "      <td>50</td>\n",
       "      <td>4443382525034256899</td>\n",
       "      <td>0.903909</td>\n",
       "      <td>0.261681</td>\n",
       "      <td>0.666667</td>\n",
       "      <td>0.089689</td>\n",
       "      <td>0.645710</td>\n",
       "      <td>0.092614</td>\n",
       "      <td>0.720664</td>\n",
       "      <td>0.371141</td>\n",
       "      <td>3383.848372</td>\n",
       "      <td>1344.247607</td>\n",
       "      <td>258.333333</td>\n",
       "      <td>102.163268</td>\n",
       "    </tr>\n",
       "    <tr>\n",
       "      <th>2</th>\n",
       "      <td>/data/BGNN_data/INHS_cropped</td>\n",
       "      <td>50_11</td>\n",
       "      <td>True</td>\n",
       "      <td>0.64</td>\n",
       "      <td>0.16</td>\n",
       "      <td>224</td>\n",
       "      <td>3</td>\n",
       "      <td>False</td>\n",
       "      <td>200</td>\n",
       "      <td>1000</td>\n",
       "      <td>0.0001</td>\n",
       "      <td>3</td>\n",
       "      <td>100</td>\n",
       "      <td>True</td>\n",
       "      <td>False</td>\n",
       "      <td>True</td>\n",
       "      <td>50</td>\n",
       "      <td>True</td>\n",
       "      <td>50</td>\n",
       "      <td>5863038663844309181</td>\n",
       "      <td>0.810412</td>\n",
       "      <td>0.043313</td>\n",
       "      <td>0.712121</td>\n",
       "      <td>0.036740</td>\n",
       "      <td>0.689130</td>\n",
       "      <td>0.045365</td>\n",
       "      <td>0.754596</td>\n",
       "      <td>0.219109</td>\n",
       "      <td>4214.475492</td>\n",
       "      <td>551.085983</td>\n",
       "      <td>323.666667</td>\n",
       "      <td>43.615746</td>\n",
       "    </tr>\n",
       "    <tr>\n",
       "      <th>3</th>\n",
       "      <td>/data/BGNN_data/INHS_cropped</td>\n",
       "      <td>50_11</td>\n",
       "      <td>True</td>\n",
       "      <td>0.64</td>\n",
       "      <td>0.16</td>\n",
       "      <td>224</td>\n",
       "      <td>3</td>\n",
       "      <td>False</td>\n",
       "      <td>550</td>\n",
       "      <td>1000</td>\n",
       "      <td>0.0001</td>\n",
       "      <td>3</td>\n",
       "      <td>100</td>\n",
       "      <td>True</td>\n",
       "      <td>False</td>\n",
       "      <td>True</td>\n",
       "      <td>50</td>\n",
       "      <td>True</td>\n",
       "      <td>50</td>\n",
       "      <td>1779729492946627976</td>\n",
       "      <td>0.741812</td>\n",
       "      <td>0.033155</td>\n",
       "      <td>0.730303</td>\n",
       "      <td>0.029223</td>\n",
       "      <td>0.723306</td>\n",
       "      <td>0.026435</td>\n",
       "      <td>0.728647</td>\n",
       "      <td>0.135551</td>\n",
       "      <td>4253.964276</td>\n",
       "      <td>386.897348</td>\n",
       "      <td>321.333333</td>\n",
       "      <td>27.319102</td>\n",
       "    </tr>\n",
       "  </tbody>\n",
       "</table>"
      ],
      "text/plain": [
       "<IPython.core.display.HTML object>"
      ]
     },
     "metadata": {},
     "output_type": "display_data"
    }
   ],
   "source": [
    "ts.showStatistics()\n",
    "ts.saveStatistics()"
   ]
  },
  {
   "cell_type": "code",
   "execution_count": 6,
   "metadata": {},
   "outputs": [
    {
     "name": "stdout",
     "output_type": "stream",
     "text": [
      "Raw statistics\n"
     ]
    },
    {
     "data": {
      "text/html": [
       "<table border=\"1\" class=\"dataframe\">\n",
       "  <thead>\n",
       "    <tr style=\"text-align: right;\">\n",
       "      <th></th>\n",
       "      <th>image_path</th>\n",
       "      <th>suffix</th>\n",
       "      <th>useAdam</th>\n",
       "      <th>training_count</th>\n",
       "      <th>validation_count</th>\n",
       "      <th>imageDimension</th>\n",
       "      <th>n_channels</th>\n",
       "      <th>augmentation</th>\n",
       "      <th>batchSize</th>\n",
       "      <th>n_epochs</th>\n",
       "      <th>learning_rate</th>\n",
       "      <th>numOfTrials</th>\n",
       "      <th>patience</th>\n",
       "      <th>useHeirarchy</th>\n",
       "      <th>useRelu</th>\n",
       "      <th>downsample</th>\n",
       "      <th>downsampleOutput</th>\n",
       "      <th>takeFromIntermediate</th>\n",
       "      <th>takeFromIntermediateOutput</th>\n",
       "      <th>loss</th>\n",
       "      <th>accuracy</th>\n",
       "      <th>macro_f1_species</th>\n",
       "      <th>macro_f1_genus</th>\n",
       "      <th>time</th>\n",
       "      <th>epochs</th>\n",
       "      <th>hash</th>\n",
       "      <th>trial</th>\n",
       "    </tr>\n",
       "  </thead>\n",
       "  <tbody>\n",
       "    <tr>\n",
       "      <th>0</th>\n",
       "      <td>/data/BGNN_data/INHS_cropped</td>\n",
       "      <td>50_11</td>\n",
       "      <td>True</td>\n",
       "      <td>0.64</td>\n",
       "      <td>0.16</td>\n",
       "      <td>224</td>\n",
       "      <td>3</td>\n",
       "      <td>False</td>\n",
       "      <td>50</td>\n",
       "      <td>1000</td>\n",
       "      <td>0.0001</td>\n",
       "      <td>3</td>\n",
       "      <td>100</td>\n",
       "      <td>True</td>\n",
       "      <td>False</td>\n",
       "      <td>True</td>\n",
       "      <td>50</td>\n",
       "      <td>True</td>\n",
       "      <td>50</td>\n",
       "      <td>0.857259</td>\n",
       "      <td>0.690909</td>\n",
       "      <td>0.669905</td>\n",
       "      <td>0.878889</td>\n",
       "      <td>2920.270504</td>\n",
       "      <td>228.0</td>\n",
       "      <td>6302126388252404148</td>\n",
       "      <td>0</td>\n",
       "    </tr>\n",
       "    <tr>\n",
       "      <th>1</th>\n",
       "      <td>/data/BGNN_data/INHS_cropped</td>\n",
       "      <td>50_11</td>\n",
       "      <td>True</td>\n",
       "      <td>0.64</td>\n",
       "      <td>0.16</td>\n",
       "      <td>224</td>\n",
       "      <td>3</td>\n",
       "      <td>False</td>\n",
       "      <td>50</td>\n",
       "      <td>1000</td>\n",
       "      <td>0.0001</td>\n",
       "      <td>3</td>\n",
       "      <td>100</td>\n",
       "      <td>True</td>\n",
       "      <td>False</td>\n",
       "      <td>True</td>\n",
       "      <td>50</td>\n",
       "      <td>True</td>\n",
       "      <td>50</td>\n",
       "      <td>0.686749</td>\n",
       "      <td>0.772727</td>\n",
       "      <td>0.761123</td>\n",
       "      <td>0.712008</td>\n",
       "      <td>4119.611286</td>\n",
       "      <td>314.0</td>\n",
       "      <td>6302126388252404148</td>\n",
       "      <td>1</td>\n",
       "    </tr>\n",
       "    <tr>\n",
       "      <th>2</th>\n",
       "      <td>/data/BGNN_data/INHS_cropped</td>\n",
       "      <td>50_11</td>\n",
       "      <td>True</td>\n",
       "      <td>0.64</td>\n",
       "      <td>0.16</td>\n",
       "      <td>224</td>\n",
       "      <td>3</td>\n",
       "      <td>False</td>\n",
       "      <td>50</td>\n",
       "      <td>1000</td>\n",
       "      <td>0.0001</td>\n",
       "      <td>3</td>\n",
       "      <td>100</td>\n",
       "      <td>True</td>\n",
       "      <td>False</td>\n",
       "      <td>True</td>\n",
       "      <td>50</td>\n",
       "      <td>True</td>\n",
       "      <td>50</td>\n",
       "      <td>0.789758</td>\n",
       "      <td>0.709091</td>\n",
       "      <td>0.693230</td>\n",
       "      <td>0.494059</td>\n",
       "      <td>3446.339677</td>\n",
       "      <td>265.0</td>\n",
       "      <td>6302126388252404148</td>\n",
       "      <td>2</td>\n",
       "    </tr>\n",
       "    <tr>\n",
       "      <th>3</th>\n",
       "      <td>/data/BGNN_data/INHS_cropped</td>\n",
       "      <td>50_11</td>\n",
       "      <td>True</td>\n",
       "      <td>0.64</td>\n",
       "      <td>0.16</td>\n",
       "      <td>224</td>\n",
       "      <td>3</td>\n",
       "      <td>False</td>\n",
       "      <td>100</td>\n",
       "      <td>1000</td>\n",
       "      <td>0.0001</td>\n",
       "      <td>3</td>\n",
       "      <td>100</td>\n",
       "      <td>True</td>\n",
       "      <td>False</td>\n",
       "      <td>True</td>\n",
       "      <td>50</td>\n",
       "      <td>True</td>\n",
       "      <td>50</td>\n",
       "      <td>1.205622</td>\n",
       "      <td>0.563636</td>\n",
       "      <td>0.540419</td>\n",
       "      <td>0.292199</td>\n",
       "      <td>1984.270494</td>\n",
       "      <td>153.0</td>\n",
       "      <td>4443382525034256899</td>\n",
       "      <td>0</td>\n",
       "    </tr>\n",
       "    <tr>\n",
       "      <th>4</th>\n",
       "      <td>/data/BGNN_data/INHS_cropped</td>\n",
       "      <td>50_11</td>\n",
       "      <td>True</td>\n",
       "      <td>0.64</td>\n",
       "      <td>0.16</td>\n",
       "      <td>224</td>\n",
       "      <td>3</td>\n",
       "      <td>False</td>\n",
       "      <td>100</td>\n",
       "      <td>1000</td>\n",
       "      <td>0.0001</td>\n",
       "      <td>3</td>\n",
       "      <td>100</td>\n",
       "      <td>True</td>\n",
       "      <td>False</td>\n",
       "      <td>True</td>\n",
       "      <td>50</td>\n",
       "      <td>True</td>\n",
       "      <td>50</td>\n",
       "      <td>0.738771</td>\n",
       "      <td>0.709091</td>\n",
       "      <td>0.682149</td>\n",
       "      <td>0.942615</td>\n",
       "      <td>4664.918614</td>\n",
       "      <td>357.0</td>\n",
       "      <td>4443382525034256899</td>\n",
       "      <td>1</td>\n",
       "    </tr>\n",
       "    <tr>\n",
       "      <th>5</th>\n",
       "      <td>/data/BGNN_data/INHS_cropped</td>\n",
       "      <td>50_11</td>\n",
       "      <td>True</td>\n",
       "      <td>0.64</td>\n",
       "      <td>0.16</td>\n",
       "      <td>224</td>\n",
       "      <td>3</td>\n",
       "      <td>False</td>\n",
       "      <td>100</td>\n",
       "      <td>1000</td>\n",
       "      <td>0.0001</td>\n",
       "      <td>3</td>\n",
       "      <td>100</td>\n",
       "      <td>True</td>\n",
       "      <td>False</td>\n",
       "      <td>True</td>\n",
       "      <td>50</td>\n",
       "      <td>True</td>\n",
       "      <td>50</td>\n",
       "      <td>0.767335</td>\n",
       "      <td>0.727273</td>\n",
       "      <td>0.714562</td>\n",
       "      <td>0.927176</td>\n",
       "      <td>3502.356007</td>\n",
       "      <td>265.0</td>\n",
       "      <td>4443382525034256899</td>\n",
       "      <td>2</td>\n",
       "    </tr>\n",
       "    <tr>\n",
       "      <th>6</th>\n",
       "      <td>/data/BGNN_data/INHS_cropped</td>\n",
       "      <td>50_11</td>\n",
       "      <td>True</td>\n",
       "      <td>0.64</td>\n",
       "      <td>0.16</td>\n",
       "      <td>224</td>\n",
       "      <td>3</td>\n",
       "      <td>False</td>\n",
       "      <td>200</td>\n",
       "      <td>1000</td>\n",
       "      <td>0.0001</td>\n",
       "      <td>3</td>\n",
       "      <td>100</td>\n",
       "      <td>True</td>\n",
       "      <td>False</td>\n",
       "      <td>True</td>\n",
       "      <td>50</td>\n",
       "      <td>True</td>\n",
       "      <td>50</td>\n",
       "      <td>0.858579</td>\n",
       "      <td>0.672727</td>\n",
       "      <td>0.641879</td>\n",
       "      <td>0.850950</td>\n",
       "      <td>4850.040478</td>\n",
       "      <td>374.0</td>\n",
       "      <td>5863038663844309181</td>\n",
       "      <td>0</td>\n",
       "    </tr>\n",
       "    <tr>\n",
       "      <th>7</th>\n",
       "      <td>/data/BGNN_data/INHS_cropped</td>\n",
       "      <td>50_11</td>\n",
       "      <td>True</td>\n",
       "      <td>0.64</td>\n",
       "      <td>0.16</td>\n",
       "      <td>224</td>\n",
       "      <td>3</td>\n",
       "      <td>False</td>\n",
       "      <td>200</td>\n",
       "      <td>1000</td>\n",
       "      <td>0.0001</td>\n",
       "      <td>3</td>\n",
       "      <td>100</td>\n",
       "      <td>True</td>\n",
       "      <td>False</td>\n",
       "      <td>True</td>\n",
       "      <td>50</td>\n",
       "      <td>True</td>\n",
       "      <td>50</td>\n",
       "      <td>0.797989</td>\n",
       "      <td>0.718182</td>\n",
       "      <td>0.693174</td>\n",
       "      <td>0.503822</td>\n",
       "      <td>3923.870614</td>\n",
       "      <td>300.0</td>\n",
       "      <td>5863038663844309181</td>\n",
       "      <td>1</td>\n",
       "    </tr>\n",
       "    <tr>\n",
       "      <th>8</th>\n",
       "      <td>/data/BGNN_data/INHS_cropped</td>\n",
       "      <td>50_11</td>\n",
       "      <td>True</td>\n",
       "      <td>0.64</td>\n",
       "      <td>0.16</td>\n",
       "      <td>224</td>\n",
       "      <td>3</td>\n",
       "      <td>False</td>\n",
       "      <td>200</td>\n",
       "      <td>1000</td>\n",
       "      <td>0.0001</td>\n",
       "      <td>3</td>\n",
       "      <td>100</td>\n",
       "      <td>True</td>\n",
       "      <td>False</td>\n",
       "      <td>True</td>\n",
       "      <td>50</td>\n",
       "      <td>True</td>\n",
       "      <td>50</td>\n",
       "      <td>0.774667</td>\n",
       "      <td>0.745455</td>\n",
       "      <td>0.732338</td>\n",
       "      <td>0.909016</td>\n",
       "      <td>3869.515386</td>\n",
       "      <td>297.0</td>\n",
       "      <td>5863038663844309181</td>\n",
       "      <td>2</td>\n",
       "    </tr>\n",
       "    <tr>\n",
       "      <th>9</th>\n",
       "      <td>/data/BGNN_data/INHS_cropped</td>\n",
       "      <td>50_11</td>\n",
       "      <td>True</td>\n",
       "      <td>0.64</td>\n",
       "      <td>0.16</td>\n",
       "      <td>224</td>\n",
       "      <td>3</td>\n",
       "      <td>False</td>\n",
       "      <td>550</td>\n",
       "      <td>1000</td>\n",
       "      <td>0.0001</td>\n",
       "      <td>3</td>\n",
       "      <td>100</td>\n",
       "      <td>True</td>\n",
       "      <td>False</td>\n",
       "      <td>True</td>\n",
       "      <td>50</td>\n",
       "      <td>True</td>\n",
       "      <td>50</td>\n",
       "      <td>0.720251</td>\n",
       "      <td>0.763636</td>\n",
       "      <td>0.753199</td>\n",
       "      <td>0.704812</td>\n",
       "      <td>4319.418689</td>\n",
       "      <td>329.0</td>\n",
       "      <td>1779729492946627976</td>\n",
       "      <td>0</td>\n",
       "    </tr>\n",
       "    <tr>\n",
       "      <th>10</th>\n",
       "      <td>/data/BGNN_data/INHS_cropped</td>\n",
       "      <td>50_11</td>\n",
       "      <td>True</td>\n",
       "      <td>0.64</td>\n",
       "      <td>0.16</td>\n",
       "      <td>224</td>\n",
       "      <td>3</td>\n",
       "      <td>False</td>\n",
       "      <td>550</td>\n",
       "      <td>1000</td>\n",
       "      <td>0.0001</td>\n",
       "      <td>3</td>\n",
       "      <td>100</td>\n",
       "      <td>True</td>\n",
       "      <td>False</td>\n",
       "      <td>True</td>\n",
       "      <td>50</td>\n",
       "      <td>True</td>\n",
       "      <td>50</td>\n",
       "      <td>0.779990</td>\n",
       "      <td>0.718182</td>\n",
       "      <td>0.713706</td>\n",
       "      <td>0.606596</td>\n",
       "      <td>3838.514785</td>\n",
       "      <td>291.0</td>\n",
       "      <td>1779729492946627976</td>\n",
       "      <td>1</td>\n",
       "    </tr>\n",
       "    <tr>\n",
       "      <th>11</th>\n",
       "      <td>/data/BGNN_data/INHS_cropped</td>\n",
       "      <td>50_11</td>\n",
       "      <td>True</td>\n",
       "      <td>0.64</td>\n",
       "      <td>0.16</td>\n",
       "      <td>224</td>\n",
       "      <td>3</td>\n",
       "      <td>False</td>\n",
       "      <td>550</td>\n",
       "      <td>1000</td>\n",
       "      <td>0.0001</td>\n",
       "      <td>3</td>\n",
       "      <td>100</td>\n",
       "      <td>True</td>\n",
       "      <td>False</td>\n",
       "      <td>True</td>\n",
       "      <td>50</td>\n",
       "      <td>True</td>\n",
       "      <td>50</td>\n",
       "      <td>0.725196</td>\n",
       "      <td>0.709091</td>\n",
       "      <td>0.703012</td>\n",
       "      <td>0.874535</td>\n",
       "      <td>4603.959355</td>\n",
       "      <td>344.0</td>\n",
       "      <td>1779729492946627976</td>\n",
       "      <td>2</td>\n",
       "    </tr>\n",
       "  </tbody>\n",
       "</table>"
      ],
      "text/plain": [
       "<IPython.core.display.HTML object>"
      ]
     },
     "metadata": {},
     "output_type": "display_data"
    }
   ],
   "source": [
    "ts.showStatistics(False)\n",
    "ts.saveStatistics(False)"
   ]
  },
  {
   "cell_type": "code",
   "execution_count": 7,
   "metadata": {},
   "outputs": [
    {
     "name": "stdout",
     "output_type": "stream",
     "text": [
      "experiment:  {'image_path': '/data/BGNN_data/INHS_cropped', 'suffix': '50_11', 'useAdam': True, 'training_count': 0.64, 'validation_count': 0.16, 'imageDimension': 224, 'n_channels': 3, 'augmentation': False, 'batchSize': 50, 'n_epochs': 1000, 'learning_rate': 0.0001, 'numOfTrials': 3, 'patience': 100, 'useHeirarchy': True, 'useRelu': False, 'downsample': True, 'downsampleOutput': 50, 'takeFromIntermediate': True, 'takeFromIntermediateOutput': 50}\n"
     ]
    },
    {
     "data": {
      "image/png": "[encoded data removed]",
      "text/plain": [
       "<Figure size 1440x1224 with 2 Axes>"
      ]
     },
     "metadata": {
      "needs_background": "light"
     },
     "output_type": "display_data"
    },
    {
     "data": {
      "text/html": [
       "<table border=\"1\" class=\"dataframe\">\n",
       "  <thead>\n",
       "    <tr style=\"text-align: right;\">\n",
       "      <th></th>\n",
       "      <th>genus</th>\n",
       "      <th>F1</th>\n",
       "    </tr>\n",
       "  </thead>\n",
       "  <tbody>\n",
       "    <tr>\n",
       "      <th>0</th>\n",
       "      <td>0 Lepomis</td>\n",
       "      <td>0.828125</td>\n",
       "    </tr>\n",
       "    <tr>\n",
       "      <th>1</th>\n",
       "      <td>1 Carassius</td>\n",
       "      <td>0.358974</td>\n",
       "    </tr>\n",
       "    <tr>\n",
       "      <th>2</th>\n",
       "      <td>2 Cyprinus</td>\n",
       "      <td>0.620690</td>\n",
       "    </tr>\n",
       "    <tr>\n",
       "      <th>3</th>\n",
       "      <td>3 Esox</td>\n",
       "      <td>0.902256</td>\n",
       "    </tr>\n",
       "    <tr>\n",
       "      <th>4</th>\n",
       "      <td>4 Noturus</td>\n",
       "      <td>0.973510</td>\n",
       "    </tr>\n",
       "  </tbody>\n",
       "</table>"
      ],
      "text/plain": [
       "<IPython.core.display.HTML object>"
      ]
     },
     "metadata": {},
     "output_type": "display_data"
    },
    {
     "name": "stdout",
     "output_type": "stream",
     "text": [
      "experiment:  {'image_path': '/data/BGNN_data/INHS_cropped', 'suffix': '50_11', 'useAdam': True, 'training_count': 0.64, 'validation_count': 0.16, 'imageDimension': 224, 'n_channels': 3, 'augmentation': False, 'batchSize': 100, 'n_epochs': 1000, 'learning_rate': 0.0001, 'numOfTrials': 3, 'patience': 100, 'useHeirarchy': True, 'useRelu': False, 'downsample': True, 'downsampleOutput': 50, 'takeFromIntermediate': True, 'takeFromIntermediateOutput': 50}\n"
     ]
    },
    {
     "data": {
      "image/png": "[encoded data removed]",
      "text/plain": [
       "<Figure size 1440x1224 with 2 Axes>"
      ]
     },
     "metadata": {
      "needs_background": "light"
     },
     "output_type": "display_data"
    },
    {
     "data": {
      "text/html": [
       "<table border=\"1\" class=\"dataframe\">\n",
       "  <thead>\n",
       "    <tr style=\"text-align: right;\">\n",
       "      <th></th>\n",
       "      <th>genus</th>\n",
       "      <th>F1</th>\n",
       "    </tr>\n",
       "  </thead>\n",
       "  <tbody>\n",
       "    <tr>\n",
       "      <th>0</th>\n",
       "      <td>0 Lepomis</td>\n",
       "      <td>0.824427</td>\n",
       "    </tr>\n",
       "    <tr>\n",
       "      <th>1</th>\n",
       "      <td>1 Carassius</td>\n",
       "      <td>0.692308</td>\n",
       "    </tr>\n",
       "    <tr>\n",
       "      <th>2</th>\n",
       "      <td>2 Cyprinus</td>\n",
       "      <td>0.708333</td>\n",
       "    </tr>\n",
       "    <tr>\n",
       "      <th>3</th>\n",
       "      <td>3 Esox</td>\n",
       "      <td>0.776699</td>\n",
       "    </tr>\n",
       "    <tr>\n",
       "      <th>4</th>\n",
       "      <td>4 Noturus</td>\n",
       "      <td>0.920245</td>\n",
       "    </tr>\n",
       "  </tbody>\n",
       "</table>"
      ],
      "text/plain": [
       "<IPython.core.display.HTML object>"
      ]
     },
     "metadata": {},
     "output_type": "display_data"
    },
    {
     "name": "stdout",
     "output_type": "stream",
     "text": [
      "experiment:  {'image_path': '/data/BGNN_data/INHS_cropped', 'suffix': '50_11', 'useAdam': True, 'training_count': 0.64, 'validation_count': 0.16, 'imageDimension': 224, 'n_channels': 3, 'augmentation': False, 'batchSize': 200, 'n_epochs': 1000, 'learning_rate': 0.0001, 'numOfTrials': 3, 'patience': 100, 'useHeirarchy': True, 'useRelu': False, 'downsample': True, 'downsampleOutput': 50, 'takeFromIntermediate': True, 'takeFromIntermediateOutput': 50}\n"
     ]
    },
    {
     "data": {
      "image/png": "[encoded data removed]",
      "text/plain": [
       "<Figure size 1440x1224 with 2 Axes>"
      ]
     },
     "metadata": {
      "needs_background": "light"
     },
     "output_type": "display_data"
    },
    {
     "data": {
      "text/html": [
       "<table border=\"1\" class=\"dataframe\">\n",
       "  <thead>\n",
       "    <tr style=\"text-align: right;\">\n",
       "      <th></th>\n",
       "      <th>genus</th>\n",
       "      <th>F1</th>\n",
       "    </tr>\n",
       "  </thead>\n",
       "  <tbody>\n",
       "    <tr>\n",
       "      <th>0</th>\n",
       "      <td>0 Lepomis</td>\n",
       "      <td>0.837209</td>\n",
       "    </tr>\n",
       "    <tr>\n",
       "      <th>1</th>\n",
       "      <td>1 Carassius</td>\n",
       "      <td>0.642857</td>\n",
       "    </tr>\n",
       "    <tr>\n",
       "      <th>2</th>\n",
       "      <td>2 Cyprinus</td>\n",
       "      <td>0.558140</td>\n",
       "    </tr>\n",
       "    <tr>\n",
       "      <th>3</th>\n",
       "      <td>3 Esox</td>\n",
       "      <td>0.930233</td>\n",
       "    </tr>\n",
       "    <tr>\n",
       "      <th>4</th>\n",
       "      <td>4 Noturus</td>\n",
       "      <td>0.976898</td>\n",
       "    </tr>\n",
       "  </tbody>\n",
       "</table>"
      ],
      "text/plain": [
       "<IPython.core.display.HTML object>"
      ]
     },
     "metadata": {},
     "output_type": "display_data"
    },
    {
     "name": "stdout",
     "output_type": "stream",
     "text": [
      "experiment:  {'image_path': '/data/BGNN_data/INHS_cropped', 'suffix': '50_11', 'useAdam': True, 'training_count': 0.64, 'validation_count': 0.16, 'imageDimension': 224, 'n_channels': 3, 'augmentation': False, 'batchSize': 550, 'n_epochs': 1000, 'learning_rate': 0.0001, 'numOfTrials': 3, 'patience': 100, 'useHeirarchy': True, 'useRelu': False, 'downsample': True, 'downsampleOutput': 50, 'takeFromIntermediate': True, 'takeFromIntermediateOutput': 50}\n"
     ]
    },
    {
     "data": {
      "image/png": "[encoded data removed]",
      "text/plain": [
       "<Figure size 1440x1224 with 2 Axes>"
      ]
     },
     "metadata": {
      "needs_background": "light"
     },
     "output_type": "display_data"
    },
    {
     "data": {
      "text/html": [
       "<table border=\"1\" class=\"dataframe\">\n",
       "  <thead>\n",
       "    <tr style=\"text-align: right;\">\n",
       "      <th></th>\n",
       "      <th>genus</th>\n",
       "      <th>F1</th>\n",
       "    </tr>\n",
       "  </thead>\n",
       "  <tbody>\n",
       "    <tr>\n",
       "      <th>0</th>\n",
       "      <td>0 Lepomis</td>\n",
       "      <td>0.901639</td>\n",
       "    </tr>\n",
       "    <tr>\n",
       "      <th>1</th>\n",
       "      <td>1 Carassius</td>\n",
       "      <td>0.692308</td>\n",
       "    </tr>\n",
       "    <tr>\n",
       "      <th>2</th>\n",
       "      <td>2 Cyprinus</td>\n",
       "      <td>0.521739</td>\n",
       "    </tr>\n",
       "    <tr>\n",
       "      <th>3</th>\n",
       "      <td>3 Esox</td>\n",
       "      <td>0.769231</td>\n",
       "    </tr>\n",
       "    <tr>\n",
       "      <th>4</th>\n",
       "      <td>4 Noturus</td>\n",
       "      <td>0.954839</td>\n",
       "    </tr>\n",
       "  </tbody>\n",
       "</table>"
      ],
      "text/plain": [
       "<IPython.core.display.HTML object>"
      ]
     },
     "metadata": {},
     "output_type": "display_data"
    }
   ],
   "source": [
    "paramsIterator = config_parser.getHyperpIter() \n",
    "for experiment_params in paramsIterator:\n",
    "    experiment_params[\"numOfTrials\"] = experiment_params[\"numOfTrials\"] or 1\n",
    "    if experiment_params[\"useHeirarchy\"]:\n",
    "        print(\"experiment: \", experiment_params)\n",
    "\n",
    "        datasetManager.updateParams(experiment_params)\n",
    "        dataset = datasetManager.getDataset()\n",
    "    \n",
    "        genusList = dataset.getGenusList()\n",
    "        ts_genus.printTrialConfusionMatrix(experiment_params, genusList, True)\n",
    "        ts_genus.printF1table(experiment_params, dataset)"
   ]
  },
  {
   "cell_type": "code",
   "execution_count": 12,
   "metadata": {},
   "outputs": [
    {
     "data": {
      "image/png": "[encoded data removed]",
      "text/plain": [
       "<Figure size 432x288 with 1 Axes>"
      ]
     },
     "metadata": {
      "needs_background": "light"
     },
     "output_type": "display_data"
    }
   ],
   "source": [
    "ts.trialScatter('macro_f1_species', 'time', False, 'batchSize')"
   ]
  },
  {
   "cell_type": "code",
   "execution_count": null,
   "metadata": {},
   "outputs": [],
   "source": []
  }
 ],
 "metadata": {
  "kernelspec": {
   "display_name": "Python 3",
   "language": "python",
   "name": "python3"
  },
  "language_info": {
   "codemirror_mode": {
    "name": "ipython",
    "version": 3
   },
   "file_extension": ".py",
   "mimetype": "text/x-python",
   "name": "python",
   "nbconvert_exporter": "python",
   "pygments_lexer": "ipython3",
   "version": "3.6.9"
  }
 },
 "nbformat": 4,
 "nbformat_minor": 2
}
