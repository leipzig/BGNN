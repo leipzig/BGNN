{
 "cells": [
  {
   "cell_type": "markdown",
   "metadata": {},
   "source": [
    "Imports"
   ]
  },
  {
   "cell_type": "code",
   "execution_count": 1,
   "metadata": {},
   "outputs": [],
   "source": [
    "from configParser import ConfigParser, getModelName, getDatasetName"
   ]
  },
  {
   "cell_type": "markdown",
   "metadata": {},
   "source": [
    "Parameters"
   ]
  },
  {
   "cell_type": "code",
   "execution_count": 2,
   "metadata": {},
   "outputs": [],
   "source": [
    "experimentName = \"test_22987_suffix50_11_dataLoader3\"\n",
    "numOfExperiments=100\n",
    "\n",
    "params = {\n",
    "    # Do not use for multi/hyperp experiments\n",
    "    \"image_path\": \"/data/BGNN_data/INHS_cropped\",\n",
    "    \"suffix\": '50_11', # used to get a subset cleaned_metadata file. set to None otherwise to use full metadata\n",
    "    \n",
    "    # dataset\n",
    "    \"training_count\":0.64,\n",
    "    \"validation_count\":0.16,\n",
    "    \"usePretrained\": False,\n",
    "    \n",
    "    # image\n",
    "    \"imageDimension\": 56,\n",
    "    \"n_channels\": 1,\n",
    "    \"useZCAWhitening\": False,\n",
    "\n",
    "    # training\n",
    "    \"batchSize\":200,\n",
    "    \"n_epochs\":1000,\n",
    "    \"numOfTrials\":3,\n",
    "\n",
    "    # network\n",
    "    \"kernels\": [16, 32],\n",
    "    \"kernelSize\": 5,\n",
    "    \"patience\": 50,\n",
    "}\n"
   ]
  },
  {
   "cell_type": "markdown",
   "metadata": {},
   "source": [
    "Create file"
   ]
  },
  {
   "cell_type": "code",
   "execution_count": 3,
   "metadata": {},
   "outputs": [
    {
     "data": {
      "text/plain": [
       "'test_22987_suffix50_11_dataLoader3/params.json'"
      ]
     },
     "execution_count": 3,
     "metadata": {},
     "output_type": "execute_result"
    }
   ],
   "source": [
    "cp = ConfigParser(experimentName)\n",
    "\n",
    "cp.write(params)"
   ]
  },
  {
   "cell_type": "markdown",
   "metadata": {},
   "source": [
    "Read file"
   ]
  },
  {
   "cell_type": "code",
   "execution_count": 4,
   "metadata": {},
   "outputs": [
    {
     "name": "stdout",
     "output_type": "stream",
     "text": [
      "{'image_path': '/data/BGNN_data/INHS_cropped', 'suffix': '50_11', 'training_count': 0.64, 'validation_count': 0.16, 'usePretrained': False, 'imageDimension': 56, 'n_channels': 1, 'useZCAWhitening': False, 'batchSize': 200, 'n_epochs': 1000, 'numOfTrials': 3, 'kernels': [16, 32], 'kernelSize': 5, 'patience': 50}\n"
     ]
    }
   ],
   "source": [
    "j = cp.read()\n",
    "print(j)"
   ]
  },
  {
   "cell_type": "markdown",
   "metadata": {},
   "source": [
    "Create hyperp"
   ]
  },
  {
   "cell_type": "code",
   "execution_count": 5,
   "metadata": {},
   "outputs": [
    {
     "data": {
      "text/plain": [
       "'test_22987_suffix50_11_dataLoader3/hyperp_params.json'"
      ]
     },
     "execution_count": 5,
     "metadata": {},
     "output_type": "execute_result"
    }
   ],
   "source": [
    "hyperp_params = {\n",
    "    \"imageDimension\": [28, 56],\n",
    "    \"n_channels\": [1, 3],\n",
    "    \"kernelSize\": [5, 9],\n",
    "    \"useZCAWhitening\": [False, True],\n",
    "}\n",
    "\n",
    "cp.writeHyperp(hyperp_params)"
   ]
  },
  {
   "cell_type": "markdown",
   "metadata": {},
   "source": [
    "Get experiments"
   ]
  },
  {
   "cell_type": "code",
   "execution_count": 6,
   "metadata": {},
   "outputs": [
    {
     "name": "stdout",
     "output_type": "stream",
     "text": [
      "{'image_path': '/data/BGNN_data/INHS_cropped', 'suffix': '50_11', 'training_count': 0.64, 'validation_count': 0.16, 'usePretrained': False, 'imageDimension': 28, 'n_channels': 1, 'useZCAWhitening': False, 'batchSize': 200, 'n_epochs': 1000, 'numOfTrials': 3, 'kernels': [16, 32], 'kernelSize': 5, 'patience': 50}\n",
      "{'image_path': '/data/BGNN_data/INHS_cropped', 'suffix': '50_11', 'training_count': 0.64, 'validation_count': 0.16, 'usePretrained': False, 'imageDimension': 28, 'n_channels': 1, 'useZCAWhitening': True, 'batchSize': 200, 'n_epochs': 1000, 'numOfTrials': 3, 'kernels': [16, 32], 'kernelSize': 5, 'patience': 50}\n",
      "{'image_path': '/data/BGNN_data/INHS_cropped', 'suffix': '50_11', 'training_count': 0.64, 'validation_count': 0.16, 'usePretrained': False, 'imageDimension': 28, 'n_channels': 1, 'useZCAWhitening': False, 'batchSize': 200, 'n_epochs': 1000, 'numOfTrials': 3, 'kernels': [16, 32], 'kernelSize': 9, 'patience': 50}\n",
      "{'image_path': '/data/BGNN_data/INHS_cropped', 'suffix': '50_11', 'training_count': 0.64, 'validation_count': 0.16, 'usePretrained': False, 'imageDimension': 28, 'n_channels': 1, 'useZCAWhitening': True, 'batchSize': 200, 'n_epochs': 1000, 'numOfTrials': 3, 'kernels': [16, 32], 'kernelSize': 9, 'patience': 50}\n",
      "{'image_path': '/data/BGNN_data/INHS_cropped', 'suffix': '50_11', 'training_count': 0.64, 'validation_count': 0.16, 'usePretrained': False, 'imageDimension': 28, 'n_channels': 3, 'useZCAWhitening': False, 'batchSize': 200, 'n_epochs': 1000, 'numOfTrials': 3, 'kernels': [16, 32], 'kernelSize': 5, 'patience': 50}\n",
      "{'image_path': '/data/BGNN_data/INHS_cropped', 'suffix': '50_11', 'training_count': 0.64, 'validation_count': 0.16, 'usePretrained': False, 'imageDimension': 28, 'n_channels': 3, 'useZCAWhitening': True, 'batchSize': 200, 'n_epochs': 1000, 'numOfTrials': 3, 'kernels': [16, 32], 'kernelSize': 5, 'patience': 50}\n",
      "{'image_path': '/data/BGNN_data/INHS_cropped', 'suffix': '50_11', 'training_count': 0.64, 'validation_count': 0.16, 'usePretrained': False, 'imageDimension': 28, 'n_channels': 3, 'useZCAWhitening': False, 'batchSize': 200, 'n_epochs': 1000, 'numOfTrials': 3, 'kernels': [16, 32], 'kernelSize': 9, 'patience': 50}\n",
      "{'image_path': '/data/BGNN_data/INHS_cropped', 'suffix': '50_11', 'training_count': 0.64, 'validation_count': 0.16, 'usePretrained': False, 'imageDimension': 28, 'n_channels': 3, 'useZCAWhitening': True, 'batchSize': 200, 'n_epochs': 1000, 'numOfTrials': 3, 'kernels': [16, 32], 'kernelSize': 9, 'patience': 50}\n",
      "{'image_path': '/data/BGNN_data/INHS_cropped', 'suffix': '50_11', 'training_count': 0.64, 'validation_count': 0.16, 'usePretrained': False, 'imageDimension': 56, 'n_channels': 1, 'useZCAWhitening': False, 'batchSize': 200, 'n_epochs': 1000, 'numOfTrials': 3, 'kernels': [16, 32], 'kernelSize': 5, 'patience': 50}\n",
      "{'image_path': '/data/BGNN_data/INHS_cropped', 'suffix': '50_11', 'training_count': 0.64, 'validation_count': 0.16, 'usePretrained': False, 'imageDimension': 56, 'n_channels': 1, 'useZCAWhitening': True, 'batchSize': 200, 'n_epochs': 1000, 'numOfTrials': 3, 'kernels': [16, 32], 'kernelSize': 5, 'patience': 50}\n",
      "{'image_path': '/data/BGNN_data/INHS_cropped', 'suffix': '50_11', 'training_count': 0.64, 'validation_count': 0.16, 'usePretrained': False, 'imageDimension': 56, 'n_channels': 1, 'useZCAWhitening': False, 'batchSize': 200, 'n_epochs': 1000, 'numOfTrials': 3, 'kernels': [16, 32], 'kernelSize': 9, 'patience': 50}\n",
      "{'image_path': '/data/BGNN_data/INHS_cropped', 'suffix': '50_11', 'training_count': 0.64, 'validation_count': 0.16, 'usePretrained': False, 'imageDimension': 56, 'n_channels': 1, 'useZCAWhitening': True, 'batchSize': 200, 'n_epochs': 1000, 'numOfTrials': 3, 'kernels': [16, 32], 'kernelSize': 9, 'patience': 50}\n",
      "{'image_path': '/data/BGNN_data/INHS_cropped', 'suffix': '50_11', 'training_count': 0.64, 'validation_count': 0.16, 'usePretrained': False, 'imageDimension': 56, 'n_channels': 3, 'useZCAWhitening': False, 'batchSize': 200, 'n_epochs': 1000, 'numOfTrials': 3, 'kernels': [16, 32], 'kernelSize': 5, 'patience': 50}\n",
      "{'image_path': '/data/BGNN_data/INHS_cropped', 'suffix': '50_11', 'training_count': 0.64, 'validation_count': 0.16, 'usePretrained': False, 'imageDimension': 56, 'n_channels': 3, 'useZCAWhitening': True, 'batchSize': 200, 'n_epochs': 1000, 'numOfTrials': 3, 'kernels': [16, 32], 'kernelSize': 5, 'patience': 50}\n",
      "{'image_path': '/data/BGNN_data/INHS_cropped', 'suffix': '50_11', 'training_count': 0.64, 'validation_count': 0.16, 'usePretrained': False, 'imageDimension': 56, 'n_channels': 3, 'useZCAWhitening': False, 'batchSize': 200, 'n_epochs': 1000, 'numOfTrials': 3, 'kernels': [16, 32], 'kernelSize': 9, 'patience': 50}\n",
      "{'image_path': '/data/BGNN_data/INHS_cropped', 'suffix': '50_11', 'training_count': 0.64, 'validation_count': 0.16, 'usePretrained': False, 'imageDimension': 56, 'n_channels': 3, 'useZCAWhitening': True, 'batchSize': 200, 'n_epochs': 1000, 'numOfTrials': 3, 'kernels': [16, 32], 'kernelSize': 9, 'patience': 50}\n"
     ]
    }
   ],
   "source": [
    "for i in cp.getHyperpIter():\n",
    "    print(i)"
   ]
  },
  {
   "cell_type": "markdown",
   "metadata": {},
   "source": [
    "Model name"
   ]
  },
  {
   "cell_type": "code",
   "execution_count": 7,
   "metadata": {},
   "outputs": [
    {
     "name": "stdout",
     "output_type": "stream",
     "text": [
      "tc0_vc0_d56_c1_zcaFalse_ptFalse_bs200_e1000_ks5_k16-32_p50\n",
      "tc0_vc0_d56_c1_zcaFalse_ptFalse\n"
     ]
    }
   ],
   "source": [
    "print(getModelName(j))\n",
    "print(getDatasetName(j))"
   ]
  },
  {
   "cell_type": "markdown",
   "metadata": {},
   "source": [
    "Hyperp search write"
   ]
  },
  {
   "cell_type": "code",
   "execution_count": 8,
   "metadata": {},
   "outputs": [
    {
     "data": {
      "text/plain": [
       "'test_22987_suffix50_11_dataLoader3/hyperp_search_params.pkl'"
      ]
     },
     "execution_count": 8,
     "metadata": {},
     "output_type": "execute_result"
    }
   ],
   "source": [
    "from hyperopt import fmin, hp, rand, tpe\n",
    "from hyperopt.pyll.base import scope\n",
    "import math\n",
    "\n",
    "useRandomSearch = True\n",
    "hyperp_search_params = {\n",
    "    \"kernels\": [ scope.int(hp.quniform('kernels1', 8, 16, 1)),\n",
    "                scope.int(hp.quniform('kernels2', 16, 32, 1)),\n",
    "                scope.int(hp.qloguniform('kernels3', math.log(1), math.log(16), 1)),\n",
    "                scope.int(hp.qloguniform('kernels4', math.log(1), math.log(16), 1)),\n",
    "                scope.int(hp.qloguniform('kernels5', math.log(1), math.log(16), 1))],\n",
    "    \"kernelSize\": scope.int(hp.quniform('kernelSize', 3, 10, 1)), \n",
    "    # \"useZCAWhitening\": hp.choice('useZCAWhitening', [False, True]), \n",
    "    \"n_channels\": scope.int(hp.choice('n_channels', [1, 3])), \n",
    "    \"imageDimension\": scope.int(hp.quniform('imageDimension', 28, 420, 28))\n",
    "}\n",
    "\n",
    "cp.writeHyperpSearch(hyperp_search_params)"
   ]
  },
  {
   "cell_type": "markdown",
   "metadata": {},
   "source": [
    "Hyperp search read"
   ]
  },
  {
   "cell_type": "code",
   "execution_count": 9,
   "metadata": {},
   "outputs": [
    {
     "name": "stdout",
     "output_type": "stream",
     "text": [
      "{'kernels': [<hyperopt.pyll.base.Apply object at 0x7f48f79ef780>, <hyperopt.pyll.base.Apply object at 0x7f48f79efa20>, <hyperopt.pyll.base.Apply object at 0x7f48f79efd30>, <hyperopt.pyll.base.Apply object at 0x7f48f79efdd8>, <hyperopt.pyll.base.Apply object at 0x7f48f7a03438>], 'kernelSize': <hyperopt.pyll.base.Apply object at 0x7f48f7a035c0>, 'n_channels': <hyperopt.pyll.base.Apply object at 0x7f48f7a039b0>, 'imageDimension': <hyperopt.pyll.base.Apply object at 0x7f48f7a03be0>, 'image_path': <hyperopt.pyll.base.Apply object at 0x7f49bcba7978>, 'suffix': <hyperopt.pyll.base.Apply object at 0x7f48f7a03eb8>, 'training_count': <hyperopt.pyll.base.Apply object at 0x7f48f7a03d68>, 'validation_count': <hyperopt.pyll.base.Apply object at 0x7f48f7a03320>, 'usePretrained': <hyperopt.pyll.base.Apply object at 0x7f48f7a03128>, 'useZCAWhitening': <hyperopt.pyll.base.Apply object at 0x7f48f798ef98>, 'batchSize': <hyperopt.pyll.base.Apply object at 0x7f48f7993128>, 'n_epochs': <hyperopt.pyll.base.Apply object at 0x7f48f7993278>, 'numOfTrials': <hyperopt.pyll.base.Apply object at 0x7f48f79933c8>, 'patience': <hyperopt.pyll.base.Apply object at 0x7f48f7993518>}\n",
      "{'batchSize': 200, 'imageDimension': 336, 'image_path': '/data/BGNN_data/INHS_cropped', 'kernelSize': 10, 'kernels': (10, 28, 7, 12, 9), 'n_channels': 1, 'n_epochs': 1000, 'numOfTrials': 3, 'patience': 50, 'suffix': '50_11', 'training_count': 0.64, 'usePretrained': False, 'useZCAWhitening': False, 'validation_count': 0.16}\n",
      "{'batchSize': 200, 'imageDimension': 392, 'image_path': '/data/BGNN_data/INHS_cropped', 'kernelSize': 3, 'kernels': (13, 21, 3, 1, 4), 'n_channels': 1, 'n_epochs': 1000, 'numOfTrials': 3, 'patience': 50, 'suffix': '50_11', 'training_count': 0.64, 'usePretrained': False, 'useZCAWhitening': False, 'validation_count': 0.16}\n",
      "{'batchSize': 200, 'imageDimension': 140, 'image_path': '/data/BGNN_data/INHS_cropped', 'kernelSize': 4, 'kernels': (12, 28, 11, 8, 9), 'n_channels': 1, 'n_epochs': 1000, 'numOfTrials': 3, 'patience': 50, 'suffix': '50_11', 'training_count': 0.64, 'usePretrained': False, 'useZCAWhitening': False, 'validation_count': 0.16}\n",
      "{'batchSize': 200, 'imageDimension': 84, 'image_path': '/data/BGNN_data/INHS_cropped', 'kernelSize': 6, 'kernels': (9, 28, 2, 13, 2), 'n_channels': 1, 'n_epochs': 1000, 'numOfTrials': 3, 'patience': 50, 'suffix': '50_11', 'training_count': 0.64, 'usePretrained': False, 'useZCAWhitening': False, 'validation_count': 0.16}\n",
      "{'batchSize': 200, 'imageDimension': 140, 'image_path': '/data/BGNN_data/INHS_cropped', 'kernelSize': 5, 'kernels': (13, 18, 1, 6, 1), 'n_channels': 3, 'n_epochs': 1000, 'numOfTrials': 3, 'patience': 50, 'suffix': '50_11', 'training_count': 0.64, 'usePretrained': False, 'useZCAWhitening': False, 'validation_count': 0.16}\n",
      "{'batchSize': 200, 'imageDimension': 280, 'image_path': '/data/BGNN_data/INHS_cropped', 'kernelSize': 7, 'kernels': (9, 20, 4, 1, 7), 'n_channels': 3, 'n_epochs': 1000, 'numOfTrials': 3, 'patience': 50, 'suffix': '50_11', 'training_count': 0.64, 'usePretrained': False, 'useZCAWhitening': False, 'validation_count': 0.16}\n",
      "{'batchSize': 200, 'imageDimension': 420, 'image_path': '/data/BGNN_data/INHS_cropped', 'kernelSize': 4, 'kernels': (10, 27, 8, 2, 3), 'n_channels': 3, 'n_epochs': 1000, 'numOfTrials': 3, 'patience': 50, 'suffix': '50_11', 'training_count': 0.64, 'usePretrained': False, 'useZCAWhitening': False, 'validation_count': 0.16}\n",
      "{'batchSize': 200, 'imageDimension': 392, 'image_path': '/data/BGNN_data/INHS_cropped', 'kernelSize': 5, 'kernels': (12, 31, 9, 3, 5), 'n_channels': 3, 'n_epochs': 1000, 'numOfTrials': 3, 'patience': 50, 'suffix': '50_11', 'training_count': 0.64, 'usePretrained': False, 'useZCAWhitening': False, 'validation_count': 0.16}\n",
      "{'batchSize': 200, 'imageDimension': 392, 'image_path': '/data/BGNN_data/INHS_cropped', 'kernelSize': 8, 'kernels': (10, 22, 3, 2, 10), 'n_channels': 3, 'n_epochs': 1000, 'numOfTrials': 3, 'patience': 50, 'suffix': '50_11', 'training_count': 0.64, 'usePretrained': False, 'useZCAWhitening': False, 'validation_count': 0.16}\n",
      "{'batchSize': 200, 'imageDimension': 252, 'image_path': '/data/BGNN_data/INHS_cropped', 'kernelSize': 9, 'kernels': (9, 20, 5, 9, 2), 'n_channels': 3, 'n_epochs': 1000, 'numOfTrials': 3, 'patience': 50, 'suffix': '50_11', 'training_count': 0.64, 'usePretrained': False, 'useZCAWhitening': False, 'validation_count': 0.16}\n",
      "{'batchSize': 200, 'imageDimension': 280, 'image_path': '/data/BGNN_data/INHS_cropped', 'kernelSize': 5, 'kernels': (14, 25, 1, 9, 4), 'n_channels': 3, 'n_epochs': 1000, 'numOfTrials': 3, 'patience': 50, 'suffix': '50_11', 'training_count': 0.64, 'usePretrained': False, 'useZCAWhitening': False, 'validation_count': 0.16}\n",
      "{'batchSize': 200, 'imageDimension': 364, 'image_path': '/data/BGNN_data/INHS_cropped', 'kernelSize': 4, 'kernels': (11, 26, 7, 1, 2), 'n_channels': 1, 'n_epochs': 1000, 'numOfTrials': 3, 'patience': 50, 'suffix': '50_11', 'training_count': 0.64, 'usePretrained': False, 'useZCAWhitening': False, 'validation_count': 0.16}\n",
      "{'batchSize': 200, 'imageDimension': 28, 'image_path': '/data/BGNN_data/INHS_cropped', 'kernelSize': 4, 'kernels': (12, 25, 6, 15, 1), 'n_channels': 1, 'n_epochs': 1000, 'numOfTrials': 3, 'patience': 50, 'suffix': '50_11', 'training_count': 0.64, 'usePretrained': False, 'useZCAWhitening': False, 'validation_count': 0.16}\n",
      "{'batchSize': 200, 'imageDimension': 392, 'image_path': '/data/BGNN_data/INHS_cropped', 'kernelSize': 8, 'kernels': (13, 17, 4, 3, 11), 'n_channels': 3, 'n_epochs': 1000, 'numOfTrials': 3, 'patience': 50, 'suffix': '50_11', 'training_count': 0.64, 'usePretrained': False, 'useZCAWhitening': False, 'validation_count': 0.16}\n",
      "{'batchSize': 200, 'imageDimension': 336, 'image_path': '/data/BGNN_data/INHS_cropped', 'kernelSize': 4, 'kernels': (13, 20, 11, 3, 9), 'n_channels': 1, 'n_epochs': 1000, 'numOfTrials': 3, 'patience': 50, 'suffix': '50_11', 'training_count': 0.64, 'usePretrained': False, 'useZCAWhitening': False, 'validation_count': 0.16}\n",
      "{'batchSize': 200, 'imageDimension': 196, 'image_path': '/data/BGNN_data/INHS_cropped', 'kernelSize': 5, 'kernels': (15, 27, 2, 6, 1), 'n_channels': 3, 'n_epochs': 1000, 'numOfTrials': 3, 'patience': 50, 'suffix': '50_11', 'training_count': 0.64, 'usePretrained': False, 'useZCAWhitening': False, 'validation_count': 0.16}\n",
      "{'batchSize': 200, 'imageDimension': 140, 'image_path': '/data/BGNN_data/INHS_cropped', 'kernelSize': 4, 'kernels': (13, 17, 2, 6, 1), 'n_channels': 3, 'n_epochs': 1000, 'numOfTrials': 3, 'patience': 50, 'suffix': '50_11', 'training_count': 0.64, 'usePretrained': False, 'useZCAWhitening': False, 'validation_count': 0.16}\n",
      "{'batchSize': 200, 'imageDimension': 308, 'image_path': '/data/BGNN_data/INHS_cropped', 'kernelSize': 8, 'kernels': (10, 17, 14, 2, 9), 'n_channels': 1, 'n_epochs': 1000, 'numOfTrials': 3, 'patience': 50, 'suffix': '50_11', 'training_count': 0.64, 'usePretrained': False, 'useZCAWhitening': False, 'validation_count': 0.16}\n",
      "{'batchSize': 200, 'imageDimension': 224, 'image_path': '/data/BGNN_data/INHS_cropped', 'kernelSize': 9, 'kernels': (15, 22, 2, 3, 5), 'n_channels': 3, 'n_epochs': 1000, 'numOfTrials': 3, 'patience': 50, 'suffix': '50_11', 'training_count': 0.64, 'usePretrained': False, 'useZCAWhitening': False, 'validation_count': 0.16}\n",
      "{'batchSize': 200, 'imageDimension': 252, 'image_path': '/data/BGNN_data/INHS_cropped', 'kernelSize': 6, 'kernels': (13, 27, 6, 2, 7), 'n_channels': 3, 'n_epochs': 1000, 'numOfTrials': 3, 'patience': 50, 'suffix': '50_11', 'training_count': 0.64, 'usePretrained': False, 'useZCAWhitening': False, 'validation_count': 0.16}\n",
      "{'batchSize': 200, 'imageDimension': 364, 'image_path': '/data/BGNN_data/INHS_cropped', 'kernelSize': 6, 'kernels': (15, 28, 16, 3, 4), 'n_channels': 1, 'n_epochs': 1000, 'numOfTrials': 3, 'patience': 50, 'suffix': '50_11', 'training_count': 0.64, 'usePretrained': False, 'useZCAWhitening': False, 'validation_count': 0.16}\n",
      "{'batchSize': 200, 'imageDimension': 168, 'image_path': '/data/BGNN_data/INHS_cropped', 'kernelSize': 5, 'kernels': (14, 27, 3, 2, 14), 'n_channels': 3, 'n_epochs': 1000, 'numOfTrials': 3, 'patience': 50, 'suffix': '50_11', 'training_count': 0.64, 'usePretrained': False, 'useZCAWhitening': False, 'validation_count': 0.16}\n"
     ]
    },
    {
     "name": "stdout",
     "output_type": "stream",
     "text": [
      "{'batchSize': 200, 'imageDimension': 196, 'image_path': '/data/BGNN_data/INHS_cropped', 'kernelSize': 7, 'kernels': (15, 30, 1, 8, 6), 'n_channels': 3, 'n_epochs': 1000, 'numOfTrials': 3, 'patience': 50, 'suffix': '50_11', 'training_count': 0.64, 'usePretrained': False, 'useZCAWhitening': False, 'validation_count': 0.16}\n",
      "{'batchSize': 200, 'imageDimension': 140, 'image_path': '/data/BGNN_data/INHS_cropped', 'kernelSize': 10, 'kernels': (11, 25, 5, 6, 11), 'n_channels': 1, 'n_epochs': 1000, 'numOfTrials': 3, 'patience': 50, 'suffix': '50_11', 'training_count': 0.64, 'usePretrained': False, 'useZCAWhitening': False, 'validation_count': 0.16}\n",
      "{'batchSize': 200, 'imageDimension': 392, 'image_path': '/data/BGNN_data/INHS_cropped', 'kernelSize': 7, 'kernels': (10, 19, 1, 10, 2), 'n_channels': 1, 'n_epochs': 1000, 'numOfTrials': 3, 'patience': 50, 'suffix': '50_11', 'training_count': 0.64, 'usePretrained': False, 'useZCAWhitening': False, 'validation_count': 0.16}\n",
      "{'batchSize': 200, 'imageDimension': 336, 'image_path': '/data/BGNN_data/INHS_cropped', 'kernelSize': 8, 'kernels': (10, 27, 1, 1, 1), 'n_channels': 1, 'n_epochs': 1000, 'numOfTrials': 3, 'patience': 50, 'suffix': '50_11', 'training_count': 0.64, 'usePretrained': False, 'useZCAWhitening': False, 'validation_count': 0.16}\n",
      "{'batchSize': 200, 'imageDimension': 84, 'image_path': '/data/BGNN_data/INHS_cropped', 'kernelSize': 5, 'kernels': (16, 16, 3, 12, 5), 'n_channels': 3, 'n_epochs': 1000, 'numOfTrials': 3, 'patience': 50, 'suffix': '50_11', 'training_count': 0.64, 'usePretrained': False, 'useZCAWhitening': False, 'validation_count': 0.16}\n",
      "{'batchSize': 200, 'imageDimension': 196, 'image_path': '/data/BGNN_data/INHS_cropped', 'kernelSize': 8, 'kernels': (15, 32, 2, 3, 10), 'n_channels': 3, 'n_epochs': 1000, 'numOfTrials': 3, 'patience': 50, 'suffix': '50_11', 'training_count': 0.64, 'usePretrained': False, 'useZCAWhitening': False, 'validation_count': 0.16}\n",
      "{'batchSize': 200, 'imageDimension': 56, 'image_path': '/data/BGNN_data/INHS_cropped', 'kernelSize': 4, 'kernels': (11, 20, 5, 12, 10), 'n_channels': 3, 'n_epochs': 1000, 'numOfTrials': 3, 'patience': 50, 'suffix': '50_11', 'training_count': 0.64, 'usePretrained': False, 'useZCAWhitening': False, 'validation_count': 0.16}\n",
      "{'batchSize': 200, 'imageDimension': 84, 'image_path': '/data/BGNN_data/INHS_cropped', 'kernelSize': 7, 'kernels': (10, 18, 5, 6, 7), 'n_channels': 1, 'n_epochs': 1000, 'numOfTrials': 3, 'patience': 50, 'suffix': '50_11', 'training_count': 0.64, 'usePretrained': False, 'useZCAWhitening': False, 'validation_count': 0.16}\n",
      "{'batchSize': 200, 'imageDimension': 336, 'image_path': '/data/BGNN_data/INHS_cropped', 'kernelSize': 5, 'kernels': (8, 31, 6, 3, 4), 'n_channels': 1, 'n_epochs': 1000, 'numOfTrials': 3, 'patience': 50, 'suffix': '50_11', 'training_count': 0.64, 'usePretrained': False, 'useZCAWhitening': False, 'validation_count': 0.16}\n",
      "{'batchSize': 200, 'imageDimension': 392, 'image_path': '/data/BGNN_data/INHS_cropped', 'kernelSize': 9, 'kernels': (12, 29, 11, 3, 11), 'n_channels': 1, 'n_epochs': 1000, 'numOfTrials': 3, 'patience': 50, 'suffix': '50_11', 'training_count': 0.64, 'usePretrained': False, 'useZCAWhitening': False, 'validation_count': 0.16}\n",
      "{'batchSize': 200, 'imageDimension': 252, 'image_path': '/data/BGNN_data/INHS_cropped', 'kernelSize': 9, 'kernels': (10, 31, 3, 1, 7), 'n_channels': 1, 'n_epochs': 1000, 'numOfTrials': 3, 'patience': 50, 'suffix': '50_11', 'training_count': 0.64, 'usePretrained': False, 'useZCAWhitening': False, 'validation_count': 0.16}\n",
      "{'batchSize': 200, 'imageDimension': 336, 'image_path': '/data/BGNN_data/INHS_cropped', 'kernelSize': 4, 'kernels': (10, 23, 7, 13, 4), 'n_channels': 3, 'n_epochs': 1000, 'numOfTrials': 3, 'patience': 50, 'suffix': '50_11', 'training_count': 0.64, 'usePretrained': False, 'useZCAWhitening': False, 'validation_count': 0.16}\n",
      "{'batchSize': 200, 'imageDimension': 196, 'image_path': '/data/BGNN_data/INHS_cropped', 'kernelSize': 9, 'kernels': (8, 19, 12, 3, 2), 'n_channels': 1, 'n_epochs': 1000, 'numOfTrials': 3, 'patience': 50, 'suffix': '50_11', 'training_count': 0.64, 'usePretrained': False, 'useZCAWhitening': False, 'validation_count': 0.16}\n",
      "{'batchSize': 200, 'imageDimension': 308, 'image_path': '/data/BGNN_data/INHS_cropped', 'kernelSize': 3, 'kernels': (14, 20, 14, 2, 1), 'n_channels': 3, 'n_epochs': 1000, 'numOfTrials': 3, 'patience': 50, 'suffix': '50_11', 'training_count': 0.64, 'usePretrained': False, 'useZCAWhitening': False, 'validation_count': 0.16}\n",
      "{'batchSize': 200, 'imageDimension': 112, 'image_path': '/data/BGNN_data/INHS_cropped', 'kernelSize': 8, 'kernels': (14, 17, 8, 4, 4), 'n_channels': 1, 'n_epochs': 1000, 'numOfTrials': 3, 'patience': 50, 'suffix': '50_11', 'training_count': 0.64, 'usePretrained': False, 'useZCAWhitening': False, 'validation_count': 0.16}\n",
      "{'batchSize': 200, 'imageDimension': 392, 'image_path': '/data/BGNN_data/INHS_cropped', 'kernelSize': 4, 'kernels': (11, 23, 3, 8, 5), 'n_channels': 1, 'n_epochs': 1000, 'numOfTrials': 3, 'patience': 50, 'suffix': '50_11', 'training_count': 0.64, 'usePretrained': False, 'useZCAWhitening': False, 'validation_count': 0.16}\n",
      "{'batchSize': 200, 'imageDimension': 364, 'image_path': '/data/BGNN_data/INHS_cropped', 'kernelSize': 5, 'kernels': (12, 23, 9, 10, 2), 'n_channels': 3, 'n_epochs': 1000, 'numOfTrials': 3, 'patience': 50, 'suffix': '50_11', 'training_count': 0.64, 'usePretrained': False, 'useZCAWhitening': False, 'validation_count': 0.16}\n",
      "{'batchSize': 200, 'imageDimension': 84, 'image_path': '/data/BGNN_data/INHS_cropped', 'kernelSize': 5, 'kernels': (15, 27, 12, 2, 7), 'n_channels': 3, 'n_epochs': 1000, 'numOfTrials': 3, 'patience': 50, 'suffix': '50_11', 'training_count': 0.64, 'usePretrained': False, 'useZCAWhitening': False, 'validation_count': 0.16}\n",
      "{'batchSize': 200, 'imageDimension': 280, 'image_path': '/data/BGNN_data/INHS_cropped', 'kernelSize': 5, 'kernels': (10, 24, 2, 7, 4), 'n_channels': 3, 'n_epochs': 1000, 'numOfTrials': 3, 'patience': 50, 'suffix': '50_11', 'training_count': 0.64, 'usePretrained': False, 'useZCAWhitening': False, 'validation_count': 0.16}\n",
      "{'batchSize': 200, 'imageDimension': 224, 'image_path': '/data/BGNN_data/INHS_cropped', 'kernelSize': 4, 'kernels': (13, 28, 5, 2, 4), 'n_channels': 3, 'n_epochs': 1000, 'numOfTrials': 3, 'patience': 50, 'suffix': '50_11', 'training_count': 0.64, 'usePretrained': False, 'useZCAWhitening': False, 'validation_count': 0.16}\n",
      "{'batchSize': 200, 'imageDimension': 168, 'image_path': '/data/BGNN_data/INHS_cropped', 'kernelSize': 7, 'kernels': (9, 21, 9, 1, 6), 'n_channels': 1, 'n_epochs': 1000, 'numOfTrials': 3, 'patience': 50, 'suffix': '50_11', 'training_count': 0.64, 'usePretrained': False, 'useZCAWhitening': False, 'validation_count': 0.16}\n",
      "{'batchSize': 200, 'imageDimension': 56, 'image_path': '/data/BGNN_data/INHS_cropped', 'kernelSize': 3, 'kernels': (13, 16, 4, 2, 1), 'n_channels': 3, 'n_epochs': 1000, 'numOfTrials': 3, 'patience': 50, 'suffix': '50_11', 'training_count': 0.64, 'usePretrained': False, 'useZCAWhitening': False, 'validation_count': 0.16}\n",
      "{'batchSize': 200, 'imageDimension': 168, 'image_path': '/data/BGNN_data/INHS_cropped', 'kernelSize': 9, 'kernels': (12, 26, 10, 3, 10), 'n_channels': 3, 'n_epochs': 1000, 'numOfTrials': 3, 'patience': 50, 'suffix': '50_11', 'training_count': 0.64, 'usePretrained': False, 'useZCAWhitening': False, 'validation_count': 0.16}\n",
      "{'batchSize': 200, 'imageDimension': 336, 'image_path': '/data/BGNN_data/INHS_cropped', 'kernelSize': 10, 'kernels': (10, 23, 12, 1, 1), 'n_channels': 3, 'n_epochs': 1000, 'numOfTrials': 3, 'patience': 50, 'suffix': '50_11', 'training_count': 0.64, 'usePretrained': False, 'useZCAWhitening': False, 'validation_count': 0.16}\n",
      "{'batchSize': 200, 'imageDimension': 56, 'image_path': '/data/BGNN_data/INHS_cropped', 'kernelSize': 4, 'kernels': (13, 23, 2, 2, 6), 'n_channels': 1, 'n_epochs': 1000, 'numOfTrials': 3, 'patience': 50, 'suffix': '50_11', 'training_count': 0.64, 'usePretrained': False, 'useZCAWhitening': False, 'validation_count': 0.16}\n",
      "{'batchSize': 200, 'imageDimension': 140, 'image_path': '/data/BGNN_data/INHS_cropped', 'kernelSize': 6, 'kernels': (12, 27, 3, 13, 3), 'n_channels': 3, 'n_epochs': 1000, 'numOfTrials': 3, 'patience': 50, 'suffix': '50_11', 'training_count': 0.64, 'usePretrained': False, 'useZCAWhitening': False, 'validation_count': 0.16}\n"
     ]
    },
    {
     "name": "stdout",
     "output_type": "stream",
     "text": [
      "{'batchSize': 200, 'imageDimension': 168, 'image_path': '/data/BGNN_data/INHS_cropped', 'kernelSize': 9, 'kernels': (15, 19, 4, 3, 1), 'n_channels': 1, 'n_epochs': 1000, 'numOfTrials': 3, 'patience': 50, 'suffix': '50_11', 'training_count': 0.64, 'usePretrained': False, 'useZCAWhitening': False, 'validation_count': 0.16}\n",
      "{'batchSize': 200, 'imageDimension': 280, 'image_path': '/data/BGNN_data/INHS_cropped', 'kernelSize': 8, 'kernels': (11, 28, 8, 3, 5), 'n_channels': 3, 'n_epochs': 1000, 'numOfTrials': 3, 'patience': 50, 'suffix': '50_11', 'training_count': 0.64, 'usePretrained': False, 'useZCAWhitening': False, 'validation_count': 0.16}\n",
      "{'batchSize': 200, 'imageDimension': 336, 'image_path': '/data/BGNN_data/INHS_cropped', 'kernelSize': 4, 'kernels': (15, 19, 1, 13, 1), 'n_channels': 1, 'n_epochs': 1000, 'numOfTrials': 3, 'patience': 50, 'suffix': '50_11', 'training_count': 0.64, 'usePretrained': False, 'useZCAWhitening': False, 'validation_count': 0.16}\n",
      "{'batchSize': 200, 'imageDimension': 224, 'image_path': '/data/BGNN_data/INHS_cropped', 'kernelSize': 7, 'kernels': (12, 18, 4, 1, 8), 'n_channels': 1, 'n_epochs': 1000, 'numOfTrials': 3, 'patience': 50, 'suffix': '50_11', 'training_count': 0.64, 'usePretrained': False, 'useZCAWhitening': False, 'validation_count': 0.16}\n",
      "{'batchSize': 200, 'imageDimension': 364, 'image_path': '/data/BGNN_data/INHS_cropped', 'kernelSize': 3, 'kernels': (10, 28, 6, 6, 3), 'n_channels': 3, 'n_epochs': 1000, 'numOfTrials': 3, 'patience': 50, 'suffix': '50_11', 'training_count': 0.64, 'usePretrained': False, 'useZCAWhitening': False, 'validation_count': 0.16}\n",
      "{'batchSize': 200, 'imageDimension': 224, 'image_path': '/data/BGNN_data/INHS_cropped', 'kernelSize': 9, 'kernels': (13, 24, 9, 3, 14), 'n_channels': 1, 'n_epochs': 1000, 'numOfTrials': 3, 'patience': 50, 'suffix': '50_11', 'training_count': 0.64, 'usePretrained': False, 'useZCAWhitening': False, 'validation_count': 0.16}\n",
      "{'batchSize': 200, 'imageDimension': 224, 'image_path': '/data/BGNN_data/INHS_cropped', 'kernelSize': 8, 'kernels': (16, 25, 9, 7, 3), 'n_channels': 1, 'n_epochs': 1000, 'numOfTrials': 3, 'patience': 50, 'suffix': '50_11', 'training_count': 0.64, 'usePretrained': False, 'useZCAWhitening': False, 'validation_count': 0.16}\n",
      "{'batchSize': 200, 'imageDimension': 56, 'image_path': '/data/BGNN_data/INHS_cropped', 'kernelSize': 5, 'kernels': (10, 17, 12, 4, 13), 'n_channels': 1, 'n_epochs': 1000, 'numOfTrials': 3, 'patience': 50, 'suffix': '50_11', 'training_count': 0.64, 'usePretrained': False, 'useZCAWhitening': False, 'validation_count': 0.16}\n",
      "{'batchSize': 200, 'imageDimension': 392, 'image_path': '/data/BGNN_data/INHS_cropped', 'kernelSize': 7, 'kernels': (12, 28, 2, 2, 1), 'n_channels': 1, 'n_epochs': 1000, 'numOfTrials': 3, 'patience': 50, 'suffix': '50_11', 'training_count': 0.64, 'usePretrained': False, 'useZCAWhitening': False, 'validation_count': 0.16}\n",
      "{'batchSize': 200, 'imageDimension': 336, 'image_path': '/data/BGNN_data/INHS_cropped', 'kernelSize': 10, 'kernels': (9, 17, 2, 4, 8), 'n_channels': 1, 'n_epochs': 1000, 'numOfTrials': 3, 'patience': 50, 'suffix': '50_11', 'training_count': 0.64, 'usePretrained': False, 'useZCAWhitening': False, 'validation_count': 0.16}\n",
      "{'batchSize': 200, 'imageDimension': 308, 'image_path': '/data/BGNN_data/INHS_cropped', 'kernelSize': 6, 'kernels': (16, 28, 9, 4, 1), 'n_channels': 3, 'n_epochs': 1000, 'numOfTrials': 3, 'patience': 50, 'suffix': '50_11', 'training_count': 0.64, 'usePretrained': False, 'useZCAWhitening': False, 'validation_count': 0.16}\n",
      "{'batchSize': 200, 'imageDimension': 196, 'image_path': '/data/BGNN_data/INHS_cropped', 'kernelSize': 8, 'kernels': (13, 21, 10, 2, 4), 'n_channels': 3, 'n_epochs': 1000, 'numOfTrials': 3, 'patience': 50, 'suffix': '50_11', 'training_count': 0.64, 'usePretrained': False, 'useZCAWhitening': False, 'validation_count': 0.16}\n",
      "{'batchSize': 200, 'imageDimension': 84, 'image_path': '/data/BGNN_data/INHS_cropped', 'kernelSize': 4, 'kernels': (9, 30, 4, 1, 2), 'n_channels': 3, 'n_epochs': 1000, 'numOfTrials': 3, 'patience': 50, 'suffix': '50_11', 'training_count': 0.64, 'usePretrained': False, 'useZCAWhitening': False, 'validation_count': 0.16}\n",
      "{'batchSize': 200, 'imageDimension': 140, 'image_path': '/data/BGNN_data/INHS_cropped', 'kernelSize': 8, 'kernels': (11, 23, 4, 2, 2), 'n_channels': 1, 'n_epochs': 1000, 'numOfTrials': 3, 'patience': 50, 'suffix': '50_11', 'training_count': 0.64, 'usePretrained': False, 'useZCAWhitening': False, 'validation_count': 0.16}\n",
      "{'batchSize': 200, 'imageDimension': 112, 'image_path': '/data/BGNN_data/INHS_cropped', 'kernelSize': 9, 'kernels': (10, 21, 2, 12, 3), 'n_channels': 1, 'n_epochs': 1000, 'numOfTrials': 3, 'patience': 50, 'suffix': '50_11', 'training_count': 0.64, 'usePretrained': False, 'useZCAWhitening': False, 'validation_count': 0.16}\n",
      "{'batchSize': 200, 'imageDimension': 168, 'image_path': '/data/BGNN_data/INHS_cropped', 'kernelSize': 6, 'kernels': (14, 27, 2, 6, 3), 'n_channels': 1, 'n_epochs': 1000, 'numOfTrials': 3, 'patience': 50, 'suffix': '50_11', 'training_count': 0.64, 'usePretrained': False, 'useZCAWhitening': False, 'validation_count': 0.16}\n",
      "{'batchSize': 200, 'imageDimension': 196, 'image_path': '/data/BGNN_data/INHS_cropped', 'kernelSize': 8, 'kernels': (13, 29, 2, 1, 2), 'n_channels': 3, 'n_epochs': 1000, 'numOfTrials': 3, 'patience': 50, 'suffix': '50_11', 'training_count': 0.64, 'usePretrained': False, 'useZCAWhitening': False, 'validation_count': 0.16}\n",
      "{'batchSize': 200, 'imageDimension': 168, 'image_path': '/data/BGNN_data/INHS_cropped', 'kernelSize': 6, 'kernels': (13, 18, 4, 3, 14), 'n_channels': 3, 'n_epochs': 1000, 'numOfTrials': 3, 'patience': 50, 'suffix': '50_11', 'training_count': 0.64, 'usePretrained': False, 'useZCAWhitening': False, 'validation_count': 0.16}\n",
      "{'batchSize': 200, 'imageDimension': 224, 'image_path': '/data/BGNN_data/INHS_cropped', 'kernelSize': 10, 'kernels': (8, 27, 6, 8, 2), 'n_channels': 1, 'n_epochs': 1000, 'numOfTrials': 3, 'patience': 50, 'suffix': '50_11', 'training_count': 0.64, 'usePretrained': False, 'useZCAWhitening': False, 'validation_count': 0.16}\n",
      "{'batchSize': 200, 'imageDimension': 336, 'image_path': '/data/BGNN_data/INHS_cropped', 'kernelSize': 7, 'kernels': (8, 18, 1, 8, 2), 'n_channels': 1, 'n_epochs': 1000, 'numOfTrials': 3, 'patience': 50, 'suffix': '50_11', 'training_count': 0.64, 'usePretrained': False, 'useZCAWhitening': False, 'validation_count': 0.16}\n",
      "{'batchSize': 200, 'imageDimension': 308, 'image_path': '/data/BGNN_data/INHS_cropped', 'kernelSize': 7, 'kernels': (10, 28, 2, 4, 7), 'n_channels': 1, 'n_epochs': 1000, 'numOfTrials': 3, 'patience': 50, 'suffix': '50_11', 'training_count': 0.64, 'usePretrained': False, 'useZCAWhitening': False, 'validation_count': 0.16}\n",
      "{'batchSize': 200, 'imageDimension': 308, 'image_path': '/data/BGNN_data/INHS_cropped', 'kernelSize': 3, 'kernels': (10, 22, 3, 4, 2), 'n_channels': 1, 'n_epochs': 1000, 'numOfTrials': 3, 'patience': 50, 'suffix': '50_11', 'training_count': 0.64, 'usePretrained': False, 'useZCAWhitening': False, 'validation_count': 0.16}\n",
      "{'batchSize': 200, 'imageDimension': 112, 'image_path': '/data/BGNN_data/INHS_cropped', 'kernelSize': 6, 'kernels': (8, 25, 5, 2, 15), 'n_channels': 1, 'n_epochs': 1000, 'numOfTrials': 3, 'patience': 50, 'suffix': '50_11', 'training_count': 0.64, 'usePretrained': False, 'useZCAWhitening': False, 'validation_count': 0.16}\n",
      "{'batchSize': 200, 'imageDimension': 112, 'image_path': '/data/BGNN_data/INHS_cropped', 'kernelSize': 5, 'kernels': (13, 32, 2, 14, 13), 'n_channels': 1, 'n_epochs': 1000, 'numOfTrials': 3, 'patience': 50, 'suffix': '50_11', 'training_count': 0.64, 'usePretrained': False, 'useZCAWhitening': False, 'validation_count': 0.16}\n",
      "{'batchSize': 200, 'imageDimension': 84, 'image_path': '/data/BGNN_data/INHS_cropped', 'kernelSize': 3, 'kernels': (8, 24, 1, 1, 3), 'n_channels': 3, 'n_epochs': 1000, 'numOfTrials': 3, 'patience': 50, 'suffix': '50_11', 'training_count': 0.64, 'usePretrained': False, 'useZCAWhitening': False, 'validation_count': 0.16}\n",
      "{'batchSize': 200, 'imageDimension': 196, 'image_path': '/data/BGNN_data/INHS_cropped', 'kernelSize': 6, 'kernels': (8, 27, 2, 1, 3), 'n_channels': 1, 'n_epochs': 1000, 'numOfTrials': 3, 'patience': 50, 'suffix': '50_11', 'training_count': 0.64, 'usePretrained': False, 'useZCAWhitening': False, 'validation_count': 0.16}\n"
     ]
    },
    {
     "name": "stdout",
     "output_type": "stream",
     "text": [
      "{'batchSize': 200, 'imageDimension': 280, 'image_path': '/data/BGNN_data/INHS_cropped', 'kernelSize': 3, 'kernels': (11, 22, 2, 2, 4), 'n_channels': 3, 'n_epochs': 1000, 'numOfTrials': 3, 'patience': 50, 'suffix': '50_11', 'training_count': 0.64, 'usePretrained': False, 'useZCAWhitening': False, 'validation_count': 0.16}\n",
      "{'batchSize': 200, 'imageDimension': 392, 'image_path': '/data/BGNN_data/INHS_cropped', 'kernelSize': 4, 'kernels': (13, 25, 9, 11, 2), 'n_channels': 3, 'n_epochs': 1000, 'numOfTrials': 3, 'patience': 50, 'suffix': '50_11', 'training_count': 0.64, 'usePretrained': False, 'useZCAWhitening': False, 'validation_count': 0.16}\n",
      "{'batchSize': 200, 'imageDimension': 84, 'image_path': '/data/BGNN_data/INHS_cropped', 'kernelSize': 5, 'kernels': (13, 25, 13, 14, 2), 'n_channels': 1, 'n_epochs': 1000, 'numOfTrials': 3, 'patience': 50, 'suffix': '50_11', 'training_count': 0.64, 'usePretrained': False, 'useZCAWhitening': False, 'validation_count': 0.16}\n",
      "{'batchSize': 200, 'imageDimension': 56, 'image_path': '/data/BGNN_data/INHS_cropped', 'kernelSize': 6, 'kernels': (16, 21, 1, 2, 3), 'n_channels': 3, 'n_epochs': 1000, 'numOfTrials': 3, 'patience': 50, 'suffix': '50_11', 'training_count': 0.64, 'usePretrained': False, 'useZCAWhitening': False, 'validation_count': 0.16}\n",
      "{'batchSize': 200, 'imageDimension': 168, 'image_path': '/data/BGNN_data/INHS_cropped', 'kernelSize': 6, 'kernels': (12, 18, 2, 5, 12), 'n_channels': 3, 'n_epochs': 1000, 'numOfTrials': 3, 'patience': 50, 'suffix': '50_11', 'training_count': 0.64, 'usePretrained': False, 'useZCAWhitening': False, 'validation_count': 0.16}\n",
      "{'batchSize': 200, 'imageDimension': 280, 'image_path': '/data/BGNN_data/INHS_cropped', 'kernelSize': 8, 'kernels': (10, 28, 2, 1, 4), 'n_channels': 1, 'n_epochs': 1000, 'numOfTrials': 3, 'patience': 50, 'suffix': '50_11', 'training_count': 0.64, 'usePretrained': False, 'useZCAWhitening': False, 'validation_count': 0.16}\n",
      "{'batchSize': 200, 'imageDimension': 28, 'image_path': '/data/BGNN_data/INHS_cropped', 'kernelSize': 4, 'kernels': (9, 16, 13, 3, 1), 'n_channels': 3, 'n_epochs': 1000, 'numOfTrials': 3, 'patience': 50, 'suffix': '50_11', 'training_count': 0.64, 'usePretrained': False, 'useZCAWhitening': False, 'validation_count': 0.16}\n",
      "{'batchSize': 200, 'imageDimension': 112, 'image_path': '/data/BGNN_data/INHS_cropped', 'kernelSize': 6, 'kernels': (15, 32, 10, 2, 2), 'n_channels': 1, 'n_epochs': 1000, 'numOfTrials': 3, 'patience': 50, 'suffix': '50_11', 'training_count': 0.64, 'usePretrained': False, 'useZCAWhitening': False, 'validation_count': 0.16}\n",
      "{'batchSize': 200, 'imageDimension': 140, 'image_path': '/data/BGNN_data/INHS_cropped', 'kernelSize': 8, 'kernels': (13, 20, 7, 6, 1), 'n_channels': 1, 'n_epochs': 1000, 'numOfTrials': 3, 'patience': 50, 'suffix': '50_11', 'training_count': 0.64, 'usePretrained': False, 'useZCAWhitening': False, 'validation_count': 0.16}\n",
      "{'batchSize': 200, 'imageDimension': 168, 'image_path': '/data/BGNN_data/INHS_cropped', 'kernelSize': 8, 'kernels': (8, 22, 12, 6, 2), 'n_channels': 3, 'n_epochs': 1000, 'numOfTrials': 3, 'patience': 50, 'suffix': '50_11', 'training_count': 0.64, 'usePretrained': False, 'useZCAWhitening': False, 'validation_count': 0.16}\n",
      "{'batchSize': 200, 'imageDimension': 112, 'image_path': '/data/BGNN_data/INHS_cropped', 'kernelSize': 7, 'kernels': (11, 27, 6, 15, 10), 'n_channels': 3, 'n_epochs': 1000, 'numOfTrials': 3, 'patience': 50, 'suffix': '50_11', 'training_count': 0.64, 'usePretrained': False, 'useZCAWhitening': False, 'validation_count': 0.16}\n",
      "{'batchSize': 200, 'imageDimension': 336, 'image_path': '/data/BGNN_data/INHS_cropped', 'kernelSize': 5, 'kernels': (9, 17, 6, 2, 8), 'n_channels': 3, 'n_epochs': 1000, 'numOfTrials': 3, 'patience': 50, 'suffix': '50_11', 'training_count': 0.64, 'usePretrained': False, 'useZCAWhitening': False, 'validation_count': 0.16}\n",
      "{'batchSize': 200, 'imageDimension': 224, 'image_path': '/data/BGNN_data/INHS_cropped', 'kernelSize': 7, 'kernels': (11, 17, 3, 1, 3), 'n_channels': 3, 'n_epochs': 1000, 'numOfTrials': 3, 'patience': 50, 'suffix': '50_11', 'training_count': 0.64, 'usePretrained': False, 'useZCAWhitening': False, 'validation_count': 0.16}\n",
      "{'batchSize': 200, 'imageDimension': 280, 'image_path': '/data/BGNN_data/INHS_cropped', 'kernelSize': 7, 'kernels': (12, 25, 2, 1, 16), 'n_channels': 1, 'n_epochs': 1000, 'numOfTrials': 3, 'patience': 50, 'suffix': '50_11', 'training_count': 0.64, 'usePretrained': False, 'useZCAWhitening': False, 'validation_count': 0.16}\n",
      "{'batchSize': 200, 'imageDimension': 420, 'image_path': '/data/BGNN_data/INHS_cropped', 'kernelSize': 10, 'kernels': (14, 18, 2, 4, 13), 'n_channels': 1, 'n_epochs': 1000, 'numOfTrials': 3, 'patience': 50, 'suffix': '50_11', 'training_count': 0.64, 'usePretrained': False, 'useZCAWhitening': False, 'validation_count': 0.16}\n",
      "{'batchSize': 200, 'imageDimension': 112, 'image_path': '/data/BGNN_data/INHS_cropped', 'kernelSize': 6, 'kernels': (13, 17, 2, 1, 2), 'n_channels': 3, 'n_epochs': 1000, 'numOfTrials': 3, 'patience': 50, 'suffix': '50_11', 'training_count': 0.64, 'usePretrained': False, 'useZCAWhitening': False, 'validation_count': 0.16}\n",
      "{'batchSize': 200, 'imageDimension': 336, 'image_path': '/data/BGNN_data/INHS_cropped', 'kernelSize': 6, 'kernels': (9, 24, 1, 2, 3), 'n_channels': 1, 'n_epochs': 1000, 'numOfTrials': 3, 'patience': 50, 'suffix': '50_11', 'training_count': 0.64, 'usePretrained': False, 'useZCAWhitening': False, 'validation_count': 0.16}\n",
      "{'batchSize': 200, 'imageDimension': 392, 'image_path': '/data/BGNN_data/INHS_cropped', 'kernelSize': 6, 'kernels': (12, 25, 5, 11, 1), 'n_channels': 3, 'n_epochs': 1000, 'numOfTrials': 3, 'patience': 50, 'suffix': '50_11', 'training_count': 0.64, 'usePretrained': False, 'useZCAWhitening': False, 'validation_count': 0.16}\n",
      "{'batchSize': 200, 'imageDimension': 392, 'image_path': '/data/BGNN_data/INHS_cropped', 'kernelSize': 10, 'kernels': (9, 27, 5, 2, 8), 'n_channels': 3, 'n_epochs': 1000, 'numOfTrials': 3, 'patience': 50, 'suffix': '50_11', 'training_count': 0.64, 'usePretrained': False, 'useZCAWhitening': False, 'validation_count': 0.16}\n",
      "{'batchSize': 200, 'imageDimension': 364, 'image_path': '/data/BGNN_data/INHS_cropped', 'kernelSize': 10, 'kernels': (9, 17, 2, 6, 4), 'n_channels': 3, 'n_epochs': 1000, 'numOfTrials': 3, 'patience': 50, 'suffix': '50_11', 'training_count': 0.64, 'usePretrained': False, 'useZCAWhitening': False, 'validation_count': 0.16}\n",
      "{'batchSize': 200, 'imageDimension': 392, 'image_path': '/data/BGNN_data/INHS_cropped', 'kernelSize': 5, 'kernels': (10, 24, 7, 7, 4), 'n_channels': 1, 'n_epochs': 1000, 'numOfTrials': 3, 'patience': 50, 'suffix': '50_11', 'training_count': 0.64, 'usePretrained': False, 'useZCAWhitening': False, 'validation_count': 0.16}\n",
      "{'batchSize': 200, 'imageDimension': 112, 'image_path': '/data/BGNN_data/INHS_cropped', 'kernelSize': 3, 'kernels': (13, 28, 8, 11, 7), 'n_channels': 1, 'n_epochs': 1000, 'numOfTrials': 3, 'patience': 50, 'suffix': '50_11', 'training_count': 0.64, 'usePretrained': False, 'useZCAWhitening': False, 'validation_count': 0.16}\n",
      "{'batchSize': 200, 'imageDimension': 364, 'image_path': '/data/BGNN_data/INHS_cropped', 'kernelSize': 5, 'kernels': (11, 24, 2, 15, 4), 'n_channels': 1, 'n_epochs': 1000, 'numOfTrials': 3, 'patience': 50, 'suffix': '50_11', 'training_count': 0.64, 'usePretrained': False, 'useZCAWhitening': False, 'validation_count': 0.16}\n",
      "{'batchSize': 200, 'imageDimension': 224, 'image_path': '/data/BGNN_data/INHS_cropped', 'kernelSize': 5, 'kernels': (10, 27, 1, 15, 3), 'n_channels': 1, 'n_epochs': 1000, 'numOfTrials': 3, 'patience': 50, 'suffix': '50_11', 'training_count': 0.64, 'usePretrained': False, 'useZCAWhitening': False, 'validation_count': 0.16}\n",
      "{'batchSize': 200, 'imageDimension': 364, 'image_path': '/data/BGNN_data/INHS_cropped', 'kernelSize': 4, 'kernels': (8, 24, 16, 16, 6), 'n_channels': 3, 'n_epochs': 1000, 'numOfTrials': 3, 'patience': 50, 'suffix': '50_11', 'training_count': 0.64, 'usePretrained': False, 'useZCAWhitening': False, 'validation_count': 0.16}\n",
      "{'batchSize': 200, 'imageDimension': 308, 'image_path': '/data/BGNN_data/INHS_cropped', 'kernelSize': 5, 'kernels': (15, 28, 3, 1, 6), 'n_channels': 1, 'n_epochs': 1000, 'numOfTrials': 3, 'patience': 50, 'suffix': '50_11', 'training_count': 0.64, 'usePretrained': False, 'useZCAWhitening': False, 'validation_count': 0.16}\n"
     ]
    },
    {
     "name": "stdout",
     "output_type": "stream",
     "text": [
      "100%|██████████| 100/100 [00:00<00:00, 197.16trial/s, best loss: 1.0]\n"
     ]
    },
    {
     "data": {
      "text/plain": [
       "{'batchSize': 0,\n",
       " 'imageDimension': 336.0,\n",
       " 'image_path': 0,\n",
       " 'kernelSize': 10.0,\n",
       " 'kernels1': 10.0,\n",
       " 'kernels2': 28.0,\n",
       " 'kernels3': 7.0,\n",
       " 'kernels4': 12.0,\n",
       " 'kernels5': 9.0,\n",
       " 'n_channels': 0,\n",
       " 'n_epochs': 0,\n",
       " 'numOfTrials': 0,\n",
       " 'patience': 0,\n",
       " 'suffix': 0,\n",
       " 'training_count': 0,\n",
       " 'usePretrained': 0,\n",
       " 'useZCAWhitening': 0,\n",
       " 'validation_count': 0}"
      ]
     },
     "execution_count": 9,
     "metadata": {},
     "output_type": "execute_result"
    }
   ],
   "source": [
    "hyperp_obj = cp.getHyperpSearchObject()\n",
    "print(hyperp_obj)\n",
    "\n",
    "def objective(experiment_params):\n",
    "    print(experiment_params)\n",
    "    dummyObjective = 1\n",
    "    return dummyObjective\n",
    "\n",
    "fmin(objective,\n",
    "     space=hyperp_obj,\n",
    "     algo=rand.suggest, \n",
    "     max_evals=numOfExperiments)"
   ]
  },
  {
   "cell_type": "code",
   "execution_count": null,
   "metadata": {},
   "outputs": [],
   "source": []
  }
 ],
 "metadata": {
  "kernelspec": {
   "display_name": "Python 3",
   "language": "python",
   "name": "python3"
  },
  "language_info": {
   "codemirror_mode": {
    "name": "ipython",
    "version": 3
   },
   "file_extension": ".py",
   "mimetype": "text/x-python",
   "name": "python",
   "nbconvert_exporter": "python",
   "pygments_lexer": "ipython3",
   "version": "3.6.9"
  }
 },
 "nbformat": 4,
 "nbformat_minor": 2
}
