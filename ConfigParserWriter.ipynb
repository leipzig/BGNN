{
 "cells": [
  {
   "cell_type": "markdown",
   "metadata": {},
   "source": [
    "Imports"
   ]
  },
  {
   "cell_type": "code",
   "execution_count": 1,
   "metadata": {},
   "outputs": [],
   "source": [
    "from configParser import ConfigParser, getModelName"
   ]
  },
  {
   "cell_type": "markdown",
   "metadata": {},
   "source": [
    "Parameters"
   ]
  },
  {
   "cell_type": "code",
   "execution_count": 2,
   "metadata": {},
   "outputs": [],
   "source": [
    "experimentName = \"test_22987_suffix100\"\n",
    "\n",
    "params = {\n",
    "    # dataset\n",
    "    \"image_path\": \"INHS_cropped\",\n",
    "    \"suffix\": 100, # used to get a subset cleaned_metadata file. set to None otherwise to use full metadata\n",
    "    \"training_count\":0.64,\n",
    "    \"validation_count\":0.16,\n",
    "\n",
    "    # training\n",
    "    \"batchSize\":32,\n",
    "    \"n_epochs\":1000,\n",
    "    \"numOfTrials\":3,\n",
    "\n",
    "    # network\n",
    "    \"kernels\": [16, 32],\n",
    "    \"kernelSize\": 5,\n",
    "    \"patience\": 20,\n",
    "\n",
    "    # image\n",
    "    \"imageDimension\": 28,\n",
    "    \"n_channels\": 1,\n",
    "    \"useZCAWhitening\": False,\n",
    "}\n"
   ]
  },
  {
   "cell_type": "markdown",
   "metadata": {},
   "source": [
    "Create file"
   ]
  },
  {
   "cell_type": "code",
   "execution_count": 3,
   "metadata": {},
   "outputs": [
    {
     "data": {
      "text/plain": [
       "'test_22987_suffix100/params.json'"
      ]
     },
     "execution_count": 3,
     "metadata": {},
     "output_type": "execute_result"
    }
   ],
   "source": [
    "cp = ConfigParser(experimentName)\n",
    "\n",
    "cp.write(params)"
   ]
  },
  {
   "cell_type": "markdown",
   "metadata": {},
   "source": [
    "Read file"
   ]
  },
  {
   "cell_type": "code",
   "execution_count": 4,
   "metadata": {},
   "outputs": [
    {
     "name": "stdout",
     "output_type": "stream",
     "text": [
      "{'image_path': 'INHS_cropped', 'suffix': 100, 'training_count': 0.64, 'validation_count': 0.16, 'batchSize': 32, 'n_epochs': 1000, 'numOfTrials': 3, 'kernels': [16, 32], 'kernelSize': 5, 'patience': 20, 'imageDimension': 28, 'n_channels': 1, 'useZCAWhitening': False}\n"
     ]
    }
   ],
   "source": [
    "j = cp.read()\n",
    "print(j)"
   ]
  },
  {
   "cell_type": "markdown",
   "metadata": {},
   "source": [
    "Create hyperp"
   ]
  },
  {
   "cell_type": "code",
   "execution_count": 11,
   "metadata": {},
   "outputs": [
    {
     "data": {
      "text/plain": [
       "'test_22987_suffix100-ed7b65ce62f511eab9d5ac1f6b9e3b4a/hyperp_params.json'"
      ]
     },
     "execution_count": 11,
     "metadata": {},
     "output_type": "execute_result"
    }
   ],
   "source": [
    "hyperp_params = {\n",
    "    \"imageDimension\": [28, 56, 236],\n",
    "    \"n_channels\": [1, 3],\n",
    "    \"kernelSize\": [5, 9],\n",
    "    \"useZCAWhitening\": [False, True],\n",
    "}\n",
    "\n",
    "cp.writeHyperp(hyperp_params)"
   ]
  },
  {
   "cell_type": "markdown",
   "metadata": {},
   "source": [
    "Get experiments"
   ]
  },
  {
   "cell_type": "code",
   "execution_count": 6,
   "metadata": {},
   "outputs": [
    {
     "name": "stdout",
     "output_type": "stream",
     "text": [
      "{'image_path': 'INHS_cropped', 'suffix': 100, 'training_count': 0.64, 'validation_count': 0.16, 'batchSize': 32, 'n_epochs': 1000, 'numOfTrials': 3, 'kernels': [16, 32], 'kernelSize': 5, 'patience': 20, 'imageDimension': 28, 'n_channels': 1, 'useZCAWhitening': False}\n",
      "{'image_path': 'INHS_cropped', 'suffix': 100, 'training_count': 0.64, 'validation_count': 0.16, 'batchSize': 32, 'n_epochs': 1000, 'numOfTrials': 3, 'kernels': [16, 32], 'kernelSize': 5, 'patience': 20, 'imageDimension': 28, 'n_channels': 1, 'useZCAWhitening': True}\n",
      "{'image_path': 'INHS_cropped', 'suffix': 100, 'training_count': 0.64, 'validation_count': 0.16, 'batchSize': 32, 'n_epochs': 1000, 'numOfTrials': 3, 'kernels': [16, 32], 'kernelSize': 5, 'patience': 20, 'imageDimension': 28, 'n_channels': 3, 'useZCAWhitening': False}\n",
      "{'image_path': 'INHS_cropped', 'suffix': 100, 'training_count': 0.64, 'validation_count': 0.16, 'batchSize': 32, 'n_epochs': 1000, 'numOfTrials': 3, 'kernels': [16, 32], 'kernelSize': 5, 'patience': 20, 'imageDimension': 28, 'n_channels': 3, 'useZCAWhitening': True}\n"
     ]
    }
   ],
   "source": [
    "for i in cp.getHyperpIter():\n",
    "    print(i)"
   ]
  },
  {
   "cell_type": "markdown",
   "metadata": {},
   "source": [
    "Model name"
   ]
  },
  {
   "cell_type": "code",
   "execution_count": 7,
   "metadata": {},
   "outputs": [
    {
     "data": {
      "text/plain": [
       "'tc0_vc0_bs32_e1000_ks5_k16-32_p20_d28_c1_zcaFalse'"
      ]
     },
     "execution_count": 7,
     "metadata": {},
     "output_type": "execute_result"
    }
   ],
   "source": [
    "getModelName(j)"
   ]
  },
  {
   "cell_type": "markdown",
   "metadata": {},
   "source": [
    "Hyperp search write"
   ]
  },
  {
   "cell_type": "code",
   "execution_count": 8,
   "metadata": {},
   "outputs": [
    {
     "data": {
      "text/plain": [
       "'test_22987_suffix100/hyperp_search_params.pkl'"
      ]
     },
     "execution_count": 8,
     "metadata": {},
     "output_type": "execute_result"
    }
   ],
   "source": [
    "from hyperopt import fmin, hp, rand, tpe\n",
    "from hyperopt.pyll.base import scope\n",
    "\n",
    "useRandomSearch = True\n",
    "hyperp_search_params = {\n",
    "    \"kernels\": [ scope.int(hp.quniform('kernels1', 8, 16, 1)), scope.int(hp.quniform('kernels2', 16, 32, 1))],\n",
    "    \"kernelSize\": scope.int(hp.quniform('kernelSize', 3, 10, 1)),\n",
    "    \"patience\": scope.int(hp.quniform('patience', 1, 2, 1)), \n",
    "}\n",
    "\n",
    "cp.writeHyperpSearch(hyperp_search_params)"
   ]
  },
  {
   "cell_type": "markdown",
   "metadata": {},
   "source": [
    "Hyperp search read"
   ]
  },
  {
   "cell_type": "code",
   "execution_count": 9,
   "metadata": {},
   "outputs": [
    {
     "name": "stdout",
     "output_type": "stream",
     "text": [
      "{'kernels': [<hyperopt.pyll.base.Apply object at 0x7f49788020b8>, <hyperopt.pyll.base.Apply object at 0x7f49788024a8>], 'kernelSize': <hyperopt.pyll.base.Apply object at 0x7f4978802dd8>, 'patience': <hyperopt.pyll.base.Apply object at 0x7f4978802f98>, 'image_path': <hyperopt.pyll.base.Apply object at 0x7f4978802160>, 'suffix': <hyperopt.pyll.base.Apply object at 0x7f497880c2b0>, 'training_count': <hyperopt.pyll.base.Apply object at 0x7f497880c400>, 'validation_count': <hyperopt.pyll.base.Apply object at 0x7f497880c550>, 'batchSize': <hyperopt.pyll.base.Apply object at 0x7f497880c6a0>, 'n_epochs': <hyperopt.pyll.base.Apply object at 0x7f497880c7f0>, 'numOfTrials': <hyperopt.pyll.base.Apply object at 0x7f497880c940>, 'imageDimension': <hyperopt.pyll.base.Apply object at 0x7f497880ca90>, 'n_channels': <hyperopt.pyll.base.Apply object at 0x7f497880cbe0>, 'useZCAWhitening': <hyperopt.pyll.base.Apply object at 0x7f497880cd30>}\n",
      "{'batchSize': 32, 'imageDimension': 28, 'image_path': 'INHS_cropped', 'kernelSize': 7, 'kernels': (11, 27), 'n_channels': 1, 'n_epochs': 1000, 'numOfTrials': 3, 'patience': 2, 'suffix': 100, 'training_count': 0.64, 'useZCAWhitening': False, 'validation_count': 0.16}\n",
      "{'batchSize': 32, 'imageDimension': 28, 'image_path': 'INHS_cropped', 'kernelSize': 9, 'kernels': (15, 24), 'n_channels': 1, 'n_epochs': 1000, 'numOfTrials': 3, 'patience': 2, 'suffix': 100, 'training_count': 0.64, 'useZCAWhitening': False, 'validation_count': 0.16}\n",
      "{'batchSize': 32, 'imageDimension': 28, 'image_path': 'INHS_cropped', 'kernelSize': 4, 'kernels': (12, 21), 'n_channels': 1, 'n_epochs': 1000, 'numOfTrials': 3, 'patience': 1, 'suffix': 100, 'training_count': 0.64, 'useZCAWhitening': False, 'validation_count': 0.16}\n",
      "100%|██████████| 3/3 [00:00<00:00, 257.02trial/s, best loss: 1.0]\n"
     ]
    },
    {
     "data": {
      "text/plain": [
       "{'batchSize': 0,\n",
       " 'imageDimension': 0,\n",
       " 'image_path': 0,\n",
       " 'kernelSize': 7.0,\n",
       " 'kernels1': 11.0,\n",
       " 'kernels2': 27.0,\n",
       " 'n_channels': 0,\n",
       " 'n_epochs': 0,\n",
       " 'numOfTrials': 0,\n",
       " 'patience': 2.0,\n",
       " 'suffix': 0,\n",
       " 'training_count': 0,\n",
       " 'useZCAWhitening': 0,\n",
       " 'validation_count': 0}"
      ]
     },
     "execution_count": 9,
     "metadata": {},
     "output_type": "execute_result"
    }
   ],
   "source": [
    "hyperp_obj = cp.getHyperpSearchObject()\n",
    "print(hyperp_obj)\n",
    "\n",
    "def objective(experiment_params):\n",
    "    print(experiment_params)\n",
    "    dummyObjective = 1\n",
    "    return dummyObjective\n",
    "\n",
    "fmin(objective,\n",
    "     space=hyperp_obj,\n",
    "     algo=rand.suggest, \n",
    "     max_evals=params['numOfTrials'] or 1)"
   ]
  },
  {
   "cell_type": "code",
   "execution_count": null,
   "metadata": {},
   "outputs": [],
   "source": []
  }
 ],
 "metadata": {
  "kernelspec": {
   "display_name": "Python 3",
   "language": "python",
   "name": "python3"
  },
  "language_info": {
   "codemirror_mode": {
    "name": "ipython",
    "version": 3
   },
   "file_extension": ".py",
   "mimetype": "text/x-python",
   "name": "python",
   "nbconvert_exporter": "python",
   "pygments_lexer": "ipython3",
   "version": "3.6.9"
  }
 },
 "nbformat": 4,
 "nbformat_minor": 2
}
