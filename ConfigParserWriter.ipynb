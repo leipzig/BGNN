{
 "cells": [
  {
   "cell_type": "markdown",
   "metadata": {},
   "source": [
    "Imports"
   ]
  },
  {
   "cell_type": "code",
   "execution_count": 1,
   "metadata": {},
   "outputs": [],
   "source": [
    "from configParser import ConfigParser, getModelName"
   ]
  },
  {
   "cell_type": "markdown",
   "metadata": {},
   "source": [
    "Parameters"
   ]
  },
  {
   "cell_type": "code",
   "execution_count": 2,
   "metadata": {},
   "outputs": [],
   "source": [
    "experimentName = \"test_22987\"\n",
    "numOfExperiments=100\n",
    "\n",
    "params = {\n",
    "    # dataset\n",
    "    \"image_path\": \"/data/BGNN_data/INHS_cropped\",\n",
    "    #\"suffix\": '50_11', # used to get a subset cleaned_metadata file. set to None otherwise to use full metadata\n",
    "    \"training_count\":0.64,\n",
    "    \"validation_count\":0.16,\n",
    "\n",
    "    # training\n",
    "    \"batchSize\":200,\n",
    "    \"n_epochs\":1000,\n",
    "    \"numOfTrials\":1,\n",
    "\n",
    "    # network\n",
    "    \"kernels\": [16, 32],\n",
    "    \"kernelSize\": 5,\n",
    "    \"patience\": 50,\n",
    "\n",
    "    # image\n",
    "    \"imageDimension\": 28,\n",
    "    \"n_channels\": 1,\n",
    "    \"useZCAWhitening\": False,\n",
    "}\n"
   ]
  },
  {
   "cell_type": "markdown",
   "metadata": {},
   "source": [
    "Create file"
   ]
  },
  {
   "cell_type": "code",
   "execution_count": 3,
   "metadata": {},
   "outputs": [
    {
     "data": {
      "text/plain": [
       "'test_22987/params.json'"
      ]
     },
     "execution_count": 3,
     "metadata": {},
     "output_type": "execute_result"
    }
   ],
   "source": [
    "cp = ConfigParser(experimentName)\n",
    "\n",
    "cp.write(params)"
   ]
  },
  {
   "cell_type": "markdown",
   "metadata": {},
   "source": [
    "Read file"
   ]
  },
  {
   "cell_type": "code",
   "execution_count": 4,
   "metadata": {},
   "outputs": [
    {
     "name": "stdout",
     "output_type": "stream",
     "text": [
      "{'image_path': '/data/BGNN_data/INHS_cropped', 'training_count': 0.64, 'validation_count': 0.16, 'batchSize': 200, 'n_epochs': 1000, 'numOfTrials': 1, 'kernels': [16, 32], 'kernelSize': 5, 'patience': 50, 'imageDimension': 28, 'n_channels': 1, 'useZCAWhitening': False}\n"
     ]
    }
   ],
   "source": [
    "j = cp.read()\n",
    "print(j)"
   ]
  },
  {
   "cell_type": "markdown",
   "metadata": {},
   "source": [
    "Create hyperp"
   ]
  },
  {
   "cell_type": "code",
   "execution_count": 5,
   "metadata": {},
   "outputs": [
    {
     "data": {
      "text/plain": [
       "'test_22987/hyperp_params.json'"
      ]
     },
     "execution_count": 5,
     "metadata": {},
     "output_type": "execute_result"
    }
   ],
   "source": [
    "hyperp_params = {\n",
    "    \"imageDimension\": [28, 56, 236],\n",
    "    \"n_channels\": [1, 3],\n",
    "    \"kernelSize\": [5, 9],\n",
    "    \"useZCAWhitening\": [False, True],\n",
    "}\n",
    "\n",
    "cp.writeHyperp(hyperp_params)"
   ]
  },
  {
   "cell_type": "markdown",
   "metadata": {},
   "source": [
    "Get experiments"
   ]
  },
  {
   "cell_type": "code",
   "execution_count": 6,
   "metadata": {},
   "outputs": [
    {
     "name": "stdout",
     "output_type": "stream",
     "text": [
      "{'image_path': '/data/BGNN_data/INHS_cropped', 'training_count': 0.64, 'validation_count': 0.16, 'batchSize': 200, 'n_epochs': 1000, 'numOfTrials': 1, 'kernels': [16, 32], 'kernelSize': 5, 'patience': 50, 'imageDimension': 28, 'n_channels': 1, 'useZCAWhitening': False}\n",
      "{'image_path': '/data/BGNN_data/INHS_cropped', 'training_count': 0.64, 'validation_count': 0.16, 'batchSize': 200, 'n_epochs': 1000, 'numOfTrials': 1, 'kernels': [16, 32], 'kernelSize': 5, 'patience': 50, 'imageDimension': 28, 'n_channels': 1, 'useZCAWhitening': True}\n",
      "{'image_path': '/data/BGNN_data/INHS_cropped', 'training_count': 0.64, 'validation_count': 0.16, 'batchSize': 200, 'n_epochs': 1000, 'numOfTrials': 1, 'kernels': [16, 32], 'kernelSize': 9, 'patience': 50, 'imageDimension': 28, 'n_channels': 1, 'useZCAWhitening': False}\n",
      "{'image_path': '/data/BGNN_data/INHS_cropped', 'training_count': 0.64, 'validation_count': 0.16, 'batchSize': 200, 'n_epochs': 1000, 'numOfTrials': 1, 'kernels': [16, 32], 'kernelSize': 9, 'patience': 50, 'imageDimension': 28, 'n_channels': 1, 'useZCAWhitening': True}\n",
      "{'image_path': '/data/BGNN_data/INHS_cropped', 'training_count': 0.64, 'validation_count': 0.16, 'batchSize': 200, 'n_epochs': 1000, 'numOfTrials': 1, 'kernels': [16, 32], 'kernelSize': 5, 'patience': 50, 'imageDimension': 28, 'n_channels': 3, 'useZCAWhitening': False}\n",
      "{'image_path': '/data/BGNN_data/INHS_cropped', 'training_count': 0.64, 'validation_count': 0.16, 'batchSize': 200, 'n_epochs': 1000, 'numOfTrials': 1, 'kernels': [16, 32], 'kernelSize': 5, 'patience': 50, 'imageDimension': 28, 'n_channels': 3, 'useZCAWhitening': True}\n",
      "{'image_path': '/data/BGNN_data/INHS_cropped', 'training_count': 0.64, 'validation_count': 0.16, 'batchSize': 200, 'n_epochs': 1000, 'numOfTrials': 1, 'kernels': [16, 32], 'kernelSize': 9, 'patience': 50, 'imageDimension': 28, 'n_channels': 3, 'useZCAWhitening': False}\n",
      "{'image_path': '/data/BGNN_data/INHS_cropped', 'training_count': 0.64, 'validation_count': 0.16, 'batchSize': 200, 'n_epochs': 1000, 'numOfTrials': 1, 'kernels': [16, 32], 'kernelSize': 9, 'patience': 50, 'imageDimension': 28, 'n_channels': 3, 'useZCAWhitening': True}\n",
      "{'image_path': '/data/BGNN_data/INHS_cropped', 'training_count': 0.64, 'validation_count': 0.16, 'batchSize': 200, 'n_epochs': 1000, 'numOfTrials': 1, 'kernels': [16, 32], 'kernelSize': 5, 'patience': 50, 'imageDimension': 56, 'n_channels': 1, 'useZCAWhitening': False}\n",
      "{'image_path': '/data/BGNN_data/INHS_cropped', 'training_count': 0.64, 'validation_count': 0.16, 'batchSize': 200, 'n_epochs': 1000, 'numOfTrials': 1, 'kernels': [16, 32], 'kernelSize': 5, 'patience': 50, 'imageDimension': 56, 'n_channels': 1, 'useZCAWhitening': True}\n",
      "{'image_path': '/data/BGNN_data/INHS_cropped', 'training_count': 0.64, 'validation_count': 0.16, 'batchSize': 200, 'n_epochs': 1000, 'numOfTrials': 1, 'kernels': [16, 32], 'kernelSize': 9, 'patience': 50, 'imageDimension': 56, 'n_channels': 1, 'useZCAWhitening': False}\n",
      "{'image_path': '/data/BGNN_data/INHS_cropped', 'training_count': 0.64, 'validation_count': 0.16, 'batchSize': 200, 'n_epochs': 1000, 'numOfTrials': 1, 'kernels': [16, 32], 'kernelSize': 9, 'patience': 50, 'imageDimension': 56, 'n_channels': 1, 'useZCAWhitening': True}\n",
      "{'image_path': '/data/BGNN_data/INHS_cropped', 'training_count': 0.64, 'validation_count': 0.16, 'batchSize': 200, 'n_epochs': 1000, 'numOfTrials': 1, 'kernels': [16, 32], 'kernelSize': 5, 'patience': 50, 'imageDimension': 56, 'n_channels': 3, 'useZCAWhitening': False}\n",
      "{'image_path': '/data/BGNN_data/INHS_cropped', 'training_count': 0.64, 'validation_count': 0.16, 'batchSize': 200, 'n_epochs': 1000, 'numOfTrials': 1, 'kernels': [16, 32], 'kernelSize': 5, 'patience': 50, 'imageDimension': 56, 'n_channels': 3, 'useZCAWhitening': True}\n",
      "{'image_path': '/data/BGNN_data/INHS_cropped', 'training_count': 0.64, 'validation_count': 0.16, 'batchSize': 200, 'n_epochs': 1000, 'numOfTrials': 1, 'kernels': [16, 32], 'kernelSize': 9, 'patience': 50, 'imageDimension': 56, 'n_channels': 3, 'useZCAWhitening': False}\n",
      "{'image_path': '/data/BGNN_data/INHS_cropped', 'training_count': 0.64, 'validation_count': 0.16, 'batchSize': 200, 'n_epochs': 1000, 'numOfTrials': 1, 'kernels': [16, 32], 'kernelSize': 9, 'patience': 50, 'imageDimension': 56, 'n_channels': 3, 'useZCAWhitening': True}\n",
      "{'image_path': '/data/BGNN_data/INHS_cropped', 'training_count': 0.64, 'validation_count': 0.16, 'batchSize': 200, 'n_epochs': 1000, 'numOfTrials': 1, 'kernels': [16, 32], 'kernelSize': 5, 'patience': 50, 'imageDimension': 236, 'n_channels': 1, 'useZCAWhitening': False}\n",
      "{'image_path': '/data/BGNN_data/INHS_cropped', 'training_count': 0.64, 'validation_count': 0.16, 'batchSize': 200, 'n_epochs': 1000, 'numOfTrials': 1, 'kernels': [16, 32], 'kernelSize': 5, 'patience': 50, 'imageDimension': 236, 'n_channels': 1, 'useZCAWhitening': True}\n",
      "{'image_path': '/data/BGNN_data/INHS_cropped', 'training_count': 0.64, 'validation_count': 0.16, 'batchSize': 200, 'n_epochs': 1000, 'numOfTrials': 1, 'kernels': [16, 32], 'kernelSize': 9, 'patience': 50, 'imageDimension': 236, 'n_channels': 1, 'useZCAWhitening': False}\n",
      "{'image_path': '/data/BGNN_data/INHS_cropped', 'training_count': 0.64, 'validation_count': 0.16, 'batchSize': 200, 'n_epochs': 1000, 'numOfTrials': 1, 'kernels': [16, 32], 'kernelSize': 9, 'patience': 50, 'imageDimension': 236, 'n_channels': 1, 'useZCAWhitening': True}\n",
      "{'image_path': '/data/BGNN_data/INHS_cropped', 'training_count': 0.64, 'validation_count': 0.16, 'batchSize': 200, 'n_epochs': 1000, 'numOfTrials': 1, 'kernels': [16, 32], 'kernelSize': 5, 'patience': 50, 'imageDimension': 236, 'n_channels': 3, 'useZCAWhitening': False}\n",
      "{'image_path': '/data/BGNN_data/INHS_cropped', 'training_count': 0.64, 'validation_count': 0.16, 'batchSize': 200, 'n_epochs': 1000, 'numOfTrials': 1, 'kernels': [16, 32], 'kernelSize': 5, 'patience': 50, 'imageDimension': 236, 'n_channels': 3, 'useZCAWhitening': True}\n",
      "{'image_path': '/data/BGNN_data/INHS_cropped', 'training_count': 0.64, 'validation_count': 0.16, 'batchSize': 200, 'n_epochs': 1000, 'numOfTrials': 1, 'kernels': [16, 32], 'kernelSize': 9, 'patience': 50, 'imageDimension': 236, 'n_channels': 3, 'useZCAWhitening': False}\n",
      "{'image_path': '/data/BGNN_data/INHS_cropped', 'training_count': 0.64, 'validation_count': 0.16, 'batchSize': 200, 'n_epochs': 1000, 'numOfTrials': 1, 'kernels': [16, 32], 'kernelSize': 9, 'patience': 50, 'imageDimension': 236, 'n_channels': 3, 'useZCAWhitening': True}\n"
     ]
    }
   ],
   "source": [
    "for i in cp.getHyperpIter():\n",
    "    print(i)"
   ]
  },
  {
   "cell_type": "markdown",
   "metadata": {},
   "source": [
    "Model name"
   ]
  },
  {
   "cell_type": "code",
   "execution_count": 7,
   "metadata": {},
   "outputs": [
    {
     "data": {
      "text/plain": [
       "'tc0_vc0_bs200_e1000_ks5_k16-32_p50_d28_c1_zcaFalse'"
      ]
     },
     "execution_count": 7,
     "metadata": {},
     "output_type": "execute_result"
    }
   ],
   "source": [
    "getModelName(j)"
   ]
  },
  {
   "cell_type": "markdown",
   "metadata": {},
   "source": [
    "Hyperp search write"
   ]
  },
  {
   "cell_type": "code",
   "execution_count": 8,
   "metadata": {},
   "outputs": [
    {
     "data": {
      "text/plain": [
       "'test_22987/hyperp_search_params.pkl'"
      ]
     },
     "execution_count": 8,
     "metadata": {},
     "output_type": "execute_result"
    }
   ],
   "source": [
    "from hyperopt import fmin, hp, rand, tpe\n",
    "from hyperopt.pyll.base import scope\n",
    "import math\n",
    "\n",
    "useRandomSearch = True\n",
    "hyperp_search_params = {\n",
    "    \"kernels\": [ scope.int(hp.quniform('kernels1', 8, 16, 1)),\n",
    "                scope.int(hp.quniform('kernels2', 16, 32, 1)),\n",
    "                scope.int(hp.qloguniform('kernels3', math.log(1), math.log(16), 1)),\n",
    "                scope.int(hp.qloguniform('kernels4', math.log(1), math.log(16), 1)),\n",
    "                scope.int(hp.qloguniform('kernels5', math.log(1), math.log(16), 1))],\n",
    "    \"kernelSize\": scope.int(hp.quniform('kernelSize', 3, 10, 1)), \n",
    "    \"useZCAWhitening\": hp.choice('useZCAWhitening', [False, True]), \n",
    "    \"n_channels\": scope.int(hp.choice('n_channels', [1, 3])), \n",
    "    \"imageDimension\": scope.int(hp.quniform('imageDimension', 28, 420, 28))\n",
    "}\n",
    "\n",
    "cp.writeHyperpSearch(hyperp_search_params)"
   ]
  },
  {
   "cell_type": "markdown",
   "metadata": {},
   "source": [
    "Hyperp search read"
   ]
  },
  {
   "cell_type": "code",
   "execution_count": 9,
   "metadata": {},
   "outputs": [
    {
     "name": "stdout",
     "output_type": "stream",
     "text": [
      "{'kernels': [<hyperopt.pyll.base.Apply object at 0x7f5d81a24208>, <hyperopt.pyll.base.Apply object at 0x7f5d81a43160>, <hyperopt.pyll.base.Apply object at 0x7f5d81a43550>, <hyperopt.pyll.base.Apply object at 0x7f5d81a2b6a0>, <hyperopt.pyll.base.Apply object at 0x7f5d81a2b860>], 'kernelSize': <hyperopt.pyll.base.Apply object at 0x7f5d81a2ba20>, 'useZCAWhitening': <hyperopt.pyll.base.Apply object at 0x7f5d81a2bbe0>, 'n_channels': <hyperopt.pyll.base.Apply object at 0x7f5d81a2bdd8>, 'imageDimension': <hyperopt.pyll.base.Apply object at 0x7f5d81a2bf98>, 'image_path': <hyperopt.pyll.base.Apply object at 0x7f5d81a241d0>, 'training_count': <hyperopt.pyll.base.Apply object at 0x7f5d81a462b0>, 'validation_count': <hyperopt.pyll.base.Apply object at 0x7f5d81a46400>, 'batchSize': <hyperopt.pyll.base.Apply object at 0x7f5d81a46550>, 'n_epochs': <hyperopt.pyll.base.Apply object at 0x7f5d81a466a0>, 'numOfTrials': <hyperopt.pyll.base.Apply object at 0x7f5d81a467f0>, 'patience': <hyperopt.pyll.base.Apply object at 0x7f5d81a46940>}\n",
      "{'batchSize': 200, 'imageDimension': 168, 'image_path': '/data/BGNN_data/INHS_cropped', 'kernelSize': 4, 'kernels': (11, 32, 3, 8, 10), 'n_channels': 1, 'n_epochs': 1000, 'numOfTrials': 1, 'patience': 50, 'training_count': 0.64, 'useZCAWhitening': False, 'validation_count': 0.16}\n",
      "{'batchSize': 200, 'imageDimension': 252, 'image_path': '/data/BGNN_data/INHS_cropped', 'kernelSize': 8, 'kernels': (12, 22, 2, 16, 3), 'n_channels': 1, 'n_epochs': 1000, 'numOfTrials': 1, 'patience': 50, 'training_count': 0.64, 'useZCAWhitening': True, 'validation_count': 0.16}\n",
      "{'batchSize': 200, 'imageDimension': 112, 'image_path': '/data/BGNN_data/INHS_cropped', 'kernelSize': 5, 'kernels': (9, 26, 13, 13, 8), 'n_channels': 3, 'n_epochs': 1000, 'numOfTrials': 1, 'patience': 50, 'training_count': 0.64, 'useZCAWhitening': True, 'validation_count': 0.16}\n",
      "{'batchSize': 200, 'imageDimension': 364, 'image_path': '/data/BGNN_data/INHS_cropped', 'kernelSize': 4, 'kernels': (12, 20, 2, 10, 15), 'n_channels': 1, 'n_epochs': 1000, 'numOfTrials': 1, 'patience': 50, 'training_count': 0.64, 'useZCAWhitening': True, 'validation_count': 0.16}\n",
      "{'batchSize': 200, 'imageDimension': 112, 'image_path': '/data/BGNN_data/INHS_cropped', 'kernelSize': 4, 'kernels': (9, 20, 7, 12, 6), 'n_channels': 3, 'n_epochs': 1000, 'numOfTrials': 1, 'patience': 50, 'training_count': 0.64, 'useZCAWhitening': False, 'validation_count': 0.16}\n",
      "{'batchSize': 200, 'imageDimension': 56, 'image_path': '/data/BGNN_data/INHS_cropped', 'kernelSize': 6, 'kernels': (9, 22, 3, 3, 4), 'n_channels': 3, 'n_epochs': 1000, 'numOfTrials': 1, 'patience': 50, 'training_count': 0.64, 'useZCAWhitening': False, 'validation_count': 0.16}\n",
      "{'batchSize': 200, 'imageDimension': 168, 'image_path': '/data/BGNN_data/INHS_cropped', 'kernelSize': 5, 'kernels': (16, 20, 4, 10, 1), 'n_channels': 3, 'n_epochs': 1000, 'numOfTrials': 1, 'patience': 50, 'training_count': 0.64, 'useZCAWhitening': True, 'validation_count': 0.16}\n",
      "{'batchSize': 200, 'imageDimension': 280, 'image_path': '/data/BGNN_data/INHS_cropped', 'kernelSize': 5, 'kernels': (11, 23, 11, 4, 4), 'n_channels': 3, 'n_epochs': 1000, 'numOfTrials': 1, 'patience': 50, 'training_count': 0.64, 'useZCAWhitening': False, 'validation_count': 0.16}\n",
      "{'batchSize': 200, 'imageDimension': 224, 'image_path': '/data/BGNN_data/INHS_cropped', 'kernelSize': 5, 'kernels': (13, 18, 3, 1, 2), 'n_channels': 1, 'n_epochs': 1000, 'numOfTrials': 1, 'patience': 50, 'training_count': 0.64, 'useZCAWhitening': False, 'validation_count': 0.16}\n",
      "{'batchSize': 200, 'imageDimension': 224, 'image_path': '/data/BGNN_data/INHS_cropped', 'kernelSize': 7, 'kernels': (14, 32, 4, 8, 4), 'n_channels': 3, 'n_epochs': 1000, 'numOfTrials': 1, 'patience': 50, 'training_count': 0.64, 'useZCAWhitening': False, 'validation_count': 0.16}\n",
      "{'batchSize': 200, 'imageDimension': 336, 'image_path': '/data/BGNN_data/INHS_cropped', 'kernelSize': 7, 'kernels': (8, 24, 6, 5, 6), 'n_channels': 1, 'n_epochs': 1000, 'numOfTrials': 1, 'patience': 50, 'training_count': 0.64, 'useZCAWhitening': True, 'validation_count': 0.16}\n",
      "{'batchSize': 200, 'imageDimension': 196, 'image_path': '/data/BGNN_data/INHS_cropped', 'kernelSize': 9, 'kernels': (10, 21, 12, 1, 6), 'n_channels': 3, 'n_epochs': 1000, 'numOfTrials': 1, 'patience': 50, 'training_count': 0.64, 'useZCAWhitening': False, 'validation_count': 0.16}\n",
      "{'batchSize': 200, 'imageDimension': 252, 'image_path': '/data/BGNN_data/INHS_cropped', 'kernelSize': 7, 'kernels': (11, 17, 2, 3, 6), 'n_channels': 1, 'n_epochs': 1000, 'numOfTrials': 1, 'patience': 50, 'training_count': 0.64, 'useZCAWhitening': False, 'validation_count': 0.16}\n",
      "{'batchSize': 200, 'imageDimension': 56, 'image_path': '/data/BGNN_data/INHS_cropped', 'kernelSize': 9, 'kernels': (14, 28, 7, 4, 1), 'n_channels': 3, 'n_epochs': 1000, 'numOfTrials': 1, 'patience': 50, 'training_count': 0.64, 'useZCAWhitening': True, 'validation_count': 0.16}\n",
      "{'batchSize': 200, 'imageDimension': 84, 'image_path': '/data/BGNN_data/INHS_cropped', 'kernelSize': 6, 'kernels': (11, 28, 1, 7, 5), 'n_channels': 3, 'n_epochs': 1000, 'numOfTrials': 1, 'patience': 50, 'training_count': 0.64, 'useZCAWhitening': False, 'validation_count': 0.16}\n",
      "{'batchSize': 200, 'imageDimension': 392, 'image_path': '/data/BGNN_data/INHS_cropped', 'kernelSize': 5, 'kernels': (15, 29, 2, 13, 6), 'n_channels': 1, 'n_epochs': 1000, 'numOfTrials': 1, 'patience': 50, 'training_count': 0.64, 'useZCAWhitening': False, 'validation_count': 0.16}\n",
      "{'batchSize': 200, 'imageDimension': 364, 'image_path': '/data/BGNN_data/INHS_cropped', 'kernelSize': 6, 'kernels': (13, 32, 2, 4, 12), 'n_channels': 3, 'n_epochs': 1000, 'numOfTrials': 1, 'patience': 50, 'training_count': 0.64, 'useZCAWhitening': False, 'validation_count': 0.16}\n",
      "{'batchSize': 200, 'imageDimension': 112, 'image_path': '/data/BGNN_data/INHS_cropped', 'kernelSize': 8, 'kernels': (13, 25, 9, 6, 11), 'n_channels': 1, 'n_epochs': 1000, 'numOfTrials': 1, 'patience': 50, 'training_count': 0.64, 'useZCAWhitening': False, 'validation_count': 0.16}\n",
      "{'batchSize': 200, 'imageDimension': 112, 'image_path': '/data/BGNN_data/INHS_cropped', 'kernelSize': 8, 'kernels': (14, 20, 7, 10, 2), 'n_channels': 3, 'n_epochs': 1000, 'numOfTrials': 1, 'patience': 50, 'training_count': 0.64, 'useZCAWhitening': False, 'validation_count': 0.16}\n",
      "{'batchSize': 200, 'imageDimension': 196, 'image_path': '/data/BGNN_data/INHS_cropped', 'kernelSize': 4, 'kernels': (14, 17, 2, 6, 2), 'n_channels': 3, 'n_epochs': 1000, 'numOfTrials': 1, 'patience': 50, 'training_count': 0.64, 'useZCAWhitening': False, 'validation_count': 0.16}\n",
      "{'batchSize': 200, 'imageDimension': 224, 'image_path': '/data/BGNN_data/INHS_cropped', 'kernelSize': 8, 'kernels': (10, 21, 2, 1, 2), 'n_channels': 3, 'n_epochs': 1000, 'numOfTrials': 1, 'patience': 50, 'training_count': 0.64, 'useZCAWhitening': False, 'validation_count': 0.16}\n",
      "{'batchSize': 200, 'imageDimension': 56, 'image_path': '/data/BGNN_data/INHS_cropped', 'kernelSize': 4, 'kernels': (10, 23, 5, 6, 3), 'n_channels': 3, 'n_epochs': 1000, 'numOfTrials': 1, 'patience': 50, 'training_count': 0.64, 'useZCAWhitening': False, 'validation_count': 0.16}\n",
      "{'batchSize': 200, 'imageDimension': 28, 'image_path': '/data/BGNN_data/INHS_cropped', 'kernelSize': 4, 'kernels': (9, 20, 11, 3, 6), 'n_channels': 3, 'n_epochs': 1000, 'numOfTrials': 1, 'patience': 50, 'training_count': 0.64, 'useZCAWhitening': True, 'validation_count': 0.16}\n",
      "{'batchSize': 200, 'imageDimension': 84, 'image_path': '/data/BGNN_data/INHS_cropped', 'kernelSize': 10, 'kernels': (15, 21, 4, 3, 2), 'n_channels': 1, 'n_epochs': 1000, 'numOfTrials': 1, 'patience': 50, 'training_count': 0.64, 'useZCAWhitening': True, 'validation_count': 0.16}\n",
      "{'batchSize': 200, 'imageDimension': 420, 'image_path': '/data/BGNN_data/INHS_cropped', 'kernelSize': 5, 'kernels': (14, 31, 6, 3, 8), 'n_channels': 1, 'n_epochs': 1000, 'numOfTrials': 1, 'patience': 50, 'training_count': 0.64, 'useZCAWhitening': True, 'validation_count': 0.16}\n",
      "{'batchSize': 200, 'imageDimension': 56, 'image_path': '/data/BGNN_data/INHS_cropped', 'kernelSize': 6, 'kernels': (13, 23, 4, 2, 6), 'n_channels': 3, 'n_epochs': 1000, 'numOfTrials': 1, 'patience': 50, 'training_count': 0.64, 'useZCAWhitening': False, 'validation_count': 0.16}\n"
     ]
    },
    {
     "name": "stdout",
     "output_type": "stream",
     "text": [
      "{'batchSize': 200, 'imageDimension': 336, 'image_path': '/data/BGNN_data/INHS_cropped', 'kernelSize': 6, 'kernels': (11, 30, 1, 2, 1), 'n_channels': 3, 'n_epochs': 1000, 'numOfTrials': 1, 'patience': 50, 'training_count': 0.64, 'useZCAWhitening': False, 'validation_count': 0.16}\n",
      "{'batchSize': 200, 'imageDimension': 308, 'image_path': '/data/BGNN_data/INHS_cropped', 'kernelSize': 4, 'kernels': (10, 24, 2, 2, 1), 'n_channels': 1, 'n_epochs': 1000, 'numOfTrials': 1, 'patience': 50, 'training_count': 0.64, 'useZCAWhitening': True, 'validation_count': 0.16}\n",
      "{'batchSize': 200, 'imageDimension': 252, 'image_path': '/data/BGNN_data/INHS_cropped', 'kernelSize': 4, 'kernels': (8, 25, 11, 14, 1), 'n_channels': 3, 'n_epochs': 1000, 'numOfTrials': 1, 'patience': 50, 'training_count': 0.64, 'useZCAWhitening': True, 'validation_count': 0.16}\n",
      "{'batchSize': 200, 'imageDimension': 84, 'image_path': '/data/BGNN_data/INHS_cropped', 'kernelSize': 10, 'kernels': (15, 31, 3, 8, 8), 'n_channels': 3, 'n_epochs': 1000, 'numOfTrials': 1, 'patience': 50, 'training_count': 0.64, 'useZCAWhitening': True, 'validation_count': 0.16}\n",
      "{'batchSize': 200, 'imageDimension': 420, 'image_path': '/data/BGNN_data/INHS_cropped', 'kernelSize': 9, 'kernels': (13, 19, 4, 4, 2), 'n_channels': 3, 'n_epochs': 1000, 'numOfTrials': 1, 'patience': 50, 'training_count': 0.64, 'useZCAWhitening': False, 'validation_count': 0.16}\n",
      "{'batchSize': 200, 'imageDimension': 224, 'image_path': '/data/BGNN_data/INHS_cropped', 'kernelSize': 6, 'kernels': (13, 32, 2, 10, 3), 'n_channels': 3, 'n_epochs': 1000, 'numOfTrials': 1, 'patience': 50, 'training_count': 0.64, 'useZCAWhitening': True, 'validation_count': 0.16}\n",
      "{'batchSize': 200, 'imageDimension': 308, 'image_path': '/data/BGNN_data/INHS_cropped', 'kernelSize': 5, 'kernels': (14, 17, 7, 6, 6), 'n_channels': 1, 'n_epochs': 1000, 'numOfTrials': 1, 'patience': 50, 'training_count': 0.64, 'useZCAWhitening': False, 'validation_count': 0.16}\n",
      "{'batchSize': 200, 'imageDimension': 252, 'image_path': '/data/BGNN_data/INHS_cropped', 'kernelSize': 5, 'kernels': (9, 16, 6, 2, 2), 'n_channels': 3, 'n_epochs': 1000, 'numOfTrials': 1, 'patience': 50, 'training_count': 0.64, 'useZCAWhitening': True, 'validation_count': 0.16}\n",
      "{'batchSize': 200, 'imageDimension': 28, 'image_path': '/data/BGNN_data/INHS_cropped', 'kernelSize': 5, 'kernels': (14, 29, 13, 1, 2), 'n_channels': 1, 'n_epochs': 1000, 'numOfTrials': 1, 'patience': 50, 'training_count': 0.64, 'useZCAWhitening': True, 'validation_count': 0.16}\n",
      "{'batchSize': 200, 'imageDimension': 392, 'image_path': '/data/BGNN_data/INHS_cropped', 'kernelSize': 5, 'kernels': (11, 30, 1, 5, 4), 'n_channels': 3, 'n_epochs': 1000, 'numOfTrials': 1, 'patience': 50, 'training_count': 0.64, 'useZCAWhitening': True, 'validation_count': 0.16}\n",
      "{'batchSize': 200, 'imageDimension': 252, 'image_path': '/data/BGNN_data/INHS_cropped', 'kernelSize': 6, 'kernels': (13, 28, 2, 7, 13), 'n_channels': 1, 'n_epochs': 1000, 'numOfTrials': 1, 'patience': 50, 'training_count': 0.64, 'useZCAWhitening': False, 'validation_count': 0.16}\n",
      "{'batchSize': 200, 'imageDimension': 140, 'image_path': '/data/BGNN_data/INHS_cropped', 'kernelSize': 9, 'kernels': (12, 17, 13, 15, 7), 'n_channels': 1, 'n_epochs': 1000, 'numOfTrials': 1, 'patience': 50, 'training_count': 0.64, 'useZCAWhitening': True, 'validation_count': 0.16}\n",
      "{'batchSize': 200, 'imageDimension': 56, 'image_path': '/data/BGNN_data/INHS_cropped', 'kernelSize': 4, 'kernels': (9, 20, 11, 3, 2), 'n_channels': 1, 'n_epochs': 1000, 'numOfTrials': 1, 'patience': 50, 'training_count': 0.64, 'useZCAWhitening': False, 'validation_count': 0.16}\n",
      "{'batchSize': 200, 'imageDimension': 140, 'image_path': '/data/BGNN_data/INHS_cropped', 'kernelSize': 3, 'kernels': (15, 22, 11, 4, 1), 'n_channels': 1, 'n_epochs': 1000, 'numOfTrials': 1, 'patience': 50, 'training_count': 0.64, 'useZCAWhitening': True, 'validation_count': 0.16}\n",
      "{'batchSize': 200, 'imageDimension': 420, 'image_path': '/data/BGNN_data/INHS_cropped', 'kernelSize': 10, 'kernels': (9, 26, 5, 2, 5), 'n_channels': 1, 'n_epochs': 1000, 'numOfTrials': 1, 'patience': 50, 'training_count': 0.64, 'useZCAWhitening': False, 'validation_count': 0.16}\n",
      "{'batchSize': 200, 'imageDimension': 28, 'image_path': '/data/BGNN_data/INHS_cropped', 'kernelSize': 4, 'kernels': (9, 23, 2, 2, 6), 'n_channels': 1, 'n_epochs': 1000, 'numOfTrials': 1, 'patience': 50, 'training_count': 0.64, 'useZCAWhitening': False, 'validation_count': 0.16}\n",
      "{'batchSize': 200, 'imageDimension': 420, 'image_path': '/data/BGNN_data/INHS_cropped', 'kernelSize': 3, 'kernels': (11, 22, 6, 2, 3), 'n_channels': 3, 'n_epochs': 1000, 'numOfTrials': 1, 'patience': 50, 'training_count': 0.64, 'useZCAWhitening': False, 'validation_count': 0.16}\n",
      "{'batchSize': 200, 'imageDimension': 224, 'image_path': '/data/BGNN_data/INHS_cropped', 'kernelSize': 7, 'kernels': (10, 27, 1, 3, 2), 'n_channels': 3, 'n_epochs': 1000, 'numOfTrials': 1, 'patience': 50, 'training_count': 0.64, 'useZCAWhitening': True, 'validation_count': 0.16}\n",
      "{'batchSize': 200, 'imageDimension': 364, 'image_path': '/data/BGNN_data/INHS_cropped', 'kernelSize': 5, 'kernels': (9, 22, 2, 2, 7), 'n_channels': 1, 'n_epochs': 1000, 'numOfTrials': 1, 'patience': 50, 'training_count': 0.64, 'useZCAWhitening': True, 'validation_count': 0.16}\n",
      "{'batchSize': 200, 'imageDimension': 28, 'image_path': '/data/BGNN_data/INHS_cropped', 'kernelSize': 9, 'kernels': (14, 27, 1, 5, 2), 'n_channels': 1, 'n_epochs': 1000, 'numOfTrials': 1, 'patience': 50, 'training_count': 0.64, 'useZCAWhitening': False, 'validation_count': 0.16}\n",
      "{'batchSize': 200, 'imageDimension': 224, 'image_path': '/data/BGNN_data/INHS_cropped', 'kernelSize': 4, 'kernels': (9, 30, 3, 1, 11), 'n_channels': 3, 'n_epochs': 1000, 'numOfTrials': 1, 'patience': 50, 'training_count': 0.64, 'useZCAWhitening': False, 'validation_count': 0.16}\n",
      "{'batchSize': 200, 'imageDimension': 280, 'image_path': '/data/BGNN_data/INHS_cropped', 'kernelSize': 4, 'kernels': (13, 30, 1, 13, 2), 'n_channels': 3, 'n_epochs': 1000, 'numOfTrials': 1, 'patience': 50, 'training_count': 0.64, 'useZCAWhitening': False, 'validation_count': 0.16}\n",
      "{'batchSize': 200, 'imageDimension': 112, 'image_path': '/data/BGNN_data/INHS_cropped', 'kernelSize': 4, 'kernels': (16, 19, 7, 3, 8), 'n_channels': 3, 'n_epochs': 1000, 'numOfTrials': 1, 'patience': 50, 'training_count': 0.64, 'useZCAWhitening': False, 'validation_count': 0.16}\n",
      "{'batchSize': 200, 'imageDimension': 84, 'image_path': '/data/BGNN_data/INHS_cropped', 'kernelSize': 5, 'kernels': (14, 21, 15, 8, 2), 'n_channels': 1, 'n_epochs': 1000, 'numOfTrials': 1, 'patience': 50, 'training_count': 0.64, 'useZCAWhitening': False, 'validation_count': 0.16}\n",
      "{'batchSize': 200, 'imageDimension': 392, 'image_path': '/data/BGNN_data/INHS_cropped', 'kernelSize': 10, 'kernels': (9, 21, 3, 13, 5), 'n_channels': 1, 'n_epochs': 1000, 'numOfTrials': 1, 'patience': 50, 'training_count': 0.64, 'useZCAWhitening': False, 'validation_count': 0.16}\n",
      "{'batchSize': 200, 'imageDimension': 112, 'image_path': '/data/BGNN_data/INHS_cropped', 'kernelSize': 6, 'kernels': (15, 19, 2, 1, 6), 'n_channels': 3, 'n_epochs': 1000, 'numOfTrials': 1, 'patience': 50, 'training_count': 0.64, 'useZCAWhitening': False, 'validation_count': 0.16}\n",
      "{'batchSize': 200, 'imageDimension': 56, 'image_path': '/data/BGNN_data/INHS_cropped', 'kernelSize': 7, 'kernels': (11, 31, 2, 3, 3), 'n_channels': 3, 'n_epochs': 1000, 'numOfTrials': 1, 'patience': 50, 'training_count': 0.64, 'useZCAWhitening': False, 'validation_count': 0.16}\n",
      "{'batchSize': 200, 'imageDimension': 140, 'image_path': '/data/BGNN_data/INHS_cropped', 'kernelSize': 5, 'kernels': (9, 24, 2, 3, 2), 'n_channels': 1, 'n_epochs': 1000, 'numOfTrials': 1, 'patience': 50, 'training_count': 0.64, 'useZCAWhitening': False, 'validation_count': 0.16}\n",
      "{'batchSize': 200, 'imageDimension': 364, 'image_path': '/data/BGNN_data/INHS_cropped', 'kernelSize': 8, 'kernels': (13, 17, 4, 7, 6), 'n_channels': 1, 'n_epochs': 1000, 'numOfTrials': 1, 'patience': 50, 'training_count': 0.64, 'useZCAWhitening': False, 'validation_count': 0.16}\n",
      "{'batchSize': 200, 'imageDimension': 224, 'image_path': '/data/BGNN_data/INHS_cropped', 'kernelSize': 5, 'kernels': (13, 24, 2, 6, 3), 'n_channels': 3, 'n_epochs': 1000, 'numOfTrials': 1, 'patience': 50, 'training_count': 0.64, 'useZCAWhitening': False, 'validation_count': 0.16}\n"
     ]
    },
    {
     "name": "stdout",
     "output_type": "stream",
     "text": [
      "{'batchSize': 200, 'imageDimension': 364, 'image_path': '/data/BGNN_data/INHS_cropped', 'kernelSize': 6, 'kernels': (15, 24, 3, 11, 15), 'n_channels': 3, 'n_epochs': 1000, 'numOfTrials': 1, 'patience': 50, 'training_count': 0.64, 'useZCAWhitening': True, 'validation_count': 0.16}\n",
      "{'batchSize': 200, 'imageDimension': 392, 'image_path': '/data/BGNN_data/INHS_cropped', 'kernelSize': 8, 'kernels': (11, 20, 2, 2, 8), 'n_channels': 3, 'n_epochs': 1000, 'numOfTrials': 1, 'patience': 50, 'training_count': 0.64, 'useZCAWhitening': False, 'validation_count': 0.16}\n",
      "{'batchSize': 200, 'imageDimension': 252, 'image_path': '/data/BGNN_data/INHS_cropped', 'kernelSize': 6, 'kernels': (10, 24, 3, 2, 13), 'n_channels': 1, 'n_epochs': 1000, 'numOfTrials': 1, 'patience': 50, 'training_count': 0.64, 'useZCAWhitening': False, 'validation_count': 0.16}\n",
      "{'batchSize': 200, 'imageDimension': 308, 'image_path': '/data/BGNN_data/INHS_cropped', 'kernelSize': 6, 'kernels': (10, 24, 2, 2, 5), 'n_channels': 3, 'n_epochs': 1000, 'numOfTrials': 1, 'patience': 50, 'training_count': 0.64, 'useZCAWhitening': True, 'validation_count': 0.16}\n",
      "{'batchSize': 200, 'imageDimension': 308, 'image_path': '/data/BGNN_data/INHS_cropped', 'kernelSize': 4, 'kernels': (10, 21, 7, 2, 5), 'n_channels': 1, 'n_epochs': 1000, 'numOfTrials': 1, 'patience': 50, 'training_count': 0.64, 'useZCAWhitening': True, 'validation_count': 0.16}\n",
      "{'batchSize': 200, 'imageDimension': 308, 'image_path': '/data/BGNN_data/INHS_cropped', 'kernelSize': 4, 'kernels': (8, 27, 2, 16, 2), 'n_channels': 1, 'n_epochs': 1000, 'numOfTrials': 1, 'patience': 50, 'training_count': 0.64, 'useZCAWhitening': False, 'validation_count': 0.16}\n",
      "{'batchSize': 200, 'imageDimension': 140, 'image_path': '/data/BGNN_data/INHS_cropped', 'kernelSize': 9, 'kernels': (11, 18, 1, 14, 4), 'n_channels': 3, 'n_epochs': 1000, 'numOfTrials': 1, 'patience': 50, 'training_count': 0.64, 'useZCAWhitening': True, 'validation_count': 0.16}\n",
      "{'batchSize': 200, 'imageDimension': 196, 'image_path': '/data/BGNN_data/INHS_cropped', 'kernelSize': 4, 'kernels': (13, 21, 1, 7, 2), 'n_channels': 3, 'n_epochs': 1000, 'numOfTrials': 1, 'patience': 50, 'training_count': 0.64, 'useZCAWhitening': True, 'validation_count': 0.16}\n",
      "{'batchSize': 200, 'imageDimension': 252, 'image_path': '/data/BGNN_data/INHS_cropped', 'kernelSize': 7, 'kernels': (13, 32, 1, 3, 1), 'n_channels': 1, 'n_epochs': 1000, 'numOfTrials': 1, 'patience': 50, 'training_count': 0.64, 'useZCAWhitening': False, 'validation_count': 0.16}\n",
      "{'batchSize': 200, 'imageDimension': 280, 'image_path': '/data/BGNN_data/INHS_cropped', 'kernelSize': 5, 'kernels': (14, 25, 10, 2, 3), 'n_channels': 1, 'n_epochs': 1000, 'numOfTrials': 1, 'patience': 50, 'training_count': 0.64, 'useZCAWhitening': True, 'validation_count': 0.16}\n",
      "{'batchSize': 200, 'imageDimension': 224, 'image_path': '/data/BGNN_data/INHS_cropped', 'kernelSize': 8, 'kernels': (11, 27, 9, 3, 1), 'n_channels': 1, 'n_epochs': 1000, 'numOfTrials': 1, 'patience': 50, 'training_count': 0.64, 'useZCAWhitening': True, 'validation_count': 0.16}\n",
      "{'batchSize': 200, 'imageDimension': 224, 'image_path': '/data/BGNN_data/INHS_cropped', 'kernelSize': 5, 'kernels': (9, 21, 15, 3, 2), 'n_channels': 1, 'n_epochs': 1000, 'numOfTrials': 1, 'patience': 50, 'training_count': 0.64, 'useZCAWhitening': False, 'validation_count': 0.16}\n",
      "{'batchSize': 200, 'imageDimension': 84, 'image_path': '/data/BGNN_data/INHS_cropped', 'kernelSize': 5, 'kernels': (8, 30, 11, 1, 5), 'n_channels': 3, 'n_epochs': 1000, 'numOfTrials': 1, 'patience': 50, 'training_count': 0.64, 'useZCAWhitening': False, 'validation_count': 0.16}\n",
      "{'batchSize': 200, 'imageDimension': 196, 'image_path': '/data/BGNN_data/INHS_cropped', 'kernelSize': 5, 'kernels': (10, 19, 4, 14, 3), 'n_channels': 3, 'n_epochs': 1000, 'numOfTrials': 1, 'patience': 50, 'training_count': 0.64, 'useZCAWhitening': True, 'validation_count': 0.16}\n",
      "{'batchSize': 200, 'imageDimension': 336, 'image_path': '/data/BGNN_data/INHS_cropped', 'kernelSize': 4, 'kernels': (11, 16, 2, 5, 4), 'n_channels': 1, 'n_epochs': 1000, 'numOfTrials': 1, 'patience': 50, 'training_count': 0.64, 'useZCAWhitening': True, 'validation_count': 0.16}\n",
      "{'batchSize': 200, 'imageDimension': 336, 'image_path': '/data/BGNN_data/INHS_cropped', 'kernelSize': 4, 'kernels': (9, 23, 1, 6, 1), 'n_channels': 1, 'n_epochs': 1000, 'numOfTrials': 1, 'patience': 50, 'training_count': 0.64, 'useZCAWhitening': False, 'validation_count': 0.16}\n",
      "{'batchSize': 200, 'imageDimension': 280, 'image_path': '/data/BGNN_data/INHS_cropped', 'kernelSize': 8, 'kernels': (12, 19, 5, 9, 9), 'n_channels': 1, 'n_epochs': 1000, 'numOfTrials': 1, 'patience': 50, 'training_count': 0.64, 'useZCAWhitening': True, 'validation_count': 0.16}\n",
      "{'batchSize': 200, 'imageDimension': 168, 'image_path': '/data/BGNN_data/INHS_cropped', 'kernelSize': 6, 'kernels': (16, 31, 1, 6, 1), 'n_channels': 3, 'n_epochs': 1000, 'numOfTrials': 1, 'patience': 50, 'training_count': 0.64, 'useZCAWhitening': True, 'validation_count': 0.16}\n",
      "{'batchSize': 200, 'imageDimension': 392, 'image_path': '/data/BGNN_data/INHS_cropped', 'kernelSize': 8, 'kernels': (15, 31, 1, 3, 6), 'n_channels': 1, 'n_epochs': 1000, 'numOfTrials': 1, 'patience': 50, 'training_count': 0.64, 'useZCAWhitening': True, 'validation_count': 0.16}\n",
      "{'batchSize': 200, 'imageDimension': 140, 'image_path': '/data/BGNN_data/INHS_cropped', 'kernelSize': 5, 'kernels': (14, 26, 4, 3, 4), 'n_channels': 1, 'n_epochs': 1000, 'numOfTrials': 1, 'patience': 50, 'training_count': 0.64, 'useZCAWhitening': False, 'validation_count': 0.16}\n",
      "{'batchSize': 200, 'imageDimension': 392, 'image_path': '/data/BGNN_data/INHS_cropped', 'kernelSize': 9, 'kernels': (13, 25, 2, 2, 2), 'n_channels': 1, 'n_epochs': 1000, 'numOfTrials': 1, 'patience': 50, 'training_count': 0.64, 'useZCAWhitening': False, 'validation_count': 0.16}\n",
      "{'batchSize': 200, 'imageDimension': 420, 'image_path': '/data/BGNN_data/INHS_cropped', 'kernelSize': 10, 'kernels': (11, 21, 4, 1, 5), 'n_channels': 1, 'n_epochs': 1000, 'numOfTrials': 1, 'patience': 50, 'training_count': 0.64, 'useZCAWhitening': True, 'validation_count': 0.16}\n",
      "{'batchSize': 200, 'imageDimension': 196, 'image_path': '/data/BGNN_data/INHS_cropped', 'kernelSize': 8, 'kernels': (13, 23, 3, 2, 5), 'n_channels': 3, 'n_epochs': 1000, 'numOfTrials': 1, 'patience': 50, 'training_count': 0.64, 'useZCAWhitening': False, 'validation_count': 0.16}\n",
      "{'batchSize': 200, 'imageDimension': 112, 'image_path': '/data/BGNN_data/INHS_cropped', 'kernelSize': 9, 'kernels': (9, 26, 7, 11, 3), 'n_channels': 1, 'n_epochs': 1000, 'numOfTrials': 1, 'patience': 50, 'training_count': 0.64, 'useZCAWhitening': False, 'validation_count': 0.16}\n",
      "{'batchSize': 200, 'imageDimension': 168, 'image_path': '/data/BGNN_data/INHS_cropped', 'kernelSize': 3, 'kernels': (13, 22, 14, 2, 8), 'n_channels': 1, 'n_epochs': 1000, 'numOfTrials': 1, 'patience': 50, 'training_count': 0.64, 'useZCAWhitening': False, 'validation_count': 0.16}\n",
      "{'batchSize': 200, 'imageDimension': 420, 'image_path': '/data/BGNN_data/INHS_cropped', 'kernelSize': 8, 'kernels': (15, 25, 1, 7, 4), 'n_channels': 1, 'n_epochs': 1000, 'numOfTrials': 1, 'patience': 50, 'training_count': 0.64, 'useZCAWhitening': False, 'validation_count': 0.16}\n",
      "{'batchSize': 200, 'imageDimension': 84, 'image_path': '/data/BGNN_data/INHS_cropped', 'kernelSize': 9, 'kernels': (12, 24, 8, 12, 3), 'n_channels': 3, 'n_epochs': 1000, 'numOfTrials': 1, 'patience': 50, 'training_count': 0.64, 'useZCAWhitening': False, 'validation_count': 0.16}\n",
      "{'batchSize': 200, 'imageDimension': 56, 'image_path': '/data/BGNN_data/INHS_cropped', 'kernelSize': 3, 'kernels': (14, 20, 4, 4, 2), 'n_channels': 1, 'n_epochs': 1000, 'numOfTrials': 1, 'patience': 50, 'training_count': 0.64, 'useZCAWhitening': False, 'validation_count': 0.16}\n",
      "{'batchSize': 200, 'imageDimension': 168, 'image_path': '/data/BGNN_data/INHS_cropped', 'kernelSize': 6, 'kernels': (13, 20, 1, 12, 6), 'n_channels': 1, 'n_epochs': 1000, 'numOfTrials': 1, 'patience': 50, 'training_count': 0.64, 'useZCAWhitening': False, 'validation_count': 0.16}\n",
      "{'batchSize': 200, 'imageDimension': 392, 'image_path': '/data/BGNN_data/INHS_cropped', 'kernelSize': 7, 'kernels': (12, 26, 15, 6, 8), 'n_channels': 3, 'n_epochs': 1000, 'numOfTrials': 1, 'patience': 50, 'training_count': 0.64, 'useZCAWhitening': False, 'validation_count': 0.16}\n"
     ]
    },
    {
     "name": "stdout",
     "output_type": "stream",
     "text": [
      "{'batchSize': 200, 'imageDimension': 84, 'image_path': '/data/BGNN_data/INHS_cropped', 'kernelSize': 9, 'kernels': (10, 22, 2, 2, 2), 'n_channels': 3, 'n_epochs': 1000, 'numOfTrials': 1, 'patience': 50, 'training_count': 0.64, 'useZCAWhitening': True, 'validation_count': 0.16}\n",
      "{'batchSize': 200, 'imageDimension': 224, 'image_path': '/data/BGNN_data/INHS_cropped', 'kernelSize': 5, 'kernels': (10, 20, 14, 2, 2), 'n_channels': 3, 'n_epochs': 1000, 'numOfTrials': 1, 'patience': 50, 'training_count': 0.64, 'useZCAWhitening': True, 'validation_count': 0.16}\n",
      "{'batchSize': 200, 'imageDimension': 168, 'image_path': '/data/BGNN_data/INHS_cropped', 'kernelSize': 6, 'kernels': (13, 28, 8, 2, 2), 'n_channels': 3, 'n_epochs': 1000, 'numOfTrials': 1, 'patience': 50, 'training_count': 0.64, 'useZCAWhitening': True, 'validation_count': 0.16}\n",
      "{'batchSize': 200, 'imageDimension': 84, 'image_path': '/data/BGNN_data/INHS_cropped', 'kernelSize': 8, 'kernels': (12, 26, 14, 2, 1), 'n_channels': 1, 'n_epochs': 1000, 'numOfTrials': 1, 'patience': 50, 'training_count': 0.64, 'useZCAWhitening': True, 'validation_count': 0.16}\n",
      "{'batchSize': 200, 'imageDimension': 140, 'image_path': '/data/BGNN_data/INHS_cropped', 'kernelSize': 8, 'kernels': (8, 27, 1, 1, 4), 'n_channels': 1, 'n_epochs': 1000, 'numOfTrials': 1, 'patience': 50, 'training_count': 0.64, 'useZCAWhitening': True, 'validation_count': 0.16}\n",
      "{'batchSize': 200, 'imageDimension': 308, 'image_path': '/data/BGNN_data/INHS_cropped', 'kernelSize': 9, 'kernels': (8, 27, 4, 4, 2), 'n_channels': 1, 'n_epochs': 1000, 'numOfTrials': 1, 'patience': 50, 'training_count': 0.64, 'useZCAWhitening': False, 'validation_count': 0.16}\n",
      "{'batchSize': 200, 'imageDimension': 84, 'image_path': '/data/BGNN_data/INHS_cropped', 'kernelSize': 10, 'kernels': (14, 22, 8, 6, 14), 'n_channels': 1, 'n_epochs': 1000, 'numOfTrials': 1, 'patience': 50, 'training_count': 0.64, 'useZCAWhitening': True, 'validation_count': 0.16}\n",
      "{'batchSize': 200, 'imageDimension': 308, 'image_path': '/data/BGNN_data/INHS_cropped', 'kernelSize': 7, 'kernels': (16, 22, 1, 3, 8), 'n_channels': 1, 'n_epochs': 1000, 'numOfTrials': 1, 'patience': 50, 'training_count': 0.64, 'useZCAWhitening': True, 'validation_count': 0.16}\n",
      "{'batchSize': 200, 'imageDimension': 336, 'image_path': '/data/BGNN_data/INHS_cropped', 'kernelSize': 7, 'kernels': (8, 23, 8, 7, 7), 'n_channels': 3, 'n_epochs': 1000, 'numOfTrials': 1, 'patience': 50, 'training_count': 0.64, 'useZCAWhitening': False, 'validation_count': 0.16}\n",
      "{'batchSize': 200, 'imageDimension': 252, 'image_path': '/data/BGNN_data/INHS_cropped', 'kernelSize': 7, 'kernels': (8, 26, 11, 1, 4), 'n_channels': 3, 'n_epochs': 1000, 'numOfTrials': 1, 'patience': 50, 'training_count': 0.64, 'useZCAWhitening': False, 'validation_count': 0.16}\n",
      "{'batchSize': 200, 'imageDimension': 84, 'image_path': '/data/BGNN_data/INHS_cropped', 'kernelSize': 3, 'kernels': (13, 23, 4, 3, 3), 'n_channels': 1, 'n_epochs': 1000, 'numOfTrials': 1, 'patience': 50, 'training_count': 0.64, 'useZCAWhitening': True, 'validation_count': 0.16}\n",
      "{'batchSize': 200, 'imageDimension': 196, 'image_path': '/data/BGNN_data/INHS_cropped', 'kernelSize': 10, 'kernels': (10, 18, 2, 10, 8), 'n_channels': 1, 'n_epochs': 1000, 'numOfTrials': 1, 'patience': 50, 'training_count': 0.64, 'useZCAWhitening': False, 'validation_count': 0.16}\n",
      "{'batchSize': 200, 'imageDimension': 84, 'image_path': '/data/BGNN_data/INHS_cropped', 'kernelSize': 5, 'kernels': (14, 24, 13, 2, 7), 'n_channels': 1, 'n_epochs': 1000, 'numOfTrials': 1, 'patience': 50, 'training_count': 0.64, 'useZCAWhitening': False, 'validation_count': 0.16}\n",
      "{'batchSize': 200, 'imageDimension': 364, 'image_path': '/data/BGNN_data/INHS_cropped', 'kernelSize': 7, 'kernels': (11, 27, 8, 3, 10), 'n_channels': 1, 'n_epochs': 1000, 'numOfTrials': 1, 'patience': 50, 'training_count': 0.64, 'useZCAWhitening': False, 'validation_count': 0.16}\n",
      "100%|██████████| 100/100 [00:00<00:00, 210.61trial/s, best loss: 1.0]\n"
     ]
    },
    {
     "data": {
      "text/plain": [
       "{'batchSize': 0,\n",
       " 'imageDimension': 168.0,\n",
       " 'image_path': 0,\n",
       " 'kernelSize': 4.0,\n",
       " 'kernels1': 11.0,\n",
       " 'kernels2': 32.0,\n",
       " 'kernels3': 3.0,\n",
       " 'kernels4': 8.0,\n",
       " 'kernels5': 10.0,\n",
       " 'n_channels': 0,\n",
       " 'n_epochs': 0,\n",
       " 'numOfTrials': 0,\n",
       " 'patience': 0,\n",
       " 'training_count': 0,\n",
       " 'useZCAWhitening': 0,\n",
       " 'validation_count': 0}"
      ]
     },
     "execution_count": 9,
     "metadata": {},
     "output_type": "execute_result"
    }
   ],
   "source": [
    "hyperp_obj = cp.getHyperpSearchObject()\n",
    "print(hyperp_obj)\n",
    "\n",
    "def objective(experiment_params):\n",
    "    print(experiment_params)\n",
    "    dummyObjective = 1\n",
    "    return dummyObjective\n",
    "\n",
    "fmin(objective,\n",
    "     space=hyperp_obj,\n",
    "     algo=rand.suggest, \n",
    "     max_evals=numOfExperiments)"
   ]
  },
  {
   "cell_type": "code",
   "execution_count": null,
   "metadata": {},
   "outputs": [],
   "source": []
  }
 ],
 "metadata": {
  "kernelspec": {
   "display_name": "Python 3",
   "language": "python",
   "name": "python3"
  },
  "language_info": {
   "codemirror_mode": {
    "name": "ipython",
    "version": 3
   },
   "file_extension": ".py",
   "mimetype": "text/x-python",
   "name": "python",
   "nbconvert_exporter": "python",
   "pygments_lexer": "ipython3",
   "version": "3.6.9"
  }
 },
 "nbformat": 4,
 "nbformat_minor": 2
}
