{
 "cells": [
  {
   "cell_type": "markdown",
   "metadata": {},
   "source": [
    "Imports"
   ]
  },
  {
   "cell_type": "code",
   "execution_count": 1,
   "metadata": {},
   "outputs": [],
   "source": [
    "from configParser import ConfigParser, getModelName, getDatasetName"
   ]
  },
  {
   "cell_type": "markdown",
   "metadata": {},
   "source": [
    "Parameters"
   ]
  },
  {
   "cell_type": "code",
   "execution_count": 2,
   "metadata": {},
   "outputs": [],
   "source": [
    "experimentName = \"test_22987_suffix50_11_CNN2_try_noaugmentation_DistributedDataParallel\"\n",
    "numOfExperiments=100\n",
    "\n",
    "params = {\n",
    "    # Do not use for multi/hyperp experiments\n",
    "    \"image_path\": \"/data/BGNN_data/INHS_cropped\",\n",
    "    \"suffix\": '50_11', # used to get a subset cleaned_metadata file. set to None otherwise to use full metadata\n",
    "    \n",
    "    # dataset\n",
    "    \"training_count\":0.64,\n",
    "    \"validation_count\":0.16,\n",
    "    \"useHeirarchy\": False,\n",
    "    \n",
    "    # image\n",
    "    \"imageDimension\": 224,\n",
    "    \"n_channels\": 3,\n",
    "    \"augmentation\": False,\n",
    "\n",
    "    # training\n",
    "    \"batchSize\":200,\n",
    "    \"n_epochs\":1000,\n",
    "    \"learning_rate\":0.001,\n",
    "    \"numOfTrials\":3,\n",
    "    \"patience\": 100,\n",
    "}\n"
   ]
  },
  {
   "cell_type": "markdown",
   "metadata": {},
   "source": [
    "Create file"
   ]
  },
  {
   "cell_type": "code",
   "execution_count": 3,
   "metadata": {},
   "outputs": [
    {
     "data": {
      "text/plain": [
       "'test_22987_suffix50_11_CNN2_try_noaugmentation_DistributedDataParallel/params.json'"
      ]
     },
     "execution_count": 3,
     "metadata": {},
     "output_type": "execute_result"
    }
   ],
   "source": [
    "cp = ConfigParser(experimentName)\n",
    "\n",
    "cp.write(params)"
   ]
  },
  {
   "cell_type": "markdown",
   "metadata": {},
   "source": [
    "Read file"
   ]
  },
  {
   "cell_type": "code",
   "execution_count": 4,
   "metadata": {},
   "outputs": [
    {
     "name": "stdout",
     "output_type": "stream",
     "text": [
      "{'image_path': '/data/BGNN_data/INHS_cropped', 'suffix': '50_11', 'training_count': 0.64, 'validation_count': 0.16, 'useHeirarchy': False, 'imageDimension': 224, 'n_channels': 3, 'augmentation': False, 'batchSize': 200, 'n_epochs': 1000, 'learning_rate': 0.001, 'numOfTrials': 3, 'patience': 100}\n"
     ]
    }
   ],
   "source": [
    "j = cp.read()\n",
    "print(j)"
   ]
  },
  {
   "cell_type": "markdown",
   "metadata": {},
   "source": [
    "Create hyperp"
   ]
  },
  {
   "cell_type": "code",
   "execution_count": 5,
   "metadata": {},
   "outputs": [
    {
     "data": {
      "text/plain": [
       "'test_22987_suffix50_11_CNN2_try_noaugmentation_DistributedDataParallel/hyperp_params.json'"
      ]
     },
     "execution_count": 5,
     "metadata": {},
     "output_type": "execute_result"
    }
   ],
   "source": [
    "hyperp_params = {\n",
    "#     \"imageDimension\": [28, 56],\n",
    "#     \"n_channels\": [1, 3],\n",
    "#     \"kernelSize\": [5, 9],\n",
    "#     \"useZCAWhitening\": [False, True],\n",
    "    \"patience\": [50, 100],\n",
    "#     \"batchSize\": [50, 200, 550],\n",
    "    \"useHeirarchy\": [True, False]\n",
    "}\n",
    "\n",
    "cp.writeHyperp(hyperp_params)"
   ]
  },
  {
   "cell_type": "markdown",
   "metadata": {},
   "source": [
    "Get experiments"
   ]
  },
  {
   "cell_type": "code",
   "execution_count": 6,
   "metadata": {},
   "outputs": [
    {
     "name": "stdout",
     "output_type": "stream",
     "text": [
      "{'image_path': '/data/BGNN_data/INHS_cropped', 'suffix': '50_11', 'training_count': 0.64, 'validation_count': 0.16, 'useHeirarchy': True, 'imageDimension': 224, 'n_channels': 3, 'augmentation': False, 'batchSize': 200, 'n_epochs': 1000, 'learning_rate': 0.001, 'numOfTrials': 3, 'patience': 50}\n",
      "{'image_path': '/data/BGNN_data/INHS_cropped', 'suffix': '50_11', 'training_count': 0.64, 'validation_count': 0.16, 'useHeirarchy': False, 'imageDimension': 224, 'n_channels': 3, 'augmentation': False, 'batchSize': 200, 'n_epochs': 1000, 'learning_rate': 0.001, 'numOfTrials': 3, 'patience': 50}\n",
      "{'image_path': '/data/BGNN_data/INHS_cropped', 'suffix': '50_11', 'training_count': 0.64, 'validation_count': 0.16, 'useHeirarchy': True, 'imageDimension': 224, 'n_channels': 3, 'augmentation': False, 'batchSize': 200, 'n_epochs': 1000, 'learning_rate': 0.001, 'numOfTrials': 3, 'patience': 100}\n",
      "{'image_path': '/data/BGNN_data/INHS_cropped', 'suffix': '50_11', 'training_count': 0.64, 'validation_count': 0.16, 'useHeirarchy': False, 'imageDimension': 224, 'n_channels': 3, 'augmentation': False, 'batchSize': 200, 'n_epochs': 1000, 'learning_rate': 0.001, 'numOfTrials': 3, 'patience': 100}\n"
     ]
    }
   ],
   "source": [
    "for i in cp.getHyperpIter():\n",
    "    print(i)"
   ]
  },
  {
   "cell_type": "markdown",
   "metadata": {},
   "source": [
    "Model name"
   ]
  },
  {
   "cell_type": "code",
   "execution_count": 7,
   "metadata": {},
   "outputs": [
    {
     "name": "stdout",
     "output_type": "stream",
     "text": [
      "tc0.640000_vc0.160000_d224_c3_cFalseug_bs200_e1000_p100_lr0.001000_hFalse\n",
      "tc0.640000_vc0.160000_d224_c3_cFalseug\n"
     ]
    }
   ],
   "source": [
    "print(getModelName(j))\n",
    "print(getDatasetName(j))"
   ]
  },
  {
   "cell_type": "markdown",
   "metadata": {},
   "source": [
    "Hyperp search write"
   ]
  },
  {
   "cell_type": "code",
   "execution_count": 8,
   "metadata": {},
   "outputs": [
    {
     "data": {
      "text/plain": [
       "'test_22987_suffix50_11_CNN2_try_noaugmentation_DistributedDataParallel/hyperp_search_params.pkl'"
      ]
     },
     "execution_count": 8,
     "metadata": {},
     "output_type": "execute_result"
    }
   ],
   "source": [
    "from hyperopt import fmin, hp, rand, tpe\n",
    "from hyperopt.pyll.base import scope\n",
    "import math\n",
    "\n",
    "useRandomSearch = True\n",
    "hyperp_search_params = {\n",
    "#     \"kernels\": [ scope.int(hp.quniform('kernels1', 8, 16, 1)),\n",
    "#                 scope.int(hp.quniform('kernels2', 16, 32, 1)),\n",
    "#                 scope.int(hp.qloguniform('kernels3', math.log(1), math.log(16), 1)),\n",
    "#                 scope.int(hp.qloguniform('kernels4', math.log(1), math.log(16), 1)),\n",
    "#                 scope.int(hp.qloguniform('kernels5', math.log(1), math.log(16), 1))],\n",
    "#     \"kernelSize\": scope.int(hp.quniform('kernelSize', 3, 10, 1)), \n",
    "    # \"useZCAWhitening\": hp.choice('useZCAWhitening', [False, True]), \n",
    "#     \"n_channels\": scope.int(hp.choice('n_channels', [1, 3])), \n",
    "#     \"imageDimension\": scope.int(hp.quniform('imageDimension', 28, 420, 28)),\n",
    "    \"batchSize\": scope.int(hp.quniform('batchSize', 50, 550, 50)),\n",
    "    \"learning_rate\": hp.loguniform('learning_rate', math.log(0.0001), math.log(0.01)),\n",
    "    \"patience\": scope.int(hp.quniform('patience', 50, 500, 25)),\n",
    "}\n",
    "\n",
    "cp.writeHyperpSearch(hyperp_search_params)"
   ]
  },
  {
   "cell_type": "markdown",
   "metadata": {},
   "source": [
    "Hyperp search read"
   ]
  },
  {
   "cell_type": "code",
   "execution_count": 9,
   "metadata": {},
   "outputs": [
    {
     "name": "stdout",
     "output_type": "stream",
     "text": [
      "{'batchSize': <hyperopt.pyll.base.Apply object at 0x7f6d5a6f8a58>, 'learning_rate': <hyperopt.pyll.base.Apply object at 0x7f6d5a6ff160>, 'patience': <hyperopt.pyll.base.Apply object at 0x7f6d5a6ff2b0>, 'image_path': <hyperopt.pyll.base.Apply object at 0x7f6d5a6f8898>, 'suffix': <hyperopt.pyll.base.Apply object at 0x7f6d5a6ff588>, 'training_count': <hyperopt.pyll.base.Apply object at 0x7f6d5a6ff6d8>, 'validation_count': <hyperopt.pyll.base.Apply object at 0x7f6d5a6ff828>, 'useHeirarchy': <hyperopt.pyll.base.Apply object at 0x7f6d5a6ff978>, 'imageDimension': <hyperopt.pyll.base.Apply object at 0x7f6d5a6ffac8>, 'n_channels': <hyperopt.pyll.base.Apply object at 0x7f6d5a6ffc18>, 'augmentation': <hyperopt.pyll.base.Apply object at 0x7f6d5a6ffd68>, 'n_epochs': <hyperopt.pyll.base.Apply object at 0x7f6d5a6ffeb8>, 'numOfTrials': <hyperopt.pyll.base.Apply object at 0x7f6d5a689048>}\n",
      "{'augmentation': False, 'batchSize': 400, 'imageDimension': 224, 'image_path': '/data/BGNN_data/INHS_cropped', 'learning_rate': 0.0009064673896219292, 'n_channels': 3, 'n_epochs': 1000, 'numOfTrials': 3, 'patience': 50, 'suffix': '50_11', 'training_count': 0.64, 'useHeirarchy': False, 'validation_count': 0.16}\n",
      "{'augmentation': False, 'batchSize': 100, 'imageDimension': 224, 'image_path': '/data/BGNN_data/INHS_cropped', 'learning_rate': 0.0015964483710998144, 'n_channels': 3, 'n_epochs': 1000, 'numOfTrials': 3, 'patience': 375, 'suffix': '50_11', 'training_count': 0.64, 'useHeirarchy': False, 'validation_count': 0.16}\n",
      "{'augmentation': False, 'batchSize': 250, 'imageDimension': 224, 'image_path': '/data/BGNN_data/INHS_cropped', 'learning_rate': 0.00406209209511908, 'n_channels': 3, 'n_epochs': 1000, 'numOfTrials': 3, 'patience': 275, 'suffix': '50_11', 'training_count': 0.64, 'useHeirarchy': False, 'validation_count': 0.16}\n",
      "{'augmentation': False, 'batchSize': 100, 'imageDimension': 224, 'image_path': '/data/BGNN_data/INHS_cropped', 'learning_rate': 0.006237306472048176, 'n_channels': 3, 'n_epochs': 1000, 'numOfTrials': 3, 'patience': 500, 'suffix': '50_11', 'training_count': 0.64, 'useHeirarchy': False, 'validation_count': 0.16}\n",
      "{'augmentation': False, 'batchSize': 350, 'imageDimension': 224, 'image_path': '/data/BGNN_data/INHS_cropped', 'learning_rate': 0.0014334865143635954, 'n_channels': 3, 'n_epochs': 1000, 'numOfTrials': 3, 'patience': 375, 'suffix': '50_11', 'training_count': 0.64, 'useHeirarchy': False, 'validation_count': 0.16}\n",
      "{'augmentation': False, 'batchSize': 450, 'imageDimension': 224, 'image_path': '/data/BGNN_data/INHS_cropped', 'learning_rate': 0.00010550956155781991, 'n_channels': 3, 'n_epochs': 1000, 'numOfTrials': 3, 'patience': 100, 'suffix': '50_11', 'training_count': 0.64, 'useHeirarchy': False, 'validation_count': 0.16}\n",
      "{'augmentation': False, 'batchSize': 250, 'imageDimension': 224, 'image_path': '/data/BGNN_data/INHS_cropped', 'learning_rate': 0.0033437465404574655, 'n_channels': 3, 'n_epochs': 1000, 'numOfTrials': 3, 'patience': 450, 'suffix': '50_11', 'training_count': 0.64, 'useHeirarchy': False, 'validation_count': 0.16}\n",
      "{'augmentation': False, 'batchSize': 450, 'imageDimension': 224, 'image_path': '/data/BGNN_data/INHS_cropped', 'learning_rate': 0.0008472879053006762, 'n_channels': 3, 'n_epochs': 1000, 'numOfTrials': 3, 'patience': 375, 'suffix': '50_11', 'training_count': 0.64, 'useHeirarchy': False, 'validation_count': 0.16}\n",
      "{'augmentation': False, 'batchSize': 300, 'imageDimension': 224, 'image_path': '/data/BGNN_data/INHS_cropped', 'learning_rate': 0.0010213008104540677, 'n_channels': 3, 'n_epochs': 1000, 'numOfTrials': 3, 'patience': 425, 'suffix': '50_11', 'training_count': 0.64, 'useHeirarchy': False, 'validation_count': 0.16}\n",
      "{'augmentation': False, 'batchSize': 200, 'imageDimension': 224, 'image_path': '/data/BGNN_data/INHS_cropped', 'learning_rate': 0.005632237621865677, 'n_channels': 3, 'n_epochs': 1000, 'numOfTrials': 3, 'patience': 450, 'suffix': '50_11', 'training_count': 0.64, 'useHeirarchy': False, 'validation_count': 0.16}\n",
      "{'augmentation': False, 'batchSize': 100, 'imageDimension': 224, 'image_path': '/data/BGNN_data/INHS_cropped', 'learning_rate': 0.0004173871857055842, 'n_channels': 3, 'n_epochs': 1000, 'numOfTrials': 3, 'patience': 400, 'suffix': '50_11', 'training_count': 0.64, 'useHeirarchy': False, 'validation_count': 0.16}\n",
      "{'augmentation': False, 'batchSize': 450, 'imageDimension': 224, 'image_path': '/data/BGNN_data/INHS_cropped', 'learning_rate': 0.0002285578201448797, 'n_channels': 3, 'n_epochs': 1000, 'numOfTrials': 3, 'patience': 175, 'suffix': '50_11', 'training_count': 0.64, 'useHeirarchy': False, 'validation_count': 0.16}\n",
      "{'augmentation': False, 'batchSize': 50, 'imageDimension': 224, 'image_path': '/data/BGNN_data/INHS_cropped', 'learning_rate': 0.00019557993359352273, 'n_channels': 3, 'n_epochs': 1000, 'numOfTrials': 3, 'patience': 75, 'suffix': '50_11', 'training_count': 0.64, 'useHeirarchy': False, 'validation_count': 0.16}\n",
      "{'augmentation': False, 'batchSize': 200, 'imageDimension': 224, 'image_path': '/data/BGNN_data/INHS_cropped', 'learning_rate': 0.00920762323755168, 'n_channels': 3, 'n_epochs': 1000, 'numOfTrials': 3, 'patience': 400, 'suffix': '50_11', 'training_count': 0.64, 'useHeirarchy': False, 'validation_count': 0.16}\n",
      "{'augmentation': False, 'batchSize': 200, 'imageDimension': 224, 'image_path': '/data/BGNN_data/INHS_cropped', 'learning_rate': 0.0011244591306577734, 'n_channels': 3, 'n_epochs': 1000, 'numOfTrials': 3, 'patience': 250, 'suffix': '50_11', 'training_count': 0.64, 'useHeirarchy': False, 'validation_count': 0.16}\n",
      "{'augmentation': False, 'batchSize': 500, 'imageDimension': 224, 'image_path': '/data/BGNN_data/INHS_cropped', 'learning_rate': 0.0069377686526706514, 'n_channels': 3, 'n_epochs': 1000, 'numOfTrials': 3, 'patience': 50, 'suffix': '50_11', 'training_count': 0.64, 'useHeirarchy': False, 'validation_count': 0.16}\n",
      "{'augmentation': False, 'batchSize': 400, 'imageDimension': 224, 'image_path': '/data/BGNN_data/INHS_cropped', 'learning_rate': 0.00021080082567998855, 'n_channels': 3, 'n_epochs': 1000, 'numOfTrials': 3, 'patience': 450, 'suffix': '50_11', 'training_count': 0.64, 'useHeirarchy': False, 'validation_count': 0.16}\n",
      "{'augmentation': False, 'batchSize': 450, 'imageDimension': 224, 'image_path': '/data/BGNN_data/INHS_cropped', 'learning_rate': 0.007204098074306745, 'n_channels': 3, 'n_epochs': 1000, 'numOfTrials': 3, 'patience': 350, 'suffix': '50_11', 'training_count': 0.64, 'useHeirarchy': False, 'validation_count': 0.16}\n",
      "{'augmentation': False, 'batchSize': 300, 'imageDimension': 224, 'image_path': '/data/BGNN_data/INHS_cropped', 'learning_rate': 0.00026176219126718424, 'n_channels': 3, 'n_epochs': 1000, 'numOfTrials': 3, 'patience': 350, 'suffix': '50_11', 'training_count': 0.64, 'useHeirarchy': False, 'validation_count': 0.16}\n",
      "{'augmentation': False, 'batchSize': 450, 'imageDimension': 224, 'image_path': '/data/BGNN_data/INHS_cropped', 'learning_rate': 0.0002471487630168104, 'n_channels': 3, 'n_epochs': 1000, 'numOfTrials': 3, 'patience': 425, 'suffix': '50_11', 'training_count': 0.64, 'useHeirarchy': False, 'validation_count': 0.16}\n",
      "{'augmentation': False, 'batchSize': 450, 'imageDimension': 224, 'image_path': '/data/BGNN_data/INHS_cropped', 'learning_rate': 0.0026824193453052264, 'n_channels': 3, 'n_epochs': 1000, 'numOfTrials': 3, 'patience': 75, 'suffix': '50_11', 'training_count': 0.64, 'useHeirarchy': False, 'validation_count': 0.16}\n",
      "{'augmentation': False, 'batchSize': 300, 'imageDimension': 224, 'image_path': '/data/BGNN_data/INHS_cropped', 'learning_rate': 0.001737707892471143, 'n_channels': 3, 'n_epochs': 1000, 'numOfTrials': 3, 'patience': 50, 'suffix': '50_11', 'training_count': 0.64, 'useHeirarchy': False, 'validation_count': 0.16}\n",
      "{'augmentation': False, 'batchSize': 500, 'imageDimension': 224, 'image_path': '/data/BGNN_data/INHS_cropped', 'learning_rate': 0.0005486591528151367, 'n_channels': 3, 'n_epochs': 1000, 'numOfTrials': 3, 'patience': 375, 'suffix': '50_11', 'training_count': 0.64, 'useHeirarchy': False, 'validation_count': 0.16}\n",
      "{'augmentation': False, 'batchSize': 400, 'imageDimension': 224, 'image_path': '/data/BGNN_data/INHS_cropped', 'learning_rate': 0.00023488334133292476, 'n_channels': 3, 'n_epochs': 1000, 'numOfTrials': 3, 'patience': 50, 'suffix': '50_11', 'training_count': 0.64, 'useHeirarchy': False, 'validation_count': 0.16}\n"
     ]
    },
    {
     "name": "stdout",
     "output_type": "stream",
     "text": [
      "{'augmentation': False, 'batchSize': 550, 'imageDimension': 224, 'image_path': '/data/BGNN_data/INHS_cropped', 'learning_rate': 0.0013521379540748068, 'n_channels': 3, 'n_epochs': 1000, 'numOfTrials': 3, 'patience': 325, 'suffix': '50_11', 'training_count': 0.64, 'useHeirarchy': False, 'validation_count': 0.16}\n",
      "{'augmentation': False, 'batchSize': 350, 'imageDimension': 224, 'image_path': '/data/BGNN_data/INHS_cropped', 'learning_rate': 0.00039473640103154095, 'n_channels': 3, 'n_epochs': 1000, 'numOfTrials': 3, 'patience': 100, 'suffix': '50_11', 'training_count': 0.64, 'useHeirarchy': False, 'validation_count': 0.16}\n",
      "{'augmentation': False, 'batchSize': 500, 'imageDimension': 224, 'image_path': '/data/BGNN_data/INHS_cropped', 'learning_rate': 0.00213987785644499, 'n_channels': 3, 'n_epochs': 1000, 'numOfTrials': 3, 'patience': 200, 'suffix': '50_11', 'training_count': 0.64, 'useHeirarchy': False, 'validation_count': 0.16}\n",
      "{'augmentation': False, 'batchSize': 250, 'imageDimension': 224, 'image_path': '/data/BGNN_data/INHS_cropped', 'learning_rate': 0.0015184576869807156, 'n_channels': 3, 'n_epochs': 1000, 'numOfTrials': 3, 'patience': 175, 'suffix': '50_11', 'training_count': 0.64, 'useHeirarchy': False, 'validation_count': 0.16}\n",
      "{'augmentation': False, 'batchSize': 300, 'imageDimension': 224, 'image_path': '/data/BGNN_data/INHS_cropped', 'learning_rate': 0.000711651692425848, 'n_channels': 3, 'n_epochs': 1000, 'numOfTrials': 3, 'patience': 300, 'suffix': '50_11', 'training_count': 0.64, 'useHeirarchy': False, 'validation_count': 0.16}\n",
      "{'augmentation': False, 'batchSize': 550, 'imageDimension': 224, 'image_path': '/data/BGNN_data/INHS_cropped', 'learning_rate': 0.0001497854981486418, 'n_channels': 3, 'n_epochs': 1000, 'numOfTrials': 3, 'patience': 475, 'suffix': '50_11', 'training_count': 0.64, 'useHeirarchy': False, 'validation_count': 0.16}\n",
      "{'augmentation': False, 'batchSize': 450, 'imageDimension': 224, 'image_path': '/data/BGNN_data/INHS_cropped', 'learning_rate': 0.0006452310955394284, 'n_channels': 3, 'n_epochs': 1000, 'numOfTrials': 3, 'patience': 250, 'suffix': '50_11', 'training_count': 0.64, 'useHeirarchy': False, 'validation_count': 0.16}\n",
      "{'augmentation': False, 'batchSize': 300, 'imageDimension': 224, 'image_path': '/data/BGNN_data/INHS_cropped', 'learning_rate': 0.007464924000207222, 'n_channels': 3, 'n_epochs': 1000, 'numOfTrials': 3, 'patience': 325, 'suffix': '50_11', 'training_count': 0.64, 'useHeirarchy': False, 'validation_count': 0.16}\n",
      "{'augmentation': False, 'batchSize': 300, 'imageDimension': 224, 'image_path': '/data/BGNN_data/INHS_cropped', 'learning_rate': 0.0004410227007324636, 'n_channels': 3, 'n_epochs': 1000, 'numOfTrials': 3, 'patience': 175, 'suffix': '50_11', 'training_count': 0.64, 'useHeirarchy': False, 'validation_count': 0.16}\n",
      "{'augmentation': False, 'batchSize': 200, 'imageDimension': 224, 'image_path': '/data/BGNN_data/INHS_cropped', 'learning_rate': 0.00430655816111038, 'n_channels': 3, 'n_epochs': 1000, 'numOfTrials': 3, 'patience': 200, 'suffix': '50_11', 'training_count': 0.64, 'useHeirarchy': False, 'validation_count': 0.16}\n",
      "{'augmentation': False, 'batchSize': 200, 'imageDimension': 224, 'image_path': '/data/BGNN_data/INHS_cropped', 'learning_rate': 0.004674107663901575, 'n_channels': 3, 'n_epochs': 1000, 'numOfTrials': 3, 'patience': 100, 'suffix': '50_11', 'training_count': 0.64, 'useHeirarchy': False, 'validation_count': 0.16}\n",
      "{'augmentation': False, 'batchSize': 200, 'imageDimension': 224, 'image_path': '/data/BGNN_data/INHS_cropped', 'learning_rate': 0.001743525032073311, 'n_channels': 3, 'n_epochs': 1000, 'numOfTrials': 3, 'patience': 75, 'suffix': '50_11', 'training_count': 0.64, 'useHeirarchy': False, 'validation_count': 0.16}\n",
      "{'augmentation': False, 'batchSize': 300, 'imageDimension': 224, 'image_path': '/data/BGNN_data/INHS_cropped', 'learning_rate': 0.0010594940678851326, 'n_channels': 3, 'n_epochs': 1000, 'numOfTrials': 3, 'patience': 450, 'suffix': '50_11', 'training_count': 0.64, 'useHeirarchy': False, 'validation_count': 0.16}\n",
      "{'augmentation': False, 'batchSize': 100, 'imageDimension': 224, 'image_path': '/data/BGNN_data/INHS_cropped', 'learning_rate': 0.0004580611929578766, 'n_channels': 3, 'n_epochs': 1000, 'numOfTrials': 3, 'patience': 150, 'suffix': '50_11', 'training_count': 0.64, 'useHeirarchy': False, 'validation_count': 0.16}\n",
      "{'augmentation': False, 'batchSize': 100, 'imageDimension': 224, 'image_path': '/data/BGNN_data/INHS_cropped', 'learning_rate': 0.0002403655372297681, 'n_channels': 3, 'n_epochs': 1000, 'numOfTrials': 3, 'patience': 375, 'suffix': '50_11', 'training_count': 0.64, 'useHeirarchy': False, 'validation_count': 0.16}\n",
      "{'augmentation': False, 'batchSize': 550, 'imageDimension': 224, 'image_path': '/data/BGNN_data/INHS_cropped', 'learning_rate': 0.00017625051465066147, 'n_channels': 3, 'n_epochs': 1000, 'numOfTrials': 3, 'patience': 100, 'suffix': '50_11', 'training_count': 0.64, 'useHeirarchy': False, 'validation_count': 0.16}\n",
      "{'augmentation': False, 'batchSize': 50, 'imageDimension': 224, 'image_path': '/data/BGNN_data/INHS_cropped', 'learning_rate': 0.00023714697957709808, 'n_channels': 3, 'n_epochs': 1000, 'numOfTrials': 3, 'patience': 450, 'suffix': '50_11', 'training_count': 0.64, 'useHeirarchy': False, 'validation_count': 0.16}\n",
      "{'augmentation': False, 'batchSize': 200, 'imageDimension': 224, 'image_path': '/data/BGNN_data/INHS_cropped', 'learning_rate': 0.00021039504557881985, 'n_channels': 3, 'n_epochs': 1000, 'numOfTrials': 3, 'patience': 300, 'suffix': '50_11', 'training_count': 0.64, 'useHeirarchy': False, 'validation_count': 0.16}\n",
      "{'augmentation': False, 'batchSize': 450, 'imageDimension': 224, 'image_path': '/data/BGNN_data/INHS_cropped', 'learning_rate': 0.00028114942291420253, 'n_channels': 3, 'n_epochs': 1000, 'numOfTrials': 3, 'patience': 225, 'suffix': '50_11', 'training_count': 0.64, 'useHeirarchy': False, 'validation_count': 0.16}\n",
      "{'augmentation': False, 'batchSize': 350, 'imageDimension': 224, 'image_path': '/data/BGNN_data/INHS_cropped', 'learning_rate': 0.0028149417119477764, 'n_channels': 3, 'n_epochs': 1000, 'numOfTrials': 3, 'patience': 50, 'suffix': '50_11', 'training_count': 0.64, 'useHeirarchy': False, 'validation_count': 0.16}\n",
      "{'augmentation': False, 'batchSize': 400, 'imageDimension': 224, 'image_path': '/data/BGNN_data/INHS_cropped', 'learning_rate': 0.0005643427307670856, 'n_channels': 3, 'n_epochs': 1000, 'numOfTrials': 3, 'patience': 400, 'suffix': '50_11', 'training_count': 0.64, 'useHeirarchy': False, 'validation_count': 0.16}\n",
      "{'augmentation': False, 'batchSize': 150, 'imageDimension': 224, 'image_path': '/data/BGNN_data/INHS_cropped', 'learning_rate': 0.00010640470584471034, 'n_channels': 3, 'n_epochs': 1000, 'numOfTrials': 3, 'patience': 425, 'suffix': '50_11', 'training_count': 0.64, 'useHeirarchy': False, 'validation_count': 0.16}\n",
      "{'augmentation': False, 'batchSize': 500, 'imageDimension': 224, 'image_path': '/data/BGNN_data/INHS_cropped', 'learning_rate': 0.003883058322227073, 'n_channels': 3, 'n_epochs': 1000, 'numOfTrials': 3, 'patience': 100, 'suffix': '50_11', 'training_count': 0.64, 'useHeirarchy': False, 'validation_count': 0.16}\n",
      "{'augmentation': False, 'batchSize': 250, 'imageDimension': 224, 'image_path': '/data/BGNN_data/INHS_cropped', 'learning_rate': 0.00014667105774363208, 'n_channels': 3, 'n_epochs': 1000, 'numOfTrials': 3, 'patience': 450, 'suffix': '50_11', 'training_count': 0.64, 'useHeirarchy': False, 'validation_count': 0.16}\n",
      "{'augmentation': False, 'batchSize': 50, 'imageDimension': 224, 'image_path': '/data/BGNN_data/INHS_cropped', 'learning_rate': 0.0022048008819508373, 'n_channels': 3, 'n_epochs': 1000, 'numOfTrials': 3, 'patience': 475, 'suffix': '50_11', 'training_count': 0.64, 'useHeirarchy': False, 'validation_count': 0.16}\n",
      "{'augmentation': False, 'batchSize': 100, 'imageDimension': 224, 'image_path': '/data/BGNN_data/INHS_cropped', 'learning_rate': 0.0025987883990481932, 'n_channels': 3, 'n_epochs': 1000, 'numOfTrials': 3, 'patience': 125, 'suffix': '50_11', 'training_count': 0.64, 'useHeirarchy': False, 'validation_count': 0.16}\n"
     ]
    },
    {
     "name": "stdout",
     "output_type": "stream",
     "text": [
      "{'augmentation': False, 'batchSize': 500, 'imageDimension': 224, 'image_path': '/data/BGNN_data/INHS_cropped', 'learning_rate': 0.00014139355210160932, 'n_channels': 3, 'n_epochs': 1000, 'numOfTrials': 3, 'patience': 125, 'suffix': '50_11', 'training_count': 0.64, 'useHeirarchy': False, 'validation_count': 0.16}\n",
      "{'augmentation': False, 'batchSize': 150, 'imageDimension': 224, 'image_path': '/data/BGNN_data/INHS_cropped', 'learning_rate': 0.003769768609445358, 'n_channels': 3, 'n_epochs': 1000, 'numOfTrials': 3, 'patience': 125, 'suffix': '50_11', 'training_count': 0.64, 'useHeirarchy': False, 'validation_count': 0.16}\n",
      "{'augmentation': False, 'batchSize': 50, 'imageDimension': 224, 'image_path': '/data/BGNN_data/INHS_cropped', 'learning_rate': 0.003989620817070691, 'n_channels': 3, 'n_epochs': 1000, 'numOfTrials': 3, 'patience': 150, 'suffix': '50_11', 'training_count': 0.64, 'useHeirarchy': False, 'validation_count': 0.16}\n",
      "{'augmentation': False, 'batchSize': 300, 'imageDimension': 224, 'image_path': '/data/BGNN_data/INHS_cropped', 'learning_rate': 0.004765809039730509, 'n_channels': 3, 'n_epochs': 1000, 'numOfTrials': 3, 'patience': 250, 'suffix': '50_11', 'training_count': 0.64, 'useHeirarchy': False, 'validation_count': 0.16}\n",
      "{'augmentation': False, 'batchSize': 300, 'imageDimension': 224, 'image_path': '/data/BGNN_data/INHS_cropped', 'learning_rate': 0.006526188981688473, 'n_channels': 3, 'n_epochs': 1000, 'numOfTrials': 3, 'patience': 400, 'suffix': '50_11', 'training_count': 0.64, 'useHeirarchy': False, 'validation_count': 0.16}\n",
      "{'augmentation': False, 'batchSize': 300, 'imageDimension': 224, 'image_path': '/data/BGNN_data/INHS_cropped', 'learning_rate': 0.004104172996029356, 'n_channels': 3, 'n_epochs': 1000, 'numOfTrials': 3, 'patience': 225, 'suffix': '50_11', 'training_count': 0.64, 'useHeirarchy': False, 'validation_count': 0.16}\n",
      "{'augmentation': False, 'batchSize': 350, 'imageDimension': 224, 'image_path': '/data/BGNN_data/INHS_cropped', 'learning_rate': 0.0006419078917671399, 'n_channels': 3, 'n_epochs': 1000, 'numOfTrials': 3, 'patience': 350, 'suffix': '50_11', 'training_count': 0.64, 'useHeirarchy': False, 'validation_count': 0.16}\n",
      "{'augmentation': False, 'batchSize': 150, 'imageDimension': 224, 'image_path': '/data/BGNN_data/INHS_cropped', 'learning_rate': 0.001203362422597523, 'n_channels': 3, 'n_epochs': 1000, 'numOfTrials': 3, 'patience': 450, 'suffix': '50_11', 'training_count': 0.64, 'useHeirarchy': False, 'validation_count': 0.16}\n",
      "{'augmentation': False, 'batchSize': 500, 'imageDimension': 224, 'image_path': '/data/BGNN_data/INHS_cropped', 'learning_rate': 0.0001666800960252193, 'n_channels': 3, 'n_epochs': 1000, 'numOfTrials': 3, 'patience': 425, 'suffix': '50_11', 'training_count': 0.64, 'useHeirarchy': False, 'validation_count': 0.16}\n",
      "{'augmentation': False, 'batchSize': 100, 'imageDimension': 224, 'image_path': '/data/BGNN_data/INHS_cropped', 'learning_rate': 0.0037057026860130744, 'n_channels': 3, 'n_epochs': 1000, 'numOfTrials': 3, 'patience': 100, 'suffix': '50_11', 'training_count': 0.64, 'useHeirarchy': False, 'validation_count': 0.16}\n",
      "{'augmentation': False, 'batchSize': 450, 'imageDimension': 224, 'image_path': '/data/BGNN_data/INHS_cropped', 'learning_rate': 0.006731545789419315, 'n_channels': 3, 'n_epochs': 1000, 'numOfTrials': 3, 'patience': 50, 'suffix': '50_11', 'training_count': 0.64, 'useHeirarchy': False, 'validation_count': 0.16}\n",
      "{'augmentation': False, 'batchSize': 200, 'imageDimension': 224, 'image_path': '/data/BGNN_data/INHS_cropped', 'learning_rate': 0.00015721097743431027, 'n_channels': 3, 'n_epochs': 1000, 'numOfTrials': 3, 'patience': 475, 'suffix': '50_11', 'training_count': 0.64, 'useHeirarchy': False, 'validation_count': 0.16}\n",
      "{'augmentation': False, 'batchSize': 350, 'imageDimension': 224, 'image_path': '/data/BGNN_data/INHS_cropped', 'learning_rate': 0.005407265164077187, 'n_channels': 3, 'n_epochs': 1000, 'numOfTrials': 3, 'patience': 225, 'suffix': '50_11', 'training_count': 0.64, 'useHeirarchy': False, 'validation_count': 0.16}\n",
      "{'augmentation': False, 'batchSize': 400, 'imageDimension': 224, 'image_path': '/data/BGNN_data/INHS_cropped', 'learning_rate': 0.0003452196356535821, 'n_channels': 3, 'n_epochs': 1000, 'numOfTrials': 3, 'patience': 150, 'suffix': '50_11', 'training_count': 0.64, 'useHeirarchy': False, 'validation_count': 0.16}\n",
      "{'augmentation': False, 'batchSize': 450, 'imageDimension': 224, 'image_path': '/data/BGNN_data/INHS_cropped', 'learning_rate': 0.00848390259281949, 'n_channels': 3, 'n_epochs': 1000, 'numOfTrials': 3, 'patience': 175, 'suffix': '50_11', 'training_count': 0.64, 'useHeirarchy': False, 'validation_count': 0.16}\n",
      "{'augmentation': False, 'batchSize': 100, 'imageDimension': 224, 'image_path': '/data/BGNN_data/INHS_cropped', 'learning_rate': 0.0006900593477035824, 'n_channels': 3, 'n_epochs': 1000, 'numOfTrials': 3, 'patience': 50, 'suffix': '50_11', 'training_count': 0.64, 'useHeirarchy': False, 'validation_count': 0.16}\n",
      "{'augmentation': False, 'batchSize': 100, 'imageDimension': 224, 'image_path': '/data/BGNN_data/INHS_cropped', 'learning_rate': 0.0007262807684955129, 'n_channels': 3, 'n_epochs': 1000, 'numOfTrials': 3, 'patience': 400, 'suffix': '50_11', 'training_count': 0.64, 'useHeirarchy': False, 'validation_count': 0.16}\n",
      "{'augmentation': False, 'batchSize': 300, 'imageDimension': 224, 'image_path': '/data/BGNN_data/INHS_cropped', 'learning_rate': 0.005266740218154005, 'n_channels': 3, 'n_epochs': 1000, 'numOfTrials': 3, 'patience': 125, 'suffix': '50_11', 'training_count': 0.64, 'useHeirarchy': False, 'validation_count': 0.16}\n",
      "{'augmentation': False, 'batchSize': 450, 'imageDimension': 224, 'image_path': '/data/BGNN_data/INHS_cropped', 'learning_rate': 0.0012349498508318893, 'n_channels': 3, 'n_epochs': 1000, 'numOfTrials': 3, 'patience': 225, 'suffix': '50_11', 'training_count': 0.64, 'useHeirarchy': False, 'validation_count': 0.16}\n",
      "{'augmentation': False, 'batchSize': 400, 'imageDimension': 224, 'image_path': '/data/BGNN_data/INHS_cropped', 'learning_rate': 0.00033928183865888646, 'n_channels': 3, 'n_epochs': 1000, 'numOfTrials': 3, 'patience': 125, 'suffix': '50_11', 'training_count': 0.64, 'useHeirarchy': False, 'validation_count': 0.16}\n",
      "{'augmentation': False, 'batchSize': 350, 'imageDimension': 224, 'image_path': '/data/BGNN_data/INHS_cropped', 'learning_rate': 0.004934688480431727, 'n_channels': 3, 'n_epochs': 1000, 'numOfTrials': 3, 'patience': 275, 'suffix': '50_11', 'training_count': 0.64, 'useHeirarchy': False, 'validation_count': 0.16}\n",
      "{'augmentation': False, 'batchSize': 100, 'imageDimension': 224, 'image_path': '/data/BGNN_data/INHS_cropped', 'learning_rate': 0.002092945219007468, 'n_channels': 3, 'n_epochs': 1000, 'numOfTrials': 3, 'patience': 125, 'suffix': '50_11', 'training_count': 0.64, 'useHeirarchy': False, 'validation_count': 0.16}\n",
      "{'augmentation': False, 'batchSize': 500, 'imageDimension': 224, 'image_path': '/data/BGNN_data/INHS_cropped', 'learning_rate': 0.007816430816475754, 'n_channels': 3, 'n_epochs': 1000, 'numOfTrials': 3, 'patience': 225, 'suffix': '50_11', 'training_count': 0.64, 'useHeirarchy': False, 'validation_count': 0.16}\n",
      "{'augmentation': False, 'batchSize': 450, 'imageDimension': 224, 'image_path': '/data/BGNN_data/INHS_cropped', 'learning_rate': 0.00024804463848537357, 'n_channels': 3, 'n_epochs': 1000, 'numOfTrials': 3, 'patience': 300, 'suffix': '50_11', 'training_count': 0.64, 'useHeirarchy': False, 'validation_count': 0.16}\n",
      "{'augmentation': False, 'batchSize': 250, 'imageDimension': 224, 'image_path': '/data/BGNN_data/INHS_cropped', 'learning_rate': 0.00011484733505227991, 'n_channels': 3, 'n_epochs': 1000, 'numOfTrials': 3, 'patience': 400, 'suffix': '50_11', 'training_count': 0.64, 'useHeirarchy': False, 'validation_count': 0.16}\n",
      "{'augmentation': False, 'batchSize': 250, 'imageDimension': 224, 'image_path': '/data/BGNN_data/INHS_cropped', 'learning_rate': 0.0014029663060650705, 'n_channels': 3, 'n_epochs': 1000, 'numOfTrials': 3, 'patience': 250, 'suffix': '50_11', 'training_count': 0.64, 'useHeirarchy': False, 'validation_count': 0.16}\n"
     ]
    },
    {
     "name": "stdout",
     "output_type": "stream",
     "text": [
      "{'augmentation': False, 'batchSize': 250, 'imageDimension': 224, 'image_path': '/data/BGNN_data/INHS_cropped', 'learning_rate': 0.0005958336349287892, 'n_channels': 3, 'n_epochs': 1000, 'numOfTrials': 3, 'patience': 125, 'suffix': '50_11', 'training_count': 0.64, 'useHeirarchy': False, 'validation_count': 0.16}\n",
      "{'augmentation': False, 'batchSize': 500, 'imageDimension': 224, 'image_path': '/data/BGNN_data/INHS_cropped', 'learning_rate': 0.0005612415588343709, 'n_channels': 3, 'n_epochs': 1000, 'numOfTrials': 3, 'patience': 500, 'suffix': '50_11', 'training_count': 0.64, 'useHeirarchy': False, 'validation_count': 0.16}\n",
      "{'augmentation': False, 'batchSize': 300, 'imageDimension': 224, 'image_path': '/data/BGNN_data/INHS_cropped', 'learning_rate': 0.0025950095606573666, 'n_channels': 3, 'n_epochs': 1000, 'numOfTrials': 3, 'patience': 325, 'suffix': '50_11', 'training_count': 0.64, 'useHeirarchy': False, 'validation_count': 0.16}\n",
      "{'augmentation': False, 'batchSize': 450, 'imageDimension': 224, 'image_path': '/data/BGNN_data/INHS_cropped', 'learning_rate': 0.007254553352756598, 'n_channels': 3, 'n_epochs': 1000, 'numOfTrials': 3, 'patience': 100, 'suffix': '50_11', 'training_count': 0.64, 'useHeirarchy': False, 'validation_count': 0.16}\n",
      "{'augmentation': False, 'batchSize': 200, 'imageDimension': 224, 'image_path': '/data/BGNN_data/INHS_cropped', 'learning_rate': 0.005297329305390195, 'n_channels': 3, 'n_epochs': 1000, 'numOfTrials': 3, 'patience': 175, 'suffix': '50_11', 'training_count': 0.64, 'useHeirarchy': False, 'validation_count': 0.16}\n",
      "{'augmentation': False, 'batchSize': 500, 'imageDimension': 224, 'image_path': '/data/BGNN_data/INHS_cropped', 'learning_rate': 0.007314741028082087, 'n_channels': 3, 'n_epochs': 1000, 'numOfTrials': 3, 'patience': 325, 'suffix': '50_11', 'training_count': 0.64, 'useHeirarchy': False, 'validation_count': 0.16}\n",
      "{'augmentation': False, 'batchSize': 250, 'imageDimension': 224, 'image_path': '/data/BGNN_data/INHS_cropped', 'learning_rate': 0.0019358987166049125, 'n_channels': 3, 'n_epochs': 1000, 'numOfTrials': 3, 'patience': 325, 'suffix': '50_11', 'training_count': 0.64, 'useHeirarchy': False, 'validation_count': 0.16}\n",
      "{'augmentation': False, 'batchSize': 350, 'imageDimension': 224, 'image_path': '/data/BGNN_data/INHS_cropped', 'learning_rate': 0.0018658727410382965, 'n_channels': 3, 'n_epochs': 1000, 'numOfTrials': 3, 'patience': 400, 'suffix': '50_11', 'training_count': 0.64, 'useHeirarchy': False, 'validation_count': 0.16}\n",
      "{'augmentation': False, 'batchSize': 450, 'imageDimension': 224, 'image_path': '/data/BGNN_data/INHS_cropped', 'learning_rate': 0.00024339406845942202, 'n_channels': 3, 'n_epochs': 1000, 'numOfTrials': 3, 'patience': 50, 'suffix': '50_11', 'training_count': 0.64, 'useHeirarchy': False, 'validation_count': 0.16}\n",
      "{'augmentation': False, 'batchSize': 150, 'imageDimension': 224, 'image_path': '/data/BGNN_data/INHS_cropped', 'learning_rate': 0.001990390456655941, 'n_channels': 3, 'n_epochs': 1000, 'numOfTrials': 3, 'patience': 350, 'suffix': '50_11', 'training_count': 0.64, 'useHeirarchy': False, 'validation_count': 0.16}\n",
      "{'augmentation': False, 'batchSize': 100, 'imageDimension': 224, 'image_path': '/data/BGNN_data/INHS_cropped', 'learning_rate': 0.0009296213061332599, 'n_channels': 3, 'n_epochs': 1000, 'numOfTrials': 3, 'patience': 425, 'suffix': '50_11', 'training_count': 0.64, 'useHeirarchy': False, 'validation_count': 0.16}\n",
      "{'augmentation': False, 'batchSize': 500, 'imageDimension': 224, 'image_path': '/data/BGNN_data/INHS_cropped', 'learning_rate': 0.0013380006197360617, 'n_channels': 3, 'n_epochs': 1000, 'numOfTrials': 3, 'patience': 75, 'suffix': '50_11', 'training_count': 0.64, 'useHeirarchy': False, 'validation_count': 0.16}\n",
      "{'augmentation': False, 'batchSize': 450, 'imageDimension': 224, 'image_path': '/data/BGNN_data/INHS_cropped', 'learning_rate': 0.00011762325061367683, 'n_channels': 3, 'n_epochs': 1000, 'numOfTrials': 3, 'patience': 200, 'suffix': '50_11', 'training_count': 0.64, 'useHeirarchy': False, 'validation_count': 0.16}\n",
      "{'augmentation': False, 'batchSize': 250, 'imageDimension': 224, 'image_path': '/data/BGNN_data/INHS_cropped', 'learning_rate': 0.0031886768533860707, 'n_channels': 3, 'n_epochs': 1000, 'numOfTrials': 3, 'patience': 125, 'suffix': '50_11', 'training_count': 0.64, 'useHeirarchy': False, 'validation_count': 0.16}\n",
      "{'augmentation': False, 'batchSize': 100, 'imageDimension': 224, 'image_path': '/data/BGNN_data/INHS_cropped', 'learning_rate': 0.005235687884271117, 'n_channels': 3, 'n_epochs': 1000, 'numOfTrials': 3, 'patience': 300, 'suffix': '50_11', 'training_count': 0.64, 'useHeirarchy': False, 'validation_count': 0.16}\n",
      "{'augmentation': False, 'batchSize': 250, 'imageDimension': 224, 'image_path': '/data/BGNN_data/INHS_cropped', 'learning_rate': 0.0018967108432341555, 'n_channels': 3, 'n_epochs': 1000, 'numOfTrials': 3, 'patience': 375, 'suffix': '50_11', 'training_count': 0.64, 'useHeirarchy': False, 'validation_count': 0.16}\n",
      "{'augmentation': False, 'batchSize': 500, 'imageDimension': 224, 'image_path': '/data/BGNN_data/INHS_cropped', 'learning_rate': 0.00022018984804202801, 'n_channels': 3, 'n_epochs': 1000, 'numOfTrials': 3, 'patience': 125, 'suffix': '50_11', 'training_count': 0.64, 'useHeirarchy': False, 'validation_count': 0.16}\n",
      "{'augmentation': False, 'batchSize': 500, 'imageDimension': 224, 'image_path': '/data/BGNN_data/INHS_cropped', 'learning_rate': 0.007383048046228683, 'n_channels': 3, 'n_epochs': 1000, 'numOfTrials': 3, 'patience': 475, 'suffix': '50_11', 'training_count': 0.64, 'useHeirarchy': False, 'validation_count': 0.16}\n",
      "{'augmentation': False, 'batchSize': 450, 'imageDimension': 224, 'image_path': '/data/BGNN_data/INHS_cropped', 'learning_rate': 0.0028468595365008093, 'n_channels': 3, 'n_epochs': 1000, 'numOfTrials': 3, 'patience': 100, 'suffix': '50_11', 'training_count': 0.64, 'useHeirarchy': False, 'validation_count': 0.16}\n",
      "{'augmentation': False, 'batchSize': 150, 'imageDimension': 224, 'image_path': '/data/BGNN_data/INHS_cropped', 'learning_rate': 0.0009513475419294303, 'n_channels': 3, 'n_epochs': 1000, 'numOfTrials': 3, 'patience': 175, 'suffix': '50_11', 'training_count': 0.64, 'useHeirarchy': False, 'validation_count': 0.16}\n",
      "{'augmentation': False, 'batchSize': 500, 'imageDimension': 224, 'image_path': '/data/BGNN_data/INHS_cropped', 'learning_rate': 0.001270025889829153, 'n_channels': 3, 'n_epochs': 1000, 'numOfTrials': 3, 'patience': 125, 'suffix': '50_11', 'training_count': 0.64, 'useHeirarchy': False, 'validation_count': 0.16}\n",
      "{'augmentation': False, 'batchSize': 450, 'imageDimension': 224, 'image_path': '/data/BGNN_data/INHS_cropped', 'learning_rate': 0.00019114404790074983, 'n_channels': 3, 'n_epochs': 1000, 'numOfTrials': 3, 'patience': 150, 'suffix': '50_11', 'training_count': 0.64, 'useHeirarchy': False, 'validation_count': 0.16}\n",
      "{'augmentation': False, 'batchSize': 500, 'imageDimension': 224, 'image_path': '/data/BGNN_data/INHS_cropped', 'learning_rate': 0.0002099374776780815, 'n_channels': 3, 'n_epochs': 1000, 'numOfTrials': 3, 'patience': 450, 'suffix': '50_11', 'training_count': 0.64, 'useHeirarchy': False, 'validation_count': 0.16}\n",
      "{'augmentation': False, 'batchSize': 450, 'imageDimension': 224, 'image_path': '/data/BGNN_data/INHS_cropped', 'learning_rate': 0.006075832363665812, 'n_channels': 3, 'n_epochs': 1000, 'numOfTrials': 3, 'patience': 225, 'suffix': '50_11', 'training_count': 0.64, 'useHeirarchy': False, 'validation_count': 0.16}\n",
      "100%|██████████| 100/100 [00:00<00:00, 282.95trial/s, best loss: 1.0]\n"
     ]
    },
    {
     "data": {
      "text/plain": [
       "{'augmentation': 0,\n",
       " 'batchSize': 400.0,\n",
       " 'imageDimension': 0,\n",
       " 'image_path': 0,\n",
       " 'learning_rate': 0.0009064673896219292,\n",
       " 'n_channels': 0,\n",
       " 'n_epochs': 0,\n",
       " 'numOfTrials': 0,\n",
       " 'patience': 50.0,\n",
       " 'suffix': 0,\n",
       " 'training_count': 0,\n",
       " 'useHeirarchy': 0,\n",
       " 'validation_count': 0}"
      ]
     },
     "execution_count": 9,
     "metadata": {},
     "output_type": "execute_result"
    }
   ],
   "source": [
    "hyperp_obj = cp.getHyperpSearchObject()\n",
    "print(hyperp_obj)\n",
    "\n",
    "def objective(experiment_params):\n",
    "    print(experiment_params)\n",
    "    dummyObjective = 1\n",
    "    return dummyObjective\n",
    "\n",
    "fmin(objective,\n",
    "     space=hyperp_obj,\n",
    "     algo=rand.suggest, \n",
    "     max_evals=numOfExperiments)"
   ]
  },
  {
   "cell_type": "markdown",
   "metadata": {},
   "source": [
    "Selected hyperp write"
   ]
  },
  {
   "cell_type": "code",
   "execution_count": 10,
   "metadata": {},
   "outputs": [
    {
     "data": {
      "text/plain": [
       "'test_22987_suffix50_11_CNN2_try_noaugmentation_DistributedDataParallel/hyperp_selected_params.pkl'"
      ]
     },
     "execution_count": 10,
     "metadata": {},
     "output_type": "execute_result"
    }
   ],
   "source": [
    "selected_hyperp_params = [\n",
    "    {'imageDimension': 224, \"patience\": 100},\n",
    "    {'imageDimension': 112, \"patience\": 50},\n",
    "]\n",
    "\n",
    "cp.writeHyperpSelected(selected_hyperp_params)"
   ]
  },
  {
   "cell_type": "markdown",
   "metadata": {},
   "source": [
    "Selected hyperp read"
   ]
  },
  {
   "cell_type": "code",
   "execution_count": 11,
   "metadata": {},
   "outputs": [
    {
     "name": "stdout",
     "output_type": "stream",
     "text": [
      "{'image_path': '/data/BGNN_data/INHS_cropped', 'suffix': '50_11', 'training_count': 0.64, 'validation_count': 0.16, 'useHeirarchy': False, 'imageDimension': 224, 'n_channels': 3, 'augmentation': False, 'batchSize': 200, 'n_epochs': 1000, 'learning_rate': 0.001, 'numOfTrials': 3, 'patience': 100}\n",
      "{'image_path': '/data/BGNN_data/INHS_cropped', 'suffix': '50_11', 'training_count': 0.64, 'validation_count': 0.16, 'useHeirarchy': False, 'imageDimension': 112, 'n_channels': 3, 'augmentation': False, 'batchSize': 200, 'n_epochs': 1000, 'learning_rate': 0.001, 'numOfTrials': 3, 'patience': 50}\n"
     ]
    }
   ],
   "source": [
    "for i in cp.getHyperpSelectedIter():\n",
    "    print(i)"
   ]
  },
  {
   "cell_type": "code",
   "execution_count": null,
   "metadata": {},
   "outputs": [],
   "source": []
  }
 ],
 "metadata": {
  "kernelspec": {
   "display_name": "Python 3",
   "language": "python",
   "name": "python3"
  },
  "language_info": {
   "codemirror_mode": {
    "name": "ipython",
    "version": 3
   },
   "file_extension": ".py",
   "mimetype": "text/x-python",
   "name": "python",
   "nbconvert_exporter": "python",
   "pygments_lexer": "ipython3",
   "version": "3.6.9"
  }
 },
 "nbformat": 4,
 "nbformat_minor": 2
}
