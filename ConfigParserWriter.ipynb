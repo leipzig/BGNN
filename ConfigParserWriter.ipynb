{
 "cells": [
  {
   "cell_type": "markdown",
   "metadata": {},
   "source": [
    "Imports"
   ]
  },
  {
   "cell_type": "code",
   "execution_count": 1,
   "metadata": {},
   "outputs": [],
   "source": [
    "from configParser import ConfigParser, getModelName"
   ]
  },
  {
   "cell_type": "markdown",
   "metadata": {},
   "source": [
    "Parameters"
   ]
  },
  {
   "cell_type": "code",
   "execution_count": 2,
   "metadata": {},
   "outputs": [],
   "source": [
    "experimentName = \"quicktest6\"\n",
    "\n",
    "params = {\n",
    "    # dataset\n",
    "    \"image_path\": \"./Fish_toy/images\",\n",
    "    \"training_count\":2,\n",
    "    \"validation_count\":1,\n",
    "\n",
    "    # training\n",
    "    \"batchSize\":10,\n",
    "    \"n_epochs\":3,\n",
    "    \"numOfTrials\":3,\n",
    "\n",
    "    # network\n",
    "    \"kernels\": [16, 32],\n",
    "    \"kernelSize\": 5,\n",
    "    \"patience\": 20,\n",
    "\n",
    "    # image\n",
    "    \"imageDimension\": 28,\n",
    "    \"n_channels\": 1,\n",
    "    \"useZCAWhitening\": False,\n",
    "}\n"
   ]
  },
  {
   "cell_type": "markdown",
   "metadata": {},
   "source": [
    "Create file"
   ]
  },
  {
   "cell_type": "code",
   "execution_count": 3,
   "metadata": {},
   "outputs": [
    {
     "data": {
      "text/plain": [
       "'quicktest5/params.json'"
      ]
     },
     "execution_count": 3,
     "metadata": {},
     "output_type": "execute_result"
    }
   ],
   "source": [
    "cp = ConfigParser(experimentName)\n",
    "\n",
    "cp.write(params)"
   ]
  },
  {
   "cell_type": "markdown",
   "metadata": {},
   "source": [
    "Read file"
   ]
  },
  {
   "cell_type": "code",
   "execution_count": 4,
   "metadata": {},
   "outputs": [
    {
     "name": "stdout",
     "output_type": "stream",
     "text": [
      "{'image_path': './Fish_toy/images', 'training_count': 2, 'validation_count': 1, 'batchSize': 10, 'n_epochs': 3, 'numOfTrials': 3, 'kernels': [16, 32], 'kernelSize': 5, 'patience': 20, 'imageDimension': 28, 'n_channels': 1, 'useZCAWhitening': False}\n"
     ]
    }
   ],
   "source": [
    "j = cp.read()\n",
    "print(j)"
   ]
  },
  {
   "cell_type": "markdown",
   "metadata": {},
   "source": [
    "Create hyperp"
   ]
  },
  {
   "cell_type": "code",
   "execution_count": 5,
   "metadata": {},
   "outputs": [
    {
     "data": {
      "text/plain": [
       "'quicktest5/hyperp_params.json'"
      ]
     },
     "execution_count": 5,
     "metadata": {},
     "output_type": "execute_result"
    }
   ],
   "source": [
    "hyperp_params = {\n",
    "    \"n_channels\": [1, 3],\n",
    "    \"useZCAWhitening\": [False, True],\n",
    "}\n",
    "\n",
    "cp.writeHyperp(hyperp_params)"
   ]
  },
  {
   "cell_type": "markdown",
   "metadata": {},
   "source": [
    "Get experiments"
   ]
  },
  {
   "cell_type": "code",
   "execution_count": 10,
   "metadata": {},
   "outputs": [
    {
     "name": "stdout",
     "output_type": "stream",
     "text": [
      "{'image_path': './Fish_toy/images', 'training_count': 2, 'validation_count': 1, 'batchSize': 10, 'n_epochs': 3, 'numOfTrials': 3, 'kernels': [16, 32], 'kernelSize': 5, 'patience': 20, 'imageDimension': 28, 'n_channels': 1, 'useZCAWhitening': False}\n",
      "{'image_path': './Fish_toy/images', 'training_count': 2, 'validation_count': 1, 'batchSize': 10, 'n_epochs': 3, 'numOfTrials': 3, 'kernels': [16, 32], 'kernelSize': 5, 'patience': 20, 'imageDimension': 28, 'n_channels': 1, 'useZCAWhitening': True}\n",
      "{'image_path': './Fish_toy/images', 'training_count': 2, 'validation_count': 1, 'batchSize': 10, 'n_epochs': 3, 'numOfTrials': 3, 'kernels': [16, 32], 'kernelSize': 5, 'patience': 20, 'imageDimension': 28, 'n_channels': 3, 'useZCAWhitening': False}\n",
      "{'image_path': './Fish_toy/images', 'training_count': 2, 'validation_count': 1, 'batchSize': 10, 'n_epochs': 3, 'numOfTrials': 3, 'kernels': [16, 32], 'kernelSize': 5, 'patience': 20, 'imageDimension': 28, 'n_channels': 3, 'useZCAWhitening': True}\n",
      "{'image_path': './Fish_toy/images', 'training_count': 2, 'validation_count': 1, 'batchSize': 10, 'n_epochs': 3, 'numOfTrials': 3, 'kernels': [16, 32], 'kernelSize': 5, 'patience': 20, 'imageDimension': 28, 'n_channels': 1, 'useZCAWhitening': False}\n",
      "{'image_path': './Fish_toy/images', 'training_count': 2, 'validation_count': 1, 'batchSize': 10, 'n_epochs': 3, 'numOfTrials': 3, 'kernels': [16, 32], 'kernelSize': 5, 'patience': 20, 'imageDimension': 28, 'n_channels': 1, 'useZCAWhitening': True}\n",
      "{'image_path': './Fish_toy/images', 'training_count': 2, 'validation_count': 1, 'batchSize': 10, 'n_epochs': 3, 'numOfTrials': 3, 'kernels': [16, 32], 'kernelSize': 5, 'patience': 20, 'imageDimension': 28, 'n_channels': 3, 'useZCAWhitening': False}\n",
      "{'image_path': './Fish_toy/images', 'training_count': 2, 'validation_count': 1, 'batchSize': 10, 'n_epochs': 3, 'numOfTrials': 3, 'kernels': [16, 32], 'kernelSize': 5, 'patience': 20, 'imageDimension': 28, 'n_channels': 3, 'useZCAWhitening': True}\n"
     ]
    }
   ],
   "source": [
    "for i in cp.getHyperpIter():\n",
    "    print(i)"
   ]
  },
  {
   "cell_type": "markdown",
   "metadata": {},
   "source": [
    "Model name"
   ]
  },
  {
   "cell_type": "code",
   "execution_count": 7,
   "metadata": {},
   "outputs": [
    {
     "data": {
      "text/plain": [
       "'tc2_vc1_bs10_e3_ks5_k16-32_p20_d28_c1_zcaFalse'"
      ]
     },
     "execution_count": 7,
     "metadata": {},
     "output_type": "execute_result"
    }
   ],
   "source": [
    "getModelName(j)"
   ]
  },
  {
   "cell_type": "markdown",
   "metadata": {},
   "source": [
    "Hyperp search write"
   ]
  },
  {
   "cell_type": "code",
   "execution_count": 8,
   "metadata": {},
   "outputs": [
    {
     "data": {
      "text/plain": [
       "'quicktest5/hyperp_search_params.pkl'"
      ]
     },
     "execution_count": 8,
     "metadata": {},
     "output_type": "execute_result"
    }
   ],
   "source": [
    "from hyperopt import fmin, hp, rand, tpe\n",
    "from hyperopt.pyll.base import scope\n",
    "\n",
    "useRandomSearch = True\n",
    "hyperp_search_params = {\n",
    "    \"kernels\": [ scope.int(hp.quniform('kernels1', 8, 16, 1)), scope.int(hp.quniform('kernels2', 16, 32, 1))],\n",
    "    \"kernelSize\": scope.int(hp.quniform('kernelSize', 3, 10, 1)),\n",
    "    \"patience\": scope.int(hp.quniform('patience', 1, 2, 1)), \n",
    "}\n",
    "\n",
    "cp.writeHyperpSearch(hyperp_search_params)"
   ]
  },
  {
   "cell_type": "markdown",
   "metadata": {},
   "source": [
    "Hyperp search read"
   ]
  },
  {
   "cell_type": "code",
   "execution_count": 9,
   "metadata": {},
   "outputs": [
    {
     "name": "stdout",
     "output_type": "stream",
     "text": [
      "{'kernels': [<hyperopt.pyll.base.Apply object at 0x7f2e64947630>, <hyperopt.pyll.base.Apply object at 0x7f2e64947b00>], 'kernelSize': <hyperopt.pyll.base.Apply object at 0x7f2e64947e10>, 'patience': <hyperopt.pyll.base.Apply object at 0x7f2e64947fd0>, 'image_path': <hyperopt.pyll.base.Apply object at 0x7f2e649476a0>, 'training_count': <hyperopt.pyll.base.Apply object at 0x7f2e6494a2e8>, 'validation_count': <hyperopt.pyll.base.Apply object at 0x7f2e6494a438>, 'batchSize': <hyperopt.pyll.base.Apply object at 0x7f2e6494a588>, 'n_epochs': <hyperopt.pyll.base.Apply object at 0x7f2e6494a6d8>, 'numOfTrials': <hyperopt.pyll.base.Apply object at 0x7f2e6494a828>, 'imageDimension': <hyperopt.pyll.base.Apply object at 0x7f2e6494a978>, 'n_channels': <hyperopt.pyll.base.Apply object at 0x7f2e6494aac8>, 'useZCAWhitening': <hyperopt.pyll.base.Apply object at 0x7f2e6494ac18>}\n",
      "{'kernels': [<hyperopt.pyll.base.Apply object at 0x7f2e6491a7b8>, <hyperopt.pyll.base.Apply object at 0x7f2e6494afd0>], 'kernelSize': <hyperopt.pyll.base.Apply object at 0x7f2e6494e1d0>, 'patience': <hyperopt.pyll.base.Apply object at 0x7f2e6494e390>, 'image_path': <hyperopt.pyll.base.Apply object at 0x7f2e649475f8>, 'training_count': <hyperopt.pyll.base.Apply object at 0x7f2e6494e668>, 'validation_count': <hyperopt.pyll.base.Apply object at 0x7f2e6494e7b8>, 'batchSize': <hyperopt.pyll.base.Apply object at 0x7f2e6494e908>, 'n_epochs': <hyperopt.pyll.base.Apply object at 0x7f2e6494ea58>, 'numOfTrials': <hyperopt.pyll.base.Apply object at 0x7f2e6494eba8>, 'imageDimension': <hyperopt.pyll.base.Apply object at 0x7f2e6494ecf8>, 'n_channels': <hyperopt.pyll.base.Apply object at 0x7f2e6491acf8>, 'useZCAWhitening': <hyperopt.pyll.base.Apply object at 0x7f2e6494edd8>}\n",
      "{'batchSize': 10, 'imageDimension': 28, 'image_path': './Fish_toy/images', 'kernelSize': 9, 'kernels': (13, 18), 'n_channels': 1, 'n_epochs': 3, 'numOfTrials': 3, 'patience': 1, 'training_count': 2, 'useZCAWhitening': False, 'validation_count': 1}\n",
      "{'batchSize': 10, 'imageDimension': 28, 'image_path': './Fish_toy/images', 'kernelSize': 6, 'kernels': (11, 21), 'n_channels': 1, 'n_epochs': 3, 'numOfTrials': 3, 'patience': 2, 'training_count': 2, 'useZCAWhitening': False, 'validation_count': 1}\n",
      "{'batchSize': 10, 'imageDimension': 28, 'image_path': './Fish_toy/images', 'kernelSize': 7, 'kernels': (11, 32), 'n_channels': 1, 'n_epochs': 3, 'numOfTrials': 3, 'patience': 2, 'training_count': 2, 'useZCAWhitening': False, 'validation_count': 1}\n",
      "100%|██████████| 3/3 [00:00<00:00, 88.07it/s, best loss: 1.0]\n"
     ]
    },
    {
     "data": {
      "text/plain": [
       "{'batchSize': 0,\n",
       " 'imageDimension': 0,\n",
       " 'image_path': 0,\n",
       " 'kernelSize': 9.0,\n",
       " 'kernels1': 13.0,\n",
       " 'kernels2': 18.0,\n",
       " 'n_channels': 0,\n",
       " 'n_epochs': 0,\n",
       " 'numOfTrials': 0,\n",
       " 'patience': 1.0,\n",
       " 'training_count': 0,\n",
       " 'useZCAWhitening': 0,\n",
       " 'validation_count': 0}"
      ]
     },
     "execution_count": 9,
     "metadata": {},
     "output_type": "execute_result"
    }
   ],
   "source": [
    "hyperp_obj = cp.getHyperpSearchObject()\n",
    "print(hyperp_obj)\n",
    "\n",
    "def objective(experiment_params):\n",
    "    print(experiment_params)\n",
    "    dummyObjective = 1\n",
    "    return dummyObjective\n",
    "\n",
    "fmin(objective,\n",
    "     space=hyperp_obj,\n",
    "     algo=rand.suggest, \n",
    "     max_evals=params['numOfTrials'] or 1)"
   ]
  },
  {
   "cell_type": "code",
   "execution_count": null,
   "metadata": {},
   "outputs": [],
   "source": []
  }
 ],
 "metadata": {
  "kernelspec": {
   "display_name": "Python 3",
   "language": "python",
   "name": "python3"
  },
  "language_info": {
   "codemirror_mode": {
    "name": "ipython",
    "version": 3
   },
   "file_extension": ".py",
   "mimetype": "text/x-python",
   "name": "python",
   "nbconvert_exporter": "python",
   "pygments_lexer": "ipython3",
   "version": "3.7.3"
  }
 },
 "nbformat": 4,
 "nbformat_minor": 2
}
