{
 "cells": [
  {
   "cell_type": "markdown",
   "metadata": {},
   "source": [
    "Imports"
   ]
  },
  {
   "cell_type": "code",
   "execution_count": 1,
   "metadata": {},
   "outputs": [],
   "source": [
    "from configParser import ConfigParser, getModelName, getDatasetName"
   ]
  },
  {
   "cell_type": "markdown",
   "metadata": {},
   "source": [
    "Parameters"
   ]
  },
  {
   "cell_type": "code",
   "execution_count": 2,
   "metadata": {},
   "outputs": [],
   "source": [
    "experimentName = \"test_22987_suffix50_11_CNN2_differentConfig_softmax2\"\n",
    "numOfExperiments=100\n",
    "\n",
    "params = {\n",
    "    # Do not change for multi/hyperp experiments\n",
    "    \"image_path\": \"/data/BGNN_data/INHS_cropped\",\n",
    "    \"suffix\": '50_11', # used to get a subset cleaned_metadata file. set to None otherwise to use full metadata\n",
    "    \n",
    "    # dataset\n",
    "    \"training_count\":0.64,\n",
    "    \"validation_count\":0.16,\n",
    "    \n",
    "    # image\n",
    "    \"imageDimension\": 224, # Deprecated and should not be changed from 224\n",
    "    \"n_channels\": 3,\n",
    "    \"augmentation\": False, # False is well better for Hierarchy\n",
    "\n",
    "    # training\n",
    "    \"batchSize\":550, # Bigger is more stable\n",
    "    \"n_epochs\":1000,\n",
    "    \"learning_rate\":0.01, # Seems 0.0001 to be best value with Adam. 0.1 best for SGD\n",
    "    \"numOfTrials\":3,\n",
    "    \"patience\": 100,\n",
    "    \"useHeirarchy\": True, #True: This makes a big good difference!\n",
    "    # temp. Should be optimized and removed\n",
    "    \"useRelu\": True, # True slows it down with no benefit,\n",
    "    \"downsample\":True, #False,\n",
    "    \"downsampleOutput\":50, #50 is less average time but also less stability, keep 50\n",
    "    \"takeFromIntermediate\":True, #True,\n",
    "    \"takeFromIntermediateOutput\":50, #50, keep 50\n",
    "    \"fc_layers\": 2, # 2 seems to be best. definitely better than 1\n",
    "    \"useAdam\": False, # Keep it to True for now!\n",
    "    \"resnet\": \"18\", # Keep '18'. '50' is not bad but not as good.\n",
    "    \"normalize\": False, # Does not seem to matter with no augmentation. Keep False for now\n",
    "    \"softmax\": True, # bI would keep false\n",
    "}\n"
   ]
  },
  {
   "cell_type": "markdown",
   "metadata": {},
   "source": [
    "Create file"
   ]
  },
  {
   "cell_type": "code",
   "execution_count": 3,
   "metadata": {},
   "outputs": [
    {
     "data": {
      "text/plain": [
       "'test_22987_suffix50_11_CNN2_differentConfig_softmax2/params.json'"
      ]
     },
     "execution_count": 3,
     "metadata": {},
     "output_type": "execute_result"
    }
   ],
   "source": [
    "cp = ConfigParser(experimentName)\n",
    "\n",
    "cp.write(params)"
   ]
  },
  {
   "cell_type": "markdown",
   "metadata": {},
   "source": [
    "Read file"
   ]
  },
  {
   "cell_type": "code",
   "execution_count": 4,
   "metadata": {},
   "outputs": [
    {
     "name": "stdout",
     "output_type": "stream",
     "text": [
      "{'image_path': '/data/BGNN_data/INHS_cropped', 'suffix': '50_11', 'training_count': 0.64, 'validation_count': 0.16, 'imageDimension': 224, 'n_channels': 3, 'augmentation': False, 'batchSize': 550, 'n_epochs': 1000, 'learning_rate': 0.01, 'numOfTrials': 3, 'patience': 100, 'useHeirarchy': True, 'useRelu': True, 'downsample': True, 'downsampleOutput': 50, 'takeFromIntermediate': True, 'takeFromIntermediateOutput': 50, 'fc_layers': 2, 'useAdam': False, 'resnet': '18', 'normalize': False, 'softmax': True}\n"
     ]
    }
   ],
   "source": [
    "j = cp.read()\n",
    "print(j)"
   ]
  },
  {
   "cell_type": "markdown",
   "metadata": {},
   "source": [
    "Create hyperp"
   ]
  },
  {
   "cell_type": "code",
   "execution_count": 5,
   "metadata": {},
   "outputs": [
    {
     "data": {
      "text/plain": [
       "'test_22987_suffix50_11_CNN2_differentConfig_softmax2/hyperp_params.json'"
      ]
     },
     "execution_count": 5,
     "metadata": {},
     "output_type": "execute_result"
    }
   ],
   "source": [
    "hyperp_params = {\n",
    "#     \"dummy\":[0]\n",
    "#     \"fc_layers\":[1,2,3]\n",
    "#     \"imageDimension\": [28, 56, 224],\n",
    "#     \"n_channels\": [1, 3],\n",
    "#     \"kernelSize\": [5, 9],\n",
    "#     \"useZCAWhitening\": [False, True],\n",
    "#     \"patience\": [50, 100],\n",
    "#     \"batchSize\": [50, 100, 200, 550],\n",
    "#     \"useHeirarchy\": [True, False],\n",
    "#     \"resnet\": ['18', '50']\n",
    "    \"softmax\": [False, True]\n",
    "}\n",
    "\n",
    "cp.writeHyperp(hyperp_params)"
   ]
  },
  {
   "cell_type": "markdown",
   "metadata": {},
   "source": [
    "Get experiments"
   ]
  },
  {
   "cell_type": "code",
   "execution_count": 6,
   "metadata": {},
   "outputs": [
    {
     "name": "stdout",
     "output_type": "stream",
     "text": [
      "{'image_path': '/data/BGNN_data/INHS_cropped', 'suffix': '50_11', 'training_count': 0.64, 'validation_count': 0.16, 'imageDimension': 224, 'n_channels': 3, 'augmentation': False, 'batchSize': 550, 'n_epochs': 1000, 'learning_rate': 0.01, 'numOfTrials': 3, 'patience': 100, 'useHeirarchy': True, 'useRelu': True, 'downsample': True, 'downsampleOutput': 50, 'takeFromIntermediate': True, 'takeFromIntermediateOutput': 50, 'fc_layers': 2, 'useAdam': False, 'resnet': '18', 'normalize': False, 'softmax': False}\n",
      "{'image_path': '/data/BGNN_data/INHS_cropped', 'suffix': '50_11', 'training_count': 0.64, 'validation_count': 0.16, 'imageDimension': 224, 'n_channels': 3, 'augmentation': False, 'batchSize': 550, 'n_epochs': 1000, 'learning_rate': 0.01, 'numOfTrials': 3, 'patience': 100, 'useHeirarchy': True, 'useRelu': True, 'downsample': True, 'downsampleOutput': 50, 'takeFromIntermediate': True, 'takeFromIntermediateOutput': 50, 'fc_layers': 2, 'useAdam': False, 'resnet': '18', 'normalize': False, 'softmax': True}\n"
     ]
    }
   ],
   "source": [
    "for i in cp.getHyperpIter():\n",
    "    print(i)"
   ]
  },
  {
   "cell_type": "markdown",
   "metadata": {},
   "source": [
    "Model name"
   ]
  },
  {
   "cell_type": "code",
   "execution_count": 7,
   "metadata": {},
   "outputs": [
    {
     "name": "stdout",
     "output_type": "stream",
     "text": [
      "tc0.640000_vc0.160000_d224_c3_augFalse_nFalse_bs550_e1000_p100_lr0.010000_hTrue_reluTrue_dsTrue_dso50_tfiTrue_tfio50_admFalse_res18_fc2_smaxTrue\n",
      "tc0.640000_vc0.160000_d224_c3_augFalse_nFalse\n"
     ]
    }
   ],
   "source": [
    "print(getModelName(j))\n",
    "print(getDatasetName(j))"
   ]
  },
  {
   "cell_type": "markdown",
   "metadata": {},
   "source": [
    "Hyperp search write"
   ]
  },
  {
   "cell_type": "code",
   "execution_count": 8,
   "metadata": {},
   "outputs": [
    {
     "data": {
      "text/plain": [
       "'test_22987_suffix50_11_CNN2_differentConfig_softmax2/hyperp_search_params.pkl'"
      ]
     },
     "execution_count": 8,
     "metadata": {},
     "output_type": "execute_result"
    }
   ],
   "source": [
    "from hyperopt import fmin, hp, rand, tpe\n",
    "from hyperopt.pyll.base import scope\n",
    "import math\n",
    "\n",
    "useRandomSearch = True\n",
    "hyperp_search_params = {\n",
    "#     \"kernels\": [ scope.int(hp.quniform('kernels1', 8, 16, 1)),\n",
    "#                 scope.int(hp.quniform('kernels2', 16, 32, 1)),\n",
    "#                 scope.int(hp.qloguniform('kernels3', math.log(1), math.log(16), 1)),\n",
    "#                 scope.int(hp.qloguniform('kernels4', math.log(1), math.log(16), 1)),\n",
    "#                 scope.int(hp.qloguniform('kernels5', math.log(1), math.log(16), 1))],\n",
    "#     \"kernelSize\": scope.int(hp.quniform('kernelSize', 3, 10, 1)), \n",
    "    # \"useZCAWhitening\": hp.choice('useZCAWhitening', [False, True]), \n",
    "#     \"n_channels\": scope.int(hp.choice('n_channels', [1, 3])), \n",
    "#     \"imageDimension\": scope.int(hp.quniform('imageDimension', 28, 420, 28)),\n",
    "    \"batchSize\": scope.int(hp.quniform('batchSize', 50, 550, 50)),\n",
    "    \"learning_rate\": hp.loguniform('learning_rate', math.log(0.0001), math.log(0.01)),\n",
    "    \"patience\": scope.int(hp.quniform('patience', 50, 500, 25)),\n",
    "}\n",
    "\n",
    "cp.writeHyperpSearch(hyperp_search_params)"
   ]
  },
  {
   "cell_type": "markdown",
   "metadata": {},
   "source": [
    "Hyperp search read"
   ]
  },
  {
   "cell_type": "code",
   "execution_count": 9,
   "metadata": {},
   "outputs": [
    {
     "name": "stdout",
     "output_type": "stream",
     "text": [
      "{'batchSize': <hyperopt.pyll.base.Apply object at 0x7f1d4b5bed68>, 'learning_rate': <hyperopt.pyll.base.Apply object at 0x7f1d4b5434a8>, 'patience': <hyperopt.pyll.base.Apply object at 0x7f1d4b543588>, 'image_path': <hyperopt.pyll.base.Apply object at 0x7f1d4b5becf8>, 'suffix': <hyperopt.pyll.base.Apply object at 0x7f1d4b543860>, 'training_count': <hyperopt.pyll.base.Apply object at 0x7f1d4b5439b0>, 'validation_count': <hyperopt.pyll.base.Apply object at 0x7f1d4b543b00>, 'imageDimension': <hyperopt.pyll.base.Apply object at 0x7f1d4b543c50>, 'n_channels': <hyperopt.pyll.base.Apply object at 0x7f1d4b543da0>, 'augmentation': <hyperopt.pyll.base.Apply object at 0x7f1d4b543ef0>, 'n_epochs': <hyperopt.pyll.base.Apply object at 0x7f1d4b548080>, 'numOfTrials': <hyperopt.pyll.base.Apply object at 0x7f1d4b5481d0>, 'useHeirarchy': <hyperopt.pyll.base.Apply object at 0x7f1d4b548320>, 'useRelu': <hyperopt.pyll.base.Apply object at 0x7f1d4b548470>, 'downsample': <hyperopt.pyll.base.Apply object at 0x7f1d4b5485c0>, 'downsampleOutput': <hyperopt.pyll.base.Apply object at 0x7f1d4b548710>, 'takeFromIntermediate': <hyperopt.pyll.base.Apply object at 0x7f1d4b548860>, 'takeFromIntermediateOutput': <hyperopt.pyll.base.Apply object at 0x7f1d4b5489b0>, 'fc_layers': <hyperopt.pyll.base.Apply object at 0x7f1d4b548b00>, 'useAdam': <hyperopt.pyll.base.Apply object at 0x7f1d4b548c50>, 'resnet': <hyperopt.pyll.base.Apply object at 0x7f1d4b548da0>, 'normalize': <hyperopt.pyll.base.Apply object at 0x7f1d4b548ef0>, 'softmax': <hyperopt.pyll.base.Apply object at 0x7f1d4b54f080>}\n",
      "{'augmentation': False, 'batchSize': 100, 'downsample': True, 'downsampleOutput': 50, 'fc_layers': 2, 'imageDimension': 224, 'image_path': '/data/BGNN_data/INHS_cropped', 'learning_rate': 0.004595362493294816, 'n_channels': 3, 'n_epochs': 1000, 'normalize': False, 'numOfTrials': 3, 'patience': 100, 'resnet': '18', 'softmax': True, 'suffix': '50_11', 'takeFromIntermediate': True, 'takeFromIntermediateOutput': 50, 'training_count': 0.64, 'useAdam': False, 'useHeirarchy': True, 'useRelu': True, 'validation_count': 0.16}\n",
      "{'augmentation': False, 'batchSize': 500, 'downsample': True, 'downsampleOutput': 50, 'fc_layers': 2, 'imageDimension': 224, 'image_path': '/data/BGNN_data/INHS_cropped', 'learning_rate': 0.0025449823121836664, 'n_channels': 3, 'n_epochs': 1000, 'normalize': False, 'numOfTrials': 3, 'patience': 475, 'resnet': '18', 'softmax': True, 'suffix': '50_11', 'takeFromIntermediate': True, 'takeFromIntermediateOutput': 50, 'training_count': 0.64, 'useAdam': False, 'useHeirarchy': True, 'useRelu': True, 'validation_count': 0.16}\n",
      "{'augmentation': False, 'batchSize': 100, 'downsample': True, 'downsampleOutput': 50, 'fc_layers': 2, 'imageDimension': 224, 'image_path': '/data/BGNN_data/INHS_cropped', 'learning_rate': 0.002929189322997293, 'n_channels': 3, 'n_epochs': 1000, 'normalize': False, 'numOfTrials': 3, 'patience': 325, 'resnet': '18', 'softmax': True, 'suffix': '50_11', 'takeFromIntermediate': True, 'takeFromIntermediateOutput': 50, 'training_count': 0.64, 'useAdam': False, 'useHeirarchy': True, 'useRelu': True, 'validation_count': 0.16}\n",
      "{'augmentation': False, 'batchSize': 350, 'downsample': True, 'downsampleOutput': 50, 'fc_layers': 2, 'imageDimension': 224, 'image_path': '/data/BGNN_data/INHS_cropped', 'learning_rate': 0.0003743237574176654, 'n_channels': 3, 'n_epochs': 1000, 'normalize': False, 'numOfTrials': 3, 'patience': 125, 'resnet': '18', 'softmax': True, 'suffix': '50_11', 'takeFromIntermediate': True, 'takeFromIntermediateOutput': 50, 'training_count': 0.64, 'useAdam': False, 'useHeirarchy': True, 'useRelu': True, 'validation_count': 0.16}\n",
      "{'augmentation': False, 'batchSize': 500, 'downsample': True, 'downsampleOutput': 50, 'fc_layers': 2, 'imageDimension': 224, 'image_path': '/data/BGNN_data/INHS_cropped', 'learning_rate': 0.0001880522082182027, 'n_channels': 3, 'n_epochs': 1000, 'normalize': False, 'numOfTrials': 3, 'patience': 300, 'resnet': '18', 'softmax': True, 'suffix': '50_11', 'takeFromIntermediate': True, 'takeFromIntermediateOutput': 50, 'training_count': 0.64, 'useAdam': False, 'useHeirarchy': True, 'useRelu': True, 'validation_count': 0.16}\n",
      "{'augmentation': False, 'batchSize': 50, 'downsample': True, 'downsampleOutput': 50, 'fc_layers': 2, 'imageDimension': 224, 'image_path': '/data/BGNN_data/INHS_cropped', 'learning_rate': 0.00040552580790244086, 'n_channels': 3, 'n_epochs': 1000, 'normalize': False, 'numOfTrials': 3, 'patience': 425, 'resnet': '18', 'softmax': True, 'suffix': '50_11', 'takeFromIntermediate': True, 'takeFromIntermediateOutput': 50, 'training_count': 0.64, 'useAdam': False, 'useHeirarchy': True, 'useRelu': True, 'validation_count': 0.16}\n",
      "{'augmentation': False, 'batchSize': 500, 'downsample': True, 'downsampleOutput': 50, 'fc_layers': 2, 'imageDimension': 224, 'image_path': '/data/BGNN_data/INHS_cropped', 'learning_rate': 0.0005361595974628601, 'n_channels': 3, 'n_epochs': 1000, 'normalize': False, 'numOfTrials': 3, 'patience': 150, 'resnet': '18', 'softmax': True, 'suffix': '50_11', 'takeFromIntermediate': True, 'takeFromIntermediateOutput': 50, 'training_count': 0.64, 'useAdam': False, 'useHeirarchy': True, 'useRelu': True, 'validation_count': 0.16}\n",
      "{'augmentation': False, 'batchSize': 400, 'downsample': True, 'downsampleOutput': 50, 'fc_layers': 2, 'imageDimension': 224, 'image_path': '/data/BGNN_data/INHS_cropped', 'learning_rate': 0.0032606014861127934, 'n_channels': 3, 'n_epochs': 1000, 'normalize': False, 'numOfTrials': 3, 'patience': 225, 'resnet': '18', 'softmax': True, 'suffix': '50_11', 'takeFromIntermediate': True, 'takeFromIntermediateOutput': 50, 'training_count': 0.64, 'useAdam': False, 'useHeirarchy': True, 'useRelu': True, 'validation_count': 0.16}\n",
      "{'augmentation': False, 'batchSize': 100, 'downsample': True, 'downsampleOutput': 50, 'fc_layers': 2, 'imageDimension': 224, 'image_path': '/data/BGNN_data/INHS_cropped', 'learning_rate': 0.00121599192920467, 'n_channels': 3, 'n_epochs': 1000, 'normalize': False, 'numOfTrials': 3, 'patience': 250, 'resnet': '18', 'softmax': True, 'suffix': '50_11', 'takeFromIntermediate': True, 'takeFromIntermediateOutput': 50, 'training_count': 0.64, 'useAdam': False, 'useHeirarchy': True, 'useRelu': True, 'validation_count': 0.16}\n",
      "{'augmentation': False, 'batchSize': 350, 'downsample': True, 'downsampleOutput': 50, 'fc_layers': 2, 'imageDimension': 224, 'image_path': '/data/BGNN_data/INHS_cropped', 'learning_rate': 0.00021992287103940074, 'n_channels': 3, 'n_epochs': 1000, 'normalize': False, 'numOfTrials': 3, 'patience': 400, 'resnet': '18', 'softmax': True, 'suffix': '50_11', 'takeFromIntermediate': True, 'takeFromIntermediateOutput': 50, 'training_count': 0.64, 'useAdam': False, 'useHeirarchy': True, 'useRelu': True, 'validation_count': 0.16}\n",
      "{'augmentation': False, 'batchSize': 300, 'downsample': True, 'downsampleOutput': 50, 'fc_layers': 2, 'imageDimension': 224, 'image_path': '/data/BGNN_data/INHS_cropped', 'learning_rate': 0.006287024822895275, 'n_channels': 3, 'n_epochs': 1000, 'normalize': False, 'numOfTrials': 3, 'patience': 175, 'resnet': '18', 'softmax': True, 'suffix': '50_11', 'takeFromIntermediate': True, 'takeFromIntermediateOutput': 50, 'training_count': 0.64, 'useAdam': False, 'useHeirarchy': True, 'useRelu': True, 'validation_count': 0.16}\n",
      "{'augmentation': False, 'batchSize': 150, 'downsample': True, 'downsampleOutput': 50, 'fc_layers': 2, 'imageDimension': 224, 'image_path': '/data/BGNN_data/INHS_cropped', 'learning_rate': 0.00014237162297362638, 'n_channels': 3, 'n_epochs': 1000, 'normalize': False, 'numOfTrials': 3, 'patience': 200, 'resnet': '18', 'softmax': True, 'suffix': '50_11', 'takeFromIntermediate': True, 'takeFromIntermediateOutput': 50, 'training_count': 0.64, 'useAdam': False, 'useHeirarchy': True, 'useRelu': True, 'validation_count': 0.16}\n",
      "{'augmentation': False, 'batchSize': 100, 'downsample': True, 'downsampleOutput': 50, 'fc_layers': 2, 'imageDimension': 224, 'image_path': '/data/BGNN_data/INHS_cropped', 'learning_rate': 0.0023162031046865617, 'n_channels': 3, 'n_epochs': 1000, 'normalize': False, 'numOfTrials': 3, 'patience': 100, 'resnet': '18', 'softmax': True, 'suffix': '50_11', 'takeFromIntermediate': True, 'takeFromIntermediateOutput': 50, 'training_count': 0.64, 'useAdam': False, 'useHeirarchy': True, 'useRelu': True, 'validation_count': 0.16}\n"
     ]
    },
    {
     "name": "stdout",
     "output_type": "stream",
     "text": [
      "{'augmentation': False, 'batchSize': 250, 'downsample': True, 'downsampleOutput': 50, 'fc_layers': 2, 'imageDimension': 224, 'image_path': '/data/BGNN_data/INHS_cropped', 'learning_rate': 0.0002179200254930283, 'n_channels': 3, 'n_epochs': 1000, 'normalize': False, 'numOfTrials': 3, 'patience': 400, 'resnet': '18', 'softmax': True, 'suffix': '50_11', 'takeFromIntermediate': True, 'takeFromIntermediateOutput': 50, 'training_count': 0.64, 'useAdam': False, 'useHeirarchy': True, 'useRelu': True, 'validation_count': 0.16}\n",
      "{'augmentation': False, 'batchSize': 500, 'downsample': True, 'downsampleOutput': 50, 'fc_layers': 2, 'imageDimension': 224, 'image_path': '/data/BGNN_data/INHS_cropped', 'learning_rate': 0.00026208474658322807, 'n_channels': 3, 'n_epochs': 1000, 'normalize': False, 'numOfTrials': 3, 'patience': 250, 'resnet': '18', 'softmax': True, 'suffix': '50_11', 'takeFromIntermediate': True, 'takeFromIntermediateOutput': 50, 'training_count': 0.64, 'useAdam': False, 'useHeirarchy': True, 'useRelu': True, 'validation_count': 0.16}\n",
      "{'augmentation': False, 'batchSize': 100, 'downsample': True, 'downsampleOutput': 50, 'fc_layers': 2, 'imageDimension': 224, 'image_path': '/data/BGNN_data/INHS_cropped', 'learning_rate': 0.005952967398748057, 'n_channels': 3, 'n_epochs': 1000, 'normalize': False, 'numOfTrials': 3, 'patience': 75, 'resnet': '18', 'softmax': True, 'suffix': '50_11', 'takeFromIntermediate': True, 'takeFromIntermediateOutput': 50, 'training_count': 0.64, 'useAdam': False, 'useHeirarchy': True, 'useRelu': True, 'validation_count': 0.16}\n",
      "{'augmentation': False, 'batchSize': 350, 'downsample': True, 'downsampleOutput': 50, 'fc_layers': 2, 'imageDimension': 224, 'image_path': '/data/BGNN_data/INHS_cropped', 'learning_rate': 0.00813245252360902, 'n_channels': 3, 'n_epochs': 1000, 'normalize': False, 'numOfTrials': 3, 'patience': 500, 'resnet': '18', 'softmax': True, 'suffix': '50_11', 'takeFromIntermediate': True, 'takeFromIntermediateOutput': 50, 'training_count': 0.64, 'useAdam': False, 'useHeirarchy': True, 'useRelu': True, 'validation_count': 0.16}\n",
      "{'augmentation': False, 'batchSize': 350, 'downsample': True, 'downsampleOutput': 50, 'fc_layers': 2, 'imageDimension': 224, 'image_path': '/data/BGNN_data/INHS_cropped', 'learning_rate': 0.0006796643889750906, 'n_channels': 3, 'n_epochs': 1000, 'normalize': False, 'numOfTrials': 3, 'patience': 300, 'resnet': '18', 'softmax': True, 'suffix': '50_11', 'takeFromIntermediate': True, 'takeFromIntermediateOutput': 50, 'training_count': 0.64, 'useAdam': False, 'useHeirarchy': True, 'useRelu': True, 'validation_count': 0.16}\n",
      "{'augmentation': False, 'batchSize': 100, 'downsample': True, 'downsampleOutput': 50, 'fc_layers': 2, 'imageDimension': 224, 'image_path': '/data/BGNN_data/INHS_cropped', 'learning_rate': 0.0007980646825255762, 'n_channels': 3, 'n_epochs': 1000, 'normalize': False, 'numOfTrials': 3, 'patience': 250, 'resnet': '18', 'softmax': True, 'suffix': '50_11', 'takeFromIntermediate': True, 'takeFromIntermediateOutput': 50, 'training_count': 0.64, 'useAdam': False, 'useHeirarchy': True, 'useRelu': True, 'validation_count': 0.16}\n",
      "{'augmentation': False, 'batchSize': 150, 'downsample': True, 'downsampleOutput': 50, 'fc_layers': 2, 'imageDimension': 224, 'image_path': '/data/BGNN_data/INHS_cropped', 'learning_rate': 0.0001022020577728702, 'n_channels': 3, 'n_epochs': 1000, 'normalize': False, 'numOfTrials': 3, 'patience': 150, 'resnet': '18', 'softmax': True, 'suffix': '50_11', 'takeFromIntermediate': True, 'takeFromIntermediateOutput': 50, 'training_count': 0.64, 'useAdam': False, 'useHeirarchy': True, 'useRelu': True, 'validation_count': 0.16}\n",
      "{'augmentation': False, 'batchSize': 150, 'downsample': True, 'downsampleOutput': 50, 'fc_layers': 2, 'imageDimension': 224, 'image_path': '/data/BGNN_data/INHS_cropped', 'learning_rate': 0.001145827042672268, 'n_channels': 3, 'n_epochs': 1000, 'normalize': False, 'numOfTrials': 3, 'patience': 350, 'resnet': '18', 'softmax': True, 'suffix': '50_11', 'takeFromIntermediate': True, 'takeFromIntermediateOutput': 50, 'training_count': 0.64, 'useAdam': False, 'useHeirarchy': True, 'useRelu': True, 'validation_count': 0.16}\n",
      "{'augmentation': False, 'batchSize': 350, 'downsample': True, 'downsampleOutput': 50, 'fc_layers': 2, 'imageDimension': 224, 'image_path': '/data/BGNN_data/INHS_cropped', 'learning_rate': 0.0006702064030977528, 'n_channels': 3, 'n_epochs': 1000, 'normalize': False, 'numOfTrials': 3, 'patience': 300, 'resnet': '18', 'softmax': True, 'suffix': '50_11', 'takeFromIntermediate': True, 'takeFromIntermediateOutput': 50, 'training_count': 0.64, 'useAdam': False, 'useHeirarchy': True, 'useRelu': True, 'validation_count': 0.16}\n",
      "{'augmentation': False, 'batchSize': 450, 'downsample': True, 'downsampleOutput': 50, 'fc_layers': 2, 'imageDimension': 224, 'image_path': '/data/BGNN_data/INHS_cropped', 'learning_rate': 0.009095021338799029, 'n_channels': 3, 'n_epochs': 1000, 'normalize': False, 'numOfTrials': 3, 'patience': 375, 'resnet': '18', 'softmax': True, 'suffix': '50_11', 'takeFromIntermediate': True, 'takeFromIntermediateOutput': 50, 'training_count': 0.64, 'useAdam': False, 'useHeirarchy': True, 'useRelu': True, 'validation_count': 0.16}\n",
      "{'augmentation': False, 'batchSize': 450, 'downsample': True, 'downsampleOutput': 50, 'fc_layers': 2, 'imageDimension': 224, 'image_path': '/data/BGNN_data/INHS_cropped', 'learning_rate': 0.00016467682679432318, 'n_channels': 3, 'n_epochs': 1000, 'normalize': False, 'numOfTrials': 3, 'patience': 375, 'resnet': '18', 'softmax': True, 'suffix': '50_11', 'takeFromIntermediate': True, 'takeFromIntermediateOutput': 50, 'training_count': 0.64, 'useAdam': False, 'useHeirarchy': True, 'useRelu': True, 'validation_count': 0.16}\n",
      "{'augmentation': False, 'batchSize': 500, 'downsample': True, 'downsampleOutput': 50, 'fc_layers': 2, 'imageDimension': 224, 'image_path': '/data/BGNN_data/INHS_cropped', 'learning_rate': 0.004483414919187711, 'n_channels': 3, 'n_epochs': 1000, 'normalize': False, 'numOfTrials': 3, 'patience': 350, 'resnet': '18', 'softmax': True, 'suffix': '50_11', 'takeFromIntermediate': True, 'takeFromIntermediateOutput': 50, 'training_count': 0.64, 'useAdam': False, 'useHeirarchy': True, 'useRelu': True, 'validation_count': 0.16}\n",
      "{'augmentation': False, 'batchSize': 250, 'downsample': True, 'downsampleOutput': 50, 'fc_layers': 2, 'imageDimension': 224, 'image_path': '/data/BGNN_data/INHS_cropped', 'learning_rate': 0.003291810402766863, 'n_channels': 3, 'n_epochs': 1000, 'normalize': False, 'numOfTrials': 3, 'patience': 325, 'resnet': '18', 'softmax': True, 'suffix': '50_11', 'takeFromIntermediate': True, 'takeFromIntermediateOutput': 50, 'training_count': 0.64, 'useAdam': False, 'useHeirarchy': True, 'useRelu': True, 'validation_count': 0.16}\n",
      "{'augmentation': False, 'batchSize': 200, 'downsample': True, 'downsampleOutput': 50, 'fc_layers': 2, 'imageDimension': 224, 'image_path': '/data/BGNN_data/INHS_cropped', 'learning_rate': 0.0008192379239721399, 'n_channels': 3, 'n_epochs': 1000, 'normalize': False, 'numOfTrials': 3, 'patience': 175, 'resnet': '18', 'softmax': True, 'suffix': '50_11', 'takeFromIntermediate': True, 'takeFromIntermediateOutput': 50, 'training_count': 0.64, 'useAdam': False, 'useHeirarchy': True, 'useRelu': True, 'validation_count': 0.16}\n",
      "{'augmentation': False, 'batchSize': 150, 'downsample': True, 'downsampleOutput': 50, 'fc_layers': 2, 'imageDimension': 224, 'image_path': '/data/BGNN_data/INHS_cropped', 'learning_rate': 0.0022954359971127363, 'n_channels': 3, 'n_epochs': 1000, 'normalize': False, 'numOfTrials': 3, 'patience': 125, 'resnet': '18', 'softmax': True, 'suffix': '50_11', 'takeFromIntermediate': True, 'takeFromIntermediateOutput': 50, 'training_count': 0.64, 'useAdam': False, 'useHeirarchy': True, 'useRelu': True, 'validation_count': 0.16}\n",
      "{'augmentation': False, 'batchSize': 100, 'downsample': True, 'downsampleOutput': 50, 'fc_layers': 2, 'imageDimension': 224, 'image_path': '/data/BGNN_data/INHS_cropped', 'learning_rate': 0.002883816391330904, 'n_channels': 3, 'n_epochs': 1000, 'normalize': False, 'numOfTrials': 3, 'patience': 150, 'resnet': '18', 'softmax': True, 'suffix': '50_11', 'takeFromIntermediate': True, 'takeFromIntermediateOutput': 50, 'training_count': 0.64, 'useAdam': False, 'useHeirarchy': True, 'useRelu': True, 'validation_count': 0.16}\n"
     ]
    },
    {
     "name": "stdout",
     "output_type": "stream",
     "text": [
      "{'augmentation': False, 'batchSize': 400, 'downsample': True, 'downsampleOutput': 50, 'fc_layers': 2, 'imageDimension': 224, 'image_path': '/data/BGNN_data/INHS_cropped', 'learning_rate': 0.00208593486008852, 'n_channels': 3, 'n_epochs': 1000, 'normalize': False, 'numOfTrials': 3, 'patience': 125, 'resnet': '18', 'softmax': True, 'suffix': '50_11', 'takeFromIntermediate': True, 'takeFromIntermediateOutput': 50, 'training_count': 0.64, 'useAdam': False, 'useHeirarchy': True, 'useRelu': True, 'validation_count': 0.16}\n",
      "{'augmentation': False, 'batchSize': 200, 'downsample': True, 'downsampleOutput': 50, 'fc_layers': 2, 'imageDimension': 224, 'image_path': '/data/BGNN_data/INHS_cropped', 'learning_rate': 0.00035274806842544766, 'n_channels': 3, 'n_epochs': 1000, 'normalize': False, 'numOfTrials': 3, 'patience': 175, 'resnet': '18', 'softmax': True, 'suffix': '50_11', 'takeFromIntermediate': True, 'takeFromIntermediateOutput': 50, 'training_count': 0.64, 'useAdam': False, 'useHeirarchy': True, 'useRelu': True, 'validation_count': 0.16}\n",
      "{'augmentation': False, 'batchSize': 500, 'downsample': True, 'downsampleOutput': 50, 'fc_layers': 2, 'imageDimension': 224, 'image_path': '/data/BGNN_data/INHS_cropped', 'learning_rate': 0.0001650890639107302, 'n_channels': 3, 'n_epochs': 1000, 'normalize': False, 'numOfTrials': 3, 'patience': 450, 'resnet': '18', 'softmax': True, 'suffix': '50_11', 'takeFromIntermediate': True, 'takeFromIntermediateOutput': 50, 'training_count': 0.64, 'useAdam': False, 'useHeirarchy': True, 'useRelu': True, 'validation_count': 0.16}\n",
      "{'augmentation': False, 'batchSize': 500, 'downsample': True, 'downsampleOutput': 50, 'fc_layers': 2, 'imageDimension': 224, 'image_path': '/data/BGNN_data/INHS_cropped', 'learning_rate': 0.00018672738285126214, 'n_channels': 3, 'n_epochs': 1000, 'normalize': False, 'numOfTrials': 3, 'patience': 100, 'resnet': '18', 'softmax': True, 'suffix': '50_11', 'takeFromIntermediate': True, 'takeFromIntermediateOutput': 50, 'training_count': 0.64, 'useAdam': False, 'useHeirarchy': True, 'useRelu': True, 'validation_count': 0.16}\n",
      "{'augmentation': False, 'batchSize': 250, 'downsample': True, 'downsampleOutput': 50, 'fc_layers': 2, 'imageDimension': 224, 'image_path': '/data/BGNN_data/INHS_cropped', 'learning_rate': 0.0004892993298648566, 'n_channels': 3, 'n_epochs': 1000, 'normalize': False, 'numOfTrials': 3, 'patience': 200, 'resnet': '18', 'softmax': True, 'suffix': '50_11', 'takeFromIntermediate': True, 'takeFromIntermediateOutput': 50, 'training_count': 0.64, 'useAdam': False, 'useHeirarchy': True, 'useRelu': True, 'validation_count': 0.16}\n",
      "{'augmentation': False, 'batchSize': 350, 'downsample': True, 'downsampleOutput': 50, 'fc_layers': 2, 'imageDimension': 224, 'image_path': '/data/BGNN_data/INHS_cropped', 'learning_rate': 0.00011798535759991149, 'n_channels': 3, 'n_epochs': 1000, 'normalize': False, 'numOfTrials': 3, 'patience': 75, 'resnet': '18', 'softmax': True, 'suffix': '50_11', 'takeFromIntermediate': True, 'takeFromIntermediateOutput': 50, 'training_count': 0.64, 'useAdam': False, 'useHeirarchy': True, 'useRelu': True, 'validation_count': 0.16}\n",
      "{'augmentation': False, 'batchSize': 200, 'downsample': True, 'downsampleOutput': 50, 'fc_layers': 2, 'imageDimension': 224, 'image_path': '/data/BGNN_data/INHS_cropped', 'learning_rate': 0.00010729535821479766, 'n_channels': 3, 'n_epochs': 1000, 'normalize': False, 'numOfTrials': 3, 'patience': 400, 'resnet': '18', 'softmax': True, 'suffix': '50_11', 'takeFromIntermediate': True, 'takeFromIntermediateOutput': 50, 'training_count': 0.64, 'useAdam': False, 'useHeirarchy': True, 'useRelu': True, 'validation_count': 0.16}\n",
      "{'augmentation': False, 'batchSize': 250, 'downsample': True, 'downsampleOutput': 50, 'fc_layers': 2, 'imageDimension': 224, 'image_path': '/data/BGNN_data/INHS_cropped', 'learning_rate': 0.003982116052813812, 'n_channels': 3, 'n_epochs': 1000, 'normalize': False, 'numOfTrials': 3, 'patience': 375, 'resnet': '18', 'softmax': True, 'suffix': '50_11', 'takeFromIntermediate': True, 'takeFromIntermediateOutput': 50, 'training_count': 0.64, 'useAdam': False, 'useHeirarchy': True, 'useRelu': True, 'validation_count': 0.16}\n",
      "{'augmentation': False, 'batchSize': 200, 'downsample': True, 'downsampleOutput': 50, 'fc_layers': 2, 'imageDimension': 224, 'image_path': '/data/BGNN_data/INHS_cropped', 'learning_rate': 0.0013039341347304207, 'n_channels': 3, 'n_epochs': 1000, 'normalize': False, 'numOfTrials': 3, 'patience': 300, 'resnet': '18', 'softmax': True, 'suffix': '50_11', 'takeFromIntermediate': True, 'takeFromIntermediateOutput': 50, 'training_count': 0.64, 'useAdam': False, 'useHeirarchy': True, 'useRelu': True, 'validation_count': 0.16}\n",
      "{'augmentation': False, 'batchSize': 550, 'downsample': True, 'downsampleOutput': 50, 'fc_layers': 2, 'imageDimension': 224, 'image_path': '/data/BGNN_data/INHS_cropped', 'learning_rate': 0.000685003276075427, 'n_channels': 3, 'n_epochs': 1000, 'normalize': False, 'numOfTrials': 3, 'patience': 325, 'resnet': '18', 'softmax': True, 'suffix': '50_11', 'takeFromIntermediate': True, 'takeFromIntermediateOutput': 50, 'training_count': 0.64, 'useAdam': False, 'useHeirarchy': True, 'useRelu': True, 'validation_count': 0.16}\n",
      "{'augmentation': False, 'batchSize': 50, 'downsample': True, 'downsampleOutput': 50, 'fc_layers': 2, 'imageDimension': 224, 'image_path': '/data/BGNN_data/INHS_cropped', 'learning_rate': 0.003388831547680263, 'n_channels': 3, 'n_epochs': 1000, 'normalize': False, 'numOfTrials': 3, 'patience': 475, 'resnet': '18', 'softmax': True, 'suffix': '50_11', 'takeFromIntermediate': True, 'takeFromIntermediateOutput': 50, 'training_count': 0.64, 'useAdam': False, 'useHeirarchy': True, 'useRelu': True, 'validation_count': 0.16}\n",
      "{'augmentation': False, 'batchSize': 250, 'downsample': True, 'downsampleOutput': 50, 'fc_layers': 2, 'imageDimension': 224, 'image_path': '/data/BGNN_data/INHS_cropped', 'learning_rate': 0.009029825001464042, 'n_channels': 3, 'n_epochs': 1000, 'normalize': False, 'numOfTrials': 3, 'patience': 275, 'resnet': '18', 'softmax': True, 'suffix': '50_11', 'takeFromIntermediate': True, 'takeFromIntermediateOutput': 50, 'training_count': 0.64, 'useAdam': False, 'useHeirarchy': True, 'useRelu': True, 'validation_count': 0.16}\n",
      "{'augmentation': False, 'batchSize': 200, 'downsample': True, 'downsampleOutput': 50, 'fc_layers': 2, 'imageDimension': 224, 'image_path': '/data/BGNN_data/INHS_cropped', 'learning_rate': 0.0013094672571669858, 'n_channels': 3, 'n_epochs': 1000, 'normalize': False, 'numOfTrials': 3, 'patience': 100, 'resnet': '18', 'softmax': True, 'suffix': '50_11', 'takeFromIntermediate': True, 'takeFromIntermediateOutput': 50, 'training_count': 0.64, 'useAdam': False, 'useHeirarchy': True, 'useRelu': True, 'validation_count': 0.16}\n",
      "{'augmentation': False, 'batchSize': 250, 'downsample': True, 'downsampleOutput': 50, 'fc_layers': 2, 'imageDimension': 224, 'image_path': '/data/BGNN_data/INHS_cropped', 'learning_rate': 0.004888697055154306, 'n_channels': 3, 'n_epochs': 1000, 'normalize': False, 'numOfTrials': 3, 'patience': 100, 'resnet': '18', 'softmax': True, 'suffix': '50_11', 'takeFromIntermediate': True, 'takeFromIntermediateOutput': 50, 'training_count': 0.64, 'useAdam': False, 'useHeirarchy': True, 'useRelu': True, 'validation_count': 0.16}\n",
      "{'augmentation': False, 'batchSize': 400, 'downsample': True, 'downsampleOutput': 50, 'fc_layers': 2, 'imageDimension': 224, 'image_path': '/data/BGNN_data/INHS_cropped', 'learning_rate': 0.0001033085308740911, 'n_channels': 3, 'n_epochs': 1000, 'normalize': False, 'numOfTrials': 3, 'patience': 400, 'resnet': '18', 'softmax': True, 'suffix': '50_11', 'takeFromIntermediate': True, 'takeFromIntermediateOutput': 50, 'training_count': 0.64, 'useAdam': False, 'useHeirarchy': True, 'useRelu': True, 'validation_count': 0.16}\n",
      "{'augmentation': False, 'batchSize': 250, 'downsample': True, 'downsampleOutput': 50, 'fc_layers': 2, 'imageDimension': 224, 'image_path': '/data/BGNN_data/INHS_cropped', 'learning_rate': 0.0018107676765841052, 'n_channels': 3, 'n_epochs': 1000, 'normalize': False, 'numOfTrials': 3, 'patience': 75, 'resnet': '18', 'softmax': True, 'suffix': '50_11', 'takeFromIntermediate': True, 'takeFromIntermediateOutput': 50, 'training_count': 0.64, 'useAdam': False, 'useHeirarchy': True, 'useRelu': True, 'validation_count': 0.16}\n"
     ]
    },
    {
     "name": "stdout",
     "output_type": "stream",
     "text": [
      "{'augmentation': False, 'batchSize': 250, 'downsample': True, 'downsampleOutput': 50, 'fc_layers': 2, 'imageDimension': 224, 'image_path': '/data/BGNN_data/INHS_cropped', 'learning_rate': 0.0015373416927708008, 'n_channels': 3, 'n_epochs': 1000, 'normalize': False, 'numOfTrials': 3, 'patience': 350, 'resnet': '18', 'softmax': True, 'suffix': '50_11', 'takeFromIntermediate': True, 'takeFromIntermediateOutput': 50, 'training_count': 0.64, 'useAdam': False, 'useHeirarchy': True, 'useRelu': True, 'validation_count': 0.16}\n",
      "{'augmentation': False, 'batchSize': 300, 'downsample': True, 'downsampleOutput': 50, 'fc_layers': 2, 'imageDimension': 224, 'image_path': '/data/BGNN_data/INHS_cropped', 'learning_rate': 0.003099057842200713, 'n_channels': 3, 'n_epochs': 1000, 'normalize': False, 'numOfTrials': 3, 'patience': 300, 'resnet': '18', 'softmax': True, 'suffix': '50_11', 'takeFromIntermediate': True, 'takeFromIntermediateOutput': 50, 'training_count': 0.64, 'useAdam': False, 'useHeirarchy': True, 'useRelu': True, 'validation_count': 0.16}\n",
      "{'augmentation': False, 'batchSize': 250, 'downsample': True, 'downsampleOutput': 50, 'fc_layers': 2, 'imageDimension': 224, 'image_path': '/data/BGNN_data/INHS_cropped', 'learning_rate': 0.0007828266314828175, 'n_channels': 3, 'n_epochs': 1000, 'normalize': False, 'numOfTrials': 3, 'patience': 275, 'resnet': '18', 'softmax': True, 'suffix': '50_11', 'takeFromIntermediate': True, 'takeFromIntermediateOutput': 50, 'training_count': 0.64, 'useAdam': False, 'useHeirarchy': True, 'useRelu': True, 'validation_count': 0.16}\n",
      "{'augmentation': False, 'batchSize': 350, 'downsample': True, 'downsampleOutput': 50, 'fc_layers': 2, 'imageDimension': 224, 'image_path': '/data/BGNN_data/INHS_cropped', 'learning_rate': 0.004737520054111194, 'n_channels': 3, 'n_epochs': 1000, 'normalize': False, 'numOfTrials': 3, 'patience': 425, 'resnet': '18', 'softmax': True, 'suffix': '50_11', 'takeFromIntermediate': True, 'takeFromIntermediateOutput': 50, 'training_count': 0.64, 'useAdam': False, 'useHeirarchy': True, 'useRelu': True, 'validation_count': 0.16}\n",
      "{'augmentation': False, 'batchSize': 300, 'downsample': True, 'downsampleOutput': 50, 'fc_layers': 2, 'imageDimension': 224, 'image_path': '/data/BGNN_data/INHS_cropped', 'learning_rate': 0.0005159561659829409, 'n_channels': 3, 'n_epochs': 1000, 'normalize': False, 'numOfTrials': 3, 'patience': 400, 'resnet': '18', 'softmax': True, 'suffix': '50_11', 'takeFromIntermediate': True, 'takeFromIntermediateOutput': 50, 'training_count': 0.64, 'useAdam': False, 'useHeirarchy': True, 'useRelu': True, 'validation_count': 0.16}\n",
      "{'augmentation': False, 'batchSize': 300, 'downsample': True, 'downsampleOutput': 50, 'fc_layers': 2, 'imageDimension': 224, 'image_path': '/data/BGNN_data/INHS_cropped', 'learning_rate': 0.002316941679207412, 'n_channels': 3, 'n_epochs': 1000, 'normalize': False, 'numOfTrials': 3, 'patience': 275, 'resnet': '18', 'softmax': True, 'suffix': '50_11', 'takeFromIntermediate': True, 'takeFromIntermediateOutput': 50, 'training_count': 0.64, 'useAdam': False, 'useHeirarchy': True, 'useRelu': True, 'validation_count': 0.16}\n",
      "{'augmentation': False, 'batchSize': 200, 'downsample': True, 'downsampleOutput': 50, 'fc_layers': 2, 'imageDimension': 224, 'image_path': '/data/BGNN_data/INHS_cropped', 'learning_rate': 0.000157733902182977, 'n_channels': 3, 'n_epochs': 1000, 'normalize': False, 'numOfTrials': 3, 'patience': 425, 'resnet': '18', 'softmax': True, 'suffix': '50_11', 'takeFromIntermediate': True, 'takeFromIntermediateOutput': 50, 'training_count': 0.64, 'useAdam': False, 'useHeirarchy': True, 'useRelu': True, 'validation_count': 0.16}\n",
      "{'augmentation': False, 'batchSize': 250, 'downsample': True, 'downsampleOutput': 50, 'fc_layers': 2, 'imageDimension': 224, 'image_path': '/data/BGNN_data/INHS_cropped', 'learning_rate': 0.004734330333342901, 'n_channels': 3, 'n_epochs': 1000, 'normalize': False, 'numOfTrials': 3, 'patience': 200, 'resnet': '18', 'softmax': True, 'suffix': '50_11', 'takeFromIntermediate': True, 'takeFromIntermediateOutput': 50, 'training_count': 0.64, 'useAdam': False, 'useHeirarchy': True, 'useRelu': True, 'validation_count': 0.16}\n",
      "{'augmentation': False, 'batchSize': 400, 'downsample': True, 'downsampleOutput': 50, 'fc_layers': 2, 'imageDimension': 224, 'image_path': '/data/BGNN_data/INHS_cropped', 'learning_rate': 0.00036431670132746393, 'n_channels': 3, 'n_epochs': 1000, 'normalize': False, 'numOfTrials': 3, 'patience': 300, 'resnet': '18', 'softmax': True, 'suffix': '50_11', 'takeFromIntermediate': True, 'takeFromIntermediateOutput': 50, 'training_count': 0.64, 'useAdam': False, 'useHeirarchy': True, 'useRelu': True, 'validation_count': 0.16}\n",
      "{'augmentation': False, 'batchSize': 200, 'downsample': True, 'downsampleOutput': 50, 'fc_layers': 2, 'imageDimension': 224, 'image_path': '/data/BGNN_data/INHS_cropped', 'learning_rate': 0.00015874826262138948, 'n_channels': 3, 'n_epochs': 1000, 'normalize': False, 'numOfTrials': 3, 'patience': 50, 'resnet': '18', 'softmax': True, 'suffix': '50_11', 'takeFromIntermediate': True, 'takeFromIntermediateOutput': 50, 'training_count': 0.64, 'useAdam': False, 'useHeirarchy': True, 'useRelu': True, 'validation_count': 0.16}\n",
      "{'augmentation': False, 'batchSize': 500, 'downsample': True, 'downsampleOutput': 50, 'fc_layers': 2, 'imageDimension': 224, 'image_path': '/data/BGNN_data/INHS_cropped', 'learning_rate': 0.0004141583747637727, 'n_channels': 3, 'n_epochs': 1000, 'normalize': False, 'numOfTrials': 3, 'patience': 175, 'resnet': '18', 'softmax': True, 'suffix': '50_11', 'takeFromIntermediate': True, 'takeFromIntermediateOutput': 50, 'training_count': 0.64, 'useAdam': False, 'useHeirarchy': True, 'useRelu': True, 'validation_count': 0.16}\n",
      "{'augmentation': False, 'batchSize': 500, 'downsample': True, 'downsampleOutput': 50, 'fc_layers': 2, 'imageDimension': 224, 'image_path': '/data/BGNN_data/INHS_cropped', 'learning_rate': 0.0015494622925942567, 'n_channels': 3, 'n_epochs': 1000, 'normalize': False, 'numOfTrials': 3, 'patience': 175, 'resnet': '18', 'softmax': True, 'suffix': '50_11', 'takeFromIntermediate': True, 'takeFromIntermediateOutput': 50, 'training_count': 0.64, 'useAdam': False, 'useHeirarchy': True, 'useRelu': True, 'validation_count': 0.16}\n",
      "{'augmentation': False, 'batchSize': 300, 'downsample': True, 'downsampleOutput': 50, 'fc_layers': 2, 'imageDimension': 224, 'image_path': '/data/BGNN_data/INHS_cropped', 'learning_rate': 0.0015063899317318905, 'n_channels': 3, 'n_epochs': 1000, 'normalize': False, 'numOfTrials': 3, 'patience': 150, 'resnet': '18', 'softmax': True, 'suffix': '50_11', 'takeFromIntermediate': True, 'takeFromIntermediateOutput': 50, 'training_count': 0.64, 'useAdam': False, 'useHeirarchy': True, 'useRelu': True, 'validation_count': 0.16}\n",
      "{'augmentation': False, 'batchSize': 450, 'downsample': True, 'downsampleOutput': 50, 'fc_layers': 2, 'imageDimension': 224, 'image_path': '/data/BGNN_data/INHS_cropped', 'learning_rate': 0.000617976584378683, 'n_channels': 3, 'n_epochs': 1000, 'normalize': False, 'numOfTrials': 3, 'patience': 200, 'resnet': '18', 'softmax': True, 'suffix': '50_11', 'takeFromIntermediate': True, 'takeFromIntermediateOutput': 50, 'training_count': 0.64, 'useAdam': False, 'useHeirarchy': True, 'useRelu': True, 'validation_count': 0.16}\n",
      "{'augmentation': False, 'batchSize': 50, 'downsample': True, 'downsampleOutput': 50, 'fc_layers': 2, 'imageDimension': 224, 'image_path': '/data/BGNN_data/INHS_cropped', 'learning_rate': 0.00036248047372845077, 'n_channels': 3, 'n_epochs': 1000, 'normalize': False, 'numOfTrials': 3, 'patience': 275, 'resnet': '18', 'softmax': True, 'suffix': '50_11', 'takeFromIntermediate': True, 'takeFromIntermediateOutput': 50, 'training_count': 0.64, 'useAdam': False, 'useHeirarchy': True, 'useRelu': True, 'validation_count': 0.16}\n",
      "{'augmentation': False, 'batchSize': 250, 'downsample': True, 'downsampleOutput': 50, 'fc_layers': 2, 'imageDimension': 224, 'image_path': '/data/BGNN_data/INHS_cropped', 'learning_rate': 0.005891364465833379, 'n_channels': 3, 'n_epochs': 1000, 'normalize': False, 'numOfTrials': 3, 'patience': 275, 'resnet': '18', 'softmax': True, 'suffix': '50_11', 'takeFromIntermediate': True, 'takeFromIntermediateOutput': 50, 'training_count': 0.64, 'useAdam': False, 'useHeirarchy': True, 'useRelu': True, 'validation_count': 0.16}\n"
     ]
    },
    {
     "name": "stdout",
     "output_type": "stream",
     "text": [
      "{'augmentation': False, 'batchSize': 200, 'downsample': True, 'downsampleOutput': 50, 'fc_layers': 2, 'imageDimension': 224, 'image_path': '/data/BGNN_data/INHS_cropped', 'learning_rate': 0.00038259646628794637, 'n_channels': 3, 'n_epochs': 1000, 'normalize': False, 'numOfTrials': 3, 'patience': 350, 'resnet': '18', 'softmax': True, 'suffix': '50_11', 'takeFromIntermediate': True, 'takeFromIntermediateOutput': 50, 'training_count': 0.64, 'useAdam': False, 'useHeirarchy': True, 'useRelu': True, 'validation_count': 0.16}\n",
      "{'augmentation': False, 'batchSize': 500, 'downsample': True, 'downsampleOutput': 50, 'fc_layers': 2, 'imageDimension': 224, 'image_path': '/data/BGNN_data/INHS_cropped', 'learning_rate': 0.00020314667515884487, 'n_channels': 3, 'n_epochs': 1000, 'normalize': False, 'numOfTrials': 3, 'patience': 450, 'resnet': '18', 'softmax': True, 'suffix': '50_11', 'takeFromIntermediate': True, 'takeFromIntermediateOutput': 50, 'training_count': 0.64, 'useAdam': False, 'useHeirarchy': True, 'useRelu': True, 'validation_count': 0.16}\n",
      "{'augmentation': False, 'batchSize': 100, 'downsample': True, 'downsampleOutput': 50, 'fc_layers': 2, 'imageDimension': 224, 'image_path': '/data/BGNN_data/INHS_cropped', 'learning_rate': 0.00012637036745238636, 'n_channels': 3, 'n_epochs': 1000, 'normalize': False, 'numOfTrials': 3, 'patience': 50, 'resnet': '18', 'softmax': True, 'suffix': '50_11', 'takeFromIntermediate': True, 'takeFromIntermediateOutput': 50, 'training_count': 0.64, 'useAdam': False, 'useHeirarchy': True, 'useRelu': True, 'validation_count': 0.16}\n",
      "{'augmentation': False, 'batchSize': 150, 'downsample': True, 'downsampleOutput': 50, 'fc_layers': 2, 'imageDimension': 224, 'image_path': '/data/BGNN_data/INHS_cropped', 'learning_rate': 0.0028812690330790192, 'n_channels': 3, 'n_epochs': 1000, 'normalize': False, 'numOfTrials': 3, 'patience': 125, 'resnet': '18', 'softmax': True, 'suffix': '50_11', 'takeFromIntermediate': True, 'takeFromIntermediateOutput': 50, 'training_count': 0.64, 'useAdam': False, 'useHeirarchy': True, 'useRelu': True, 'validation_count': 0.16}\n",
      "{'augmentation': False, 'batchSize': 550, 'downsample': True, 'downsampleOutput': 50, 'fc_layers': 2, 'imageDimension': 224, 'image_path': '/data/BGNN_data/INHS_cropped', 'learning_rate': 0.0008513907140597374, 'n_channels': 3, 'n_epochs': 1000, 'normalize': False, 'numOfTrials': 3, 'patience': 275, 'resnet': '18', 'softmax': True, 'suffix': '50_11', 'takeFromIntermediate': True, 'takeFromIntermediateOutput': 50, 'training_count': 0.64, 'useAdam': False, 'useHeirarchy': True, 'useRelu': True, 'validation_count': 0.16}\n",
      "{'augmentation': False, 'batchSize': 100, 'downsample': True, 'downsampleOutput': 50, 'fc_layers': 2, 'imageDimension': 224, 'image_path': '/data/BGNN_data/INHS_cropped', 'learning_rate': 0.0005357176152966581, 'n_channels': 3, 'n_epochs': 1000, 'normalize': False, 'numOfTrials': 3, 'patience': 250, 'resnet': '18', 'softmax': True, 'suffix': '50_11', 'takeFromIntermediate': True, 'takeFromIntermediateOutput': 50, 'training_count': 0.64, 'useAdam': False, 'useHeirarchy': True, 'useRelu': True, 'validation_count': 0.16}\n",
      "{'augmentation': False, 'batchSize': 150, 'downsample': True, 'downsampleOutput': 50, 'fc_layers': 2, 'imageDimension': 224, 'image_path': '/data/BGNN_data/INHS_cropped', 'learning_rate': 0.0070484964325799385, 'n_channels': 3, 'n_epochs': 1000, 'normalize': False, 'numOfTrials': 3, 'patience': 75, 'resnet': '18', 'softmax': True, 'suffix': '50_11', 'takeFromIntermediate': True, 'takeFromIntermediateOutput': 50, 'training_count': 0.64, 'useAdam': False, 'useHeirarchy': True, 'useRelu': True, 'validation_count': 0.16}\n",
      "{'augmentation': False, 'batchSize': 250, 'downsample': True, 'downsampleOutput': 50, 'fc_layers': 2, 'imageDimension': 224, 'image_path': '/data/BGNN_data/INHS_cropped', 'learning_rate': 0.00249902654047375, 'n_channels': 3, 'n_epochs': 1000, 'normalize': False, 'numOfTrials': 3, 'patience': 400, 'resnet': '18', 'softmax': True, 'suffix': '50_11', 'takeFromIntermediate': True, 'takeFromIntermediateOutput': 50, 'training_count': 0.64, 'useAdam': False, 'useHeirarchy': True, 'useRelu': True, 'validation_count': 0.16}\n",
      "{'augmentation': False, 'batchSize': 300, 'downsample': True, 'downsampleOutput': 50, 'fc_layers': 2, 'imageDimension': 224, 'image_path': '/data/BGNN_data/INHS_cropped', 'learning_rate': 0.009927158782777527, 'n_channels': 3, 'n_epochs': 1000, 'normalize': False, 'numOfTrials': 3, 'patience': 300, 'resnet': '18', 'softmax': True, 'suffix': '50_11', 'takeFromIntermediate': True, 'takeFromIntermediateOutput': 50, 'training_count': 0.64, 'useAdam': False, 'useHeirarchy': True, 'useRelu': True, 'validation_count': 0.16}\n",
      "{'augmentation': False, 'batchSize': 450, 'downsample': True, 'downsampleOutput': 50, 'fc_layers': 2, 'imageDimension': 224, 'image_path': '/data/BGNN_data/INHS_cropped', 'learning_rate': 0.001118079847241099, 'n_channels': 3, 'n_epochs': 1000, 'normalize': False, 'numOfTrials': 3, 'patience': 75, 'resnet': '18', 'softmax': True, 'suffix': '50_11', 'takeFromIntermediate': True, 'takeFromIntermediateOutput': 50, 'training_count': 0.64, 'useAdam': False, 'useHeirarchy': True, 'useRelu': True, 'validation_count': 0.16}\n",
      "{'augmentation': False, 'batchSize': 150, 'downsample': True, 'downsampleOutput': 50, 'fc_layers': 2, 'imageDimension': 224, 'image_path': '/data/BGNN_data/INHS_cropped', 'learning_rate': 0.003324115140569948, 'n_channels': 3, 'n_epochs': 1000, 'normalize': False, 'numOfTrials': 3, 'patience': 75, 'resnet': '18', 'softmax': True, 'suffix': '50_11', 'takeFromIntermediate': True, 'takeFromIntermediateOutput': 50, 'training_count': 0.64, 'useAdam': False, 'useHeirarchy': True, 'useRelu': True, 'validation_count': 0.16}\n",
      "{'augmentation': False, 'batchSize': 250, 'downsample': True, 'downsampleOutput': 50, 'fc_layers': 2, 'imageDimension': 224, 'image_path': '/data/BGNN_data/INHS_cropped', 'learning_rate': 0.0011554090238794685, 'n_channels': 3, 'n_epochs': 1000, 'normalize': False, 'numOfTrials': 3, 'patience': 225, 'resnet': '18', 'softmax': True, 'suffix': '50_11', 'takeFromIntermediate': True, 'takeFromIntermediateOutput': 50, 'training_count': 0.64, 'useAdam': False, 'useHeirarchy': True, 'useRelu': True, 'validation_count': 0.16}\n",
      "{'augmentation': False, 'batchSize': 200, 'downsample': True, 'downsampleOutput': 50, 'fc_layers': 2, 'imageDimension': 224, 'image_path': '/data/BGNN_data/INHS_cropped', 'learning_rate': 0.00013216893885367902, 'n_channels': 3, 'n_epochs': 1000, 'normalize': False, 'numOfTrials': 3, 'patience': 425, 'resnet': '18', 'softmax': True, 'suffix': '50_11', 'takeFromIntermediate': True, 'takeFromIntermediateOutput': 50, 'training_count': 0.64, 'useAdam': False, 'useHeirarchy': True, 'useRelu': True, 'validation_count': 0.16}\n",
      "{'augmentation': False, 'batchSize': 500, 'downsample': True, 'downsampleOutput': 50, 'fc_layers': 2, 'imageDimension': 224, 'image_path': '/data/BGNN_data/INHS_cropped', 'learning_rate': 0.0025582377907428316, 'n_channels': 3, 'n_epochs': 1000, 'normalize': False, 'numOfTrials': 3, 'patience': 50, 'resnet': '18', 'softmax': True, 'suffix': '50_11', 'takeFromIntermediate': True, 'takeFromIntermediateOutput': 50, 'training_count': 0.64, 'useAdam': False, 'useHeirarchy': True, 'useRelu': True, 'validation_count': 0.16}\n",
      "{'augmentation': False, 'batchSize': 250, 'downsample': True, 'downsampleOutput': 50, 'fc_layers': 2, 'imageDimension': 224, 'image_path': '/data/BGNN_data/INHS_cropped', 'learning_rate': 0.0022908533739612186, 'n_channels': 3, 'n_epochs': 1000, 'normalize': False, 'numOfTrials': 3, 'patience': 400, 'resnet': '18', 'softmax': True, 'suffix': '50_11', 'takeFromIntermediate': True, 'takeFromIntermediateOutput': 50, 'training_count': 0.64, 'useAdam': False, 'useHeirarchy': True, 'useRelu': True, 'validation_count': 0.16}\n",
      "{'augmentation': False, 'batchSize': 200, 'downsample': True, 'downsampleOutput': 50, 'fc_layers': 2, 'imageDimension': 224, 'image_path': '/data/BGNN_data/INHS_cropped', 'learning_rate': 0.0002678571396037054, 'n_channels': 3, 'n_epochs': 1000, 'normalize': False, 'numOfTrials': 3, 'patience': 375, 'resnet': '18', 'softmax': True, 'suffix': '50_11', 'takeFromIntermediate': True, 'takeFromIntermediateOutput': 50, 'training_count': 0.64, 'useAdam': False, 'useHeirarchy': True, 'useRelu': True, 'validation_count': 0.16}\n"
     ]
    },
    {
     "name": "stdout",
     "output_type": "stream",
     "text": [
      "{'augmentation': False, 'batchSize': 150, 'downsample': True, 'downsampleOutput': 50, 'fc_layers': 2, 'imageDimension': 224, 'image_path': '/data/BGNN_data/INHS_cropped', 'learning_rate': 0.00022561440442391784, 'n_channels': 3, 'n_epochs': 1000, 'normalize': False, 'numOfTrials': 3, 'patience': 75, 'resnet': '18', 'softmax': True, 'suffix': '50_11', 'takeFromIntermediate': True, 'takeFromIntermediateOutput': 50, 'training_count': 0.64, 'useAdam': False, 'useHeirarchy': True, 'useRelu': True, 'validation_count': 0.16}\n",
      "{'augmentation': False, 'batchSize': 400, 'downsample': True, 'downsampleOutput': 50, 'fc_layers': 2, 'imageDimension': 224, 'image_path': '/data/BGNN_data/INHS_cropped', 'learning_rate': 0.0037166486368849175, 'n_channels': 3, 'n_epochs': 1000, 'normalize': False, 'numOfTrials': 3, 'patience': 300, 'resnet': '18', 'softmax': True, 'suffix': '50_11', 'takeFromIntermediate': True, 'takeFromIntermediateOutput': 50, 'training_count': 0.64, 'useAdam': False, 'useHeirarchy': True, 'useRelu': True, 'validation_count': 0.16}\n",
      "{'augmentation': False, 'batchSize': 150, 'downsample': True, 'downsampleOutput': 50, 'fc_layers': 2, 'imageDimension': 224, 'image_path': '/data/BGNN_data/INHS_cropped', 'learning_rate': 0.004448279693270693, 'n_channels': 3, 'n_epochs': 1000, 'normalize': False, 'numOfTrials': 3, 'patience': 475, 'resnet': '18', 'softmax': True, 'suffix': '50_11', 'takeFromIntermediate': True, 'takeFromIntermediateOutput': 50, 'training_count': 0.64, 'useAdam': False, 'useHeirarchy': True, 'useRelu': True, 'validation_count': 0.16}\n",
      "{'augmentation': False, 'batchSize': 300, 'downsample': True, 'downsampleOutput': 50, 'fc_layers': 2, 'imageDimension': 224, 'image_path': '/data/BGNN_data/INHS_cropped', 'learning_rate': 0.0004023800519177205, 'n_channels': 3, 'n_epochs': 1000, 'normalize': False, 'numOfTrials': 3, 'patience': 375, 'resnet': '18', 'softmax': True, 'suffix': '50_11', 'takeFromIntermediate': True, 'takeFromIntermediateOutput': 50, 'training_count': 0.64, 'useAdam': False, 'useHeirarchy': True, 'useRelu': True, 'validation_count': 0.16}\n",
      "{'augmentation': False, 'batchSize': 350, 'downsample': True, 'downsampleOutput': 50, 'fc_layers': 2, 'imageDimension': 224, 'image_path': '/data/BGNN_data/INHS_cropped', 'learning_rate': 0.007619579758228787, 'n_channels': 3, 'n_epochs': 1000, 'normalize': False, 'numOfTrials': 3, 'patience': 375, 'resnet': '18', 'softmax': True, 'suffix': '50_11', 'takeFromIntermediate': True, 'takeFromIntermediateOutput': 50, 'training_count': 0.64, 'useAdam': False, 'useHeirarchy': True, 'useRelu': True, 'validation_count': 0.16}\n",
      "{'augmentation': False, 'batchSize': 500, 'downsample': True, 'downsampleOutput': 50, 'fc_layers': 2, 'imageDimension': 224, 'image_path': '/data/BGNN_data/INHS_cropped', 'learning_rate': 0.0011418640310076034, 'n_channels': 3, 'n_epochs': 1000, 'normalize': False, 'numOfTrials': 3, 'patience': 475, 'resnet': '18', 'softmax': True, 'suffix': '50_11', 'takeFromIntermediate': True, 'takeFromIntermediateOutput': 50, 'training_count': 0.64, 'useAdam': False, 'useHeirarchy': True, 'useRelu': True, 'validation_count': 0.16}\n",
      "{'augmentation': False, 'batchSize': 550, 'downsample': True, 'downsampleOutput': 50, 'fc_layers': 2, 'imageDimension': 224, 'image_path': '/data/BGNN_data/INHS_cropped', 'learning_rate': 0.00047647904074563487, 'n_channels': 3, 'n_epochs': 1000, 'normalize': False, 'numOfTrials': 3, 'patience': 450, 'resnet': '18', 'softmax': True, 'suffix': '50_11', 'takeFromIntermediate': True, 'takeFromIntermediateOutput': 50, 'training_count': 0.64, 'useAdam': False, 'useHeirarchy': True, 'useRelu': True, 'validation_count': 0.16}\n",
      "{'augmentation': False, 'batchSize': 400, 'downsample': True, 'downsampleOutput': 50, 'fc_layers': 2, 'imageDimension': 224, 'image_path': '/data/BGNN_data/INHS_cropped', 'learning_rate': 0.0001512440272842587, 'n_channels': 3, 'n_epochs': 1000, 'normalize': False, 'numOfTrials': 3, 'patience': 150, 'resnet': '18', 'softmax': True, 'suffix': '50_11', 'takeFromIntermediate': True, 'takeFromIntermediateOutput': 50, 'training_count': 0.64, 'useAdam': False, 'useHeirarchy': True, 'useRelu': True, 'validation_count': 0.16}\n",
      "{'augmentation': False, 'batchSize': 500, 'downsample': True, 'downsampleOutput': 50, 'fc_layers': 2, 'imageDimension': 224, 'image_path': '/data/BGNN_data/INHS_cropped', 'learning_rate': 0.0005488547932649535, 'n_channels': 3, 'n_epochs': 1000, 'normalize': False, 'numOfTrials': 3, 'patience': 250, 'resnet': '18', 'softmax': True, 'suffix': '50_11', 'takeFromIntermediate': True, 'takeFromIntermediateOutput': 50, 'training_count': 0.64, 'useAdam': False, 'useHeirarchy': True, 'useRelu': True, 'validation_count': 0.16}\n",
      "{'augmentation': False, 'batchSize': 450, 'downsample': True, 'downsampleOutput': 50, 'fc_layers': 2, 'imageDimension': 224, 'image_path': '/data/BGNN_data/INHS_cropped', 'learning_rate': 0.0011921626701145774, 'n_channels': 3, 'n_epochs': 1000, 'normalize': False, 'numOfTrials': 3, 'patience': 475, 'resnet': '18', 'softmax': True, 'suffix': '50_11', 'takeFromIntermediate': True, 'takeFromIntermediateOutput': 50, 'training_count': 0.64, 'useAdam': False, 'useHeirarchy': True, 'useRelu': True, 'validation_count': 0.16}\n",
      "{'augmentation': False, 'batchSize': 500, 'downsample': True, 'downsampleOutput': 50, 'fc_layers': 2, 'imageDimension': 224, 'image_path': '/data/BGNN_data/INHS_cropped', 'learning_rate': 0.0008880006730099169, 'n_channels': 3, 'n_epochs': 1000, 'normalize': False, 'numOfTrials': 3, 'patience': 400, 'resnet': '18', 'softmax': True, 'suffix': '50_11', 'takeFromIntermediate': True, 'takeFromIntermediateOutput': 50, 'training_count': 0.64, 'useAdam': False, 'useHeirarchy': True, 'useRelu': True, 'validation_count': 0.16}\n",
      "{'augmentation': False, 'batchSize': 500, 'downsample': True, 'downsampleOutput': 50, 'fc_layers': 2, 'imageDimension': 224, 'image_path': '/data/BGNN_data/INHS_cropped', 'learning_rate': 0.0036376016953358057, 'n_channels': 3, 'n_epochs': 1000, 'normalize': False, 'numOfTrials': 3, 'patience': 125, 'resnet': '18', 'softmax': True, 'suffix': '50_11', 'takeFromIntermediate': True, 'takeFromIntermediateOutput': 50, 'training_count': 0.64, 'useAdam': False, 'useHeirarchy': True, 'useRelu': True, 'validation_count': 0.16}\n",
      "{'augmentation': False, 'batchSize': 450, 'downsample': True, 'downsampleOutput': 50, 'fc_layers': 2, 'imageDimension': 224, 'image_path': '/data/BGNN_data/INHS_cropped', 'learning_rate': 0.0026315907409722302, 'n_channels': 3, 'n_epochs': 1000, 'normalize': False, 'numOfTrials': 3, 'patience': 325, 'resnet': '18', 'softmax': True, 'suffix': '50_11', 'takeFromIntermediate': True, 'takeFromIntermediateOutput': 50, 'training_count': 0.64, 'useAdam': False, 'useHeirarchy': True, 'useRelu': True, 'validation_count': 0.16}\n",
      "{'augmentation': False, 'batchSize': 300, 'downsample': True, 'downsampleOutput': 50, 'fc_layers': 2, 'imageDimension': 224, 'image_path': '/data/BGNN_data/INHS_cropped', 'learning_rate': 0.0003127092888342935, 'n_channels': 3, 'n_epochs': 1000, 'normalize': False, 'numOfTrials': 3, 'patience': 400, 'resnet': '18', 'softmax': True, 'suffix': '50_11', 'takeFromIntermediate': True, 'takeFromIntermediateOutput': 50, 'training_count': 0.64, 'useAdam': False, 'useHeirarchy': True, 'useRelu': True, 'validation_count': 0.16}\n",
      "{'augmentation': False, 'batchSize': 150, 'downsample': True, 'downsampleOutput': 50, 'fc_layers': 2, 'imageDimension': 224, 'image_path': '/data/BGNN_data/INHS_cropped', 'learning_rate': 0.000498690539759676, 'n_channels': 3, 'n_epochs': 1000, 'normalize': False, 'numOfTrials': 3, 'patience': 475, 'resnet': '18', 'softmax': True, 'suffix': '50_11', 'takeFromIntermediate': True, 'takeFromIntermediateOutput': 50, 'training_count': 0.64, 'useAdam': False, 'useHeirarchy': True, 'useRelu': True, 'validation_count': 0.16}\n",
      "{'augmentation': False, 'batchSize': 150, 'downsample': True, 'downsampleOutput': 50, 'fc_layers': 2, 'imageDimension': 224, 'image_path': '/data/BGNN_data/INHS_cropped', 'learning_rate': 0.00040196510639078757, 'n_channels': 3, 'n_epochs': 1000, 'normalize': False, 'numOfTrials': 3, 'patience': 150, 'resnet': '18', 'softmax': True, 'suffix': '50_11', 'takeFromIntermediate': True, 'takeFromIntermediateOutput': 50, 'training_count': 0.64, 'useAdam': False, 'useHeirarchy': True, 'useRelu': True, 'validation_count': 0.16}\n"
     ]
    },
    {
     "name": "stdout",
     "output_type": "stream",
     "text": [
      "{'augmentation': False, 'batchSize': 550, 'downsample': True, 'downsampleOutput': 50, 'fc_layers': 2, 'imageDimension': 224, 'image_path': '/data/BGNN_data/INHS_cropped', 'learning_rate': 0.00165260325876852, 'n_channels': 3, 'n_epochs': 1000, 'normalize': False, 'numOfTrials': 3, 'patience': 225, 'resnet': '18', 'softmax': True, 'suffix': '50_11', 'takeFromIntermediate': True, 'takeFromIntermediateOutput': 50, 'training_count': 0.64, 'useAdam': False, 'useHeirarchy': True, 'useRelu': True, 'validation_count': 0.16}\n",
      "{'augmentation': False, 'batchSize': 500, 'downsample': True, 'downsampleOutput': 50, 'fc_layers': 2, 'imageDimension': 224, 'image_path': '/data/BGNN_data/INHS_cropped', 'learning_rate': 0.00018063328935848775, 'n_channels': 3, 'n_epochs': 1000, 'normalize': False, 'numOfTrials': 3, 'patience': 75, 'resnet': '18', 'softmax': True, 'suffix': '50_11', 'takeFromIntermediate': True, 'takeFromIntermediateOutput': 50, 'training_count': 0.64, 'useAdam': False, 'useHeirarchy': True, 'useRelu': True, 'validation_count': 0.16}\n",
      "{'augmentation': False, 'batchSize': 250, 'downsample': True, 'downsampleOutput': 50, 'fc_layers': 2, 'imageDimension': 224, 'image_path': '/data/BGNN_data/INHS_cropped', 'learning_rate': 0.0011475635455712925, 'n_channels': 3, 'n_epochs': 1000, 'normalize': False, 'numOfTrials': 3, 'patience': 75, 'resnet': '18', 'softmax': True, 'suffix': '50_11', 'takeFromIntermediate': True, 'takeFromIntermediateOutput': 50, 'training_count': 0.64, 'useAdam': False, 'useHeirarchy': True, 'useRelu': True, 'validation_count': 0.16}\n",
      "{'augmentation': False, 'batchSize': 250, 'downsample': True, 'downsampleOutput': 50, 'fc_layers': 2, 'imageDimension': 224, 'image_path': '/data/BGNN_data/INHS_cropped', 'learning_rate': 0.002474380721527075, 'n_channels': 3, 'n_epochs': 1000, 'normalize': False, 'numOfTrials': 3, 'patience': 375, 'resnet': '18', 'softmax': True, 'suffix': '50_11', 'takeFromIntermediate': True, 'takeFromIntermediateOutput': 50, 'training_count': 0.64, 'useAdam': False, 'useHeirarchy': True, 'useRelu': True, 'validation_count': 0.16}\n",
      "{'augmentation': False, 'batchSize': 300, 'downsample': True, 'downsampleOutput': 50, 'fc_layers': 2, 'imageDimension': 224, 'image_path': '/data/BGNN_data/INHS_cropped', 'learning_rate': 0.0032391712436561845, 'n_channels': 3, 'n_epochs': 1000, 'normalize': False, 'numOfTrials': 3, 'patience': 275, 'resnet': '18', 'softmax': True, 'suffix': '50_11', 'takeFromIntermediate': True, 'takeFromIntermediateOutput': 50, 'training_count': 0.64, 'useAdam': False, 'useHeirarchy': True, 'useRelu': True, 'validation_count': 0.16}\n",
      "{'augmentation': False, 'batchSize': 150, 'downsample': True, 'downsampleOutput': 50, 'fc_layers': 2, 'imageDimension': 224, 'image_path': '/data/BGNN_data/INHS_cropped', 'learning_rate': 0.0005392343841850357, 'n_channels': 3, 'n_epochs': 1000, 'normalize': False, 'numOfTrials': 3, 'patience': 200, 'resnet': '18', 'softmax': True, 'suffix': '50_11', 'takeFromIntermediate': True, 'takeFromIntermediateOutput': 50, 'training_count': 0.64, 'useAdam': False, 'useHeirarchy': True, 'useRelu': True, 'validation_count': 0.16}\n",
      "{'augmentation': False, 'batchSize': 250, 'downsample': True, 'downsampleOutput': 50, 'fc_layers': 2, 'imageDimension': 224, 'image_path': '/data/BGNN_data/INHS_cropped', 'learning_rate': 0.00022245678972891106, 'n_channels': 3, 'n_epochs': 1000, 'normalize': False, 'numOfTrials': 3, 'patience': 275, 'resnet': '18', 'softmax': True, 'suffix': '50_11', 'takeFromIntermediate': True, 'takeFromIntermediateOutput': 50, 'training_count': 0.64, 'useAdam': False, 'useHeirarchy': True, 'useRelu': True, 'validation_count': 0.16}\n",
      "100%|██████████| 100/100 [00:00<00:00, 178.83trial/s, best loss: 1.0]\n"
     ]
    },
    {
     "data": {
      "text/plain": [
       "{'augmentation': 0,\n",
       " 'batchSize': 100.0,\n",
       " 'downsample': 0,\n",
       " 'downsampleOutput': 0,\n",
       " 'fc_layers': 0,\n",
       " 'imageDimension': 0,\n",
       " 'image_path': 0,\n",
       " 'learning_rate': 0.004595362493294816,\n",
       " 'n_channels': 0,\n",
       " 'n_epochs': 0,\n",
       " 'normalize': 0,\n",
       " 'numOfTrials': 0,\n",
       " 'patience': 100.0,\n",
       " 'resnet': 0,\n",
       " 'softmax': 0,\n",
       " 'suffix': 0,\n",
       " 'takeFromIntermediate': 0,\n",
       " 'takeFromIntermediateOutput': 0,\n",
       " 'training_count': 0,\n",
       " 'useAdam': 0,\n",
       " 'useHeirarchy': 0,\n",
       " 'useRelu': 0,\n",
       " 'validation_count': 0}"
      ]
     },
     "execution_count": 9,
     "metadata": {},
     "output_type": "execute_result"
    }
   ],
   "source": [
    "hyperp_obj = cp.getHyperpSearchObject()\n",
    "print(hyperp_obj)\n",
    "\n",
    "def objective(experiment_params):\n",
    "    print(experiment_params)\n",
    "    dummyObjective = 1\n",
    "    return dummyObjective\n",
    "\n",
    "fmin(objective,\n",
    "     space=hyperp_obj,\n",
    "     algo=rand.suggest, \n",
    "     max_evals=numOfExperiments)"
   ]
  },
  {
   "cell_type": "markdown",
   "metadata": {},
   "source": [
    "Selected hyperp write"
   ]
  },
  {
   "cell_type": "code",
   "execution_count": 10,
   "metadata": {},
   "outputs": [
    {
     "data": {
      "text/plain": [
       "'test_22987_suffix50_11_CNN2_differentConfig_softmax2/hyperp_selected_params.pkl'"
      ]
     },
     "execution_count": 10,
     "metadata": {},
     "output_type": "execute_result"
    }
   ],
   "source": [
    "selected_hyperp_params = [\n",
    "    {\"downsampleOutput\":50, \"takeFromIntermediateOutput\":50,},\n",
    "    {\"downsampleOutput\":100, \"takeFromIntermediateOutput\":100,},\n",
    "    {\"downsampleOutput\":200, \"takeFromIntermediateOutput\":200,},\n",
    "    {\"downsampleOutput\":300, \"takeFromIntermediateOutput\":300,},\n",
    "]\n",
    "\n",
    "cp.writeHyperpSelected(selected_hyperp_params)"
   ]
  },
  {
   "cell_type": "markdown",
   "metadata": {},
   "source": [
    "Selected hyperp read"
   ]
  },
  {
   "cell_type": "code",
   "execution_count": 11,
   "metadata": {},
   "outputs": [
    {
     "name": "stdout",
     "output_type": "stream",
     "text": [
      "{'image_path': '/data/BGNN_data/INHS_cropped', 'suffix': '50_11', 'training_count': 0.64, 'validation_count': 0.16, 'imageDimension': 224, 'n_channels': 3, 'augmentation': False, 'batchSize': 550, 'n_epochs': 1000, 'learning_rate': 0.01, 'numOfTrials': 3, 'patience': 100, 'useHeirarchy': True, 'useRelu': True, 'downsample': True, 'downsampleOutput': 50, 'takeFromIntermediate': True, 'takeFromIntermediateOutput': 50, 'fc_layers': 2, 'useAdam': False, 'resnet': '18', 'normalize': False, 'softmax': True}\n",
      "{'image_path': '/data/BGNN_data/INHS_cropped', 'suffix': '50_11', 'training_count': 0.64, 'validation_count': 0.16, 'imageDimension': 224, 'n_channels': 3, 'augmentation': False, 'batchSize': 550, 'n_epochs': 1000, 'learning_rate': 0.01, 'numOfTrials': 3, 'patience': 100, 'useHeirarchy': True, 'useRelu': True, 'downsample': True, 'downsampleOutput': 100, 'takeFromIntermediate': True, 'takeFromIntermediateOutput': 100, 'fc_layers': 2, 'useAdam': False, 'resnet': '18', 'normalize': False, 'softmax': True}\n",
      "{'image_path': '/data/BGNN_data/INHS_cropped', 'suffix': '50_11', 'training_count': 0.64, 'validation_count': 0.16, 'imageDimension': 224, 'n_channels': 3, 'augmentation': False, 'batchSize': 550, 'n_epochs': 1000, 'learning_rate': 0.01, 'numOfTrials': 3, 'patience': 100, 'useHeirarchy': True, 'useRelu': True, 'downsample': True, 'downsampleOutput': 200, 'takeFromIntermediate': True, 'takeFromIntermediateOutput': 200, 'fc_layers': 2, 'useAdam': False, 'resnet': '18', 'normalize': False, 'softmax': True}\n",
      "{'image_path': '/data/BGNN_data/INHS_cropped', 'suffix': '50_11', 'training_count': 0.64, 'validation_count': 0.16, 'imageDimension': 224, 'n_channels': 3, 'augmentation': False, 'batchSize': 550, 'n_epochs': 1000, 'learning_rate': 0.01, 'numOfTrials': 3, 'patience': 100, 'useHeirarchy': True, 'useRelu': True, 'downsample': True, 'downsampleOutput': 300, 'takeFromIntermediate': True, 'takeFromIntermediateOutput': 300, 'fc_layers': 2, 'useAdam': False, 'resnet': '18', 'normalize': False, 'softmax': True}\n"
     ]
    }
   ],
   "source": [
    "for i in cp.getHyperpSelectedIter():\n",
    "    print(i)"
   ]
  },
  {
   "cell_type": "code",
   "execution_count": null,
   "metadata": {},
   "outputs": [],
   "source": []
  }
 ],
 "metadata": {
  "kernelspec": {
   "display_name": "Python 3",
   "language": "python",
   "name": "python3"
  },
  "language_info": {
   "codemirror_mode": {
    "name": "ipython",
    "version": 3
   },
   "file_extension": ".py",
   "mimetype": "text/x-python",
   "name": "python",
   "nbconvert_exporter": "python",
   "pygments_lexer": "ipython3",
   "version": "3.6.9"
  }
 },
 "nbformat": 4,
 "nbformat_minor": 2
}
