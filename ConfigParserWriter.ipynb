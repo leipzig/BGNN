{
 "cells": [
  {
   "cell_type": "markdown",
   "metadata": {},
   "source": [
    "Imports"
   ]
  },
  {
   "cell_type": "code",
   "execution_count": 1,
   "metadata": {},
   "outputs": [],
   "source": [
    "from configParser import ConfigParser, getModelName, getDatasetName"
   ]
  },
  {
   "cell_type": "markdown",
   "metadata": {},
   "source": [
    "Parameters"
   ]
  },
  {
   "cell_type": "code",
   "execution_count": 2,
   "metadata": {},
   "outputs": [],
   "source": [
    "experimentName = \"test_22987_suffix50_11_dataLoader3_pretrained_depth\"\n",
    "numOfExperiments=100\n",
    "\n",
    "params = {\n",
    "    # Do not use for multi/hyperp experiments\n",
    "    \"image_path\": \"/data/BGNN_data/INHS_cropped\",\n",
    "    \"suffix\": '50_11', # used to get a subset cleaned_metadata file. set to None otherwise to use full metadata\n",
    "    \n",
    "    # dataset\n",
    "    \"training_count\":0.64,\n",
    "    \"validation_count\":0.16,\n",
    "    \"usePretrained\": True,\n",
    "    \n",
    "    # image\n",
    "    \"imageDimension\": 224,\n",
    "    \"n_channels\": 3,\n",
    "    \"useZCAWhitening\": False,\n",
    "    \"useNormalization\": False,\n",
    "\n",
    "    # training\n",
    "    \"batchSize\":200,\n",
    "    \"n_epochs\":1000,\n",
    "    \"numOfTrials\":2,\n",
    "\n",
    "    # network\n",
    "    \"kernels\": [16, 32],\n",
    "    \"kernelSize\": 5,\n",
    "    \"patience\": 50,\n",
    "}\n"
   ]
  },
  {
   "cell_type": "markdown",
   "metadata": {},
   "source": [
    "Create file"
   ]
  },
  {
   "cell_type": "code",
   "execution_count": 3,
   "metadata": {},
   "outputs": [
    {
     "data": {
      "text/plain": [
       "'test_22987_suffix50_11_dataLoader3_pretrained_depth/params.json'"
      ]
     },
     "execution_count": 3,
     "metadata": {},
     "output_type": "execute_result"
    }
   ],
   "source": [
    "cp = ConfigParser(experimentName)\n",
    "\n",
    "cp.write(params)"
   ]
  },
  {
   "cell_type": "markdown",
   "metadata": {},
   "source": [
    "Read file"
   ]
  },
  {
   "cell_type": "code",
   "execution_count": 4,
   "metadata": {},
   "outputs": [
    {
     "name": "stdout",
     "output_type": "stream",
     "text": [
      "{'image_path': '/data/BGNN_data/INHS_cropped', 'suffix': '50_11', 'training_count': 0.64, 'validation_count': 0.16, 'usePretrained': True, 'imageDimension': 224, 'n_channels': 3, 'useZCAWhitening': False, 'useNormalization': False, 'batchSize': 200, 'n_epochs': 1000, 'numOfTrials': 2, 'kernels': [16, 32], 'kernelSize': 5, 'patience': 50}\n"
     ]
    }
   ],
   "source": [
    "j = cp.read()\n",
    "print(j)"
   ]
  },
  {
   "cell_type": "markdown",
   "metadata": {},
   "source": [
    "Create hyperp"
   ]
  },
  {
   "cell_type": "code",
   "execution_count": 5,
   "metadata": {},
   "outputs": [
    {
     "data": {
      "text/plain": [
       "'test_22987_suffix50_11_dataLoader3_pretrained_depth/hyperp_params.json'"
      ]
     },
     "execution_count": 5,
     "metadata": {},
     "output_type": "execute_result"
    }
   ],
   "source": [
    "hyperp_params = {\n",
    "#     \"imageDimension\": [28, 56],\n",
    "#     \"n_channels\": [1, 3],\n",
    "#     \"kernelSize\": [5, 9],\n",
    "#     \"useZCAWhitening\": [False, True],\n",
    "    \"patience\": [50, 100],\n",
    "    \"batchSize\": [50, 200, 550],\n",
    "}\n",
    "\n",
    "cp.writeHyperp(hyperp_params)"
   ]
  },
  {
   "cell_type": "markdown",
   "metadata": {},
   "source": [
    "Get experiments"
   ]
  },
  {
   "cell_type": "code",
   "execution_count": 6,
   "metadata": {},
   "outputs": [
    {
     "name": "stdout",
     "output_type": "stream",
     "text": [
      "{'image_path': '/data/BGNN_data/INHS_cropped', 'suffix': '50_11', 'training_count': 0.64, 'validation_count': 0.16, 'usePretrained': True, 'imageDimension': 224, 'n_channels': 3, 'useZCAWhitening': False, 'useNormalization': False, 'batchSize': 50, 'n_epochs': 1000, 'numOfTrials': 2, 'kernels': [16, 32], 'kernelSize': 5, 'patience': 50}\n",
      "{'image_path': '/data/BGNN_data/INHS_cropped', 'suffix': '50_11', 'training_count': 0.64, 'validation_count': 0.16, 'usePretrained': True, 'imageDimension': 224, 'n_channels': 3, 'useZCAWhitening': False, 'useNormalization': False, 'batchSize': 200, 'n_epochs': 1000, 'numOfTrials': 2, 'kernels': [16, 32], 'kernelSize': 5, 'patience': 50}\n",
      "{'image_path': '/data/BGNN_data/INHS_cropped', 'suffix': '50_11', 'training_count': 0.64, 'validation_count': 0.16, 'usePretrained': True, 'imageDimension': 224, 'n_channels': 3, 'useZCAWhitening': False, 'useNormalization': False, 'batchSize': 550, 'n_epochs': 1000, 'numOfTrials': 2, 'kernels': [16, 32], 'kernelSize': 5, 'patience': 50}\n",
      "{'image_path': '/data/BGNN_data/INHS_cropped', 'suffix': '50_11', 'training_count': 0.64, 'validation_count': 0.16, 'usePretrained': True, 'imageDimension': 224, 'n_channels': 3, 'useZCAWhitening': False, 'useNormalization': False, 'batchSize': 50, 'n_epochs': 1000, 'numOfTrials': 2, 'kernels': [16, 32], 'kernelSize': 5, 'patience': 100}\n",
      "{'image_path': '/data/BGNN_data/INHS_cropped', 'suffix': '50_11', 'training_count': 0.64, 'validation_count': 0.16, 'usePretrained': True, 'imageDimension': 224, 'n_channels': 3, 'useZCAWhitening': False, 'useNormalization': False, 'batchSize': 200, 'n_epochs': 1000, 'numOfTrials': 2, 'kernels': [16, 32], 'kernelSize': 5, 'patience': 100}\n",
      "{'image_path': '/data/BGNN_data/INHS_cropped', 'suffix': '50_11', 'training_count': 0.64, 'validation_count': 0.16, 'usePretrained': True, 'imageDimension': 224, 'n_channels': 3, 'useZCAWhitening': False, 'useNormalization': False, 'batchSize': 550, 'n_epochs': 1000, 'numOfTrials': 2, 'kernels': [16, 32], 'kernelSize': 5, 'patience': 100}\n"
     ]
    }
   ],
   "source": [
    "for i in cp.getHyperpIter():\n",
    "    print(i)"
   ]
  },
  {
   "cell_type": "markdown",
   "metadata": {},
   "source": [
    "Model name"
   ]
  },
  {
   "cell_type": "code",
   "execution_count": 7,
   "metadata": {},
   "outputs": [
    {
     "name": "stdout",
     "output_type": "stream",
     "text": [
      "tc0.640000_vc0.160000_d224_c3_zcaFalse_nFalse_ptTrue_bs200_e1000_ks5_k16-32_p50\n",
      "tc0.640000_vc0.160000_d224_c3_zcaFalse_nFalse_ptTrue\n"
     ]
    }
   ],
   "source": [
    "print(getModelName(j))\n",
    "print(getDatasetName(j))"
   ]
  },
  {
   "cell_type": "markdown",
   "metadata": {},
   "source": [
    "Hyperp search write"
   ]
  },
  {
   "cell_type": "code",
   "execution_count": 8,
   "metadata": {},
   "outputs": [
    {
     "data": {
      "text/plain": [
       "'test_22987_suffix50_11_dataLoader3_pretrained_depth/hyperp_search_params.pkl'"
      ]
     },
     "execution_count": 8,
     "metadata": {},
     "output_type": "execute_result"
    }
   ],
   "source": [
    "from hyperopt import fmin, hp, rand, tpe\n",
    "from hyperopt.pyll.base import scope\n",
    "import math\n",
    "\n",
    "useRandomSearch = True\n",
    "hyperp_search_params = {\n",
    "    \"kernels\": [ scope.int(hp.quniform('kernels1', 8, 16, 1)),\n",
    "                scope.int(hp.quniform('kernels2', 16, 32, 1)),\n",
    "                scope.int(hp.qloguniform('kernels3', math.log(1), math.log(16), 1)),\n",
    "                scope.int(hp.qloguniform('kernels4', math.log(1), math.log(16), 1)),\n",
    "                scope.int(hp.qloguniform('kernels5', math.log(1), math.log(16), 1))],\n",
    "    \"kernelSize\": scope.int(hp.quniform('kernelSize', 3, 10, 1)), \n",
    "    # \"useZCAWhitening\": hp.choice('useZCAWhitening', [False, True]), \n",
    "    \"n_channels\": scope.int(hp.choice('n_channels', [1, 3])), \n",
    "    \"imageDimension\": scope.int(hp.quniform('imageDimension', 28, 420, 28))\n",
    "}\n",
    "\n",
    "cp.writeHyperpSearch(hyperp_search_params)"
   ]
  },
  {
   "cell_type": "markdown",
   "metadata": {},
   "source": [
    "Hyperp search read"
   ]
  },
  {
   "cell_type": "code",
   "execution_count": 9,
   "metadata": {},
   "outputs": [
    {
     "name": "stdout",
     "output_type": "stream",
     "text": [
      "{'kernels': [<hyperopt.pyll.base.Apply object at 0x7feacb0e2860>, <hyperopt.pyll.base.Apply object at 0x7feacb0e2e48>, <hyperopt.pyll.base.Apply object at 0x7feacb0e2ef0>, <hyperopt.pyll.base.Apply object at 0x7feacb0c8ba8>, <hyperopt.pyll.base.Apply object at 0x7feacb0e00b8>], 'kernelSize': <hyperopt.pyll.base.Apply object at 0x7feacb0e0668>, 'n_channels': <hyperopt.pyll.base.Apply object at 0x7feacb0e0828>, 'imageDimension': <hyperopt.pyll.base.Apply object at 0x7feacb0e0b00>, 'image_path': <hyperopt.pyll.base.Apply object at 0x7feacb0e5f60>, 'suffix': <hyperopt.pyll.base.Apply object at 0x7feacb0e0e48>, 'training_count': <hyperopt.pyll.base.Apply object at 0x7feacb0e0198>, 'validation_count': <hyperopt.pyll.base.Apply object at 0x7feacb0e0eb8>, 'usePretrained': <hyperopt.pyll.base.Apply object at 0x7feacb0e0860>, 'useZCAWhitening': <hyperopt.pyll.base.Apply object at 0x7feacb0780f0>, 'useNormalization': <hyperopt.pyll.base.Apply object at 0x7feacb078278>, 'batchSize': <hyperopt.pyll.base.Apply object at 0x7feacb0783c8>, 'n_epochs': <hyperopt.pyll.base.Apply object at 0x7feacb078518>, 'numOfTrials': <hyperopt.pyll.base.Apply object at 0x7feacb078668>, 'patience': <hyperopt.pyll.base.Apply object at 0x7feacb0787b8>}\n",
      "{'batchSize': 200, 'imageDimension': 280, 'image_path': '/data/BGNN_data/INHS_cropped', 'kernelSize': 8, 'kernels': (12, 31, 5, 5, 1), 'n_channels': 3, 'n_epochs': 1000, 'numOfTrials': 2, 'patience': 50, 'suffix': '50_11', 'training_count': 0.64, 'useNormalization': False, 'usePretrained': True, 'useZCAWhitening': False, 'validation_count': 0.16}\n",
      "{'batchSize': 200, 'imageDimension': 196, 'image_path': '/data/BGNN_data/INHS_cropped', 'kernelSize': 10, 'kernels': (11, 17, 13, 10, 10), 'n_channels': 1, 'n_epochs': 1000, 'numOfTrials': 2, 'patience': 50, 'suffix': '50_11', 'training_count': 0.64, 'useNormalization': False, 'usePretrained': True, 'useZCAWhitening': False, 'validation_count': 0.16}\n",
      "{'batchSize': 200, 'imageDimension': 252, 'image_path': '/data/BGNN_data/INHS_cropped', 'kernelSize': 5, 'kernels': (13, 29, 2, 12, 5), 'n_channels': 1, 'n_epochs': 1000, 'numOfTrials': 2, 'patience': 50, 'suffix': '50_11', 'training_count': 0.64, 'useNormalization': False, 'usePretrained': True, 'useZCAWhitening': False, 'validation_count': 0.16}\n",
      "{'batchSize': 200, 'imageDimension': 308, 'image_path': '/data/BGNN_data/INHS_cropped', 'kernelSize': 7, 'kernels': (16, 29, 2, 8, 14), 'n_channels': 3, 'n_epochs': 1000, 'numOfTrials': 2, 'patience': 50, 'suffix': '50_11', 'training_count': 0.64, 'useNormalization': False, 'usePretrained': True, 'useZCAWhitening': False, 'validation_count': 0.16}\n",
      "{'batchSize': 200, 'imageDimension': 196, 'image_path': '/data/BGNN_data/INHS_cropped', 'kernelSize': 8, 'kernels': (14, 20, 1, 5, 5), 'n_channels': 3, 'n_epochs': 1000, 'numOfTrials': 2, 'patience': 50, 'suffix': '50_11', 'training_count': 0.64, 'useNormalization': False, 'usePretrained': True, 'useZCAWhitening': False, 'validation_count': 0.16}\n",
      "{'batchSize': 200, 'imageDimension': 392, 'image_path': '/data/BGNN_data/INHS_cropped', 'kernelSize': 4, 'kernels': (8, 23, 2, 2, 4), 'n_channels': 3, 'n_epochs': 1000, 'numOfTrials': 2, 'patience': 50, 'suffix': '50_11', 'training_count': 0.64, 'useNormalization': False, 'usePretrained': True, 'useZCAWhitening': False, 'validation_count': 0.16}\n",
      "{'batchSize': 200, 'imageDimension': 140, 'image_path': '/data/BGNN_data/INHS_cropped', 'kernelSize': 6, 'kernels': (13, 22, 4, 16, 5), 'n_channels': 3, 'n_epochs': 1000, 'numOfTrials': 2, 'patience': 50, 'suffix': '50_11', 'training_count': 0.64, 'useNormalization': False, 'usePretrained': True, 'useZCAWhitening': False, 'validation_count': 0.16}\n",
      "{'batchSize': 200, 'imageDimension': 308, 'image_path': '/data/BGNN_data/INHS_cropped', 'kernelSize': 8, 'kernels': (12, 18, 2, 1, 3), 'n_channels': 1, 'n_epochs': 1000, 'numOfTrials': 2, 'patience': 50, 'suffix': '50_11', 'training_count': 0.64, 'useNormalization': False, 'usePretrained': True, 'useZCAWhitening': False, 'validation_count': 0.16}\n",
      "{'batchSize': 200, 'imageDimension': 280, 'image_path': '/data/BGNN_data/INHS_cropped', 'kernelSize': 8, 'kernels': (11, 19, 2, 3, 5), 'n_channels': 1, 'n_epochs': 1000, 'numOfTrials': 2, 'patience': 50, 'suffix': '50_11', 'training_count': 0.64, 'useNormalization': False, 'usePretrained': True, 'useZCAWhitening': False, 'validation_count': 0.16}\n",
      "{'batchSize': 200, 'imageDimension': 168, 'image_path': '/data/BGNN_data/INHS_cropped', 'kernelSize': 4, 'kernels': (13, 29, 4, 2, 7), 'n_channels': 1, 'n_epochs': 1000, 'numOfTrials': 2, 'patience': 50, 'suffix': '50_11', 'training_count': 0.64, 'useNormalization': False, 'usePretrained': True, 'useZCAWhitening': False, 'validation_count': 0.16}\n",
      "{'batchSize': 200, 'imageDimension': 196, 'image_path': '/data/BGNN_data/INHS_cropped', 'kernelSize': 8, 'kernels': (14, 23, 2, 11, 3), 'n_channels': 3, 'n_epochs': 1000, 'numOfTrials': 2, 'patience': 50, 'suffix': '50_11', 'training_count': 0.64, 'useNormalization': False, 'usePretrained': True, 'useZCAWhitening': False, 'validation_count': 0.16}\n",
      "{'batchSize': 200, 'imageDimension': 364, 'image_path': '/data/BGNN_data/INHS_cropped', 'kernelSize': 5, 'kernels': (13, 29, 1, 1, 1), 'n_channels': 1, 'n_epochs': 1000, 'numOfTrials': 2, 'patience': 50, 'suffix': '50_11', 'training_count': 0.64, 'useNormalization': False, 'usePretrained': True, 'useZCAWhitening': False, 'validation_count': 0.16}\n",
      "{'batchSize': 200, 'imageDimension': 140, 'image_path': '/data/BGNN_data/INHS_cropped', 'kernelSize': 7, 'kernels': (15, 23, 7, 13, 2), 'n_channels': 3, 'n_epochs': 1000, 'numOfTrials': 2, 'patience': 50, 'suffix': '50_11', 'training_count': 0.64, 'useNormalization': False, 'usePretrained': True, 'useZCAWhitening': False, 'validation_count': 0.16}\n",
      "{'batchSize': 200, 'imageDimension': 140, 'image_path': '/data/BGNN_data/INHS_cropped', 'kernelSize': 8, 'kernels': (12, 19, 3, 12, 7), 'n_channels': 1, 'n_epochs': 1000, 'numOfTrials': 2, 'patience': 50, 'suffix': '50_11', 'training_count': 0.64, 'useNormalization': False, 'usePretrained': True, 'useZCAWhitening': False, 'validation_count': 0.16}\n",
      "{'batchSize': 200, 'imageDimension': 224, 'image_path': '/data/BGNN_data/INHS_cropped', 'kernelSize': 5, 'kernels': (11, 22, 4, 6, 6), 'n_channels': 3, 'n_epochs': 1000, 'numOfTrials': 2, 'patience': 50, 'suffix': '50_11', 'training_count': 0.64, 'useNormalization': False, 'usePretrained': True, 'useZCAWhitening': False, 'validation_count': 0.16}\n",
      "{'batchSize': 200, 'imageDimension': 112, 'image_path': '/data/BGNN_data/INHS_cropped', 'kernelSize': 6, 'kernels': (13, 26, 2, 14, 1), 'n_channels': 3, 'n_epochs': 1000, 'numOfTrials': 2, 'patience': 50, 'suffix': '50_11', 'training_count': 0.64, 'useNormalization': False, 'usePretrained': True, 'useZCAWhitening': False, 'validation_count': 0.16}\n",
      "{'batchSize': 200, 'imageDimension': 336, 'image_path': '/data/BGNN_data/INHS_cropped', 'kernelSize': 3, 'kernels': (15, 24, 5, 12, 3), 'n_channels': 3, 'n_epochs': 1000, 'numOfTrials': 2, 'patience': 50, 'suffix': '50_11', 'training_count': 0.64, 'useNormalization': False, 'usePretrained': True, 'useZCAWhitening': False, 'validation_count': 0.16}\n",
      "{'batchSize': 200, 'imageDimension': 112, 'image_path': '/data/BGNN_data/INHS_cropped', 'kernelSize': 10, 'kernels': (10, 31, 11, 4, 7), 'n_channels': 3, 'n_epochs': 1000, 'numOfTrials': 2, 'patience': 50, 'suffix': '50_11', 'training_count': 0.64, 'useNormalization': False, 'usePretrained': True, 'useZCAWhitening': False, 'validation_count': 0.16}\n",
      "{'batchSize': 200, 'imageDimension': 224, 'image_path': '/data/BGNN_data/INHS_cropped', 'kernelSize': 9, 'kernels': (10, 29, 13, 5, 1), 'n_channels': 3, 'n_epochs': 1000, 'numOfTrials': 2, 'patience': 50, 'suffix': '50_11', 'training_count': 0.64, 'useNormalization': False, 'usePretrained': True, 'useZCAWhitening': False, 'validation_count': 0.16}\n",
      "{'batchSize': 200, 'imageDimension': 252, 'image_path': '/data/BGNN_data/INHS_cropped', 'kernelSize': 10, 'kernels': (15, 25, 10, 10, 8), 'n_channels': 3, 'n_epochs': 1000, 'numOfTrials': 2, 'patience': 50, 'suffix': '50_11', 'training_count': 0.64, 'useNormalization': False, 'usePretrained': True, 'useZCAWhitening': False, 'validation_count': 0.16}\n"
     ]
    },
    {
     "name": "stdout",
     "output_type": "stream",
     "text": [
      "{'batchSize': 200, 'imageDimension': 168, 'image_path': '/data/BGNN_data/INHS_cropped', 'kernelSize': 6, 'kernels': (16, 28, 3, 6, 11), 'n_channels': 1, 'n_epochs': 1000, 'numOfTrials': 2, 'patience': 50, 'suffix': '50_11', 'training_count': 0.64, 'useNormalization': False, 'usePretrained': True, 'useZCAWhitening': False, 'validation_count': 0.16}\n",
      "{'batchSize': 200, 'imageDimension': 392, 'image_path': '/data/BGNN_data/INHS_cropped', 'kernelSize': 9, 'kernels': (15, 31, 7, 4, 13), 'n_channels': 3, 'n_epochs': 1000, 'numOfTrials': 2, 'patience': 50, 'suffix': '50_11', 'training_count': 0.64, 'useNormalization': False, 'usePretrained': True, 'useZCAWhitening': False, 'validation_count': 0.16}\n",
      "{'batchSize': 200, 'imageDimension': 168, 'image_path': '/data/BGNN_data/INHS_cropped', 'kernelSize': 5, 'kernels': (14, 29, 5, 9, 9), 'n_channels': 1, 'n_epochs': 1000, 'numOfTrials': 2, 'patience': 50, 'suffix': '50_11', 'training_count': 0.64, 'useNormalization': False, 'usePretrained': True, 'useZCAWhitening': False, 'validation_count': 0.16}\n",
      "{'batchSize': 200, 'imageDimension': 224, 'image_path': '/data/BGNN_data/INHS_cropped', 'kernelSize': 5, 'kernels': (13, 17, 11, 5, 9), 'n_channels': 3, 'n_epochs': 1000, 'numOfTrials': 2, 'patience': 50, 'suffix': '50_11', 'training_count': 0.64, 'useNormalization': False, 'usePretrained': True, 'useZCAWhitening': False, 'validation_count': 0.16}\n",
      "{'batchSize': 200, 'imageDimension': 252, 'image_path': '/data/BGNN_data/INHS_cropped', 'kernelSize': 6, 'kernels': (10, 25, 3, 7, 2), 'n_channels': 3, 'n_epochs': 1000, 'numOfTrials': 2, 'patience': 50, 'suffix': '50_11', 'training_count': 0.64, 'useNormalization': False, 'usePretrained': True, 'useZCAWhitening': False, 'validation_count': 0.16}\n",
      "{'batchSize': 200, 'imageDimension': 56, 'image_path': '/data/BGNN_data/INHS_cropped', 'kernelSize': 3, 'kernels': (10, 17, 1, 13, 13), 'n_channels': 1, 'n_epochs': 1000, 'numOfTrials': 2, 'patience': 50, 'suffix': '50_11', 'training_count': 0.64, 'useNormalization': False, 'usePretrained': True, 'useZCAWhitening': False, 'validation_count': 0.16}\n",
      "{'batchSize': 200, 'imageDimension': 224, 'image_path': '/data/BGNN_data/INHS_cropped', 'kernelSize': 4, 'kernels': (15, 25, 3, 3, 1), 'n_channels': 1, 'n_epochs': 1000, 'numOfTrials': 2, 'patience': 50, 'suffix': '50_11', 'training_count': 0.64, 'useNormalization': False, 'usePretrained': True, 'useZCAWhitening': False, 'validation_count': 0.16}\n",
      "{'batchSize': 200, 'imageDimension': 364, 'image_path': '/data/BGNN_data/INHS_cropped', 'kernelSize': 6, 'kernels': (15, 19, 5, 5, 2), 'n_channels': 1, 'n_epochs': 1000, 'numOfTrials': 2, 'patience': 50, 'suffix': '50_11', 'training_count': 0.64, 'useNormalization': False, 'usePretrained': True, 'useZCAWhitening': False, 'validation_count': 0.16}\n",
      "{'batchSize': 200, 'imageDimension': 252, 'image_path': '/data/BGNN_data/INHS_cropped', 'kernelSize': 5, 'kernels': (8, 22, 4, 3, 9), 'n_channels': 1, 'n_epochs': 1000, 'numOfTrials': 2, 'patience': 50, 'suffix': '50_11', 'training_count': 0.64, 'useNormalization': False, 'usePretrained': True, 'useZCAWhitening': False, 'validation_count': 0.16}\n",
      "{'batchSize': 200, 'imageDimension': 140, 'image_path': '/data/BGNN_data/INHS_cropped', 'kernelSize': 5, 'kernels': (13, 19, 11, 1, 2), 'n_channels': 3, 'n_epochs': 1000, 'numOfTrials': 2, 'patience': 50, 'suffix': '50_11', 'training_count': 0.64, 'useNormalization': False, 'usePretrained': True, 'useZCAWhitening': False, 'validation_count': 0.16}\n",
      "{'batchSize': 200, 'imageDimension': 56, 'image_path': '/data/BGNN_data/INHS_cropped', 'kernelSize': 7, 'kernels': (9, 27, 5, 9, 4), 'n_channels': 3, 'n_epochs': 1000, 'numOfTrials': 2, 'patience': 50, 'suffix': '50_11', 'training_count': 0.64, 'useNormalization': False, 'usePretrained': True, 'useZCAWhitening': False, 'validation_count': 0.16}\n",
      "{'batchSize': 200, 'imageDimension': 392, 'image_path': '/data/BGNN_data/INHS_cropped', 'kernelSize': 6, 'kernels': (12, 29, 2, 3, 9), 'n_channels': 1, 'n_epochs': 1000, 'numOfTrials': 2, 'patience': 50, 'suffix': '50_11', 'training_count': 0.64, 'useNormalization': False, 'usePretrained': True, 'useZCAWhitening': False, 'validation_count': 0.16}\n",
      "{'batchSize': 200, 'imageDimension': 140, 'image_path': '/data/BGNN_data/INHS_cropped', 'kernelSize': 9, 'kernels': (15, 18, 3, 2, 2), 'n_channels': 1, 'n_epochs': 1000, 'numOfTrials': 2, 'patience': 50, 'suffix': '50_11', 'training_count': 0.64, 'useNormalization': False, 'usePretrained': True, 'useZCAWhitening': False, 'validation_count': 0.16}\n",
      "{'batchSize': 200, 'imageDimension': 56, 'image_path': '/data/BGNN_data/INHS_cropped', 'kernelSize': 5, 'kernels': (9, 19, 3, 2, 15), 'n_channels': 1, 'n_epochs': 1000, 'numOfTrials': 2, 'patience': 50, 'suffix': '50_11', 'training_count': 0.64, 'useNormalization': False, 'usePretrained': True, 'useZCAWhitening': False, 'validation_count': 0.16}\n",
      "{'batchSize': 200, 'imageDimension': 280, 'image_path': '/data/BGNN_data/INHS_cropped', 'kernelSize': 8, 'kernels': (12, 31, 11, 3, 5), 'n_channels': 1, 'n_epochs': 1000, 'numOfTrials': 2, 'patience': 50, 'suffix': '50_11', 'training_count': 0.64, 'useNormalization': False, 'usePretrained': True, 'useZCAWhitening': False, 'validation_count': 0.16}\n",
      "{'batchSize': 200, 'imageDimension': 112, 'image_path': '/data/BGNN_data/INHS_cropped', 'kernelSize': 5, 'kernels': (15, 25, 5, 13, 1), 'n_channels': 3, 'n_epochs': 1000, 'numOfTrials': 2, 'patience': 50, 'suffix': '50_11', 'training_count': 0.64, 'useNormalization': False, 'usePretrained': True, 'useZCAWhitening': False, 'validation_count': 0.16}\n",
      "{'batchSize': 200, 'imageDimension': 364, 'image_path': '/data/BGNN_data/INHS_cropped', 'kernelSize': 6, 'kernels': (15, 28, 3, 10, 9), 'n_channels': 1, 'n_epochs': 1000, 'numOfTrials': 2, 'patience': 50, 'suffix': '50_11', 'training_count': 0.64, 'useNormalization': False, 'usePretrained': True, 'useZCAWhitening': False, 'validation_count': 0.16}\n",
      "{'batchSize': 200, 'imageDimension': 224, 'image_path': '/data/BGNN_data/INHS_cropped', 'kernelSize': 9, 'kernels': (13, 26, 4, 6, 6), 'n_channels': 3, 'n_epochs': 1000, 'numOfTrials': 2, 'patience': 50, 'suffix': '50_11', 'training_count': 0.64, 'useNormalization': False, 'usePretrained': True, 'useZCAWhitening': False, 'validation_count': 0.16}\n",
      "{'batchSize': 200, 'imageDimension': 112, 'image_path': '/data/BGNN_data/INHS_cropped', 'kernelSize': 8, 'kernels': (15, 20, 1, 1, 10), 'n_channels': 1, 'n_epochs': 1000, 'numOfTrials': 2, 'patience': 50, 'suffix': '50_11', 'training_count': 0.64, 'useNormalization': False, 'usePretrained': True, 'useZCAWhitening': False, 'validation_count': 0.16}\n",
      "{'batchSize': 200, 'imageDimension': 196, 'image_path': '/data/BGNN_data/INHS_cropped', 'kernelSize': 9, 'kernels': (12, 27, 2, 3, 2), 'n_channels': 1, 'n_epochs': 1000, 'numOfTrials': 2, 'patience': 50, 'suffix': '50_11', 'training_count': 0.64, 'useNormalization': False, 'usePretrained': True, 'useZCAWhitening': False, 'validation_count': 0.16}\n",
      "{'batchSize': 200, 'imageDimension': 56, 'image_path': '/data/BGNN_data/INHS_cropped', 'kernelSize': 3, 'kernels': (8, 18, 4, 3, 2), 'n_channels': 3, 'n_epochs': 1000, 'numOfTrials': 2, 'patience': 50, 'suffix': '50_11', 'training_count': 0.64, 'useNormalization': False, 'usePretrained': True, 'useZCAWhitening': False, 'validation_count': 0.16}\n",
      "{'batchSize': 200, 'imageDimension': 364, 'image_path': '/data/BGNN_data/INHS_cropped', 'kernelSize': 5, 'kernels': (14, 17, 7, 10, 6), 'n_channels': 1, 'n_epochs': 1000, 'numOfTrials': 2, 'patience': 50, 'suffix': '50_11', 'training_count': 0.64, 'useNormalization': False, 'usePretrained': True, 'useZCAWhitening': False, 'validation_count': 0.16}\n",
      "{'batchSize': 200, 'imageDimension': 140, 'image_path': '/data/BGNN_data/INHS_cropped', 'kernelSize': 4, 'kernels': (12, 29, 3, 6, 2), 'n_channels': 3, 'n_epochs': 1000, 'numOfTrials': 2, 'patience': 50, 'suffix': '50_11', 'training_count': 0.64, 'useNormalization': False, 'usePretrained': True, 'useZCAWhitening': False, 'validation_count': 0.16}\n",
      "{'batchSize': 200, 'imageDimension': 392, 'image_path': '/data/BGNN_data/INHS_cropped', 'kernelSize': 5, 'kernels': (10, 19, 2, 3, 7), 'n_channels': 1, 'n_epochs': 1000, 'numOfTrials': 2, 'patience': 50, 'suffix': '50_11', 'training_count': 0.64, 'useNormalization': False, 'usePretrained': True, 'useZCAWhitening': False, 'validation_count': 0.16}\n"
     ]
    },
    {
     "name": "stdout",
     "output_type": "stream",
     "text": [
      "{'batchSize': 200, 'imageDimension': 336, 'image_path': '/data/BGNN_data/INHS_cropped', 'kernelSize': 4, 'kernels': (16, 32, 3, 2, 2), 'n_channels': 3, 'n_epochs': 1000, 'numOfTrials': 2, 'patience': 50, 'suffix': '50_11', 'training_count': 0.64, 'useNormalization': False, 'usePretrained': True, 'useZCAWhitening': False, 'validation_count': 0.16}\n",
      "{'batchSize': 200, 'imageDimension': 252, 'image_path': '/data/BGNN_data/INHS_cropped', 'kernelSize': 8, 'kernels': (11, 32, 2, 3, 12), 'n_channels': 1, 'n_epochs': 1000, 'numOfTrials': 2, 'patience': 50, 'suffix': '50_11', 'training_count': 0.64, 'useNormalization': False, 'usePretrained': True, 'useZCAWhitening': False, 'validation_count': 0.16}\n",
      "{'batchSize': 200, 'imageDimension': 56, 'image_path': '/data/BGNN_data/INHS_cropped', 'kernelSize': 7, 'kernels': (16, 17, 12, 5, 11), 'n_channels': 1, 'n_epochs': 1000, 'numOfTrials': 2, 'patience': 50, 'suffix': '50_11', 'training_count': 0.64, 'useNormalization': False, 'usePretrained': True, 'useZCAWhitening': False, 'validation_count': 0.16}\n",
      "{'batchSize': 200, 'imageDimension': 280, 'image_path': '/data/BGNN_data/INHS_cropped', 'kernelSize': 7, 'kernels': (14, 32, 1, 2, 1), 'n_channels': 3, 'n_epochs': 1000, 'numOfTrials': 2, 'patience': 50, 'suffix': '50_11', 'training_count': 0.64, 'useNormalization': False, 'usePretrained': True, 'useZCAWhitening': False, 'validation_count': 0.16}\n",
      "{'batchSize': 200, 'imageDimension': 280, 'image_path': '/data/BGNN_data/INHS_cropped', 'kernelSize': 9, 'kernels': (9, 28, 2, 8, 1), 'n_channels': 3, 'n_epochs': 1000, 'numOfTrials': 2, 'patience': 50, 'suffix': '50_11', 'training_count': 0.64, 'useNormalization': False, 'usePretrained': True, 'useZCAWhitening': False, 'validation_count': 0.16}\n",
      "{'batchSize': 200, 'imageDimension': 140, 'image_path': '/data/BGNN_data/INHS_cropped', 'kernelSize': 4, 'kernels': (10, 31, 2, 15, 2), 'n_channels': 3, 'n_epochs': 1000, 'numOfTrials': 2, 'patience': 50, 'suffix': '50_11', 'training_count': 0.64, 'useNormalization': False, 'usePretrained': True, 'useZCAWhitening': False, 'validation_count': 0.16}\n",
      "{'batchSize': 200, 'imageDimension': 308, 'image_path': '/data/BGNN_data/INHS_cropped', 'kernelSize': 7, 'kernels': (13, 22, 11, 16, 6), 'n_channels': 3, 'n_epochs': 1000, 'numOfTrials': 2, 'patience': 50, 'suffix': '50_11', 'training_count': 0.64, 'useNormalization': False, 'usePretrained': True, 'useZCAWhitening': False, 'validation_count': 0.16}\n",
      "{'batchSize': 200, 'imageDimension': 392, 'image_path': '/data/BGNN_data/INHS_cropped', 'kernelSize': 3, 'kernels': (14, 23, 7, 2, 1), 'n_channels': 3, 'n_epochs': 1000, 'numOfTrials': 2, 'patience': 50, 'suffix': '50_11', 'training_count': 0.64, 'useNormalization': False, 'usePretrained': True, 'useZCAWhitening': False, 'validation_count': 0.16}\n",
      "{'batchSize': 200, 'imageDimension': 112, 'image_path': '/data/BGNN_data/INHS_cropped', 'kernelSize': 9, 'kernels': (11, 17, 14, 7, 3), 'n_channels': 3, 'n_epochs': 1000, 'numOfTrials': 2, 'patience': 50, 'suffix': '50_11', 'training_count': 0.64, 'useNormalization': False, 'usePretrained': True, 'useZCAWhitening': False, 'validation_count': 0.16}\n",
      "{'batchSize': 200, 'imageDimension': 196, 'image_path': '/data/BGNN_data/INHS_cropped', 'kernelSize': 7, 'kernels': (16, 23, 12, 3, 4), 'n_channels': 3, 'n_epochs': 1000, 'numOfTrials': 2, 'patience': 50, 'suffix': '50_11', 'training_count': 0.64, 'useNormalization': False, 'usePretrained': True, 'useZCAWhitening': False, 'validation_count': 0.16}\n",
      "{'batchSize': 200, 'imageDimension': 56, 'image_path': '/data/BGNN_data/INHS_cropped', 'kernelSize': 9, 'kernels': (10, 31, 2, 1, 1), 'n_channels': 1, 'n_epochs': 1000, 'numOfTrials': 2, 'patience': 50, 'suffix': '50_11', 'training_count': 0.64, 'useNormalization': False, 'usePretrained': True, 'useZCAWhitening': False, 'validation_count': 0.16}\n",
      "{'batchSize': 200, 'imageDimension': 420, 'image_path': '/data/BGNN_data/INHS_cropped', 'kernelSize': 5, 'kernels': (10, 30, 2, 7, 3), 'n_channels': 1, 'n_epochs': 1000, 'numOfTrials': 2, 'patience': 50, 'suffix': '50_11', 'training_count': 0.64, 'useNormalization': False, 'usePretrained': True, 'useZCAWhitening': False, 'validation_count': 0.16}\n",
      "{'batchSize': 200, 'imageDimension': 196, 'image_path': '/data/BGNN_data/INHS_cropped', 'kernelSize': 9, 'kernels': (10, 20, 7, 2, 5), 'n_channels': 1, 'n_epochs': 1000, 'numOfTrials': 2, 'patience': 50, 'suffix': '50_11', 'training_count': 0.64, 'useNormalization': False, 'usePretrained': True, 'useZCAWhitening': False, 'validation_count': 0.16}\n",
      "{'batchSize': 200, 'imageDimension': 56, 'image_path': '/data/BGNN_data/INHS_cropped', 'kernelSize': 10, 'kernels': (16, 26, 5, 4, 5), 'n_channels': 3, 'n_epochs': 1000, 'numOfTrials': 2, 'patience': 50, 'suffix': '50_11', 'training_count': 0.64, 'useNormalization': False, 'usePretrained': True, 'useZCAWhitening': False, 'validation_count': 0.16}\n",
      "{'batchSize': 200, 'imageDimension': 252, 'image_path': '/data/BGNN_data/INHS_cropped', 'kernelSize': 4, 'kernels': (11, 22, 11, 5, 7), 'n_channels': 3, 'n_epochs': 1000, 'numOfTrials': 2, 'patience': 50, 'suffix': '50_11', 'training_count': 0.64, 'useNormalization': False, 'usePretrained': True, 'useZCAWhitening': False, 'validation_count': 0.16}\n",
      "{'batchSize': 200, 'imageDimension': 112, 'image_path': '/data/BGNN_data/INHS_cropped', 'kernelSize': 4, 'kernels': (8, 22, 2, 1, 3), 'n_channels': 3, 'n_epochs': 1000, 'numOfTrials': 2, 'patience': 50, 'suffix': '50_11', 'training_count': 0.64, 'useNormalization': False, 'usePretrained': True, 'useZCAWhitening': False, 'validation_count': 0.16}\n",
      "{'batchSize': 200, 'imageDimension': 196, 'image_path': '/data/BGNN_data/INHS_cropped', 'kernelSize': 8, 'kernels': (10, 28, 5, 8, 13), 'n_channels': 1, 'n_epochs': 1000, 'numOfTrials': 2, 'patience': 50, 'suffix': '50_11', 'training_count': 0.64, 'useNormalization': False, 'usePretrained': True, 'useZCAWhitening': False, 'validation_count': 0.16}\n",
      "{'batchSize': 200, 'imageDimension': 252, 'image_path': '/data/BGNN_data/INHS_cropped', 'kernelSize': 10, 'kernels': (14, 24, 6, 1, 11), 'n_channels': 1, 'n_epochs': 1000, 'numOfTrials': 2, 'patience': 50, 'suffix': '50_11', 'training_count': 0.64, 'useNormalization': False, 'usePretrained': True, 'useZCAWhitening': False, 'validation_count': 0.16}\n",
      "{'batchSize': 200, 'imageDimension': 280, 'image_path': '/data/BGNN_data/INHS_cropped', 'kernelSize': 8, 'kernels': (13, 24, 5, 5, 2), 'n_channels': 3, 'n_epochs': 1000, 'numOfTrials': 2, 'patience': 50, 'suffix': '50_11', 'training_count': 0.64, 'useNormalization': False, 'usePretrained': True, 'useZCAWhitening': False, 'validation_count': 0.16}\n",
      "{'batchSize': 200, 'imageDimension': 56, 'image_path': '/data/BGNN_data/INHS_cropped', 'kernelSize': 10, 'kernels': (10, 26, 1, 6, 1), 'n_channels': 3, 'n_epochs': 1000, 'numOfTrials': 2, 'patience': 50, 'suffix': '50_11', 'training_count': 0.64, 'useNormalization': False, 'usePretrained': True, 'useZCAWhitening': False, 'validation_count': 0.16}\n",
      "{'batchSize': 200, 'imageDimension': 168, 'image_path': '/data/BGNN_data/INHS_cropped', 'kernelSize': 6, 'kernels': (15, 21, 3, 6, 2), 'n_channels': 3, 'n_epochs': 1000, 'numOfTrials': 2, 'patience': 50, 'suffix': '50_11', 'training_count': 0.64, 'useNormalization': False, 'usePretrained': True, 'useZCAWhitening': False, 'validation_count': 0.16}\n",
      "{'batchSize': 200, 'imageDimension': 168, 'image_path': '/data/BGNN_data/INHS_cropped', 'kernelSize': 7, 'kernels': (14, 30, 11, 2, 6), 'n_channels': 1, 'n_epochs': 1000, 'numOfTrials': 2, 'patience': 50, 'suffix': '50_11', 'training_count': 0.64, 'useNormalization': False, 'usePretrained': True, 'useZCAWhitening': False, 'validation_count': 0.16}\n",
      "{'batchSize': 200, 'imageDimension': 336, 'image_path': '/data/BGNN_data/INHS_cropped', 'kernelSize': 6, 'kernels': (15, 32, 7, 3, 6), 'n_channels': 1, 'n_epochs': 1000, 'numOfTrials': 2, 'patience': 50, 'suffix': '50_11', 'training_count': 0.64, 'useNormalization': False, 'usePretrained': True, 'useZCAWhitening': False, 'validation_count': 0.16}\n",
      "{'batchSize': 200, 'imageDimension': 56, 'image_path': '/data/BGNN_data/INHS_cropped', 'kernelSize': 6, 'kernels': (13, 28, 7, 4, 6), 'n_channels': 1, 'n_epochs': 1000, 'numOfTrials': 2, 'patience': 50, 'suffix': '50_11', 'training_count': 0.64, 'useNormalization': False, 'usePretrained': True, 'useZCAWhitening': False, 'validation_count': 0.16}\n"
     ]
    },
    {
     "name": "stdout",
     "output_type": "stream",
     "text": [
      "{'batchSize': 200, 'imageDimension': 392, 'image_path': '/data/BGNN_data/INHS_cropped', 'kernelSize': 4, 'kernels': (13, 23, 9, 4, 7), 'n_channels': 1, 'n_epochs': 1000, 'numOfTrials': 2, 'patience': 50, 'suffix': '50_11', 'training_count': 0.64, 'useNormalization': False, 'usePretrained': True, 'useZCAWhitening': False, 'validation_count': 0.16}\n",
      "{'batchSize': 200, 'imageDimension': 112, 'image_path': '/data/BGNN_data/INHS_cropped', 'kernelSize': 8, 'kernels': (15, 30, 3, 1, 2), 'n_channels': 3, 'n_epochs': 1000, 'numOfTrials': 2, 'patience': 50, 'suffix': '50_11', 'training_count': 0.64, 'useNormalization': False, 'usePretrained': True, 'useZCAWhitening': False, 'validation_count': 0.16}\n",
      "{'batchSize': 200, 'imageDimension': 392, 'image_path': '/data/BGNN_data/INHS_cropped', 'kernelSize': 9, 'kernels': (15, 21, 12, 8, 13), 'n_channels': 1, 'n_epochs': 1000, 'numOfTrials': 2, 'patience': 50, 'suffix': '50_11', 'training_count': 0.64, 'useNormalization': False, 'usePretrained': True, 'useZCAWhitening': False, 'validation_count': 0.16}\n",
      "{'batchSize': 200, 'imageDimension': 84, 'image_path': '/data/BGNN_data/INHS_cropped', 'kernelSize': 3, 'kernels': (14, 31, 2, 5, 1), 'n_channels': 3, 'n_epochs': 1000, 'numOfTrials': 2, 'patience': 50, 'suffix': '50_11', 'training_count': 0.64, 'useNormalization': False, 'usePretrained': True, 'useZCAWhitening': False, 'validation_count': 0.16}\n",
      "{'batchSize': 200, 'imageDimension': 56, 'image_path': '/data/BGNN_data/INHS_cropped', 'kernelSize': 9, 'kernels': (12, 22, 9, 11, 4), 'n_channels': 3, 'n_epochs': 1000, 'numOfTrials': 2, 'patience': 50, 'suffix': '50_11', 'training_count': 0.64, 'useNormalization': False, 'usePretrained': True, 'useZCAWhitening': False, 'validation_count': 0.16}\n",
      "{'batchSize': 200, 'imageDimension': 224, 'image_path': '/data/BGNN_data/INHS_cropped', 'kernelSize': 8, 'kernels': (11, 24, 2, 5, 1), 'n_channels': 3, 'n_epochs': 1000, 'numOfTrials': 2, 'patience': 50, 'suffix': '50_11', 'training_count': 0.64, 'useNormalization': False, 'usePretrained': True, 'useZCAWhitening': False, 'validation_count': 0.16}\n",
      "{'batchSize': 200, 'imageDimension': 392, 'image_path': '/data/BGNN_data/INHS_cropped', 'kernelSize': 4, 'kernels': (13, 31, 13, 3, 6), 'n_channels': 3, 'n_epochs': 1000, 'numOfTrials': 2, 'patience': 50, 'suffix': '50_11', 'training_count': 0.64, 'useNormalization': False, 'usePretrained': True, 'useZCAWhitening': False, 'validation_count': 0.16}\n",
      "{'batchSize': 200, 'imageDimension': 168, 'image_path': '/data/BGNN_data/INHS_cropped', 'kernelSize': 9, 'kernels': (14, 24, 6, 1, 11), 'n_channels': 1, 'n_epochs': 1000, 'numOfTrials': 2, 'patience': 50, 'suffix': '50_11', 'training_count': 0.64, 'useNormalization': False, 'usePretrained': True, 'useZCAWhitening': False, 'validation_count': 0.16}\n",
      "{'batchSize': 200, 'imageDimension': 280, 'image_path': '/data/BGNN_data/INHS_cropped', 'kernelSize': 8, 'kernels': (15, 21, 3, 9, 8), 'n_channels': 1, 'n_epochs': 1000, 'numOfTrials': 2, 'patience': 50, 'suffix': '50_11', 'training_count': 0.64, 'useNormalization': False, 'usePretrained': True, 'useZCAWhitening': False, 'validation_count': 0.16}\n",
      "{'batchSize': 200, 'imageDimension': 280, 'image_path': '/data/BGNN_data/INHS_cropped', 'kernelSize': 5, 'kernels': (15, 21, 1, 1, 7), 'n_channels': 3, 'n_epochs': 1000, 'numOfTrials': 2, 'patience': 50, 'suffix': '50_11', 'training_count': 0.64, 'useNormalization': False, 'usePretrained': True, 'useZCAWhitening': False, 'validation_count': 0.16}\n",
      "{'batchSize': 200, 'imageDimension': 140, 'image_path': '/data/BGNN_data/INHS_cropped', 'kernelSize': 5, 'kernels': (15, 28, 5, 11, 1), 'n_channels': 3, 'n_epochs': 1000, 'numOfTrials': 2, 'patience': 50, 'suffix': '50_11', 'training_count': 0.64, 'useNormalization': False, 'usePretrained': True, 'useZCAWhitening': False, 'validation_count': 0.16}\n",
      "{'batchSize': 200, 'imageDimension': 112, 'image_path': '/data/BGNN_data/INHS_cropped', 'kernelSize': 8, 'kernels': (9, 31, 8, 6, 3), 'n_channels': 1, 'n_epochs': 1000, 'numOfTrials': 2, 'patience': 50, 'suffix': '50_11', 'training_count': 0.64, 'useNormalization': False, 'usePretrained': True, 'useZCAWhitening': False, 'validation_count': 0.16}\n",
      "{'batchSize': 200, 'imageDimension': 56, 'image_path': '/data/BGNN_data/INHS_cropped', 'kernelSize': 8, 'kernels': (12, 22, 10, 1, 8), 'n_channels': 1, 'n_epochs': 1000, 'numOfTrials': 2, 'patience': 50, 'suffix': '50_11', 'training_count': 0.64, 'useNormalization': False, 'usePretrained': True, 'useZCAWhitening': False, 'validation_count': 0.16}\n",
      "{'batchSize': 200, 'imageDimension': 196, 'image_path': '/data/BGNN_data/INHS_cropped', 'kernelSize': 10, 'kernels': (13, 31, 8, 7, 13), 'n_channels': 3, 'n_epochs': 1000, 'numOfTrials': 2, 'patience': 50, 'suffix': '50_11', 'training_count': 0.64, 'useNormalization': False, 'usePretrained': True, 'useZCAWhitening': False, 'validation_count': 0.16}\n",
      "{'batchSize': 200, 'imageDimension': 252, 'image_path': '/data/BGNN_data/INHS_cropped', 'kernelSize': 10, 'kernels': (9, 28, 2, 3, 1), 'n_channels': 3, 'n_epochs': 1000, 'numOfTrials': 2, 'patience': 50, 'suffix': '50_11', 'training_count': 0.64, 'useNormalization': False, 'usePretrained': True, 'useZCAWhitening': False, 'validation_count': 0.16}\n",
      "{'batchSize': 200, 'imageDimension': 392, 'image_path': '/data/BGNN_data/INHS_cropped', 'kernelSize': 9, 'kernels': (8, 28, 4, 7, 4), 'n_channels': 3, 'n_epochs': 1000, 'numOfTrials': 2, 'patience': 50, 'suffix': '50_11', 'training_count': 0.64, 'useNormalization': False, 'usePretrained': True, 'useZCAWhitening': False, 'validation_count': 0.16}\n",
      "{'batchSize': 200, 'imageDimension': 252, 'image_path': '/data/BGNN_data/INHS_cropped', 'kernelSize': 4, 'kernels': (13, 17, 2, 15, 1), 'n_channels': 1, 'n_epochs': 1000, 'numOfTrials': 2, 'patience': 50, 'suffix': '50_11', 'training_count': 0.64, 'useNormalization': False, 'usePretrained': True, 'useZCAWhitening': False, 'validation_count': 0.16}\n",
      "{'batchSize': 200, 'imageDimension': 392, 'image_path': '/data/BGNN_data/INHS_cropped', 'kernelSize': 7, 'kernels': (15, 20, 4, 10, 5), 'n_channels': 1, 'n_epochs': 1000, 'numOfTrials': 2, 'patience': 50, 'suffix': '50_11', 'training_count': 0.64, 'useNormalization': False, 'usePretrained': True, 'useZCAWhitening': False, 'validation_count': 0.16}\n",
      "{'batchSize': 200, 'imageDimension': 196, 'image_path': '/data/BGNN_data/INHS_cropped', 'kernelSize': 5, 'kernels': (11, 23, 1, 11, 2), 'n_channels': 3, 'n_epochs': 1000, 'numOfTrials': 2, 'patience': 50, 'suffix': '50_11', 'training_count': 0.64, 'useNormalization': False, 'usePretrained': True, 'useZCAWhitening': False, 'validation_count': 0.16}\n",
      "{'batchSize': 200, 'imageDimension': 28, 'image_path': '/data/BGNN_data/INHS_cropped', 'kernelSize': 10, 'kernels': (10, 23, 4, 5, 1), 'n_channels': 1, 'n_epochs': 1000, 'numOfTrials': 2, 'patience': 50, 'suffix': '50_11', 'training_count': 0.64, 'useNormalization': False, 'usePretrained': True, 'useZCAWhitening': False, 'validation_count': 0.16}\n",
      "{'batchSize': 200, 'imageDimension': 168, 'image_path': '/data/BGNN_data/INHS_cropped', 'kernelSize': 3, 'kernels': (13, 28, 4, 2, 1), 'n_channels': 1, 'n_epochs': 1000, 'numOfTrials': 2, 'patience': 50, 'suffix': '50_11', 'training_count': 0.64, 'useNormalization': False, 'usePretrained': True, 'useZCAWhitening': False, 'validation_count': 0.16}\n",
      "{'batchSize': 200, 'imageDimension': 196, 'image_path': '/data/BGNN_data/INHS_cropped', 'kernelSize': 5, 'kernels': (10, 32, 12, 4, 3), 'n_channels': 3, 'n_epochs': 1000, 'numOfTrials': 2, 'patience': 50, 'suffix': '50_11', 'training_count': 0.64, 'useNormalization': False, 'usePretrained': True, 'useZCAWhitening': False, 'validation_count': 0.16}\n",
      "{'batchSize': 200, 'imageDimension': 112, 'image_path': '/data/BGNN_data/INHS_cropped', 'kernelSize': 3, 'kernels': (9, 18, 2, 3, 2), 'n_channels': 1, 'n_epochs': 1000, 'numOfTrials': 2, 'patience': 50, 'suffix': '50_11', 'training_count': 0.64, 'useNormalization': False, 'usePretrained': True, 'useZCAWhitening': False, 'validation_count': 0.16}\n",
      "{'batchSize': 200, 'imageDimension': 252, 'image_path': '/data/BGNN_data/INHS_cropped', 'kernelSize': 6, 'kernels': (12, 27, 9, 2, 5), 'n_channels': 3, 'n_epochs': 1000, 'numOfTrials': 2, 'patience': 50, 'suffix': '50_11', 'training_count': 0.64, 'useNormalization': False, 'usePretrained': True, 'useZCAWhitening': False, 'validation_count': 0.16}\n"
     ]
    },
    {
     "name": "stdout",
     "output_type": "stream",
     "text": [
      "{'batchSize': 200, 'imageDimension': 140, 'image_path': '/data/BGNN_data/INHS_cropped', 'kernelSize': 8, 'kernels': (13, 16, 1, 2, 4), 'n_channels': 3, 'n_epochs': 1000, 'numOfTrials': 2, 'patience': 50, 'suffix': '50_11', 'training_count': 0.64, 'useNormalization': False, 'usePretrained': True, 'useZCAWhitening': False, 'validation_count': 0.16}\n",
      "{'batchSize': 200, 'imageDimension': 364, 'image_path': '/data/BGNN_data/INHS_cropped', 'kernelSize': 8, 'kernels': (10, 20, 1, 11, 5), 'n_channels': 1, 'n_epochs': 1000, 'numOfTrials': 2, 'patience': 50, 'suffix': '50_11', 'training_count': 0.64, 'useNormalization': False, 'usePretrained': True, 'useZCAWhitening': False, 'validation_count': 0.16}\n",
      "{'batchSize': 200, 'imageDimension': 140, 'image_path': '/data/BGNN_data/INHS_cropped', 'kernelSize': 6, 'kernels': (9, 22, 6, 5, 4), 'n_channels': 3, 'n_epochs': 1000, 'numOfTrials': 2, 'patience': 50, 'suffix': '50_11', 'training_count': 0.64, 'useNormalization': False, 'usePretrained': True, 'useZCAWhitening': False, 'validation_count': 0.16}\n",
      "{'batchSize': 200, 'imageDimension': 252, 'image_path': '/data/BGNN_data/INHS_cropped', 'kernelSize': 9, 'kernels': (15, 28, 9, 1, 16), 'n_channels': 1, 'n_epochs': 1000, 'numOfTrials': 2, 'patience': 50, 'suffix': '50_11', 'training_count': 0.64, 'useNormalization': False, 'usePretrained': True, 'useZCAWhitening': False, 'validation_count': 0.16}\n",
      "{'batchSize': 200, 'imageDimension': 336, 'image_path': '/data/BGNN_data/INHS_cropped', 'kernelSize': 5, 'kernels': (10, 25, 2, 4, 13), 'n_channels': 1, 'n_epochs': 1000, 'numOfTrials': 2, 'patience': 50, 'suffix': '50_11', 'training_count': 0.64, 'useNormalization': False, 'usePretrained': True, 'useZCAWhitening': False, 'validation_count': 0.16}\n",
      "{'batchSize': 200, 'imageDimension': 112, 'image_path': '/data/BGNN_data/INHS_cropped', 'kernelSize': 7, 'kernels': (10, 23, 10, 16, 2), 'n_channels': 3, 'n_epochs': 1000, 'numOfTrials': 2, 'patience': 50, 'suffix': '50_11', 'training_count': 0.64, 'useNormalization': False, 'usePretrained': True, 'useZCAWhitening': False, 'validation_count': 0.16}\n",
      "{'batchSize': 200, 'imageDimension': 224, 'image_path': '/data/BGNN_data/INHS_cropped', 'kernelSize': 5, 'kernels': (10, 22, 7, 1, 15), 'n_channels': 3, 'n_epochs': 1000, 'numOfTrials': 2, 'patience': 50, 'suffix': '50_11', 'training_count': 0.64, 'useNormalization': False, 'usePretrained': True, 'useZCAWhitening': False, 'validation_count': 0.16}\n",
      "{'batchSize': 200, 'imageDimension': 56, 'image_path': '/data/BGNN_data/INHS_cropped', 'kernelSize': 6, 'kernels': (13, 28, 6, 2, 2), 'n_channels': 3, 'n_epochs': 1000, 'numOfTrials': 2, 'patience': 50, 'suffix': '50_11', 'training_count': 0.64, 'useNormalization': False, 'usePretrained': True, 'useZCAWhitening': False, 'validation_count': 0.16}\n",
      "100%|██████████| 100/100 [00:00<00:00, 173.22trial/s, best loss: 1.0]\n"
     ]
    },
    {
     "data": {
      "text/plain": [
       "{'batchSize': 0,\n",
       " 'imageDimension': 280.0,\n",
       " 'image_path': 0,\n",
       " 'kernelSize': 8.0,\n",
       " 'kernels1': 12.0,\n",
       " 'kernels2': 31.0,\n",
       " 'kernels3': 5.0,\n",
       " 'kernels4': 5.0,\n",
       " 'kernels5': 1.0,\n",
       " 'n_channels': 1,\n",
       " 'n_epochs': 0,\n",
       " 'numOfTrials': 0,\n",
       " 'patience': 0,\n",
       " 'suffix': 0,\n",
       " 'training_count': 0,\n",
       " 'useNormalization': 0,\n",
       " 'usePretrained': 0,\n",
       " 'useZCAWhitening': 0,\n",
       " 'validation_count': 0}"
      ]
     },
     "execution_count": 9,
     "metadata": {},
     "output_type": "execute_result"
    }
   ],
   "source": [
    "hyperp_obj = cp.getHyperpSearchObject()\n",
    "print(hyperp_obj)\n",
    "\n",
    "def objective(experiment_params):\n",
    "    print(experiment_params)\n",
    "    dummyObjective = 1\n",
    "    return dummyObjective\n",
    "\n",
    "fmin(objective,\n",
    "     space=hyperp_obj,\n",
    "     algo=rand.suggest, \n",
    "     max_evals=numOfExperiments)"
   ]
  },
  {
   "cell_type": "markdown",
   "metadata": {},
   "source": [
    "Selected hyperp write"
   ]
  },
  {
   "cell_type": "code",
   "execution_count": 10,
   "metadata": {},
   "outputs": [
    {
     "data": {
      "text/plain": [
       "'test_22987_suffix50_11_dataLoader3_pretrained_depth/hyperp_selected_params.pkl'"
      ]
     },
     "execution_count": 10,
     "metadata": {},
     "output_type": "execute_result"
    }
   ],
   "source": [
    "selected_hyperp_params = [\n",
    "    {'imageDimension': 224, \"usePretrained\": True},\n",
    "    {'imageDimension': 224, 'kernels': (16, 32, 64, 128), \"usePretrained\": False, 'useNormalization': True},\n",
    "    {'imageDimension': 224, 'kernels': (16, 32, 64, 128), \"usePretrained\": False, 'useNormalization': False},\n",
    "    {'imageDimension': 112, 'kernels': (16, 32, 64), \"usePretrained\": False, 'useNormalization': True},\n",
    "    {'imageDimension': 112, 'kernels': (16, 32, 64), \"usePretrained\": False, 'useNormalization': False},\n",
    "    {'imageDimension': 56, 'kernels': (16, 32), \"usePretrained\": False, 'useNormalization': True},\n",
    "    {'imageDimension': 56, 'kernels': (16, 32), \"usePretrained\": False, 'useNormalization': False},\n",
    "]\n",
    "\n",
    "cp.writeHyperpSelected(selected_hyperp_params)"
   ]
  },
  {
   "cell_type": "markdown",
   "metadata": {},
   "source": [
    "Selected hyperp read"
   ]
  },
  {
   "cell_type": "code",
   "execution_count": 11,
   "metadata": {},
   "outputs": [
    {
     "name": "stdout",
     "output_type": "stream",
     "text": [
      "{'image_path': '/data/BGNN_data/INHS_cropped', 'suffix': '50_11', 'training_count': 0.64, 'validation_count': 0.16, 'usePretrained': True, 'imageDimension': 224, 'n_channels': 3, 'useZCAWhitening': False, 'useNormalization': False, 'batchSize': 200, 'n_epochs': 1000, 'numOfTrials': 2, 'kernels': [16, 32], 'kernelSize': 5, 'patience': 50}\n",
      "{'image_path': '/data/BGNN_data/INHS_cropped', 'suffix': '50_11', 'training_count': 0.64, 'validation_count': 0.16, 'usePretrained': False, 'imageDimension': 224, 'n_channels': 3, 'useZCAWhitening': False, 'useNormalization': True, 'batchSize': 200, 'n_epochs': 1000, 'numOfTrials': 2, 'kernels': (16, 32, 64, 128), 'kernelSize': 5, 'patience': 50}\n",
      "{'image_path': '/data/BGNN_data/INHS_cropped', 'suffix': '50_11', 'training_count': 0.64, 'validation_count': 0.16, 'usePretrained': False, 'imageDimension': 224, 'n_channels': 3, 'useZCAWhitening': False, 'useNormalization': False, 'batchSize': 200, 'n_epochs': 1000, 'numOfTrials': 2, 'kernels': (16, 32, 64, 128), 'kernelSize': 5, 'patience': 50}\n",
      "{'image_path': '/data/BGNN_data/INHS_cropped', 'suffix': '50_11', 'training_count': 0.64, 'validation_count': 0.16, 'usePretrained': False, 'imageDimension': 112, 'n_channels': 3, 'useZCAWhitening': False, 'useNormalization': True, 'batchSize': 200, 'n_epochs': 1000, 'numOfTrials': 2, 'kernels': (16, 32, 64), 'kernelSize': 5, 'patience': 50}\n",
      "{'image_path': '/data/BGNN_data/INHS_cropped', 'suffix': '50_11', 'training_count': 0.64, 'validation_count': 0.16, 'usePretrained': False, 'imageDimension': 112, 'n_channels': 3, 'useZCAWhitening': False, 'useNormalization': False, 'batchSize': 200, 'n_epochs': 1000, 'numOfTrials': 2, 'kernels': (16, 32, 64), 'kernelSize': 5, 'patience': 50}\n",
      "{'image_path': '/data/BGNN_data/INHS_cropped', 'suffix': '50_11', 'training_count': 0.64, 'validation_count': 0.16, 'usePretrained': False, 'imageDimension': 56, 'n_channels': 3, 'useZCAWhitening': False, 'useNormalization': True, 'batchSize': 200, 'n_epochs': 1000, 'numOfTrials': 2, 'kernels': (16, 32), 'kernelSize': 5, 'patience': 50}\n",
      "{'image_path': '/data/BGNN_data/INHS_cropped', 'suffix': '50_11', 'training_count': 0.64, 'validation_count': 0.16, 'usePretrained': False, 'imageDimension': 56, 'n_channels': 3, 'useZCAWhitening': False, 'useNormalization': False, 'batchSize': 200, 'n_epochs': 1000, 'numOfTrials': 2, 'kernels': (16, 32), 'kernelSize': 5, 'patience': 50}\n"
     ]
    }
   ],
   "source": [
    "for i in cp.getHyperpSelectedIter():\n",
    "    print(i)"
   ]
  }
 ],
 "metadata": {
  "kernelspec": {
   "display_name": "Python 3",
   "language": "python",
   "name": "python3"
  },
  "language_info": {
   "codemirror_mode": {
    "name": "ipython",
    "version": 3
   },
   "file_extension": ".py",
   "mimetype": "text/x-python",
   "name": "python",
   "nbconvert_exporter": "python",
   "pygments_lexer": "ipython3",
   "version": "3.6.9"
  }
 },
 "nbformat": 4,
 "nbformat_minor": 2
}
