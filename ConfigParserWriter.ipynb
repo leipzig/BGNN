{
 "cells": [
  {
   "cell_type": "markdown",
   "metadata": {},
   "source": [
    "Imports"
   ]
  },
  {
   "cell_type": "code",
   "execution_count": 1,
   "metadata": {},
   "outputs": [],
   "source": [
    "from configParser import ConfigParser, getModelName, getDatasetName"
   ]
  },
  {
   "cell_type": "markdown",
   "metadata": {},
   "source": [
    "Parameters"
   ]
  },
  {
   "cell_type": "code",
   "execution_count": 2,
   "metadata": {},
   "outputs": [],
   "source": [
    "experimentName = \"test_22987_suffix50_11_CNN2_differentConfig_baseline4fclayers\"\n",
    "numOfExperiments=100\n",
    "\n",
    "params = {\n",
    "    # Do not change for multi/hyperp experiments\n",
    "    \"image_path\": \"/data/BGNN_data/INHS_cropped\",\n",
    "    \"suffix\": '50_11', # used to get a subset cleaned_metadata file. set to None otherwise to use full metadata\n",
    "    \n",
    "    # dataset\n",
    "    \"training_count\":0.64,\n",
    "    \"validation_count\":0.16,\n",
    "    \n",
    "    # image\n",
    "    \"imageDimension\": 224, # Deprecated and should not be changed from 224\n",
    "    \"n_channels\": 3,\n",
    "    \"augmentation\": False, # False is well better for Hierarchy\n",
    "\n",
    "    # training\n",
    "    \"batchSize\":550, # Bigger is more stable\n",
    "    \"n_epochs\":4000, # allow it to run for long time 4000\n",
    "    \"learning_rate\":0.01, # Seems 0.0001 to be best value with Adam. 0.1 best for SGD\n",
    "    \"numOfTrials\":3,\n",
    "    \"patience\": 100,\n",
    "    \"useHeirarchy\": False, #True: This makes a big good difference!\n",
    "    # temp. Should be optimized and removed\n",
    "    \"useRelu\": True, # True slows it down with no benefit,\n",
    "    \"downsample\":True, #False,\n",
    "    \"downsampleOutput\":200, #200 looks best marginally\n",
    "    \"takeFromIntermediate\":True, #True,\n",
    "    \"takeFromIntermediateOutput\":200, #200 looks best marginally\n",
    "    \"fc_layers\": 4, # 2 seems to be best. definitely better than 1\n",
    "    \"useAdam\": False, # Keep it to True for now!\n",
    "    \"resnet\": \"18\", # Keep '18'. '50' is not bad but not as good.\n",
    "    \"normalize\": True, # Does not seem to matter with no augmentation. Keep False for now\n",
    "    \"softmax\": True, # keep True for interpretability\n",
    "    \"batchNormalize\": True, # Keep True\n",
    "}\n"
   ]
  },
  {
   "cell_type": "markdown",
   "metadata": {},
   "source": [
    "Create file"
   ]
  },
  {
   "cell_type": "code",
   "execution_count": 3,
   "metadata": {},
   "outputs": [
    {
     "data": {
      "text/plain": [
       "'test_22987_suffix50_11_CNN2_differentConfig_baseline4fclayers/params.json'"
      ]
     },
     "execution_count": 3,
     "metadata": {},
     "output_type": "execute_result"
    }
   ],
   "source": [
    "cp = ConfigParser(experimentName)\n",
    "\n",
    "cp.write(params)"
   ]
  },
  {
   "cell_type": "markdown",
   "metadata": {},
   "source": [
    "Read file"
   ]
  },
  {
   "cell_type": "code",
   "execution_count": 4,
   "metadata": {},
   "outputs": [
    {
     "name": "stdout",
     "output_type": "stream",
     "text": [
      "{'image_path': '/data/BGNN_data/INHS_cropped', 'suffix': '50_11', 'training_count': 0.64, 'validation_count': 0.16, 'imageDimension': 224, 'n_channels': 3, 'augmentation': False, 'batchSize': 550, 'n_epochs': 4000, 'learning_rate': 0.01, 'numOfTrials': 3, 'patience': 100, 'useHeirarchy': False, 'useRelu': True, 'downsample': True, 'downsampleOutput': 200, 'takeFromIntermediate': True, 'takeFromIntermediateOutput': 200, 'fc_layers': 4, 'useAdam': False, 'resnet': '18', 'normalize': True, 'softmax': True, 'batchNormalize': True}\n"
     ]
    }
   ],
   "source": [
    "j = cp.read()\n",
    "print(j)"
   ]
  },
  {
   "cell_type": "markdown",
   "metadata": {},
   "source": [
    "Create hyperp"
   ]
  },
  {
   "cell_type": "code",
   "execution_count": 5,
   "metadata": {},
   "outputs": [
    {
     "data": {
      "text/plain": [
       "'test_22987_suffix50_11_CNN2_differentConfig_baseline4fclayers/hyperp_params.json'"
      ]
     },
     "execution_count": 5,
     "metadata": {},
     "output_type": "execute_result"
    }
   ],
   "source": [
    "hyperp_params = {\n",
    "#     \"dummy\":[0]\n",
    "#     \"fc_layers\":[1,2,3]\n",
    "#     \"imageDimension\": [28, 56, 224],\n",
    "#     \"n_channels\": [1, 3],\n",
    "#     \"kernelSize\": [5, 9],\n",
    "#     \"useZCAWhitening\": [False, True],\n",
    "#     \"patience\": [50, 100],\n",
    "#     \"batchSize\": [50, 100, 200, 550],\n",
    "#     \"useHeirarchy\": [True, False],\n",
    "#     \"resnet\": ['18', '50']\n",
    "    \"batchNormalize\": [False, True]\n",
    "}\n",
    "\n",
    "cp.writeHyperp(hyperp_params)"
   ]
  },
  {
   "cell_type": "markdown",
   "metadata": {},
   "source": [
    "Get experiments"
   ]
  },
  {
   "cell_type": "code",
   "execution_count": 6,
   "metadata": {},
   "outputs": [
    {
     "name": "stdout",
     "output_type": "stream",
     "text": [
      "{'image_path': '/data/BGNN_data/INHS_cropped', 'suffix': '50_11', 'training_count': 0.64, 'validation_count': 0.16, 'imageDimension': 224, 'n_channels': 3, 'augmentation': False, 'batchSize': 550, 'n_epochs': 4000, 'learning_rate': 0.01, 'numOfTrials': 3, 'patience': 100, 'useHeirarchy': False, 'useRelu': True, 'downsample': True, 'downsampleOutput': 200, 'takeFromIntermediate': True, 'takeFromIntermediateOutput': 200, 'fc_layers': 4, 'useAdam': False, 'resnet': '18', 'normalize': True, 'softmax': True, 'batchNormalize': False}\n",
      "{'image_path': '/data/BGNN_data/INHS_cropped', 'suffix': '50_11', 'training_count': 0.64, 'validation_count': 0.16, 'imageDimension': 224, 'n_channels': 3, 'augmentation': False, 'batchSize': 550, 'n_epochs': 4000, 'learning_rate': 0.01, 'numOfTrials': 3, 'patience': 100, 'useHeirarchy': False, 'useRelu': True, 'downsample': True, 'downsampleOutput': 200, 'takeFromIntermediate': True, 'takeFromIntermediateOutput': 200, 'fc_layers': 4, 'useAdam': False, 'resnet': '18', 'normalize': True, 'softmax': True, 'batchNormalize': True}\n"
     ]
    }
   ],
   "source": [
    "for i in cp.getHyperpIter():\n",
    "    print(i)"
   ]
  },
  {
   "cell_type": "markdown",
   "metadata": {},
   "source": [
    "Model name"
   ]
  },
  {
   "cell_type": "code",
   "execution_count": 7,
   "metadata": {},
   "outputs": [
    {
     "name": "stdout",
     "output_type": "stream",
     "text": [
      "tc0.640000_vc0.160000_d224_c3_augFalse_nTrue_bs550_e4000_p100_lr0.010000_hFalse_reluTrue_dsTrue_dso200_tfiTrue_tfio200_admFalse_res18_fc4_smaxTrue_bnormTrue\n",
      "tc0.640000_vc0.160000_d224_c3_augFalse_nTrue\n"
     ]
    }
   ],
   "source": [
    "print(getModelName(j))\n",
    "print(getDatasetName(j))"
   ]
  },
  {
   "cell_type": "markdown",
   "metadata": {},
   "source": [
    "Hyperp search write"
   ]
  },
  {
   "cell_type": "code",
   "execution_count": 8,
   "metadata": {},
   "outputs": [
    {
     "data": {
      "text/plain": [
       "'test_22987_suffix50_11_CNN2_differentConfig_baseline4fclayers/hyperp_search_params.pkl'"
      ]
     },
     "execution_count": 8,
     "metadata": {},
     "output_type": "execute_result"
    }
   ],
   "source": [
    "from hyperopt import fmin, hp, rand, tpe\n",
    "from hyperopt.pyll.base import scope\n",
    "import math\n",
    "\n",
    "useRandomSearch = True\n",
    "hyperp_search_params = {\n",
    "#     \"kernels\": [ scope.int(hp.quniform('kernels1', 8, 16, 1)),\n",
    "#                 scope.int(hp.quniform('kernels2', 16, 32, 1)),\n",
    "#                 scope.int(hp.qloguniform('kernels3', math.log(1), math.log(16), 1)),\n",
    "#                 scope.int(hp.qloguniform('kernels4', math.log(1), math.log(16), 1)),\n",
    "#                 scope.int(hp.qloguniform('kernels5', math.log(1), math.log(16), 1))],\n",
    "#     \"kernelSize\": scope.int(hp.quniform('kernelSize', 3, 10, 1)), \n",
    "    # \"useZCAWhitening\": hp.choice('useZCAWhitening', [False, True]), \n",
    "#     \"n_channels\": scope.int(hp.choice('n_channels', [1, 3])), \n",
    "#     \"imageDimension\": scope.int(hp.quniform('imageDimension', 28, 420, 28)),\n",
    "    \"batchSize\": scope.int(hp.quniform('batchSize', 50, 550, 50)),\n",
    "    \"learning_rate\": hp.loguniform('learning_rate', math.log(0.0001), math.log(0.01)),\n",
    "    \"patience\": scope.int(hp.quniform('patience', 50, 500, 25)),\n",
    "}\n",
    "\n",
    "cp.writeHyperpSearch(hyperp_search_params)"
   ]
  },
  {
   "cell_type": "markdown",
   "metadata": {},
   "source": [
    "Hyperp search read"
   ]
  },
  {
   "cell_type": "code",
   "execution_count": 9,
   "metadata": {},
   "outputs": [
    {
     "name": "stdout",
     "output_type": "stream",
     "text": [
      "{'batchSize': <hyperopt.pyll.base.Apply object at 0x7fe3df9a7be0>, 'learning_rate': <hyperopt.pyll.base.Apply object at 0x7fe3df9a7da0>, 'patience': <hyperopt.pyll.base.Apply object at 0x7fe3df92f438>, 'image_path': <hyperopt.pyll.base.Apply object at 0x7fe3df9a7b00>, 'suffix': <hyperopt.pyll.base.Apply object at 0x7fe3df92f710>, 'training_count': <hyperopt.pyll.base.Apply object at 0x7fe3df92f860>, 'validation_count': <hyperopt.pyll.base.Apply object at 0x7fe3df92f9b0>, 'imageDimension': <hyperopt.pyll.base.Apply object at 0x7fe3df92fb00>, 'n_channels': <hyperopt.pyll.base.Apply object at 0x7fe3df92fc50>, 'augmentation': <hyperopt.pyll.base.Apply object at 0x7fe3df92fda0>, 'n_epochs': <hyperopt.pyll.base.Apply object at 0x7fe3df92fef0>, 'numOfTrials': <hyperopt.pyll.base.Apply object at 0x7fe3df932080>, 'useHeirarchy': <hyperopt.pyll.base.Apply object at 0x7fe3df9321d0>, 'useRelu': <hyperopt.pyll.base.Apply object at 0x7fe3df932320>, 'downsample': <hyperopt.pyll.base.Apply object at 0x7fe3df932470>, 'downsampleOutput': <hyperopt.pyll.base.Apply object at 0x7fe3df9325c0>, 'takeFromIntermediate': <hyperopt.pyll.base.Apply object at 0x7fe3df932710>, 'takeFromIntermediateOutput': <hyperopt.pyll.base.Apply object at 0x7fe3df932860>, 'fc_layers': <hyperopt.pyll.base.Apply object at 0x7fe3df9329b0>, 'useAdam': <hyperopt.pyll.base.Apply object at 0x7fe3df932b00>, 'resnet': <hyperopt.pyll.base.Apply object at 0x7fe3df932c50>, 'normalize': <hyperopt.pyll.base.Apply object at 0x7fe3df932da0>, 'softmax': <hyperopt.pyll.base.Apply object at 0x7fe3df932ef0>, 'batchNormalize': <hyperopt.pyll.base.Apply object at 0x7fe3df939080>}\n",
      "{'augmentation': False, 'batchNormalize': True, 'batchSize': 300, 'downsample': True, 'downsampleOutput': 200, 'fc_layers': 4, 'imageDimension': 224, 'image_path': '/data/BGNN_data/INHS_cropped', 'learning_rate': 0.0030567278364565017, 'n_channels': 3, 'n_epochs': 4000, 'normalize': True, 'numOfTrials': 3, 'patience': 325, 'resnet': '18', 'softmax': True, 'suffix': '50_11', 'takeFromIntermediate': True, 'takeFromIntermediateOutput': 200, 'training_count': 0.64, 'useAdam': False, 'useHeirarchy': False, 'useRelu': True, 'validation_count': 0.16}\n",
      "{'augmentation': False, 'batchNormalize': True, 'batchSize': 550, 'downsample': True, 'downsampleOutput': 200, 'fc_layers': 4, 'imageDimension': 224, 'image_path': '/data/BGNN_data/INHS_cropped', 'learning_rate': 0.0018574012576438829, 'n_channels': 3, 'n_epochs': 4000, 'normalize': True, 'numOfTrials': 3, 'patience': 375, 'resnet': '18', 'softmax': True, 'suffix': '50_11', 'takeFromIntermediate': True, 'takeFromIntermediateOutput': 200, 'training_count': 0.64, 'useAdam': False, 'useHeirarchy': False, 'useRelu': True, 'validation_count': 0.16}\n",
      "{'augmentation': False, 'batchNormalize': True, 'batchSize': 150, 'downsample': True, 'downsampleOutput': 200, 'fc_layers': 4, 'imageDimension': 224, 'image_path': '/data/BGNN_data/INHS_cropped', 'learning_rate': 0.00046387173189056365, 'n_channels': 3, 'n_epochs': 4000, 'normalize': True, 'numOfTrials': 3, 'patience': 225, 'resnet': '18', 'softmax': True, 'suffix': '50_11', 'takeFromIntermediate': True, 'takeFromIntermediateOutput': 200, 'training_count': 0.64, 'useAdam': False, 'useHeirarchy': False, 'useRelu': True, 'validation_count': 0.16}\n",
      "{'augmentation': False, 'batchNormalize': True, 'batchSize': 400, 'downsample': True, 'downsampleOutput': 200, 'fc_layers': 4, 'imageDimension': 224, 'image_path': '/data/BGNN_data/INHS_cropped', 'learning_rate': 0.0026176117641797786, 'n_channels': 3, 'n_epochs': 4000, 'normalize': True, 'numOfTrials': 3, 'patience': 150, 'resnet': '18', 'softmax': True, 'suffix': '50_11', 'takeFromIntermediate': True, 'takeFromIntermediateOutput': 200, 'training_count': 0.64, 'useAdam': False, 'useHeirarchy': False, 'useRelu': True, 'validation_count': 0.16}\n",
      "{'augmentation': False, 'batchNormalize': True, 'batchSize': 300, 'downsample': True, 'downsampleOutput': 200, 'fc_layers': 4, 'imageDimension': 224, 'image_path': '/data/BGNN_data/INHS_cropped', 'learning_rate': 0.0009718586925998407, 'n_channels': 3, 'n_epochs': 4000, 'normalize': True, 'numOfTrials': 3, 'patience': 425, 'resnet': '18', 'softmax': True, 'suffix': '50_11', 'takeFromIntermediate': True, 'takeFromIntermediateOutput': 200, 'training_count': 0.64, 'useAdam': False, 'useHeirarchy': False, 'useRelu': True, 'validation_count': 0.16}\n",
      "{'augmentation': False, 'batchNormalize': True, 'batchSize': 400, 'downsample': True, 'downsampleOutput': 200, 'fc_layers': 4, 'imageDimension': 224, 'image_path': '/data/BGNN_data/INHS_cropped', 'learning_rate': 0.00015230827684220664, 'n_channels': 3, 'n_epochs': 4000, 'normalize': True, 'numOfTrials': 3, 'patience': 225, 'resnet': '18', 'softmax': True, 'suffix': '50_11', 'takeFromIntermediate': True, 'takeFromIntermediateOutput': 200, 'training_count': 0.64, 'useAdam': False, 'useHeirarchy': False, 'useRelu': True, 'validation_count': 0.16}\n",
      "{'augmentation': False, 'batchNormalize': True, 'batchSize': 100, 'downsample': True, 'downsampleOutput': 200, 'fc_layers': 4, 'imageDimension': 224, 'image_path': '/data/BGNN_data/INHS_cropped', 'learning_rate': 0.001442306422285001, 'n_channels': 3, 'n_epochs': 4000, 'normalize': True, 'numOfTrials': 3, 'patience': 100, 'resnet': '18', 'softmax': True, 'suffix': '50_11', 'takeFromIntermediate': True, 'takeFromIntermediateOutput': 200, 'training_count': 0.64, 'useAdam': False, 'useHeirarchy': False, 'useRelu': True, 'validation_count': 0.16}\n",
      "{'augmentation': False, 'batchNormalize': True, 'batchSize': 350, 'downsample': True, 'downsampleOutput': 200, 'fc_layers': 4, 'imageDimension': 224, 'image_path': '/data/BGNN_data/INHS_cropped', 'learning_rate': 0.0012462112238350506, 'n_channels': 3, 'n_epochs': 4000, 'normalize': True, 'numOfTrials': 3, 'patience': 325, 'resnet': '18', 'softmax': True, 'suffix': '50_11', 'takeFromIntermediate': True, 'takeFromIntermediateOutput': 200, 'training_count': 0.64, 'useAdam': False, 'useHeirarchy': False, 'useRelu': True, 'validation_count': 0.16}\n",
      "{'augmentation': False, 'batchNormalize': True, 'batchSize': 100, 'downsample': True, 'downsampleOutput': 200, 'fc_layers': 4, 'imageDimension': 224, 'image_path': '/data/BGNN_data/INHS_cropped', 'learning_rate': 0.0021428704346190437, 'n_channels': 3, 'n_epochs': 4000, 'normalize': True, 'numOfTrials': 3, 'patience': 250, 'resnet': '18', 'softmax': True, 'suffix': '50_11', 'takeFromIntermediate': True, 'takeFromIntermediateOutput': 200, 'training_count': 0.64, 'useAdam': False, 'useHeirarchy': False, 'useRelu': True, 'validation_count': 0.16}\n",
      "{'augmentation': False, 'batchNormalize': True, 'batchSize': 350, 'downsample': True, 'downsampleOutput': 200, 'fc_layers': 4, 'imageDimension': 224, 'image_path': '/data/BGNN_data/INHS_cropped', 'learning_rate': 0.0004932594952880198, 'n_channels': 3, 'n_epochs': 4000, 'normalize': True, 'numOfTrials': 3, 'patience': 425, 'resnet': '18', 'softmax': True, 'suffix': '50_11', 'takeFromIntermediate': True, 'takeFromIntermediateOutput': 200, 'training_count': 0.64, 'useAdam': False, 'useHeirarchy': False, 'useRelu': True, 'validation_count': 0.16}\n",
      "{'augmentation': False, 'batchNormalize': True, 'batchSize': 50, 'downsample': True, 'downsampleOutput': 200, 'fc_layers': 4, 'imageDimension': 224, 'image_path': '/data/BGNN_data/INHS_cropped', 'learning_rate': 0.00010081691901465797, 'n_channels': 3, 'n_epochs': 4000, 'normalize': True, 'numOfTrials': 3, 'patience': 175, 'resnet': '18', 'softmax': True, 'suffix': '50_11', 'takeFromIntermediate': True, 'takeFromIntermediateOutput': 200, 'training_count': 0.64, 'useAdam': False, 'useHeirarchy': False, 'useRelu': True, 'validation_count': 0.16}\n",
      "{'augmentation': False, 'batchNormalize': True, 'batchSize': 150, 'downsample': True, 'downsampleOutput': 200, 'fc_layers': 4, 'imageDimension': 224, 'image_path': '/data/BGNN_data/INHS_cropped', 'learning_rate': 0.0002916858654281663, 'n_channels': 3, 'n_epochs': 4000, 'normalize': True, 'numOfTrials': 3, 'patience': 150, 'resnet': '18', 'softmax': True, 'suffix': '50_11', 'takeFromIntermediate': True, 'takeFromIntermediateOutput': 200, 'training_count': 0.64, 'useAdam': False, 'useHeirarchy': False, 'useRelu': True, 'validation_count': 0.16}\n"
     ]
    },
    {
     "name": "stdout",
     "output_type": "stream",
     "text": [
      "{'augmentation': False, 'batchNormalize': True, 'batchSize': 100, 'downsample': True, 'downsampleOutput': 200, 'fc_layers': 4, 'imageDimension': 224, 'image_path': '/data/BGNN_data/INHS_cropped', 'learning_rate': 0.0015908360577506072, 'n_channels': 3, 'n_epochs': 4000, 'normalize': True, 'numOfTrials': 3, 'patience': 125, 'resnet': '18', 'softmax': True, 'suffix': '50_11', 'takeFromIntermediate': True, 'takeFromIntermediateOutput': 200, 'training_count': 0.64, 'useAdam': False, 'useHeirarchy': False, 'useRelu': True, 'validation_count': 0.16}\n",
      "{'augmentation': False, 'batchNormalize': True, 'batchSize': 550, 'downsample': True, 'downsampleOutput': 200, 'fc_layers': 4, 'imageDimension': 224, 'image_path': '/data/BGNN_data/INHS_cropped', 'learning_rate': 0.0008769784324126549, 'n_channels': 3, 'n_epochs': 4000, 'normalize': True, 'numOfTrials': 3, 'patience': 425, 'resnet': '18', 'softmax': True, 'suffix': '50_11', 'takeFromIntermediate': True, 'takeFromIntermediateOutput': 200, 'training_count': 0.64, 'useAdam': False, 'useHeirarchy': False, 'useRelu': True, 'validation_count': 0.16}\n",
      "{'augmentation': False, 'batchNormalize': True, 'batchSize': 50, 'downsample': True, 'downsampleOutput': 200, 'fc_layers': 4, 'imageDimension': 224, 'image_path': '/data/BGNN_data/INHS_cropped', 'learning_rate': 0.0013516348104864002, 'n_channels': 3, 'n_epochs': 4000, 'normalize': True, 'numOfTrials': 3, 'patience': 500, 'resnet': '18', 'softmax': True, 'suffix': '50_11', 'takeFromIntermediate': True, 'takeFromIntermediateOutput': 200, 'training_count': 0.64, 'useAdam': False, 'useHeirarchy': False, 'useRelu': True, 'validation_count': 0.16}\n",
      "{'augmentation': False, 'batchNormalize': True, 'batchSize': 350, 'downsample': True, 'downsampleOutput': 200, 'fc_layers': 4, 'imageDimension': 224, 'image_path': '/data/BGNN_data/INHS_cropped', 'learning_rate': 0.005625007361451888, 'n_channels': 3, 'n_epochs': 4000, 'normalize': True, 'numOfTrials': 3, 'patience': 175, 'resnet': '18', 'softmax': True, 'suffix': '50_11', 'takeFromIntermediate': True, 'takeFromIntermediateOutput': 200, 'training_count': 0.64, 'useAdam': False, 'useHeirarchy': False, 'useRelu': True, 'validation_count': 0.16}\n",
      "{'augmentation': False, 'batchNormalize': True, 'batchSize': 500, 'downsample': True, 'downsampleOutput': 200, 'fc_layers': 4, 'imageDimension': 224, 'image_path': '/data/BGNN_data/INHS_cropped', 'learning_rate': 0.00043063168098927355, 'n_channels': 3, 'n_epochs': 4000, 'normalize': True, 'numOfTrials': 3, 'patience': 275, 'resnet': '18', 'softmax': True, 'suffix': '50_11', 'takeFromIntermediate': True, 'takeFromIntermediateOutput': 200, 'training_count': 0.64, 'useAdam': False, 'useHeirarchy': False, 'useRelu': True, 'validation_count': 0.16}\n",
      "{'augmentation': False, 'batchNormalize': True, 'batchSize': 400, 'downsample': True, 'downsampleOutput': 200, 'fc_layers': 4, 'imageDimension': 224, 'image_path': '/data/BGNN_data/INHS_cropped', 'learning_rate': 0.0007835615500153818, 'n_channels': 3, 'n_epochs': 4000, 'normalize': True, 'numOfTrials': 3, 'patience': 300, 'resnet': '18', 'softmax': True, 'suffix': '50_11', 'takeFromIntermediate': True, 'takeFromIntermediateOutput': 200, 'training_count': 0.64, 'useAdam': False, 'useHeirarchy': False, 'useRelu': True, 'validation_count': 0.16}\n",
      "{'augmentation': False, 'batchNormalize': True, 'batchSize': 450, 'downsample': True, 'downsampleOutput': 200, 'fc_layers': 4, 'imageDimension': 224, 'image_path': '/data/BGNN_data/INHS_cropped', 'learning_rate': 0.00020574809205710438, 'n_channels': 3, 'n_epochs': 4000, 'normalize': True, 'numOfTrials': 3, 'patience': 325, 'resnet': '18', 'softmax': True, 'suffix': '50_11', 'takeFromIntermediate': True, 'takeFromIntermediateOutput': 200, 'training_count': 0.64, 'useAdam': False, 'useHeirarchy': False, 'useRelu': True, 'validation_count': 0.16}\n",
      "{'augmentation': False, 'batchNormalize': True, 'batchSize': 250, 'downsample': True, 'downsampleOutput': 200, 'fc_layers': 4, 'imageDimension': 224, 'image_path': '/data/BGNN_data/INHS_cropped', 'learning_rate': 0.005037865549939065, 'n_channels': 3, 'n_epochs': 4000, 'normalize': True, 'numOfTrials': 3, 'patience': 75, 'resnet': '18', 'softmax': True, 'suffix': '50_11', 'takeFromIntermediate': True, 'takeFromIntermediateOutput': 200, 'training_count': 0.64, 'useAdam': False, 'useHeirarchy': False, 'useRelu': True, 'validation_count': 0.16}\n",
      "{'augmentation': False, 'batchNormalize': True, 'batchSize': 100, 'downsample': True, 'downsampleOutput': 200, 'fc_layers': 4, 'imageDimension': 224, 'image_path': '/data/BGNN_data/INHS_cropped', 'learning_rate': 0.002075780916389675, 'n_channels': 3, 'n_epochs': 4000, 'normalize': True, 'numOfTrials': 3, 'patience': 225, 'resnet': '18', 'softmax': True, 'suffix': '50_11', 'takeFromIntermediate': True, 'takeFromIntermediateOutput': 200, 'training_count': 0.64, 'useAdam': False, 'useHeirarchy': False, 'useRelu': True, 'validation_count': 0.16}\n",
      "{'augmentation': False, 'batchNormalize': True, 'batchSize': 150, 'downsample': True, 'downsampleOutput': 200, 'fc_layers': 4, 'imageDimension': 224, 'image_path': '/data/BGNN_data/INHS_cropped', 'learning_rate': 0.0016133905142444267, 'n_channels': 3, 'n_epochs': 4000, 'normalize': True, 'numOfTrials': 3, 'patience': 225, 'resnet': '18', 'softmax': True, 'suffix': '50_11', 'takeFromIntermediate': True, 'takeFromIntermediateOutput': 200, 'training_count': 0.64, 'useAdam': False, 'useHeirarchy': False, 'useRelu': True, 'validation_count': 0.16}\n",
      "{'augmentation': False, 'batchNormalize': True, 'batchSize': 100, 'downsample': True, 'downsampleOutput': 200, 'fc_layers': 4, 'imageDimension': 224, 'image_path': '/data/BGNN_data/INHS_cropped', 'learning_rate': 0.0025375814519263055, 'n_channels': 3, 'n_epochs': 4000, 'normalize': True, 'numOfTrials': 3, 'patience': 200, 'resnet': '18', 'softmax': True, 'suffix': '50_11', 'takeFromIntermediate': True, 'takeFromIntermediateOutput': 200, 'training_count': 0.64, 'useAdam': False, 'useHeirarchy': False, 'useRelu': True, 'validation_count': 0.16}\n",
      "{'augmentation': False, 'batchNormalize': True, 'batchSize': 100, 'downsample': True, 'downsampleOutput': 200, 'fc_layers': 4, 'imageDimension': 224, 'image_path': '/data/BGNN_data/INHS_cropped', 'learning_rate': 0.0008549447343997698, 'n_channels': 3, 'n_epochs': 4000, 'normalize': True, 'numOfTrials': 3, 'patience': 400, 'resnet': '18', 'softmax': True, 'suffix': '50_11', 'takeFromIntermediate': True, 'takeFromIntermediateOutput': 200, 'training_count': 0.64, 'useAdam': False, 'useHeirarchy': False, 'useRelu': True, 'validation_count': 0.16}\n",
      "{'augmentation': False, 'batchNormalize': True, 'batchSize': 150, 'downsample': True, 'downsampleOutput': 200, 'fc_layers': 4, 'imageDimension': 224, 'image_path': '/data/BGNN_data/INHS_cropped', 'learning_rate': 0.00015195554977251078, 'n_channels': 3, 'n_epochs': 4000, 'normalize': True, 'numOfTrials': 3, 'patience': 75, 'resnet': '18', 'softmax': True, 'suffix': '50_11', 'takeFromIntermediate': True, 'takeFromIntermediateOutput': 200, 'training_count': 0.64, 'useAdam': False, 'useHeirarchy': False, 'useRelu': True, 'validation_count': 0.16}\n",
      "{'augmentation': False, 'batchNormalize': True, 'batchSize': 500, 'downsample': True, 'downsampleOutput': 200, 'fc_layers': 4, 'imageDimension': 224, 'image_path': '/data/BGNN_data/INHS_cropped', 'learning_rate': 0.003923504700272771, 'n_channels': 3, 'n_epochs': 4000, 'normalize': True, 'numOfTrials': 3, 'patience': 150, 'resnet': '18', 'softmax': True, 'suffix': '50_11', 'takeFromIntermediate': True, 'takeFromIntermediateOutput': 200, 'training_count': 0.64, 'useAdam': False, 'useHeirarchy': False, 'useRelu': True, 'validation_count': 0.16}\n",
      "{'augmentation': False, 'batchNormalize': True, 'batchSize': 300, 'downsample': True, 'downsampleOutput': 200, 'fc_layers': 4, 'imageDimension': 224, 'image_path': '/data/BGNN_data/INHS_cropped', 'learning_rate': 0.0002857911699969311, 'n_channels': 3, 'n_epochs': 4000, 'normalize': True, 'numOfTrials': 3, 'patience': 475, 'resnet': '18', 'softmax': True, 'suffix': '50_11', 'takeFromIntermediate': True, 'takeFromIntermediateOutput': 200, 'training_count': 0.64, 'useAdam': False, 'useHeirarchy': False, 'useRelu': True, 'validation_count': 0.16}\n"
     ]
    },
    {
     "name": "stdout",
     "output_type": "stream",
     "text": [
      "{'augmentation': False, 'batchNormalize': True, 'batchSize': 450, 'downsample': True, 'downsampleOutput': 200, 'fc_layers': 4, 'imageDimension': 224, 'image_path': '/data/BGNN_data/INHS_cropped', 'learning_rate': 0.00018168861828851799, 'n_channels': 3, 'n_epochs': 4000, 'normalize': True, 'numOfTrials': 3, 'patience': 425, 'resnet': '18', 'softmax': True, 'suffix': '50_11', 'takeFromIntermediate': True, 'takeFromIntermediateOutput': 200, 'training_count': 0.64, 'useAdam': False, 'useHeirarchy': False, 'useRelu': True, 'validation_count': 0.16}\n",
      "{'augmentation': False, 'batchNormalize': True, 'batchSize': 300, 'downsample': True, 'downsampleOutput': 200, 'fc_layers': 4, 'imageDimension': 224, 'image_path': '/data/BGNN_data/INHS_cropped', 'learning_rate': 0.00015947513881585406, 'n_channels': 3, 'n_epochs': 4000, 'normalize': True, 'numOfTrials': 3, 'patience': 450, 'resnet': '18', 'softmax': True, 'suffix': '50_11', 'takeFromIntermediate': True, 'takeFromIntermediateOutput': 200, 'training_count': 0.64, 'useAdam': False, 'useHeirarchy': False, 'useRelu': True, 'validation_count': 0.16}\n",
      "{'augmentation': False, 'batchNormalize': True, 'batchSize': 400, 'downsample': True, 'downsampleOutput': 200, 'fc_layers': 4, 'imageDimension': 224, 'image_path': '/data/BGNN_data/INHS_cropped', 'learning_rate': 0.009436819967617012, 'n_channels': 3, 'n_epochs': 4000, 'normalize': True, 'numOfTrials': 3, 'patience': 200, 'resnet': '18', 'softmax': True, 'suffix': '50_11', 'takeFromIntermediate': True, 'takeFromIntermediateOutput': 200, 'training_count': 0.64, 'useAdam': False, 'useHeirarchy': False, 'useRelu': True, 'validation_count': 0.16}\n",
      "{'augmentation': False, 'batchNormalize': True, 'batchSize': 200, 'downsample': True, 'downsampleOutput': 200, 'fc_layers': 4, 'imageDimension': 224, 'image_path': '/data/BGNN_data/INHS_cropped', 'learning_rate': 0.003916926415660223, 'n_channels': 3, 'n_epochs': 4000, 'normalize': True, 'numOfTrials': 3, 'patience': 175, 'resnet': '18', 'softmax': True, 'suffix': '50_11', 'takeFromIntermediate': True, 'takeFromIntermediateOutput': 200, 'training_count': 0.64, 'useAdam': False, 'useHeirarchy': False, 'useRelu': True, 'validation_count': 0.16}\n",
      "{'augmentation': False, 'batchNormalize': True, 'batchSize': 450, 'downsample': True, 'downsampleOutput': 200, 'fc_layers': 4, 'imageDimension': 224, 'image_path': '/data/BGNN_data/INHS_cropped', 'learning_rate': 0.00028459113962783956, 'n_channels': 3, 'n_epochs': 4000, 'normalize': True, 'numOfTrials': 3, 'patience': 400, 'resnet': '18', 'softmax': True, 'suffix': '50_11', 'takeFromIntermediate': True, 'takeFromIntermediateOutput': 200, 'training_count': 0.64, 'useAdam': False, 'useHeirarchy': False, 'useRelu': True, 'validation_count': 0.16}\n",
      "{'augmentation': False, 'batchNormalize': True, 'batchSize': 450, 'downsample': True, 'downsampleOutput': 200, 'fc_layers': 4, 'imageDimension': 224, 'image_path': '/data/BGNN_data/INHS_cropped', 'learning_rate': 0.002096295288680013, 'n_channels': 3, 'n_epochs': 4000, 'normalize': True, 'numOfTrials': 3, 'patience': 325, 'resnet': '18', 'softmax': True, 'suffix': '50_11', 'takeFromIntermediate': True, 'takeFromIntermediateOutput': 200, 'training_count': 0.64, 'useAdam': False, 'useHeirarchy': False, 'useRelu': True, 'validation_count': 0.16}\n",
      "{'augmentation': False, 'batchNormalize': True, 'batchSize': 200, 'downsample': True, 'downsampleOutput': 200, 'fc_layers': 4, 'imageDimension': 224, 'image_path': '/data/BGNN_data/INHS_cropped', 'learning_rate': 0.00011667352327564658, 'n_channels': 3, 'n_epochs': 4000, 'normalize': True, 'numOfTrials': 3, 'patience': 75, 'resnet': '18', 'softmax': True, 'suffix': '50_11', 'takeFromIntermediate': True, 'takeFromIntermediateOutput': 200, 'training_count': 0.64, 'useAdam': False, 'useHeirarchy': False, 'useRelu': True, 'validation_count': 0.16}\n",
      "{'augmentation': False, 'batchNormalize': True, 'batchSize': 500, 'downsample': True, 'downsampleOutput': 200, 'fc_layers': 4, 'imageDimension': 224, 'image_path': '/data/BGNN_data/INHS_cropped', 'learning_rate': 0.0005648807655957897, 'n_channels': 3, 'n_epochs': 4000, 'normalize': True, 'numOfTrials': 3, 'patience': 125, 'resnet': '18', 'softmax': True, 'suffix': '50_11', 'takeFromIntermediate': True, 'takeFromIntermediateOutput': 200, 'training_count': 0.64, 'useAdam': False, 'useHeirarchy': False, 'useRelu': True, 'validation_count': 0.16}\n",
      "{'augmentation': False, 'batchNormalize': True, 'batchSize': 100, 'downsample': True, 'downsampleOutput': 200, 'fc_layers': 4, 'imageDimension': 224, 'image_path': '/data/BGNN_data/INHS_cropped', 'learning_rate': 0.004839445236040182, 'n_channels': 3, 'n_epochs': 4000, 'normalize': True, 'numOfTrials': 3, 'patience': 250, 'resnet': '18', 'softmax': True, 'suffix': '50_11', 'takeFromIntermediate': True, 'takeFromIntermediateOutput': 200, 'training_count': 0.64, 'useAdam': False, 'useHeirarchy': False, 'useRelu': True, 'validation_count': 0.16}\n",
      "{'augmentation': False, 'batchNormalize': True, 'batchSize': 100, 'downsample': True, 'downsampleOutput': 200, 'fc_layers': 4, 'imageDimension': 224, 'image_path': '/data/BGNN_data/INHS_cropped', 'learning_rate': 0.0009207056062399653, 'n_channels': 3, 'n_epochs': 4000, 'normalize': True, 'numOfTrials': 3, 'patience': 200, 'resnet': '18', 'softmax': True, 'suffix': '50_11', 'takeFromIntermediate': True, 'takeFromIntermediateOutput': 200, 'training_count': 0.64, 'useAdam': False, 'useHeirarchy': False, 'useRelu': True, 'validation_count': 0.16}\n",
      "{'augmentation': False, 'batchNormalize': True, 'batchSize': 450, 'downsample': True, 'downsampleOutput': 200, 'fc_layers': 4, 'imageDimension': 224, 'image_path': '/data/BGNN_data/INHS_cropped', 'learning_rate': 0.0025380328970055956, 'n_channels': 3, 'n_epochs': 4000, 'normalize': True, 'numOfTrials': 3, 'patience': 450, 'resnet': '18', 'softmax': True, 'suffix': '50_11', 'takeFromIntermediate': True, 'takeFromIntermediateOutput': 200, 'training_count': 0.64, 'useAdam': False, 'useHeirarchy': False, 'useRelu': True, 'validation_count': 0.16}\n",
      "{'augmentation': False, 'batchNormalize': True, 'batchSize': 50, 'downsample': True, 'downsampleOutput': 200, 'fc_layers': 4, 'imageDimension': 224, 'image_path': '/data/BGNN_data/INHS_cropped', 'learning_rate': 0.0018680599762104055, 'n_channels': 3, 'n_epochs': 4000, 'normalize': True, 'numOfTrials': 3, 'patience': 125, 'resnet': '18', 'softmax': True, 'suffix': '50_11', 'takeFromIntermediate': True, 'takeFromIntermediateOutput': 200, 'training_count': 0.64, 'useAdam': False, 'useHeirarchy': False, 'useRelu': True, 'validation_count': 0.16}\n",
      "{'augmentation': False, 'batchNormalize': True, 'batchSize': 450, 'downsample': True, 'downsampleOutput': 200, 'fc_layers': 4, 'imageDimension': 224, 'image_path': '/data/BGNN_data/INHS_cropped', 'learning_rate': 0.001766522154835153, 'n_channels': 3, 'n_epochs': 4000, 'normalize': True, 'numOfTrials': 3, 'patience': 75, 'resnet': '18', 'softmax': True, 'suffix': '50_11', 'takeFromIntermediate': True, 'takeFromIntermediateOutput': 200, 'training_count': 0.64, 'useAdam': False, 'useHeirarchy': False, 'useRelu': True, 'validation_count': 0.16}\n",
      "{'augmentation': False, 'batchNormalize': True, 'batchSize': 150, 'downsample': True, 'downsampleOutput': 200, 'fc_layers': 4, 'imageDimension': 224, 'image_path': '/data/BGNN_data/INHS_cropped', 'learning_rate': 0.0009002669771451365, 'n_channels': 3, 'n_epochs': 4000, 'normalize': True, 'numOfTrials': 3, 'patience': 200, 'resnet': '18', 'softmax': True, 'suffix': '50_11', 'takeFromIntermediate': True, 'takeFromIntermediateOutput': 200, 'training_count': 0.64, 'useAdam': False, 'useHeirarchy': False, 'useRelu': True, 'validation_count': 0.16}\n",
      "{'augmentation': False, 'batchNormalize': True, 'batchSize': 400, 'downsample': True, 'downsampleOutput': 200, 'fc_layers': 4, 'imageDimension': 224, 'image_path': '/data/BGNN_data/INHS_cropped', 'learning_rate': 0.0014641356906996861, 'n_channels': 3, 'n_epochs': 4000, 'normalize': True, 'numOfTrials': 3, 'patience': 250, 'resnet': '18', 'softmax': True, 'suffix': '50_11', 'takeFromIntermediate': True, 'takeFromIntermediateOutput': 200, 'training_count': 0.64, 'useAdam': False, 'useHeirarchy': False, 'useRelu': True, 'validation_count': 0.16}\n"
     ]
    },
    {
     "name": "stdout",
     "output_type": "stream",
     "text": [
      "{'augmentation': False, 'batchNormalize': True, 'batchSize': 200, 'downsample': True, 'downsampleOutput': 200, 'fc_layers': 4, 'imageDimension': 224, 'image_path': '/data/BGNN_data/INHS_cropped', 'learning_rate': 0.0005672931956968139, 'n_channels': 3, 'n_epochs': 4000, 'normalize': True, 'numOfTrials': 3, 'patience': 250, 'resnet': '18', 'softmax': True, 'suffix': '50_11', 'takeFromIntermediate': True, 'takeFromIntermediateOutput': 200, 'training_count': 0.64, 'useAdam': False, 'useHeirarchy': False, 'useRelu': True, 'validation_count': 0.16}\n",
      "{'augmentation': False, 'batchNormalize': True, 'batchSize': 150, 'downsample': True, 'downsampleOutput': 200, 'fc_layers': 4, 'imageDimension': 224, 'image_path': '/data/BGNN_data/INHS_cropped', 'learning_rate': 0.0002640399118134493, 'n_channels': 3, 'n_epochs': 4000, 'normalize': True, 'numOfTrials': 3, 'patience': 500, 'resnet': '18', 'softmax': True, 'suffix': '50_11', 'takeFromIntermediate': True, 'takeFromIntermediateOutput': 200, 'training_count': 0.64, 'useAdam': False, 'useHeirarchy': False, 'useRelu': True, 'validation_count': 0.16}\n",
      "{'augmentation': False, 'batchNormalize': True, 'batchSize': 150, 'downsample': True, 'downsampleOutput': 200, 'fc_layers': 4, 'imageDimension': 224, 'image_path': '/data/BGNN_data/INHS_cropped', 'learning_rate': 0.0012734104055460375, 'n_channels': 3, 'n_epochs': 4000, 'normalize': True, 'numOfTrials': 3, 'patience': 300, 'resnet': '18', 'softmax': True, 'suffix': '50_11', 'takeFromIntermediate': True, 'takeFromIntermediateOutput': 200, 'training_count': 0.64, 'useAdam': False, 'useHeirarchy': False, 'useRelu': True, 'validation_count': 0.16}\n",
      "{'augmentation': False, 'batchNormalize': True, 'batchSize': 250, 'downsample': True, 'downsampleOutput': 200, 'fc_layers': 4, 'imageDimension': 224, 'image_path': '/data/BGNN_data/INHS_cropped', 'learning_rate': 0.00039937153765525434, 'n_channels': 3, 'n_epochs': 4000, 'normalize': True, 'numOfTrials': 3, 'patience': 325, 'resnet': '18', 'softmax': True, 'suffix': '50_11', 'takeFromIntermediate': True, 'takeFromIntermediateOutput': 200, 'training_count': 0.64, 'useAdam': False, 'useHeirarchy': False, 'useRelu': True, 'validation_count': 0.16}\n",
      "{'augmentation': False, 'batchNormalize': True, 'batchSize': 400, 'downsample': True, 'downsampleOutput': 200, 'fc_layers': 4, 'imageDimension': 224, 'image_path': '/data/BGNN_data/INHS_cropped', 'learning_rate': 0.007216428282979013, 'n_channels': 3, 'n_epochs': 4000, 'normalize': True, 'numOfTrials': 3, 'patience': 125, 'resnet': '18', 'softmax': True, 'suffix': '50_11', 'takeFromIntermediate': True, 'takeFromIntermediateOutput': 200, 'training_count': 0.64, 'useAdam': False, 'useHeirarchy': False, 'useRelu': True, 'validation_count': 0.16}\n",
      "{'augmentation': False, 'batchNormalize': True, 'batchSize': 50, 'downsample': True, 'downsampleOutput': 200, 'fc_layers': 4, 'imageDimension': 224, 'image_path': '/data/BGNN_data/INHS_cropped', 'learning_rate': 0.009536041636630984, 'n_channels': 3, 'n_epochs': 4000, 'normalize': True, 'numOfTrials': 3, 'patience': 450, 'resnet': '18', 'softmax': True, 'suffix': '50_11', 'takeFromIntermediate': True, 'takeFromIntermediateOutput': 200, 'training_count': 0.64, 'useAdam': False, 'useHeirarchy': False, 'useRelu': True, 'validation_count': 0.16}\n",
      "{'augmentation': False, 'batchNormalize': True, 'batchSize': 50, 'downsample': True, 'downsampleOutput': 200, 'fc_layers': 4, 'imageDimension': 224, 'image_path': '/data/BGNN_data/INHS_cropped', 'learning_rate': 0.0009778197161698632, 'n_channels': 3, 'n_epochs': 4000, 'normalize': True, 'numOfTrials': 3, 'patience': 75, 'resnet': '18', 'softmax': True, 'suffix': '50_11', 'takeFromIntermediate': True, 'takeFromIntermediateOutput': 200, 'training_count': 0.64, 'useAdam': False, 'useHeirarchy': False, 'useRelu': True, 'validation_count': 0.16}\n",
      "{'augmentation': False, 'batchNormalize': True, 'batchSize': 400, 'downsample': True, 'downsampleOutput': 200, 'fc_layers': 4, 'imageDimension': 224, 'image_path': '/data/BGNN_data/INHS_cropped', 'learning_rate': 0.00527356902824251, 'n_channels': 3, 'n_epochs': 4000, 'normalize': True, 'numOfTrials': 3, 'patience': 400, 'resnet': '18', 'softmax': True, 'suffix': '50_11', 'takeFromIntermediate': True, 'takeFromIntermediateOutput': 200, 'training_count': 0.64, 'useAdam': False, 'useHeirarchy': False, 'useRelu': True, 'validation_count': 0.16}\n",
      "{'augmentation': False, 'batchNormalize': True, 'batchSize': 250, 'downsample': True, 'downsampleOutput': 200, 'fc_layers': 4, 'imageDimension': 224, 'image_path': '/data/BGNN_data/INHS_cropped', 'learning_rate': 0.00013020219265433674, 'n_channels': 3, 'n_epochs': 4000, 'normalize': True, 'numOfTrials': 3, 'patience': 150, 'resnet': '18', 'softmax': True, 'suffix': '50_11', 'takeFromIntermediate': True, 'takeFromIntermediateOutput': 200, 'training_count': 0.64, 'useAdam': False, 'useHeirarchy': False, 'useRelu': True, 'validation_count': 0.16}\n",
      "{'augmentation': False, 'batchNormalize': True, 'batchSize': 250, 'downsample': True, 'downsampleOutput': 200, 'fc_layers': 4, 'imageDimension': 224, 'image_path': '/data/BGNN_data/INHS_cropped', 'learning_rate': 0.005656808397697545, 'n_channels': 3, 'n_epochs': 4000, 'normalize': True, 'numOfTrials': 3, 'patience': 275, 'resnet': '18', 'softmax': True, 'suffix': '50_11', 'takeFromIntermediate': True, 'takeFromIntermediateOutput': 200, 'training_count': 0.64, 'useAdam': False, 'useHeirarchy': False, 'useRelu': True, 'validation_count': 0.16}\n",
      "{'augmentation': False, 'batchNormalize': True, 'batchSize': 200, 'downsample': True, 'downsampleOutput': 200, 'fc_layers': 4, 'imageDimension': 224, 'image_path': '/data/BGNN_data/INHS_cropped', 'learning_rate': 0.0005152199542122662, 'n_channels': 3, 'n_epochs': 4000, 'normalize': True, 'numOfTrials': 3, 'patience': 450, 'resnet': '18', 'softmax': True, 'suffix': '50_11', 'takeFromIntermediate': True, 'takeFromIntermediateOutput': 200, 'training_count': 0.64, 'useAdam': False, 'useHeirarchy': False, 'useRelu': True, 'validation_count': 0.16}\n",
      "{'augmentation': False, 'batchNormalize': True, 'batchSize': 100, 'downsample': True, 'downsampleOutput': 200, 'fc_layers': 4, 'imageDimension': 224, 'image_path': '/data/BGNN_data/INHS_cropped', 'learning_rate': 0.0022482602107678756, 'n_channels': 3, 'n_epochs': 4000, 'normalize': True, 'numOfTrials': 3, 'patience': 150, 'resnet': '18', 'softmax': True, 'suffix': '50_11', 'takeFromIntermediate': True, 'takeFromIntermediateOutput': 200, 'training_count': 0.64, 'useAdam': False, 'useHeirarchy': False, 'useRelu': True, 'validation_count': 0.16}\n",
      "{'augmentation': False, 'batchNormalize': True, 'batchSize': 350, 'downsample': True, 'downsampleOutput': 200, 'fc_layers': 4, 'imageDimension': 224, 'image_path': '/data/BGNN_data/INHS_cropped', 'learning_rate': 0.00014485621589815803, 'n_channels': 3, 'n_epochs': 4000, 'normalize': True, 'numOfTrials': 3, 'patience': 250, 'resnet': '18', 'softmax': True, 'suffix': '50_11', 'takeFromIntermediate': True, 'takeFromIntermediateOutput': 200, 'training_count': 0.64, 'useAdam': False, 'useHeirarchy': False, 'useRelu': True, 'validation_count': 0.16}\n",
      "{'augmentation': False, 'batchNormalize': True, 'batchSize': 200, 'downsample': True, 'downsampleOutput': 200, 'fc_layers': 4, 'imageDimension': 224, 'image_path': '/data/BGNN_data/INHS_cropped', 'learning_rate': 0.0024043389813764595, 'n_channels': 3, 'n_epochs': 4000, 'normalize': True, 'numOfTrials': 3, 'patience': 200, 'resnet': '18', 'softmax': True, 'suffix': '50_11', 'takeFromIntermediate': True, 'takeFromIntermediateOutput': 200, 'training_count': 0.64, 'useAdam': False, 'useHeirarchy': False, 'useRelu': True, 'validation_count': 0.16}\n",
      "{'augmentation': False, 'batchNormalize': True, 'batchSize': 450, 'downsample': True, 'downsampleOutput': 200, 'fc_layers': 4, 'imageDimension': 224, 'image_path': '/data/BGNN_data/INHS_cropped', 'learning_rate': 0.0003177423855246955, 'n_channels': 3, 'n_epochs': 4000, 'normalize': True, 'numOfTrials': 3, 'patience': 50, 'resnet': '18', 'softmax': True, 'suffix': '50_11', 'takeFromIntermediate': True, 'takeFromIntermediateOutput': 200, 'training_count': 0.64, 'useAdam': False, 'useHeirarchy': False, 'useRelu': True, 'validation_count': 0.16}\n"
     ]
    },
    {
     "name": "stdout",
     "output_type": "stream",
     "text": [
      "{'augmentation': False, 'batchNormalize': True, 'batchSize': 100, 'downsample': True, 'downsampleOutput': 200, 'fc_layers': 4, 'imageDimension': 224, 'image_path': '/data/BGNN_data/INHS_cropped', 'learning_rate': 0.00023125009754471773, 'n_channels': 3, 'n_epochs': 4000, 'normalize': True, 'numOfTrials': 3, 'patience': 300, 'resnet': '18', 'softmax': True, 'suffix': '50_11', 'takeFromIntermediate': True, 'takeFromIntermediateOutput': 200, 'training_count': 0.64, 'useAdam': False, 'useHeirarchy': False, 'useRelu': True, 'validation_count': 0.16}\n",
      "{'augmentation': False, 'batchNormalize': True, 'batchSize': 300, 'downsample': True, 'downsampleOutput': 200, 'fc_layers': 4, 'imageDimension': 224, 'image_path': '/data/BGNN_data/INHS_cropped', 'learning_rate': 0.00093840571098105, 'n_channels': 3, 'n_epochs': 4000, 'normalize': True, 'numOfTrials': 3, 'patience': 100, 'resnet': '18', 'softmax': True, 'suffix': '50_11', 'takeFromIntermediate': True, 'takeFromIntermediateOutput': 200, 'training_count': 0.64, 'useAdam': False, 'useHeirarchy': False, 'useRelu': True, 'validation_count': 0.16}\n",
      "{'augmentation': False, 'batchNormalize': True, 'batchSize': 450, 'downsample': True, 'downsampleOutput': 200, 'fc_layers': 4, 'imageDimension': 224, 'image_path': '/data/BGNN_data/INHS_cropped', 'learning_rate': 0.0020687908447230762, 'n_channels': 3, 'n_epochs': 4000, 'normalize': True, 'numOfTrials': 3, 'patience': 225, 'resnet': '18', 'softmax': True, 'suffix': '50_11', 'takeFromIntermediate': True, 'takeFromIntermediateOutput': 200, 'training_count': 0.64, 'useAdam': False, 'useHeirarchy': False, 'useRelu': True, 'validation_count': 0.16}\n",
      "{'augmentation': False, 'batchNormalize': True, 'batchSize': 300, 'downsample': True, 'downsampleOutput': 200, 'fc_layers': 4, 'imageDimension': 224, 'image_path': '/data/BGNN_data/INHS_cropped', 'learning_rate': 0.0007740682800721229, 'n_channels': 3, 'n_epochs': 4000, 'normalize': True, 'numOfTrials': 3, 'patience': 150, 'resnet': '18', 'softmax': True, 'suffix': '50_11', 'takeFromIntermediate': True, 'takeFromIntermediateOutput': 200, 'training_count': 0.64, 'useAdam': False, 'useHeirarchy': False, 'useRelu': True, 'validation_count': 0.16}\n",
      "{'augmentation': False, 'batchNormalize': True, 'batchSize': 450, 'downsample': True, 'downsampleOutput': 200, 'fc_layers': 4, 'imageDimension': 224, 'image_path': '/data/BGNN_data/INHS_cropped', 'learning_rate': 0.0011150433661140774, 'n_channels': 3, 'n_epochs': 4000, 'normalize': True, 'numOfTrials': 3, 'patience': 350, 'resnet': '18', 'softmax': True, 'suffix': '50_11', 'takeFromIntermediate': True, 'takeFromIntermediateOutput': 200, 'training_count': 0.64, 'useAdam': False, 'useHeirarchy': False, 'useRelu': True, 'validation_count': 0.16}\n",
      "{'augmentation': False, 'batchNormalize': True, 'batchSize': 300, 'downsample': True, 'downsampleOutput': 200, 'fc_layers': 4, 'imageDimension': 224, 'image_path': '/data/BGNN_data/INHS_cropped', 'learning_rate': 0.0011294032122313997, 'n_channels': 3, 'n_epochs': 4000, 'normalize': True, 'numOfTrials': 3, 'patience': 75, 'resnet': '18', 'softmax': True, 'suffix': '50_11', 'takeFromIntermediate': True, 'takeFromIntermediateOutput': 200, 'training_count': 0.64, 'useAdam': False, 'useHeirarchy': False, 'useRelu': True, 'validation_count': 0.16}\n",
      "{'augmentation': False, 'batchNormalize': True, 'batchSize': 250, 'downsample': True, 'downsampleOutput': 200, 'fc_layers': 4, 'imageDimension': 224, 'image_path': '/data/BGNN_data/INHS_cropped', 'learning_rate': 0.000140497626248912, 'n_channels': 3, 'n_epochs': 4000, 'normalize': True, 'numOfTrials': 3, 'patience': 375, 'resnet': '18', 'softmax': True, 'suffix': '50_11', 'takeFromIntermediate': True, 'takeFromIntermediateOutput': 200, 'training_count': 0.64, 'useAdam': False, 'useHeirarchy': False, 'useRelu': True, 'validation_count': 0.16}\n",
      "{'augmentation': False, 'batchNormalize': True, 'batchSize': 150, 'downsample': True, 'downsampleOutput': 200, 'fc_layers': 4, 'imageDimension': 224, 'image_path': '/data/BGNN_data/INHS_cropped', 'learning_rate': 0.00026054507278313314, 'n_channels': 3, 'n_epochs': 4000, 'normalize': True, 'numOfTrials': 3, 'patience': 100, 'resnet': '18', 'softmax': True, 'suffix': '50_11', 'takeFromIntermediate': True, 'takeFromIntermediateOutput': 200, 'training_count': 0.64, 'useAdam': False, 'useHeirarchy': False, 'useRelu': True, 'validation_count': 0.16}\n",
      "{'augmentation': False, 'batchNormalize': True, 'batchSize': 400, 'downsample': True, 'downsampleOutput': 200, 'fc_layers': 4, 'imageDimension': 224, 'image_path': '/data/BGNN_data/INHS_cropped', 'learning_rate': 0.0004909245483470957, 'n_channels': 3, 'n_epochs': 4000, 'normalize': True, 'numOfTrials': 3, 'patience': 450, 'resnet': '18', 'softmax': True, 'suffix': '50_11', 'takeFromIntermediate': True, 'takeFromIntermediateOutput': 200, 'training_count': 0.64, 'useAdam': False, 'useHeirarchy': False, 'useRelu': True, 'validation_count': 0.16}\n",
      "{'augmentation': False, 'batchNormalize': True, 'batchSize': 350, 'downsample': True, 'downsampleOutput': 200, 'fc_layers': 4, 'imageDimension': 224, 'image_path': '/data/BGNN_data/INHS_cropped', 'learning_rate': 0.0008305449714635945, 'n_channels': 3, 'n_epochs': 4000, 'normalize': True, 'numOfTrials': 3, 'patience': 325, 'resnet': '18', 'softmax': True, 'suffix': '50_11', 'takeFromIntermediate': True, 'takeFromIntermediateOutput': 200, 'training_count': 0.64, 'useAdam': False, 'useHeirarchy': False, 'useRelu': True, 'validation_count': 0.16}\n",
      "{'augmentation': False, 'batchNormalize': True, 'batchSize': 50, 'downsample': True, 'downsampleOutput': 200, 'fc_layers': 4, 'imageDimension': 224, 'image_path': '/data/BGNN_data/INHS_cropped', 'learning_rate': 0.0002488678348691946, 'n_channels': 3, 'n_epochs': 4000, 'normalize': True, 'numOfTrials': 3, 'patience': 350, 'resnet': '18', 'softmax': True, 'suffix': '50_11', 'takeFromIntermediate': True, 'takeFromIntermediateOutput': 200, 'training_count': 0.64, 'useAdam': False, 'useHeirarchy': False, 'useRelu': True, 'validation_count': 0.16}\n",
      "{'augmentation': False, 'batchNormalize': True, 'batchSize': 400, 'downsample': True, 'downsampleOutput': 200, 'fc_layers': 4, 'imageDimension': 224, 'image_path': '/data/BGNN_data/INHS_cropped', 'learning_rate': 0.0008553512600064893, 'n_channels': 3, 'n_epochs': 4000, 'normalize': True, 'numOfTrials': 3, 'patience': 425, 'resnet': '18', 'softmax': True, 'suffix': '50_11', 'takeFromIntermediate': True, 'takeFromIntermediateOutput': 200, 'training_count': 0.64, 'useAdam': False, 'useHeirarchy': False, 'useRelu': True, 'validation_count': 0.16}\n",
      "{'augmentation': False, 'batchNormalize': True, 'batchSize': 250, 'downsample': True, 'downsampleOutput': 200, 'fc_layers': 4, 'imageDimension': 224, 'image_path': '/data/BGNN_data/INHS_cropped', 'learning_rate': 0.006700020397171568, 'n_channels': 3, 'n_epochs': 4000, 'normalize': True, 'numOfTrials': 3, 'patience': 450, 'resnet': '18', 'softmax': True, 'suffix': '50_11', 'takeFromIntermediate': True, 'takeFromIntermediateOutput': 200, 'training_count': 0.64, 'useAdam': False, 'useHeirarchy': False, 'useRelu': True, 'validation_count': 0.16}\n",
      "{'augmentation': False, 'batchNormalize': True, 'batchSize': 350, 'downsample': True, 'downsampleOutput': 200, 'fc_layers': 4, 'imageDimension': 224, 'image_path': '/data/BGNN_data/INHS_cropped', 'learning_rate': 0.0007741388639486614, 'n_channels': 3, 'n_epochs': 4000, 'normalize': True, 'numOfTrials': 3, 'patience': 75, 'resnet': '18', 'softmax': True, 'suffix': '50_11', 'takeFromIntermediate': True, 'takeFromIntermediateOutput': 200, 'training_count': 0.64, 'useAdam': False, 'useHeirarchy': False, 'useRelu': True, 'validation_count': 0.16}\n",
      "{'augmentation': False, 'batchNormalize': True, 'batchSize': 450, 'downsample': True, 'downsampleOutput': 200, 'fc_layers': 4, 'imageDimension': 224, 'image_path': '/data/BGNN_data/INHS_cropped', 'learning_rate': 0.0006655547465960361, 'n_channels': 3, 'n_epochs': 4000, 'normalize': True, 'numOfTrials': 3, 'patience': 350, 'resnet': '18', 'softmax': True, 'suffix': '50_11', 'takeFromIntermediate': True, 'takeFromIntermediateOutput': 200, 'training_count': 0.64, 'useAdam': False, 'useHeirarchy': False, 'useRelu': True, 'validation_count': 0.16}\n"
     ]
    },
    {
     "name": "stdout",
     "output_type": "stream",
     "text": [
      "{'augmentation': False, 'batchNormalize': True, 'batchSize': 100, 'downsample': True, 'downsampleOutput': 200, 'fc_layers': 4, 'imageDimension': 224, 'image_path': '/data/BGNN_data/INHS_cropped', 'learning_rate': 0.0013810029429236115, 'n_channels': 3, 'n_epochs': 4000, 'normalize': True, 'numOfTrials': 3, 'patience': 300, 'resnet': '18', 'softmax': True, 'suffix': '50_11', 'takeFromIntermediate': True, 'takeFromIntermediateOutput': 200, 'training_count': 0.64, 'useAdam': False, 'useHeirarchy': False, 'useRelu': True, 'validation_count': 0.16}\n",
      "{'augmentation': False, 'batchNormalize': True, 'batchSize': 200, 'downsample': True, 'downsampleOutput': 200, 'fc_layers': 4, 'imageDimension': 224, 'image_path': '/data/BGNN_data/INHS_cropped', 'learning_rate': 0.007574398003833564, 'n_channels': 3, 'n_epochs': 4000, 'normalize': True, 'numOfTrials': 3, 'patience': 300, 'resnet': '18', 'softmax': True, 'suffix': '50_11', 'takeFromIntermediate': True, 'takeFromIntermediateOutput': 200, 'training_count': 0.64, 'useAdam': False, 'useHeirarchy': False, 'useRelu': True, 'validation_count': 0.16}\n",
      "{'augmentation': False, 'batchNormalize': True, 'batchSize': 500, 'downsample': True, 'downsampleOutput': 200, 'fc_layers': 4, 'imageDimension': 224, 'image_path': '/data/BGNN_data/INHS_cropped', 'learning_rate': 0.00014791327153446465, 'n_channels': 3, 'n_epochs': 4000, 'normalize': True, 'numOfTrials': 3, 'patience': 150, 'resnet': '18', 'softmax': True, 'suffix': '50_11', 'takeFromIntermediate': True, 'takeFromIntermediateOutput': 200, 'training_count': 0.64, 'useAdam': False, 'useHeirarchy': False, 'useRelu': True, 'validation_count': 0.16}\n",
      "{'augmentation': False, 'batchNormalize': True, 'batchSize': 150, 'downsample': True, 'downsampleOutput': 200, 'fc_layers': 4, 'imageDimension': 224, 'image_path': '/data/BGNN_data/INHS_cropped', 'learning_rate': 0.0009307137837297679, 'n_channels': 3, 'n_epochs': 4000, 'normalize': True, 'numOfTrials': 3, 'patience': 500, 'resnet': '18', 'softmax': True, 'suffix': '50_11', 'takeFromIntermediate': True, 'takeFromIntermediateOutput': 200, 'training_count': 0.64, 'useAdam': False, 'useHeirarchy': False, 'useRelu': True, 'validation_count': 0.16}\n",
      "{'augmentation': False, 'batchNormalize': True, 'batchSize': 150, 'downsample': True, 'downsampleOutput': 200, 'fc_layers': 4, 'imageDimension': 224, 'image_path': '/data/BGNN_data/INHS_cropped', 'learning_rate': 0.0010765264613310692, 'n_channels': 3, 'n_epochs': 4000, 'normalize': True, 'numOfTrials': 3, 'patience': 450, 'resnet': '18', 'softmax': True, 'suffix': '50_11', 'takeFromIntermediate': True, 'takeFromIntermediateOutput': 200, 'training_count': 0.64, 'useAdam': False, 'useHeirarchy': False, 'useRelu': True, 'validation_count': 0.16}\n",
      "{'augmentation': False, 'batchNormalize': True, 'batchSize': 350, 'downsample': True, 'downsampleOutput': 200, 'fc_layers': 4, 'imageDimension': 224, 'image_path': '/data/BGNN_data/INHS_cropped', 'learning_rate': 0.0015542999136931713, 'n_channels': 3, 'n_epochs': 4000, 'normalize': True, 'numOfTrials': 3, 'patience': 250, 'resnet': '18', 'softmax': True, 'suffix': '50_11', 'takeFromIntermediate': True, 'takeFromIntermediateOutput': 200, 'training_count': 0.64, 'useAdam': False, 'useHeirarchy': False, 'useRelu': True, 'validation_count': 0.16}\n",
      "{'augmentation': False, 'batchNormalize': True, 'batchSize': 500, 'downsample': True, 'downsampleOutput': 200, 'fc_layers': 4, 'imageDimension': 224, 'image_path': '/data/BGNN_data/INHS_cropped', 'learning_rate': 0.004356900614064161, 'n_channels': 3, 'n_epochs': 4000, 'normalize': True, 'numOfTrials': 3, 'patience': 200, 'resnet': '18', 'softmax': True, 'suffix': '50_11', 'takeFromIntermediate': True, 'takeFromIntermediateOutput': 200, 'training_count': 0.64, 'useAdam': False, 'useHeirarchy': False, 'useRelu': True, 'validation_count': 0.16}\n",
      "{'augmentation': False, 'batchNormalize': True, 'batchSize': 350, 'downsample': True, 'downsampleOutput': 200, 'fc_layers': 4, 'imageDimension': 224, 'image_path': '/data/BGNN_data/INHS_cropped', 'learning_rate': 0.008797321760618856, 'n_channels': 3, 'n_epochs': 4000, 'normalize': True, 'numOfTrials': 3, 'patience': 400, 'resnet': '18', 'softmax': True, 'suffix': '50_11', 'takeFromIntermediate': True, 'takeFromIntermediateOutput': 200, 'training_count': 0.64, 'useAdam': False, 'useHeirarchy': False, 'useRelu': True, 'validation_count': 0.16}\n",
      "{'augmentation': False, 'batchNormalize': True, 'batchSize': 400, 'downsample': True, 'downsampleOutput': 200, 'fc_layers': 4, 'imageDimension': 224, 'image_path': '/data/BGNN_data/INHS_cropped', 'learning_rate': 0.00020956533408509262, 'n_channels': 3, 'n_epochs': 4000, 'normalize': True, 'numOfTrials': 3, 'patience': 100, 'resnet': '18', 'softmax': True, 'suffix': '50_11', 'takeFromIntermediate': True, 'takeFromIntermediateOutput': 200, 'training_count': 0.64, 'useAdam': False, 'useHeirarchy': False, 'useRelu': True, 'validation_count': 0.16}\n",
      "{'augmentation': False, 'batchNormalize': True, 'batchSize': 250, 'downsample': True, 'downsampleOutput': 200, 'fc_layers': 4, 'imageDimension': 224, 'image_path': '/data/BGNN_data/INHS_cropped', 'learning_rate': 0.007081889090690878, 'n_channels': 3, 'n_epochs': 4000, 'normalize': True, 'numOfTrials': 3, 'patience': 250, 'resnet': '18', 'softmax': True, 'suffix': '50_11', 'takeFromIntermediate': True, 'takeFromIntermediateOutput': 200, 'training_count': 0.64, 'useAdam': False, 'useHeirarchy': False, 'useRelu': True, 'validation_count': 0.16}\n",
      "{'augmentation': False, 'batchNormalize': True, 'batchSize': 400, 'downsample': True, 'downsampleOutput': 200, 'fc_layers': 4, 'imageDimension': 224, 'image_path': '/data/BGNN_data/INHS_cropped', 'learning_rate': 0.0014634259179471891, 'n_channels': 3, 'n_epochs': 4000, 'normalize': True, 'numOfTrials': 3, 'patience': 175, 'resnet': '18', 'softmax': True, 'suffix': '50_11', 'takeFromIntermediate': True, 'takeFromIntermediateOutput': 200, 'training_count': 0.64, 'useAdam': False, 'useHeirarchy': False, 'useRelu': True, 'validation_count': 0.16}\n",
      "{'augmentation': False, 'batchNormalize': True, 'batchSize': 100, 'downsample': True, 'downsampleOutput': 200, 'fc_layers': 4, 'imageDimension': 224, 'image_path': '/data/BGNN_data/INHS_cropped', 'learning_rate': 0.0008372847192191785, 'n_channels': 3, 'n_epochs': 4000, 'normalize': True, 'numOfTrials': 3, 'patience': 400, 'resnet': '18', 'softmax': True, 'suffix': '50_11', 'takeFromIntermediate': True, 'takeFromIntermediateOutput': 200, 'training_count': 0.64, 'useAdam': False, 'useHeirarchy': False, 'useRelu': True, 'validation_count': 0.16}\n",
      "{'augmentation': False, 'batchNormalize': True, 'batchSize': 350, 'downsample': True, 'downsampleOutput': 200, 'fc_layers': 4, 'imageDimension': 224, 'image_path': '/data/BGNN_data/INHS_cropped', 'learning_rate': 0.00010397537131585619, 'n_channels': 3, 'n_epochs': 4000, 'normalize': True, 'numOfTrials': 3, 'patience': 225, 'resnet': '18', 'softmax': True, 'suffix': '50_11', 'takeFromIntermediate': True, 'takeFromIntermediateOutput': 200, 'training_count': 0.64, 'useAdam': False, 'useHeirarchy': False, 'useRelu': True, 'validation_count': 0.16}\n",
      "{'augmentation': False, 'batchNormalize': True, 'batchSize': 400, 'downsample': True, 'downsampleOutput': 200, 'fc_layers': 4, 'imageDimension': 224, 'image_path': '/data/BGNN_data/INHS_cropped', 'learning_rate': 0.00010128787009240089, 'n_channels': 3, 'n_epochs': 4000, 'normalize': True, 'numOfTrials': 3, 'patience': 325, 'resnet': '18', 'softmax': True, 'suffix': '50_11', 'takeFromIntermediate': True, 'takeFromIntermediateOutput': 200, 'training_count': 0.64, 'useAdam': False, 'useHeirarchy': False, 'useRelu': True, 'validation_count': 0.16}\n",
      "{'augmentation': False, 'batchNormalize': True, 'batchSize': 50, 'downsample': True, 'downsampleOutput': 200, 'fc_layers': 4, 'imageDimension': 224, 'image_path': '/data/BGNN_data/INHS_cropped', 'learning_rate': 0.0006463545922997672, 'n_channels': 3, 'n_epochs': 4000, 'normalize': True, 'numOfTrials': 3, 'patience': 50, 'resnet': '18', 'softmax': True, 'suffix': '50_11', 'takeFromIntermediate': True, 'takeFromIntermediateOutput': 200, 'training_count': 0.64, 'useAdam': False, 'useHeirarchy': False, 'useRelu': True, 'validation_count': 0.16}\n"
     ]
    },
    {
     "name": "stdout",
     "output_type": "stream",
     "text": [
      "{'augmentation': False, 'batchNormalize': True, 'batchSize': 250, 'downsample': True, 'downsampleOutput': 200, 'fc_layers': 4, 'imageDimension': 224, 'image_path': '/data/BGNN_data/INHS_cropped', 'learning_rate': 0.0025135527772671184, 'n_channels': 3, 'n_epochs': 4000, 'normalize': True, 'numOfTrials': 3, 'patience': 350, 'resnet': '18', 'softmax': True, 'suffix': '50_11', 'takeFromIntermediate': True, 'takeFromIntermediateOutput': 200, 'training_count': 0.64, 'useAdam': False, 'useHeirarchy': False, 'useRelu': True, 'validation_count': 0.16}\n",
      "{'augmentation': False, 'batchNormalize': True, 'batchSize': 350, 'downsample': True, 'downsampleOutput': 200, 'fc_layers': 4, 'imageDimension': 224, 'image_path': '/data/BGNN_data/INHS_cropped', 'learning_rate': 0.0004889909723795954, 'n_channels': 3, 'n_epochs': 4000, 'normalize': True, 'numOfTrials': 3, 'patience': 400, 'resnet': '18', 'softmax': True, 'suffix': '50_11', 'takeFromIntermediate': True, 'takeFromIntermediateOutput': 200, 'training_count': 0.64, 'useAdam': False, 'useHeirarchy': False, 'useRelu': True, 'validation_count': 0.16}\n",
      "{'augmentation': False, 'batchNormalize': True, 'batchSize': 450, 'downsample': True, 'downsampleOutput': 200, 'fc_layers': 4, 'imageDimension': 224, 'image_path': '/data/BGNN_data/INHS_cropped', 'learning_rate': 0.0009623653851653304, 'n_channels': 3, 'n_epochs': 4000, 'normalize': True, 'numOfTrials': 3, 'patience': 100, 'resnet': '18', 'softmax': True, 'suffix': '50_11', 'takeFromIntermediate': True, 'takeFromIntermediateOutput': 200, 'training_count': 0.64, 'useAdam': False, 'useHeirarchy': False, 'useRelu': True, 'validation_count': 0.16}\n",
      "{'augmentation': False, 'batchNormalize': True, 'batchSize': 150, 'downsample': True, 'downsampleOutput': 200, 'fc_layers': 4, 'imageDimension': 224, 'image_path': '/data/BGNN_data/INHS_cropped', 'learning_rate': 0.0011907399191609907, 'n_channels': 3, 'n_epochs': 4000, 'normalize': True, 'numOfTrials': 3, 'patience': 475, 'resnet': '18', 'softmax': True, 'suffix': '50_11', 'takeFromIntermediate': True, 'takeFromIntermediateOutput': 200, 'training_count': 0.64, 'useAdam': False, 'useHeirarchy': False, 'useRelu': True, 'validation_count': 0.16}\n",
      "{'augmentation': False, 'batchNormalize': True, 'batchSize': 200, 'downsample': True, 'downsampleOutput': 200, 'fc_layers': 4, 'imageDimension': 224, 'image_path': '/data/BGNN_data/INHS_cropped', 'learning_rate': 0.005203122833796419, 'n_channels': 3, 'n_epochs': 4000, 'normalize': True, 'numOfTrials': 3, 'patience': 275, 'resnet': '18', 'softmax': True, 'suffix': '50_11', 'takeFromIntermediate': True, 'takeFromIntermediateOutput': 200, 'training_count': 0.64, 'useAdam': False, 'useHeirarchy': False, 'useRelu': True, 'validation_count': 0.16}\n",
      "{'augmentation': False, 'batchNormalize': True, 'batchSize': 100, 'downsample': True, 'downsampleOutput': 200, 'fc_layers': 4, 'imageDimension': 224, 'image_path': '/data/BGNN_data/INHS_cropped', 'learning_rate': 0.001462020068871486, 'n_channels': 3, 'n_epochs': 4000, 'normalize': True, 'numOfTrials': 3, 'patience': 250, 'resnet': '18', 'softmax': True, 'suffix': '50_11', 'takeFromIntermediate': True, 'takeFromIntermediateOutput': 200, 'training_count': 0.64, 'useAdam': False, 'useHeirarchy': False, 'useRelu': True, 'validation_count': 0.16}\n",
      "{'augmentation': False, 'batchNormalize': True, 'batchSize': 50, 'downsample': True, 'downsampleOutput': 200, 'fc_layers': 4, 'imageDimension': 224, 'image_path': '/data/BGNN_data/INHS_cropped', 'learning_rate': 0.00016419526886812883, 'n_channels': 3, 'n_epochs': 4000, 'normalize': True, 'numOfTrials': 3, 'patience': 450, 'resnet': '18', 'softmax': True, 'suffix': '50_11', 'takeFromIntermediate': True, 'takeFromIntermediateOutput': 200, 'training_count': 0.64, 'useAdam': False, 'useHeirarchy': False, 'useRelu': True, 'validation_count': 0.16}\n",
      "{'augmentation': False, 'batchNormalize': True, 'batchSize': 450, 'downsample': True, 'downsampleOutput': 200, 'fc_layers': 4, 'imageDimension': 224, 'image_path': '/data/BGNN_data/INHS_cropped', 'learning_rate': 0.001307421104591384, 'n_channels': 3, 'n_epochs': 4000, 'normalize': True, 'numOfTrials': 3, 'patience': 275, 'resnet': '18', 'softmax': True, 'suffix': '50_11', 'takeFromIntermediate': True, 'takeFromIntermediateOutput': 200, 'training_count': 0.64, 'useAdam': False, 'useHeirarchy': False, 'useRelu': True, 'validation_count': 0.16}\n",
      "{'augmentation': False, 'batchNormalize': True, 'batchSize': 350, 'downsample': True, 'downsampleOutput': 200, 'fc_layers': 4, 'imageDimension': 224, 'image_path': '/data/BGNN_data/INHS_cropped', 'learning_rate': 0.003476948323156031, 'n_channels': 3, 'n_epochs': 4000, 'normalize': True, 'numOfTrials': 3, 'patience': 50, 'resnet': '18', 'softmax': True, 'suffix': '50_11', 'takeFromIntermediate': True, 'takeFromIntermediateOutput': 200, 'training_count': 0.64, 'useAdam': False, 'useHeirarchy': False, 'useRelu': True, 'validation_count': 0.16}\n",
      "{'augmentation': False, 'batchNormalize': True, 'batchSize': 150, 'downsample': True, 'downsampleOutput': 200, 'fc_layers': 4, 'imageDimension': 224, 'image_path': '/data/BGNN_data/INHS_cropped', 'learning_rate': 0.00021199006977713923, 'n_channels': 3, 'n_epochs': 4000, 'normalize': True, 'numOfTrials': 3, 'patience': 175, 'resnet': '18', 'softmax': True, 'suffix': '50_11', 'takeFromIntermediate': True, 'takeFromIntermediateOutput': 200, 'training_count': 0.64, 'useAdam': False, 'useHeirarchy': False, 'useRelu': True, 'validation_count': 0.16}\n",
      "{'augmentation': False, 'batchNormalize': True, 'batchSize': 350, 'downsample': True, 'downsampleOutput': 200, 'fc_layers': 4, 'imageDimension': 224, 'image_path': '/data/BGNN_data/INHS_cropped', 'learning_rate': 0.0025735364750060965, 'n_channels': 3, 'n_epochs': 4000, 'normalize': True, 'numOfTrials': 3, 'patience': 200, 'resnet': '18', 'softmax': True, 'suffix': '50_11', 'takeFromIntermediate': True, 'takeFromIntermediateOutput': 200, 'training_count': 0.64, 'useAdam': False, 'useHeirarchy': False, 'useRelu': True, 'validation_count': 0.16}\n",
      "{'augmentation': False, 'batchNormalize': True, 'batchSize': 300, 'downsample': True, 'downsampleOutput': 200, 'fc_layers': 4, 'imageDimension': 224, 'image_path': '/data/BGNN_data/INHS_cropped', 'learning_rate': 0.006693768629225419, 'n_channels': 3, 'n_epochs': 4000, 'normalize': True, 'numOfTrials': 3, 'patience': 75, 'resnet': '18', 'softmax': True, 'suffix': '50_11', 'takeFromIntermediate': True, 'takeFromIntermediateOutput': 200, 'training_count': 0.64, 'useAdam': False, 'useHeirarchy': False, 'useRelu': True, 'validation_count': 0.16}\n",
      "{'augmentation': False, 'batchNormalize': True, 'batchSize': 450, 'downsample': True, 'downsampleOutput': 200, 'fc_layers': 4, 'imageDimension': 224, 'image_path': '/data/BGNN_data/INHS_cropped', 'learning_rate': 0.0014784978619270916, 'n_channels': 3, 'n_epochs': 4000, 'normalize': True, 'numOfTrials': 3, 'patience': 375, 'resnet': '18', 'softmax': True, 'suffix': '50_11', 'takeFromIntermediate': True, 'takeFromIntermediateOutput': 200, 'training_count': 0.64, 'useAdam': False, 'useHeirarchy': False, 'useRelu': True, 'validation_count': 0.16}\n",
      "100%|██████████| 100/100 [00:00<00:00, 168.31trial/s, best loss: 1.0]\n"
     ]
    },
    {
     "data": {
      "text/plain": [
       "{'augmentation': 0,\n",
       " 'batchNormalize': 0,\n",
       " 'batchSize': 300.0,\n",
       " 'downsample': 0,\n",
       " 'downsampleOutput': 0,\n",
       " 'fc_layers': 0,\n",
       " 'imageDimension': 0,\n",
       " 'image_path': 0,\n",
       " 'learning_rate': 0.0030567278364565017,\n",
       " 'n_channels': 0,\n",
       " 'n_epochs': 0,\n",
       " 'normalize': 0,\n",
       " 'numOfTrials': 0,\n",
       " 'patience': 325.0,\n",
       " 'resnet': 0,\n",
       " 'softmax': 0,\n",
       " 'suffix': 0,\n",
       " 'takeFromIntermediate': 0,\n",
       " 'takeFromIntermediateOutput': 0,\n",
       " 'training_count': 0,\n",
       " 'useAdam': 0,\n",
       " 'useHeirarchy': 0,\n",
       " 'useRelu': 0,\n",
       " 'validation_count': 0}"
      ]
     },
     "execution_count": 9,
     "metadata": {},
     "output_type": "execute_result"
    }
   ],
   "source": [
    "hyperp_obj = cp.getHyperpSearchObject()\n",
    "print(hyperp_obj)\n",
    "\n",
    "def objective(experiment_params):\n",
    "    print(experiment_params)\n",
    "    dummyObjective = 1\n",
    "    return dummyObjective\n",
    "\n",
    "fmin(objective,\n",
    "     space=hyperp_obj,\n",
    "     algo=rand.suggest, \n",
    "     max_evals=numOfExperiments)"
   ]
  },
  {
   "cell_type": "markdown",
   "metadata": {},
   "source": [
    "Selected hyperp write"
   ]
  },
  {
   "cell_type": "code",
   "execution_count": 10,
   "metadata": {},
   "outputs": [
    {
     "data": {
      "text/plain": [
       "'test_22987_suffix50_11_CNN2_differentConfig_baseline4fclayers/hyperp_selected_params.pkl'"
      ]
     },
     "execution_count": 10,
     "metadata": {},
     "output_type": "execute_result"
    }
   ],
   "source": [
    "selected_hyperp_params = [\n",
    "    {\"downsampleOutput\":50, \"takeFromIntermediateOutput\":50,},\n",
    "    {\"downsampleOutput\":100, \"takeFromIntermediateOutput\":100,},\n",
    "    {\"downsampleOutput\":200, \"takeFromIntermediateOutput\":200,},\n",
    "    {\"downsampleOutput\":300, \"takeFromIntermediateOutput\":300,},\n",
    "]\n",
    "\n",
    "cp.writeHyperpSelected(selected_hyperp_params)"
   ]
  },
  {
   "cell_type": "markdown",
   "metadata": {},
   "source": [
    "Selected hyperp read"
   ]
  },
  {
   "cell_type": "code",
   "execution_count": 11,
   "metadata": {},
   "outputs": [
    {
     "name": "stdout",
     "output_type": "stream",
     "text": [
      "{'image_path': '/data/BGNN_data/INHS_cropped', 'suffix': '50_11', 'training_count': 0.64, 'validation_count': 0.16, 'imageDimension': 224, 'n_channels': 3, 'augmentation': False, 'batchSize': 550, 'n_epochs': 4000, 'learning_rate': 0.01, 'numOfTrials': 3, 'patience': 100, 'useHeirarchy': False, 'useRelu': True, 'downsample': True, 'downsampleOutput': 50, 'takeFromIntermediate': True, 'takeFromIntermediateOutput': 50, 'fc_layers': 4, 'useAdam': False, 'resnet': '18', 'normalize': True, 'softmax': True, 'batchNormalize': True}\n",
      "{'image_path': '/data/BGNN_data/INHS_cropped', 'suffix': '50_11', 'training_count': 0.64, 'validation_count': 0.16, 'imageDimension': 224, 'n_channels': 3, 'augmentation': False, 'batchSize': 550, 'n_epochs': 4000, 'learning_rate': 0.01, 'numOfTrials': 3, 'patience': 100, 'useHeirarchy': False, 'useRelu': True, 'downsample': True, 'downsampleOutput': 100, 'takeFromIntermediate': True, 'takeFromIntermediateOutput': 100, 'fc_layers': 4, 'useAdam': False, 'resnet': '18', 'normalize': True, 'softmax': True, 'batchNormalize': True}\n",
      "{'image_path': '/data/BGNN_data/INHS_cropped', 'suffix': '50_11', 'training_count': 0.64, 'validation_count': 0.16, 'imageDimension': 224, 'n_channels': 3, 'augmentation': False, 'batchSize': 550, 'n_epochs': 4000, 'learning_rate': 0.01, 'numOfTrials': 3, 'patience': 100, 'useHeirarchy': False, 'useRelu': True, 'downsample': True, 'downsampleOutput': 200, 'takeFromIntermediate': True, 'takeFromIntermediateOutput': 200, 'fc_layers': 4, 'useAdam': False, 'resnet': '18', 'normalize': True, 'softmax': True, 'batchNormalize': True}\n",
      "{'image_path': '/data/BGNN_data/INHS_cropped', 'suffix': '50_11', 'training_count': 0.64, 'validation_count': 0.16, 'imageDimension': 224, 'n_channels': 3, 'augmentation': False, 'batchSize': 550, 'n_epochs': 4000, 'learning_rate': 0.01, 'numOfTrials': 3, 'patience': 100, 'useHeirarchy': False, 'useRelu': True, 'downsample': True, 'downsampleOutput': 300, 'takeFromIntermediate': True, 'takeFromIntermediateOutput': 300, 'fc_layers': 4, 'useAdam': False, 'resnet': '18', 'normalize': True, 'softmax': True, 'batchNormalize': True}\n"
     ]
    }
   ],
   "source": [
    "for i in cp.getHyperpSelectedIter():\n",
    "    print(i)"
   ]
  },
  {
   "cell_type": "code",
   "execution_count": null,
   "metadata": {},
   "outputs": [],
   "source": []
  }
 ],
 "metadata": {
  "kernelspec": {
   "display_name": "Python 3",
   "language": "python",
   "name": "python3"
  },
  "language_info": {
   "codemirror_mode": {
    "name": "ipython",
    "version": 3
   },
   "file_extension": ".py",
   "mimetype": "text/x-python",
   "name": "python",
   "nbconvert_exporter": "python",
   "pygments_lexer": "ipython3",
   "version": "3.6.9"
  }
 },
 "nbformat": 4,
 "nbformat_minor": 2
}
