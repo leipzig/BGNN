{
 "cells": [
  {
   "cell_type": "markdown",
   "metadata": {},
   "source": [
    "imports"
   ]
  },
  {
   "cell_type": "code",
   "execution_count": 1,
   "metadata": {},
   "outputs": [],
   "source": [
    "from configParser import ConfigParser"
   ]
  },
  {
   "cell_type": "markdown",
   "metadata": {},
   "source": [
    "hyper-params"
   ]
  },
  {
   "cell_type": "code",
   "execution_count": 2,
   "metadata": {},
   "outputs": [
    {
     "name": "stdout",
     "output_type": "stream",
     "text": [
      "{'image_path': '/data/BGNN_data/INHS_cropped', 'suffix': '50_11', 'training_count': 0.64, 'validation_count': 0.16, 'batchSize': 200, 'n_epochs': 1000, 'numOfTrials': 3, 'kernels': [16, 32], 'kernelSize': 5, 'patience': 50, 'imageDimension': 28, 'n_channels': 1, 'useZCAWhitening': False}\n"
     ]
    }
   ],
   "source": [
    "# defining global variables\n",
    "experimentName = \"test_22987_suffix50_11_testZCA\"\n",
    "output_directory = '/data/BGNN_data/50_11_diag'\n",
    "\n",
    "import os\n",
    "if not os.path.exists(output_directory):\n",
    "    os.makedirs(output_directory)\n",
    "\n",
    "params = ConfigParser(experimentName).read()\n",
    "print(params)"
   ]
  },
  {
   "cell_type": "markdown",
   "metadata": {},
   "source": [
    "pre-defined"
   ]
  },
  {
   "cell_type": "code",
   "execution_count": 3,
   "metadata": {},
   "outputs": [],
   "source": [
    "cleaned_species_csv_fileName = \"cleaned_metadata.csv\"\n",
    "species_csv_fileName_header = \"fileName\"\n",
    "species_csv_scientificName_header = \"scientificName\"\n",
    "species_csv_Genus_header = \"Genus\"\n",
    "species_csv_Family_header = \"Family\"\n",
    "image_subpath = \"images\"\n",
    "species_csv_usedColumns = [species_csv_fileName_header,\n",
    "                          species_csv_scientificName_header,\n",
    "                          species_csv_Genus_header,\n",
    "                          species_csv_Family_header]"
   ]
  },
  {
   "cell_type": "markdown",
   "metadata": {},
   "source": [
    "Copy files"
   ]
  },
  {
   "cell_type": "code",
   "execution_count": 17,
   "metadata": {},
   "outputs": [
    {
     "name": "stderr",
     "output_type": "stream",
     "text": [
      "100% (550 of 550) |######################| Elapsed Time: 0:02:09 Time:  0:02:09\n",
      "100% (551 of 551) |######################| Elapsed Time: 0:00:06 Time:  0:00:06\n"
     ]
    }
   ],
   "source": [
    "import matplotlib.pyplot as plt\n",
    "import progressbar\n",
    "import pandas as pd\n",
    "\n",
    "# param\n",
    "zip_output_directory = '/data/BGNN_data/'\n",
    "\n",
    "# Get params\n",
    "data_root = params[\"image_path\"]\n",
    "suffix = str(params[\"suffix\"]) if (\"suffix\" in params and params[\"suffix\"] is not None) else \"\"\n",
    "\n",
    "# Get file\n",
    "cleaned_species_csv_fileName_withsuffix = cleaned_species_csv_fileName\n",
    "cleaned_species_csv_fileName_full_path = os.path.join(data_root, suffix, cleaned_species_csv_fileName_withsuffix)\n",
    "cleaned_species_csv_file_exists = os.path.exists(cleaned_species_csv_fileName_full_path)\n",
    "species_csv = pd.read_csv(cleaned_species_csv_fileName_full_path, delimiter='\\t', index_col=species_csv_fileName_header, usecols=species_csv_usedColumns)\n",
    "img_count = len(species_csv.index)\n",
    "\n",
    "# Get image sizes\n",
    "width=[]\n",
    "height=[]\n",
    "i=1\n",
    "with progressbar.ProgressBar(max_value=img_count) as bar:\n",
    "    for indx, row in species_csv.iterrows(): \n",
    "        image = plt.imread(os.path.join(data_root, image_subpath, indx))\n",
    "        plt.imsave(os.path.join(output_directory, indx), image)\n",
    "        bar.update(i)\n",
    "        i=i+1\n",
    "\n",
    "# Save csv file\n",
    "species_csv.to_csv(os.path.join(output_directory,\"metadata.csv\"))\n",
    "\n",
    "# create compressed file\n",
    "\n",
    "import zipfile\n",
    "def zipdir(path, ziph):\n",
    "    # ziph is zipfile handle\n",
    "    i=1\n",
    "    with progressbar.ProgressBar(max_value=img_count+1) as bar:\n",
    "        for root, dirs, files in os.walk(path):\n",
    "            for file in files:\n",
    "                ziph.write(os.path.join(root, file))\n",
    "                bar.update(i)\n",
    "                i=i+1\n",
    "zipf = zipfile.ZipFile(os.path.join(zip_output_directory,experimentName,'.zip'), 'w', zipfile.ZIP_DEFLATED)\n",
    "zipdir(os.path.join(output_directory), zipf)"
   ]
  },
  {
   "cell_type": "code",
   "execution_count": null,
   "metadata": {},
   "outputs": [],
   "source": []
  }
 ],
 "metadata": {
  "kernelspec": {
   "display_name": "Python 3",
   "language": "python",
   "name": "python3"
  },
  "language_info": {
   "codemirror_mode": {
    "name": "ipython",
    "version": 3
   },
   "file_extension": ".py",
   "mimetype": "text/x-python",
   "name": "python",
   "nbconvert_exporter": "python",
   "pygments_lexer": "ipython3",
   "version": "3.6.9"
  }
 },
 "nbformat": 4,
 "nbformat_minor": 4
}
