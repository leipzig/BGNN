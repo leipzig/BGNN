{
 "cells": [
  {
   "cell_type": "code",
   "execution_count": 1,
   "metadata": {},
   "outputs": [
    {
     "name": "stdout",
     "output_type": "stream",
     "text": [
      "There are  1014  images\n"
     ]
    },
    {
     "name": "stderr",
     "output_type": "stream",
     "text": [
      " 29% (301 of 1014) |######               | Elapsed Time: 0:03:08 ETA:   0:07:41"
     ]
    },
    {
     "name": "stdout",
     "output_type": "stream",
     "text": [
      "image  INHS_FISH_112444_1552413791_lg.jpg  skipped.\n"
     ]
    },
    {
     "name": "stderr",
     "output_type": "stream",
     "text": [
      "100% (1014 of 1014) |####################| Elapsed Time: 0:10:43 Time:  0:10:43\n"
     ]
    },
    {
     "name": "stdout",
     "output_type": "stream",
     "text": [
      "done!\n"
     ]
    }
   ],
   "source": [
    "import urllib.request\n",
    "import pandas as pd\n",
    "import os\n",
    "import progressbar\n",
    "\n",
    "csv_file = \"./NN_NSF_project/multimedia.csv\"\n",
    "uriColumnName = \"ac:accessURI\"\n",
    "directory = \"downloadedImages/\"\n",
    "\n",
    "df = pd.read_csv(csv_file)\n",
    "uriColumn = df[uriColumnName]\n",
    "\n",
    "if not os.path.exists(directory):\n",
    "    os.makedirs(directory)\n",
    "\n",
    "print(\"There are \", len(uriColumn), \" images\")\n",
    "i = 0\n",
    "with progressbar.ProgressBar(max_value=len(uriColumn)) as bar:\n",
    "    for url in uriColumn:\n",
    "        fileName = url.rsplit('/', 1)[-1]\n",
    "        try:\n",
    "            urllib.request.urlretrieve(url, directory + fileName + \".jpg\")\n",
    "        except:\n",
    "            print(\"image \", fileName, \" skipped.\")\n",
    "        bar.update(i)\n",
    "        i = i+1\n",
    "        \n",
    "print(\"done!\")"
   ]
  },
  {
   "cell_type": "code",
   "execution_count": null,
   "metadata": {},
   "outputs": [],
   "source": []
  }
 ],
 "metadata": {
  "kernelspec": {
   "display_name": "Python 3",
   "language": "python",
   "name": "python3"
  },
  "language_info": {
   "codemirror_mode": {
    "name": "ipython",
    "version": 3
   },
   "file_extension": ".py",
   "mimetype": "text/x-python",
   "name": "python",
   "nbconvert_exporter": "python",
   "pygments_lexer": "ipython3",
   "version": "3.6.9"
  }
 },
 "nbformat": 4,
 "nbformat_minor": 2
}
