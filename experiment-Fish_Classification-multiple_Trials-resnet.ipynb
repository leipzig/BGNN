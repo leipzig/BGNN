{
 "cells": [
  {
   "cell_type": "markdown",
   "metadata": {},
   "source": [
    "Setup"
   ]
  },
  {
   "cell_type": "code",
   "execution_count": 1,
   "metadata": {},
   "outputs": [],
   "source": [
    "%matplotlib inline\n",
    "\n",
    "import matplotlib.pyplot as plt\n",
    "import torch\n",
    "import CNN\n",
    "\n",
    "# from config_plots import global_settings\n",
    "# global_settings()\n",
    "import warnings\n",
    "warnings.filterwarnings(\"ignore\")"
   ]
  },
  {
   "cell_type": "markdown",
   "metadata": {},
   "source": [
    "Hyper parameters"
   ]
  },
  {
   "cell_type": "code",
   "execution_count": 2,
   "metadata": {},
   "outputs": [],
   "source": [
    "# defining global variables\n",
    "experimentName = \"test_22987_suffix50_11_CNN2_differentConfig_resnet\"\n",
    "showListOfSpecies = False\n",
    "\n",
    "from configParser import ConfigParser, getModelName\n",
    "config_parser = ConfigParser(experimentName)\n",
    "\n",
    "import os\n",
    "experimentName = os.path.join(experimentName, \"multi-trial\")\n",
    "import TrialStatistics\n",
    "ts = TrialStatistics.TrialStatistics(experimentName)\n",
    "ts_genus = TrialStatistics.TrialStatistics(experimentName, \"genus\")\n",
    "\n",
    "import dataLoader"
   ]
  },
  {
   "cell_type": "markdown",
   "metadata": {},
   "source": [
    "Cuda support"
   ]
  },
  {
   "cell_type": "code",
   "execution_count": 3,
   "metadata": {},
   "outputs": [
    {
     "name": "stdout",
     "output_type": "stream",
     "text": [
      "We are using cuda\n"
     ]
    }
   ],
   "source": [
    "# CUDA support \n",
    "if torch.cuda.is_available():\n",
    "    torch.cuda.set_device(0) # 0\n",
    "    torch.set_default_tensor_type('torch.cuda.FloatTensor')\n",
    "    print(\"We are using cuda\")"
   ]
  },
  {
   "cell_type": "markdown",
   "metadata": {},
   "source": [
    "Iterate"
   ]
  },
  {
   "cell_type": "code",
   "execution_count": 4,
   "metadata": {},
   "outputs": [
    {
     "name": "stderr",
     "output_type": "stream",
     "text": [
      "N/A% (0 of 4) |                          | Elapsed Time: 0:00:00 ETA:  --:--:--"
     ]
    },
    {
     "name": "stdout",
     "output_type": "stream",
     "text": [
      "experiment  1 / 4 :  {'image_path': '/data/BGNN_data/INHS_cropped', 'suffix': '50_11', 'training_count': 0.64, 'validation_count': 0.16, 'imageDimension': 224, 'n_channels': 3, 'augmentation': False, 'batchSize': 200, 'n_epochs': 1000, 'learning_rate': 0.0001, 'numOfTrials': 3, 'patience': 100, 'useHeirarchy': True, 'useRelu': False, 'downsample': True, 'downsampleOutput': 50, 'takeFromIntermediate': True, 'takeFromIntermediateOutput': 50, 'useAdam': True, 'resnet': '18', 'normalize': True}\n",
      "Loading dataset...\n",
      "Going through image files\n"
     ]
    },
    {
     "name": "stderr",
     "output_type": "stream",
     "text": [
      "100% (550 of 550) |######################| Elapsed Time: 0:00:41 Time:  0:00:41\n"
     ]
    },
    {
     "name": "stdout",
     "output_type": "stream",
     "text": [
      "dataset has a mean: tensor([0.7661, 0.7249, 0.6513]) and std: tensor([0.1420, 0.1753, 0.2096])\n",
      "file /data/BGNN_data/INHS_cropped/50_11/test_22987_suffix50_11_CNN2_differentConfig_resnet/multi-trial/tc0.640000_vc0.160000_d224_c3_augFalse_nTrue/dataset.pkl written\n",
      "Loading saved indices...\n",
      "file /data/BGNN_data/INHS_cropped/50_11/test_22987_suffix50_11_CNN2_differentConfig_resnet/multi-trial/trainingIndex.pkl read\n",
      "file /data/BGNN_data/INHS_cropped/50_11/test_22987_suffix50_11_CNN2_differentConfig_resnet/multi-trial/valIndex.pkl read\n",
      "file /data/BGNN_data/INHS_cropped/50_11/test_22987_suffix50_11_CNN2_differentConfig_resnet/multi-trial/testIndex.pkl read\n",
      "file /data/BGNN_data/INHS_cropped/50_11/test_22987_suffix50_11_CNN2_differentConfig_resnet/multi-trial/tc0.640000_vc0.160000_d224_c3_augFalse_nTrue/trainingLoader.pkl written\n",
      "file /data/BGNN_data/INHS_cropped/50_11/test_22987_suffix50_11_CNN2_differentConfig_resnet/multi-trial/tc0.640000_vc0.160000_d224_c3_augFalse_nTrue/valLoader.pkl written\n"
     ]
    },
    {
     "name": "stderr",
     "output_type": "stream",
     "text": [
      "\r",
      "N/A% (0 of 1000) |                       | Elapsed Time: 0:00:00 ETA:  --:--:--"
     ]
    },
    {
     "name": "stdout",
     "output_type": "stream",
     "text": [
      "file /data/BGNN_data/INHS_cropped/50_11/test_22987_suffix50_11_CNN2_differentConfig_resnet/multi-trial/tc0.640000_vc0.160000_d224_c3_augFalse_nTrue/testLoader.pkl written\n",
      "Training started...\n"
     ]
    },
    {
     "name": "stderr",
     "output_type": "stream",
     "text": [
      "100% (1000 of 1000) |####################| Elapsed Time: 2:48:39 Time:  2:48:39\n"
     ]
    },
    {
     "name": "stdout",
     "output_type": "stream",
     "text": [
      "Early stopping\n",
      "total number of epochs:  797\n"
     ]
    },
    {
     "name": "stderr",
     "output_type": "stream",
     "text": [
      "\r",
      "N/A% (0 of 1000) |                       | Elapsed Time: 0:00:00 ETA:  --:--:--"
     ]
    },
    {
     "name": "stdout",
     "output_type": "stream",
     "text": [
      "Training started...\n"
     ]
    },
    {
     "name": "stderr",
     "output_type": "stream",
     "text": [
      "100% (1000 of 1000) |####################| Elapsed Time: 3:27:38 Time:  3:27:38\n",
      "N/A% (0 of 1000) |                       | Elapsed Time: 0:00:00 ETA:  --:--:--"
     ]
    },
    {
     "name": "stdout",
     "output_type": "stream",
     "text": [
      "Training started...\n"
     ]
    },
    {
     "name": "stderr",
     "output_type": "stream",
     "text": [
      "100% (1000 of 1000) |####################| Elapsed Time: 3:18:28 Time:  3:18:28\n",
      " 25% (1 of 4) |######                    | Elapsed Time: 9:36:55 ETA:  20:20:11"
     ]
    },
    {
     "name": "stdout",
     "output_type": "stream",
     "text": [
      "experiment  2 / 4 :  {'image_path': '/data/BGNN_data/INHS_cropped', 'suffix': '50_11', 'training_count': 0.64, 'validation_count': 0.16, 'imageDimension': 224, 'n_channels': 3, 'augmentation': False, 'batchSize': 200, 'n_epochs': 1000, 'learning_rate': 0.0001, 'numOfTrials': 3, 'patience': 100, 'useHeirarchy': True, 'useRelu': False, 'downsample': True, 'downsampleOutput': 50, 'takeFromIntermediate': True, 'takeFromIntermediateOutput': 50, 'useAdam': True, 'resnet': '50', 'normalize': True}\n"
     ]
    },
    {
     "name": "stderr",
     "output_type": "stream",
     "text": [
      "\r",
      "N/A% (0 of 1000) |                       | Elapsed Time: 0:00:00 ETA:  --:--:--"
     ]
    },
    {
     "name": "stdout",
     "output_type": "stream",
     "text": [
      "Training started...\n"
     ]
    },
    {
     "name": "stderr",
     "output_type": "stream",
     "text": [
      " 25% (1 of 4) |####               | Elapsed Time: 11:28:19 ETA:  1 day, 1:54:24"
     ]
    },
    {
     "name": "stdout",
     "output_type": "stream",
     "text": [
      "Early stopping\n"
     ]
    },
    {
     "name": "stderr",
     "output_type": "stream",
     "text": [
      "100% (1000 of 1000) |####################| Elapsed Time: 1:51:24 Time:  1:51:24\n"
     ]
    },
    {
     "name": "stdout",
     "output_type": "stream",
     "text": [
      "total number of epochs:  547\n"
     ]
    },
    {
     "name": "stderr",
     "output_type": "stream",
     "text": [
      "\r",
      "N/A% (0 of 1000) |                       | Elapsed Time: 0:00:00 ETA:  --:--:--"
     ]
    },
    {
     "name": "stdout",
     "output_type": "stream",
     "text": [
      "Training started...\n"
     ]
    },
    {
     "name": "stderr",
     "output_type": "stream",
     "text": [
      " 25% (1 of 4) |####              | Elapsed Time: 14:40:06 ETA:  1 day, 11:29:44"
     ]
    },
    {
     "name": "stdout",
     "output_type": "stream",
     "text": [
      "Early stopping\n"
     ]
    },
    {
     "name": "stderr",
     "output_type": "stream",
     "text": [
      "100% (1000 of 1000) |####################| Elapsed Time: 3:11:34 Time:  3:11:34\n"
     ]
    },
    {
     "name": "stdout",
     "output_type": "stream",
     "text": [
      "total number of epochs:  937\n"
     ]
    },
    {
     "name": "stderr",
     "output_type": "stream",
     "text": [
      "\r",
      "N/A% (0 of 1000) |                       | Elapsed Time: 0:00:00 ETA:  --:--:--"
     ]
    },
    {
     "name": "stdout",
     "output_type": "stream",
     "text": [
      "Training started...\n"
     ]
    },
    {
     "name": "stderr",
     "output_type": "stream",
     "text": [
      " 25% (1 of 4) |####              | Elapsed Time: 16:54:14 ETA:  1 day, 18:12:07"
     ]
    },
    {
     "name": "stdout",
     "output_type": "stream",
     "text": [
      "Early stopping\n"
     ]
    },
    {
     "name": "stderr",
     "output_type": "stream",
     "text": [
      "100% (1000 of 1000) |####################| Elapsed Time: 2:13:55 Time:  2:13:55\n"
     ]
    },
    {
     "name": "stdout",
     "output_type": "stream",
     "text": [
      "total number of epochs:  647\n"
     ]
    },
    {
     "name": "stderr",
     "output_type": "stream",
     "text": [
      "N/A% (0 of 1000) |                       | Elapsed Time: 0:00:00 ETA:  --:--:--"
     ]
    },
    {
     "name": "stdout",
     "output_type": "stream",
     "text": [
      "experiment  3 / 4 :  {'image_path': '/data/BGNN_data/INHS_cropped', 'suffix': '50_11', 'training_count': 0.64, 'validation_count': 0.16, 'imageDimension': 224, 'n_channels': 3, 'augmentation': False, 'batchSize': 200, 'n_epochs': 1000, 'learning_rate': 0.0001, 'numOfTrials': 3, 'patience': 100, 'useHeirarchy': False, 'useRelu': False, 'downsample': True, 'downsampleOutput': 50, 'takeFromIntermediate': True, 'takeFromIntermediateOutput': 50, 'useAdam': True, 'resnet': '18', 'normalize': True}\n",
      "using a pretrained resnet model...\n",
      "Training started...\n"
     ]
    },
    {
     "name": "stderr",
     "output_type": "stream",
     "text": [
      "100% (1000 of 1000) |####################| Elapsed Time: 2:51:27 Time:  2:51:27\n"
     ]
    },
    {
     "name": "stdout",
     "output_type": "stream",
     "text": [
      "Early stopping\n",
      "total number of epochs:  848\n"
     ]
    },
    {
     "name": "stderr",
     "output_type": "stream",
     "text": [
      "\r",
      "N/A% (0 of 1000) |                       | Elapsed Time: 0:00:00 ETA:  --:--:--"
     ]
    },
    {
     "name": "stdout",
     "output_type": "stream",
     "text": [
      "using a pretrained resnet model...\n",
      "Training started...\n"
     ]
    },
    {
     "name": "stderr",
     "output_type": "stream",
     "text": [
      "100% (1000 of 1000) |####################| Elapsed Time: 3:00:42 Time:  3:00:42\n"
     ]
    },
    {
     "name": "stdout",
     "output_type": "stream",
     "text": [
      "Early stopping\n",
      "total number of epochs:  893\n"
     ]
    },
    {
     "name": "stderr",
     "output_type": "stream",
     "text": [
      "\r",
      "N/A% (0 of 1000) |                       | Elapsed Time: 0:00:00 ETA:  --:--:--"
     ]
    },
    {
     "name": "stdout",
     "output_type": "stream",
     "text": [
      "using a pretrained resnet model...\n",
      "Training started...\n"
     ]
    },
    {
     "name": "stderr",
     "output_type": "stream",
     "text": [
      "100% (1000 of 1000) |####################| Elapsed Time: 2:12:37 Time:  2:12:37\n"
     ]
    },
    {
     "name": "stdout",
     "output_type": "stream",
     "text": [
      "Early stopping\n",
      "total number of epochs:  687\n"
     ]
    },
    {
     "name": "stderr",
     "output_type": "stream",
     "text": [
      "N/A% (0 of 1000) |                       | Elapsed Time: 0:00:00 ETA:  --:--:--"
     ]
    },
    {
     "name": "stdout",
     "output_type": "stream",
     "text": [
      "experiment  4 / 4 :  {'image_path': '/data/BGNN_data/INHS_cropped', 'suffix': '50_11', 'training_count': 0.64, 'validation_count': 0.16, 'imageDimension': 224, 'n_channels': 3, 'augmentation': False, 'batchSize': 200, 'n_epochs': 1000, 'learning_rate': 0.0001, 'numOfTrials': 3, 'patience': 100, 'useHeirarchy': False, 'useRelu': False, 'downsample': True, 'downsampleOutput': 50, 'takeFromIntermediate': True, 'takeFromIntermediateOutput': 50, 'useAdam': True, 'resnet': '50', 'normalize': True}\n",
      "using a pretrained resnet model...\n",
      "Training started...\n"
     ]
    },
    {
     "name": "stderr",
     "output_type": "stream",
     "text": [
      "100% (1000 of 1000) |####################| Elapsed Time: 2:22:08 Time:  2:22:08\n"
     ]
    },
    {
     "name": "stdout",
     "output_type": "stream",
     "text": [
      "Early stopping\n",
      "total number of epochs:  744\n",
      "using a pretrained resnet model...\n"
     ]
    },
    {
     "name": "stderr",
     "output_type": "stream",
     "text": [
      "\r",
      "N/A% (0 of 1000) |                       | Elapsed Time: 0:00:00 ETA:  --:--:--"
     ]
    },
    {
     "name": "stdout",
     "output_type": "stream",
     "text": [
      "Training started...\n"
     ]
    },
    {
     "name": "stderr",
     "output_type": "stream",
     "text": [
      "100% (1000 of 1000) |####################| Elapsed Time: 1:32:50 Time:  1:32:50\n"
     ]
    },
    {
     "name": "stdout",
     "output_type": "stream",
     "text": [
      "Early stopping\n",
      "total number of epochs:  481\n",
      "using a pretrained resnet model...\n"
     ]
    },
    {
     "name": "stderr",
     "output_type": "stream",
     "text": [
      "\r",
      "N/A% (0 of 1000) |                       | Elapsed Time: 0:00:00 ETA:  --:--:--"
     ]
    },
    {
     "name": "stdout",
     "output_type": "stream",
     "text": [
      "Training started...\n"
     ]
    },
    {
     "name": "stderr",
     "output_type": "stream",
     "text": [
      "100% (1000 of 1000) |####################| Elapsed Time: 1:18:45 Time:  1:18:45\n"
     ]
    },
    {
     "name": "stdout",
     "output_type": "stream",
     "text": [
      "Early stopping\n",
      "total number of epochs:  407\n"
     ]
    },
    {
     "name": "stderr",
     "output_type": "stream",
     "text": [
      "100% (4 of 4) |#############| Elapsed Time: 1 day, 6:13:53 Time: 1 day, 6:13:53\n"
     ]
    }
   ],
   "source": [
    "from sklearn.metrics import confusion_matrix, classification_report, f1_score\n",
    "from confusion_matrix_plotter import plot_confusion_matrix2, generate_classification_report\n",
    "import numpy as np\n",
    "import os\n",
    "import progressbar\n",
    "\n",
    "paramsIterator = config_parser.getHyperpIter()  \n",
    "number_of_experiments = sum(1 for e in paramsIterator)\n",
    "paramsIterator = config_parser.getHyperpIter()  \n",
    "experiment_index = 0\n",
    "\n",
    "datasetManager = dataLoader.datasetManager(experimentName, showListOfSpecies)\n",
    "with progressbar.ProgressBar(max_value=number_of_experiments) as bar:\n",
    "    for experiment_params in paramsIterator:\n",
    "        bar.update(experiment_index)\n",
    "        experiment_params[\"numOfTrials\"] = experiment_params[\"numOfTrials\"] or 1\n",
    "\n",
    "        print(\"experiment \", experiment_index+1, \"/\", number_of_experiments, \": \", experiment_params)\n",
    "\n",
    "        # load images\n",
    "        datasetManager.updateParams(experiment_params)\n",
    "        dataset = datasetManager.getDataset()\n",
    "        speciesList = dataset.getSpeciesList()\n",
    "        numberOfSpecies = len(speciesList)\n",
    "        numberOfGenus = len(dataset.getGenusList())\n",
    "\n",
    "        confusionMatricesPerTrial = []\n",
    "\n",
    "        for i in range(experiment_params[\"numOfTrials\"]):\n",
    "            trialName = os.path.join(experimentName, getModelName(experiment_params, i))\n",
    "\n",
    "            # Train/Load model\n",
    "            architecture = {\n",
    "                \"species\": numberOfSpecies,\n",
    "                \"genus\" : numberOfGenus\n",
    "            }\n",
    "            model = CNN.create_model(architecture, experiment_params)\n",
    "            train_loader, validation_loader, test_loader = datasetManager.getLoaders()\n",
    "            if os.path.exists(CNN.getModelFile(trialName)):\n",
    "                _, _, epochs, time_elapsed = CNN.loadModel(model, trialName)\n",
    "                print(\"Model {0} loaded!\".format(trialName))\n",
    "            else:\n",
    "                _, _, epochs, time_elapsed = CNN.trainModel(train_loader, validation_loader, experiment_params, model, trialName)\n",
    "            \n",
    "            # Update trial outcomes for statistics\n",
    "            predlist, lbllist = CNN.getLoaderPredictions(test_loader, model, experiment_params)\n",
    "            ts.addTrialPredictions(experiment_params, predlist, lbllist, numberOfSpecies)\n",
    "            macro_f1 = f1_score(lbllist.cpu(), predlist.cpu(), average='macro')\n",
    "            macro_f1_genus = np.nan\n",
    "            if experiment_params[\"useHeirarchy\"]:\n",
    "                predlist, lbllist = CNN.getLoaderPredictions(test_loader, model, experiment_params, 'genus')\n",
    "                ts_genus.addTrialPredictions(experiment_params, predlist, lbllist, numberOfGenus)\n",
    "                macro_f1_genus = f1_score(lbllist.cpu(), predlist.cpu(), average='macro')\n",
    "\n",
    "            ts.addTrial(experiment_params,\n",
    "                    {'loss': CNN.getCrossEntropyFromLoader(test_loader, model, experiment_params),\n",
    "                     'accuracy': CNN.getAccuracyFromLoader(test_loader, model, experiment_params),\n",
    "                     'macro_f1_species': macro_f1,\n",
    "                     'macro_f1_genus': macro_f1_genus,\n",
    "                     'time': time_elapsed,\n",
    "                     'epochs': epochs\n",
    "                    }, i)\n",
    "        \n",
    "        experiment_index = experiment_index + 1"
   ]
  },
  {
   "cell_type": "markdown",
   "metadata": {},
   "source": [
    "Analyze"
   ]
  },
  {
   "cell_type": "code",
   "execution_count": 5,
   "metadata": {},
   "outputs": [
    {
     "name": "stdout",
     "output_type": "stream",
     "text": [
      "Aggregated statistics\n"
     ]
    },
    {
     "data": {
      "text/html": [
       "<table border=\"1\" class=\"dataframe\">\n",
       "  <thead>\n",
       "    <tr>\n",
       "      <th></th>\n",
       "      <th>image_path</th>\n",
       "      <th>suffix</th>\n",
       "      <th>training_count</th>\n",
       "      <th>validation_count</th>\n",
       "      <th>imageDimension</th>\n",
       "      <th>n_channels</th>\n",
       "      <th>augmentation</th>\n",
       "      <th>batchSize</th>\n",
       "      <th>n_epochs</th>\n",
       "      <th>learning_rate</th>\n",
       "      <th>numOfTrials</th>\n",
       "      <th>patience</th>\n",
       "      <th>useHeirarchy</th>\n",
       "      <th>useRelu</th>\n",
       "      <th>downsample</th>\n",
       "      <th>downsampleOutput</th>\n",
       "      <th>takeFromIntermediate</th>\n",
       "      <th>takeFromIntermediateOutput</th>\n",
       "      <th>useAdam</th>\n",
       "      <th>resnet</th>\n",
       "      <th>normalize</th>\n",
       "      <th>hash</th>\n",
       "      <th colspan=\"2\" halign=\"left\">loss</th>\n",
       "      <th colspan=\"2\" halign=\"left\">accuracy</th>\n",
       "      <th colspan=\"2\" halign=\"left\">macro_f1_species</th>\n",
       "      <th colspan=\"2\" halign=\"left\">macro_f1_genus</th>\n",
       "      <th colspan=\"2\" halign=\"left\">time</th>\n",
       "      <th colspan=\"2\" halign=\"left\">epochs</th>\n",
       "    </tr>\n",
       "    <tr>\n",
       "      <th></th>\n",
       "      <th></th>\n",
       "      <th></th>\n",
       "      <th></th>\n",
       "      <th></th>\n",
       "      <th></th>\n",
       "      <th></th>\n",
       "      <th></th>\n",
       "      <th></th>\n",
       "      <th></th>\n",
       "      <th></th>\n",
       "      <th></th>\n",
       "      <th></th>\n",
       "      <th></th>\n",
       "      <th></th>\n",
       "      <th></th>\n",
       "      <th></th>\n",
       "      <th></th>\n",
       "      <th></th>\n",
       "      <th></th>\n",
       "      <th></th>\n",
       "      <th></th>\n",
       "      <th></th>\n",
       "      <th>mean</th>\n",
       "      <th>std</th>\n",
       "      <th>mean</th>\n",
       "      <th>std</th>\n",
       "      <th>mean</th>\n",
       "      <th>std</th>\n",
       "      <th>mean</th>\n",
       "      <th>std</th>\n",
       "      <th>mean</th>\n",
       "      <th>std</th>\n",
       "      <th>mean</th>\n",
       "      <th>std</th>\n",
       "    </tr>\n",
       "  </thead>\n",
       "  <tbody>\n",
       "    <tr>\n",
       "      <th>0</th>\n",
       "      <td>/data/BGNN_data/INHS_cropped</td>\n",
       "      <td>50_11</td>\n",
       "      <td>0.64</td>\n",
       "      <td>0.16</td>\n",
       "      <td>224</td>\n",
       "      <td>3</td>\n",
       "      <td>False</td>\n",
       "      <td>200</td>\n",
       "      <td>1000</td>\n",
       "      <td>0.0001</td>\n",
       "      <td>3</td>\n",
       "      <td>100</td>\n",
       "      <td>False</td>\n",
       "      <td>False</td>\n",
       "      <td>True</td>\n",
       "      <td>50</td>\n",
       "      <td>True</td>\n",
       "      <td>50</td>\n",
       "      <td>True</td>\n",
       "      <td>18</td>\n",
       "      <td>True</td>\n",
       "      <td>-3863746956200108666</td>\n",
       "      <td>1.046420</td>\n",
       "      <td>0.228411</td>\n",
       "      <td>0.693939</td>\n",
       "      <td>0.099724</td>\n",
       "      <td>0.641544</td>\n",
       "      <td>0.127875</td>\n",
       "      <td>NaN</td>\n",
       "      <td>NaN</td>\n",
       "      <td>9695.922364</td>\n",
       "      <td>1530.718915</td>\n",
       "      <td>810.333333</td>\n",
       "      <td>108.306663</td>\n",
       "    </tr>\n",
       "    <tr>\n",
       "      <th>1</th>\n",
       "      <td>/data/BGNN_data/INHS_cropped</td>\n",
       "      <td>50_11</td>\n",
       "      <td>0.64</td>\n",
       "      <td>0.16</td>\n",
       "      <td>224</td>\n",
       "      <td>3</td>\n",
       "      <td>False</td>\n",
       "      <td>200</td>\n",
       "      <td>1000</td>\n",
       "      <td>0.0001</td>\n",
       "      <td>3</td>\n",
       "      <td>100</td>\n",
       "      <td>False</td>\n",
       "      <td>False</td>\n",
       "      <td>True</td>\n",
       "      <td>50</td>\n",
       "      <td>True</td>\n",
       "      <td>50</td>\n",
       "      <td>True</td>\n",
       "      <td>50</td>\n",
       "      <td>True</td>\n",
       "      <td>-8120143210267186293</td>\n",
       "      <td>1.283141</td>\n",
       "      <td>0.314738</td>\n",
       "      <td>0.600000</td>\n",
       "      <td>0.079253</td>\n",
       "      <td>0.523882</td>\n",
       "      <td>0.120799</td>\n",
       "      <td>NaN</td>\n",
       "      <td>NaN</td>\n",
       "      <td>6275.097272</td>\n",
       "      <td>1997.013586</td>\n",
       "      <td>545.000000</td>\n",
       "      <td>177.112958</td>\n",
       "    </tr>\n",
       "    <tr>\n",
       "      <th>2</th>\n",
       "      <td>/data/BGNN_data/INHS_cropped</td>\n",
       "      <td>50_11</td>\n",
       "      <td>0.64</td>\n",
       "      <td>0.16</td>\n",
       "      <td>224</td>\n",
       "      <td>3</td>\n",
       "      <td>False</td>\n",
       "      <td>200</td>\n",
       "      <td>1000</td>\n",
       "      <td>0.0001</td>\n",
       "      <td>3</td>\n",
       "      <td>100</td>\n",
       "      <td>True</td>\n",
       "      <td>False</td>\n",
       "      <td>True</td>\n",
       "      <td>50</td>\n",
       "      <td>True</td>\n",
       "      <td>50</td>\n",
       "      <td>True</td>\n",
       "      <td>18</td>\n",
       "      <td>True</td>\n",
       "      <td>-6531791378853013498</td>\n",
       "      <td>0.588741</td>\n",
       "      <td>0.041170</td>\n",
       "      <td>0.796970</td>\n",
       "      <td>0.013887</td>\n",
       "      <td>0.796249</td>\n",
       "      <td>0.014121</td>\n",
       "      <td>0.862515</td>\n",
       "      <td>0.022478</td>\n",
       "      <td>11495.394071</td>\n",
       "      <td>1223.154628</td>\n",
       "      <td>932.666667</td>\n",
       "      <td>116.624754</td>\n",
       "    </tr>\n",
       "    <tr>\n",
       "      <th>3</th>\n",
       "      <td>/data/BGNN_data/INHS_cropped</td>\n",
       "      <td>50_11</td>\n",
       "      <td>0.64</td>\n",
       "      <td>0.16</td>\n",
       "      <td>224</td>\n",
       "      <td>3</td>\n",
       "      <td>False</td>\n",
       "      <td>200</td>\n",
       "      <td>1000</td>\n",
       "      <td>0.0001</td>\n",
       "      <td>3</td>\n",
       "      <td>100</td>\n",
       "      <td>True</td>\n",
       "      <td>False</td>\n",
       "      <td>True</td>\n",
       "      <td>50</td>\n",
       "      <td>True</td>\n",
       "      <td>50</td>\n",
       "      <td>True</td>\n",
       "      <td>50</td>\n",
       "      <td>True</td>\n",
       "      <td>-9152207393364617717</td>\n",
       "      <td>0.689625</td>\n",
       "      <td>0.031210</td>\n",
       "      <td>0.769697</td>\n",
       "      <td>0.020995</td>\n",
       "      <td>0.768744</td>\n",
       "      <td>0.021194</td>\n",
       "      <td>0.606495</td>\n",
       "      <td>0.300905</td>\n",
       "      <td>8737.774060</td>\n",
       "      <td>2480.796828</td>\n",
       "      <td>711.333333</td>\n",
       "      <td>202.566861</td>\n",
       "    </tr>\n",
       "  </tbody>\n",
       "</table>"
      ],
      "text/plain": [
       "<IPython.core.display.HTML object>"
      ]
     },
     "metadata": {},
     "output_type": "display_data"
    }
   ],
   "source": [
    "ts.showStatistics()\n",
    "ts.saveStatistics()"
   ]
  },
  {
   "cell_type": "code",
   "execution_count": 6,
   "metadata": {},
   "outputs": [
    {
     "name": "stdout",
     "output_type": "stream",
     "text": [
      "Raw statistics\n"
     ]
    },
    {
     "data": {
      "text/html": [
       "<table border=\"1\" class=\"dataframe\">\n",
       "  <thead>\n",
       "    <tr style=\"text-align: right;\">\n",
       "      <th></th>\n",
       "      <th>image_path</th>\n",
       "      <th>suffix</th>\n",
       "      <th>training_count</th>\n",
       "      <th>validation_count</th>\n",
       "      <th>imageDimension</th>\n",
       "      <th>n_channels</th>\n",
       "      <th>augmentation</th>\n",
       "      <th>batchSize</th>\n",
       "      <th>n_epochs</th>\n",
       "      <th>learning_rate</th>\n",
       "      <th>numOfTrials</th>\n",
       "      <th>patience</th>\n",
       "      <th>useHeirarchy</th>\n",
       "      <th>useRelu</th>\n",
       "      <th>downsample</th>\n",
       "      <th>downsampleOutput</th>\n",
       "      <th>takeFromIntermediate</th>\n",
       "      <th>takeFromIntermediateOutput</th>\n",
       "      <th>useAdam</th>\n",
       "      <th>resnet</th>\n",
       "      <th>normalize</th>\n",
       "      <th>loss</th>\n",
       "      <th>accuracy</th>\n",
       "      <th>macro_f1_species</th>\n",
       "      <th>macro_f1_genus</th>\n",
       "      <th>time</th>\n",
       "      <th>epochs</th>\n",
       "      <th>hash</th>\n",
       "      <th>trial</th>\n",
       "    </tr>\n",
       "  </thead>\n",
       "  <tbody>\n",
       "    <tr>\n",
       "      <th>0</th>\n",
       "      <td>/data/BGNN_data/INHS_cropped</td>\n",
       "      <td>50_11</td>\n",
       "      <td>0.64</td>\n",
       "      <td>0.16</td>\n",
       "      <td>224</td>\n",
       "      <td>3</td>\n",
       "      <td>False</td>\n",
       "      <td>200</td>\n",
       "      <td>1000</td>\n",
       "      <td>0.0001</td>\n",
       "      <td>3</td>\n",
       "      <td>100</td>\n",
       "      <td>True</td>\n",
       "      <td>False</td>\n",
       "      <td>True</td>\n",
       "      <td>50</td>\n",
       "      <td>True</td>\n",
       "      <td>50</td>\n",
       "      <td>True</td>\n",
       "      <td>18</td>\n",
       "      <td>True</td>\n",
       "      <td>0.551367</td>\n",
       "      <td>0.809091</td>\n",
       "      <td>0.807945</td>\n",
       "      <td>0.836866</td>\n",
       "      <td>10119.258113</td>\n",
       "      <td>798</td>\n",
       "      <td>-6531791378853013498</td>\n",
       "      <td>0</td>\n",
       "    </tr>\n",
       "    <tr>\n",
       "      <th>1</th>\n",
       "      <td>/data/BGNN_data/INHS_cropped</td>\n",
       "      <td>50_11</td>\n",
       "      <td>0.64</td>\n",
       "      <td>0.16</td>\n",
       "      <td>224</td>\n",
       "      <td>3</td>\n",
       "      <td>False</td>\n",
       "      <td>200</td>\n",
       "      <td>1000</td>\n",
       "      <td>0.0001</td>\n",
       "      <td>3</td>\n",
       "      <td>100</td>\n",
       "      <td>True</td>\n",
       "      <td>False</td>\n",
       "      <td>True</td>\n",
       "      <td>50</td>\n",
       "      <td>True</td>\n",
       "      <td>50</td>\n",
       "      <td>True</td>\n",
       "      <td>18</td>\n",
       "      <td>True</td>\n",
       "      <td>0.632870</td>\n",
       "      <td>0.781818</td>\n",
       "      <td>0.780563</td>\n",
       "      <td>0.871890</td>\n",
       "      <td>12458.770264</td>\n",
       "      <td>1000</td>\n",
       "      <td>-6531791378853013498</td>\n",
       "      <td>1</td>\n",
       "    </tr>\n",
       "    <tr>\n",
       "      <th>2</th>\n",
       "      <td>/data/BGNN_data/INHS_cropped</td>\n",
       "      <td>50_11</td>\n",
       "      <td>0.64</td>\n",
       "      <td>0.16</td>\n",
       "      <td>224</td>\n",
       "      <td>3</td>\n",
       "      <td>False</td>\n",
       "      <td>200</td>\n",
       "      <td>1000</td>\n",
       "      <td>0.0001</td>\n",
       "      <td>3</td>\n",
       "      <td>100</td>\n",
       "      <td>True</td>\n",
       "      <td>False</td>\n",
       "      <td>True</td>\n",
       "      <td>50</td>\n",
       "      <td>True</td>\n",
       "      <td>50</td>\n",
       "      <td>True</td>\n",
       "      <td>18</td>\n",
       "      <td>True</td>\n",
       "      <td>0.581985</td>\n",
       "      <td>0.800000</td>\n",
       "      <td>0.800240</td>\n",
       "      <td>0.878788</td>\n",
       "      <td>11908.153838</td>\n",
       "      <td>1000</td>\n",
       "      <td>-6531791378853013498</td>\n",
       "      <td>2</td>\n",
       "    </tr>\n",
       "    <tr>\n",
       "      <th>3</th>\n",
       "      <td>/data/BGNN_data/INHS_cropped</td>\n",
       "      <td>50_11</td>\n",
       "      <td>0.64</td>\n",
       "      <td>0.16</td>\n",
       "      <td>224</td>\n",
       "      <td>3</td>\n",
       "      <td>False</td>\n",
       "      <td>200</td>\n",
       "      <td>1000</td>\n",
       "      <td>0.0001</td>\n",
       "      <td>3</td>\n",
       "      <td>100</td>\n",
       "      <td>True</td>\n",
       "      <td>False</td>\n",
       "      <td>True</td>\n",
       "      <td>50</td>\n",
       "      <td>True</td>\n",
       "      <td>50</td>\n",
       "      <td>True</td>\n",
       "      <td>50</td>\n",
       "      <td>True</td>\n",
       "      <td>0.705120</td>\n",
       "      <td>0.745455</td>\n",
       "      <td>0.744294</td>\n",
       "      <td>0.620909</td>\n",
       "      <td>6684.002129</td>\n",
       "      <td>548</td>\n",
       "      <td>-9152207393364617717</td>\n",
       "      <td>0</td>\n",
       "    </tr>\n",
       "    <tr>\n",
       "      <th>4</th>\n",
       "      <td>/data/BGNN_data/INHS_cropped</td>\n",
       "      <td>50_11</td>\n",
       "      <td>0.64</td>\n",
       "      <td>0.16</td>\n",
       "      <td>224</td>\n",
       "      <td>3</td>\n",
       "      <td>False</td>\n",
       "      <td>200</td>\n",
       "      <td>1000</td>\n",
       "      <td>0.0001</td>\n",
       "      <td>3</td>\n",
       "      <td>100</td>\n",
       "      <td>True</td>\n",
       "      <td>False</td>\n",
       "      <td>True</td>\n",
       "      <td>50</td>\n",
       "      <td>True</td>\n",
       "      <td>50</td>\n",
       "      <td>True</td>\n",
       "      <td>50</td>\n",
       "      <td>True</td>\n",
       "      <td>0.710055</td>\n",
       "      <td>0.781818</td>\n",
       "      <td>0.780061</td>\n",
       "      <td>0.899935</td>\n",
       "      <td>11494.072799</td>\n",
       "      <td>938</td>\n",
       "      <td>-9152207393364617717</td>\n",
       "      <td>1</td>\n",
       "    </tr>\n",
       "    <tr>\n",
       "      <th>5</th>\n",
       "      <td>/data/BGNN_data/INHS_cropped</td>\n",
       "      <td>50_11</td>\n",
       "      <td>0.64</td>\n",
       "      <td>0.16</td>\n",
       "      <td>224</td>\n",
       "      <td>3</td>\n",
       "      <td>False</td>\n",
       "      <td>200</td>\n",
       "      <td>1000</td>\n",
       "      <td>0.0001</td>\n",
       "      <td>3</td>\n",
       "      <td>100</td>\n",
       "      <td>True</td>\n",
       "      <td>False</td>\n",
       "      <td>True</td>\n",
       "      <td>50</td>\n",
       "      <td>True</td>\n",
       "      <td>50</td>\n",
       "      <td>True</td>\n",
       "      <td>50</td>\n",
       "      <td>True</td>\n",
       "      <td>0.653699</td>\n",
       "      <td>0.781818</td>\n",
       "      <td>0.781878</td>\n",
       "      <td>0.298643</td>\n",
       "      <td>8035.247251</td>\n",
       "      <td>648</td>\n",
       "      <td>-9152207393364617717</td>\n",
       "      <td>2</td>\n",
       "    </tr>\n",
       "    <tr>\n",
       "      <th>6</th>\n",
       "      <td>/data/BGNN_data/INHS_cropped</td>\n",
       "      <td>50_11</td>\n",
       "      <td>0.64</td>\n",
       "      <td>0.16</td>\n",
       "      <td>224</td>\n",
       "      <td>3</td>\n",
       "      <td>False</td>\n",
       "      <td>200</td>\n",
       "      <td>1000</td>\n",
       "      <td>0.0001</td>\n",
       "      <td>3</td>\n",
       "      <td>100</td>\n",
       "      <td>False</td>\n",
       "      <td>False</td>\n",
       "      <td>True</td>\n",
       "      <td>50</td>\n",
       "      <td>True</td>\n",
       "      <td>50</td>\n",
       "      <td>True</td>\n",
       "      <td>18</td>\n",
       "      <td>True</td>\n",
       "      <td>0.818825</td>\n",
       "      <td>0.772727</td>\n",
       "      <td>0.735735</td>\n",
       "      <td>NaN</td>\n",
       "      <td>10287.495625</td>\n",
       "      <td>849</td>\n",
       "      <td>-3863746956200108666</td>\n",
       "      <td>0</td>\n",
       "    </tr>\n",
       "    <tr>\n",
       "      <th>7</th>\n",
       "      <td>/data/BGNN_data/INHS_cropped</td>\n",
       "      <td>50_11</td>\n",
       "      <td>0.64</td>\n",
       "      <td>0.16</td>\n",
       "      <td>224</td>\n",
       "      <td>3</td>\n",
       "      <td>False</td>\n",
       "      <td>200</td>\n",
       "      <td>1000</td>\n",
       "      <td>0.0001</td>\n",
       "      <td>3</td>\n",
       "      <td>100</td>\n",
       "      <td>False</td>\n",
       "      <td>False</td>\n",
       "      <td>True</td>\n",
       "      <td>50</td>\n",
       "      <td>True</td>\n",
       "      <td>50</td>\n",
       "      <td>True</td>\n",
       "      <td>18</td>\n",
       "      <td>True</td>\n",
       "      <td>1.275639</td>\n",
       "      <td>0.581818</td>\n",
       "      <td>0.495970</td>\n",
       "      <td>NaN</td>\n",
       "      <td>10842.575058</td>\n",
       "      <td>894</td>\n",
       "      <td>-3863746956200108666</td>\n",
       "      <td>1</td>\n",
       "    </tr>\n",
       "    <tr>\n",
       "      <th>8</th>\n",
       "      <td>/data/BGNN_data/INHS_cropped</td>\n",
       "      <td>50_11</td>\n",
       "      <td>0.64</td>\n",
       "      <td>0.16</td>\n",
       "      <td>224</td>\n",
       "      <td>3</td>\n",
       "      <td>False</td>\n",
       "      <td>200</td>\n",
       "      <td>1000</td>\n",
       "      <td>0.0001</td>\n",
       "      <td>3</td>\n",
       "      <td>100</td>\n",
       "      <td>False</td>\n",
       "      <td>False</td>\n",
       "      <td>True</td>\n",
       "      <td>50</td>\n",
       "      <td>True</td>\n",
       "      <td>50</td>\n",
       "      <td>True</td>\n",
       "      <td>18</td>\n",
       "      <td>True</td>\n",
       "      <td>1.044797</td>\n",
       "      <td>0.727273</td>\n",
       "      <td>0.692929</td>\n",
       "      <td>NaN</td>\n",
       "      <td>7957.696410</td>\n",
       "      <td>688</td>\n",
       "      <td>-3863746956200108666</td>\n",
       "      <td>2</td>\n",
       "    </tr>\n",
       "    <tr>\n",
       "      <th>9</th>\n",
       "      <td>/data/BGNN_data/INHS_cropped</td>\n",
       "      <td>50_11</td>\n",
       "      <td>0.64</td>\n",
       "      <td>0.16</td>\n",
       "      <td>224</td>\n",
       "      <td>3</td>\n",
       "      <td>False</td>\n",
       "      <td>200</td>\n",
       "      <td>1000</td>\n",
       "      <td>0.0001</td>\n",
       "      <td>3</td>\n",
       "      <td>100</td>\n",
       "      <td>False</td>\n",
       "      <td>False</td>\n",
       "      <td>True</td>\n",
       "      <td>50</td>\n",
       "      <td>True</td>\n",
       "      <td>50</td>\n",
       "      <td>True</td>\n",
       "      <td>50</td>\n",
       "      <td>True</td>\n",
       "      <td>0.921361</td>\n",
       "      <td>0.690909</td>\n",
       "      <td>0.660860</td>\n",
       "      <td>NaN</td>\n",
       "      <td>8528.863773</td>\n",
       "      <td>745</td>\n",
       "      <td>-8120143210267186293</td>\n",
       "      <td>0</td>\n",
       "    </tr>\n",
       "    <tr>\n",
       "      <th>10</th>\n",
       "      <td>/data/BGNN_data/INHS_cropped</td>\n",
       "      <td>50_11</td>\n",
       "      <td>0.64</td>\n",
       "      <td>0.16</td>\n",
       "      <td>224</td>\n",
       "      <td>3</td>\n",
       "      <td>False</td>\n",
       "      <td>200</td>\n",
       "      <td>1000</td>\n",
       "      <td>0.0001</td>\n",
       "      <td>3</td>\n",
       "      <td>100</td>\n",
       "      <td>False</td>\n",
       "      <td>False</td>\n",
       "      <td>True</td>\n",
       "      <td>50</td>\n",
       "      <td>True</td>\n",
       "      <td>50</td>\n",
       "      <td>True</td>\n",
       "      <td>50</td>\n",
       "      <td>True</td>\n",
       "      <td>1.493980</td>\n",
       "      <td>0.545455</td>\n",
       "      <td>0.432590</td>\n",
       "      <td>NaN</td>\n",
       "      <td>5570.666008</td>\n",
       "      <td>482</td>\n",
       "      <td>-8120143210267186293</td>\n",
       "      <td>1</td>\n",
       "    </tr>\n",
       "    <tr>\n",
       "      <th>11</th>\n",
       "      <td>/data/BGNN_data/INHS_cropped</td>\n",
       "      <td>50_11</td>\n",
       "      <td>0.64</td>\n",
       "      <td>0.16</td>\n",
       "      <td>224</td>\n",
       "      <td>3</td>\n",
       "      <td>False</td>\n",
       "      <td>200</td>\n",
       "      <td>1000</td>\n",
       "      <td>0.0001</td>\n",
       "      <td>3</td>\n",
       "      <td>100</td>\n",
       "      <td>False</td>\n",
       "      <td>False</td>\n",
       "      <td>True</td>\n",
       "      <td>50</td>\n",
       "      <td>True</td>\n",
       "      <td>50</td>\n",
       "      <td>True</td>\n",
       "      <td>50</td>\n",
       "      <td>True</td>\n",
       "      <td>1.434081</td>\n",
       "      <td>0.563636</td>\n",
       "      <td>0.478195</td>\n",
       "      <td>NaN</td>\n",
       "      <td>4725.762034</td>\n",
       "      <td>408</td>\n",
       "      <td>-8120143210267186293</td>\n",
       "      <td>2</td>\n",
       "    </tr>\n",
       "  </tbody>\n",
       "</table>"
      ],
      "text/plain": [
       "<IPython.core.display.HTML object>"
      ]
     },
     "metadata": {},
     "output_type": "display_data"
    }
   ],
   "source": [
    "ts.showStatistics(False)\n",
    "ts.saveStatistics(False)"
   ]
  },
  {
   "cell_type": "code",
   "execution_count": 7,
   "metadata": {},
   "outputs": [
    {
     "name": "stdout",
     "output_type": "stream",
     "text": [
      "experiment:  {'image_path': '/data/BGNN_data/INHS_cropped', 'suffix': '50_11', 'training_count': 0.64, 'validation_count': 0.16, 'imageDimension': 224, 'n_channels': 3, 'augmentation': False, 'batchSize': 200, 'n_epochs': 1000, 'learning_rate': 0.0001, 'numOfTrials': 3, 'patience': 100, 'useHeirarchy': True, 'useRelu': False, 'downsample': True, 'downsampleOutput': 50, 'takeFromIntermediate': True, 'takeFromIntermediateOutput': 50, 'useAdam': True, 'resnet': '18', 'normalize': True}\n"
     ]
    },
    {
     "data": {
      "image/png": "[encoded data removed]",
      "text/plain": [
       "<Figure size 1440x1224 with 2 Axes>"
      ]
     },
     "metadata": {
      "needs_background": "light"
     },
     "output_type": "display_data"
    },
    {
     "data": {
      "text/html": [
       "<table border=\"1\" class=\"dataframe\">\n",
       "  <thead>\n",
       "    <tr style=\"text-align: right;\">\n",
       "      <th></th>\n",
       "      <th>genus</th>\n",
       "      <th>F1</th>\n",
       "    </tr>\n",
       "  </thead>\n",
       "  <tbody>\n",
       "    <tr>\n",
       "      <th>0</th>\n",
       "      <td>0 Lepomis</td>\n",
       "      <td>0.948276</td>\n",
       "    </tr>\n",
       "    <tr>\n",
       "      <th>1</th>\n",
       "      <td>1 Carassius</td>\n",
       "      <td>0.654545</td>\n",
       "    </tr>\n",
       "    <tr>\n",
       "      <th>2</th>\n",
       "      <td>2 Cyprinus</td>\n",
       "      <td>0.724638</td>\n",
       "    </tr>\n",
       "    <tr>\n",
       "      <th>3</th>\n",
       "      <td>3 Esox</td>\n",
       "      <td>0.991736</td>\n",
       "    </tr>\n",
       "    <tr>\n",
       "      <th>4</th>\n",
       "      <td>4 Noturus</td>\n",
       "      <td>0.996656</td>\n",
       "    </tr>\n",
       "  </tbody>\n",
       "</table>"
      ],
      "text/plain": [
       "<IPython.core.display.HTML object>"
      ]
     },
     "metadata": {},
     "output_type": "display_data"
    },
    {
     "name": "stdout",
     "output_type": "stream",
     "text": [
      "experiment:  {'image_path': '/data/BGNN_data/INHS_cropped', 'suffix': '50_11', 'training_count': 0.64, 'validation_count': 0.16, 'imageDimension': 224, 'n_channels': 3, 'augmentation': False, 'batchSize': 200, 'n_epochs': 1000, 'learning_rate': 0.0001, 'numOfTrials': 3, 'patience': 100, 'useHeirarchy': True, 'useRelu': False, 'downsample': True, 'downsampleOutput': 50, 'takeFromIntermediate': True, 'takeFromIntermediateOutput': 50, 'useAdam': True, 'resnet': '50', 'normalize': True}\n"
     ]
    },
    {
     "data": {
      "image/png": "[encoded data removed]",
      "text/plain": [
       "<Figure size 1440x1224 with 2 Axes>"
      ]
     },
     "metadata": {
      "needs_background": "light"
     },
     "output_type": "display_data"
    },
    {
     "data": {
      "text/html": [
       "<table border=\"1\" class=\"dataframe\">\n",
       "  <thead>\n",
       "    <tr style=\"text-align: right;\">\n",
       "      <th></th>\n",
       "      <th>genus</th>\n",
       "      <th>F1</th>\n",
       "    </tr>\n",
       "  </thead>\n",
       "  <tbody>\n",
       "    <tr>\n",
       "      <th>0</th>\n",
       "      <td>0 Lepomis</td>\n",
       "      <td>0.685714</td>\n",
       "    </tr>\n",
       "    <tr>\n",
       "      <th>1</th>\n",
       "      <td>1 Carassius</td>\n",
       "      <td>0.565217</td>\n",
       "    </tr>\n",
       "    <tr>\n",
       "      <th>2</th>\n",
       "      <td>2 Cyprinus</td>\n",
       "      <td>0.618182</td>\n",
       "    </tr>\n",
       "    <tr>\n",
       "      <th>3</th>\n",
       "      <td>3 Esox</td>\n",
       "      <td>0.493827</td>\n",
       "    </tr>\n",
       "    <tr>\n",
       "      <th>4</th>\n",
       "      <td>4 Noturus</td>\n",
       "      <td>0.983498</td>\n",
       "    </tr>\n",
       "  </tbody>\n",
       "</table>"
      ],
      "text/plain": [
       "<IPython.core.display.HTML object>"
      ]
     },
     "metadata": {},
     "output_type": "display_data"
    }
   ],
   "source": [
    "paramsIterator = config_parser.getHyperpIter() \n",
    "for experiment_params in paramsIterator:\n",
    "    experiment_params[\"numOfTrials\"] = experiment_params[\"numOfTrials\"] or 1\n",
    "    if experiment_params[\"useHeirarchy\"]:\n",
    "        print(\"experiment: \", experiment_params)\n",
    "\n",
    "        datasetManager.updateParams(experiment_params)\n",
    "        dataset = datasetManager.getDataset()\n",
    "    \n",
    "        genusList = dataset.getGenusList()\n",
    "        ts_genus.printTrialConfusionMatrix(experiment_params, genusList, True)\n",
    "        ts_genus.printF1table(experiment_params, dataset)"
   ]
  },
  {
   "cell_type": "code",
   "execution_count": 9,
   "metadata": {},
   "outputs": [
    {
     "data": {
      "image/png": "[encoded data removed]",
      "text/plain": [
       "<Figure size 432x288 with 1 Axes>"
      ]
     },
     "metadata": {
      "needs_background": "light"
     },
     "output_type": "display_data"
    }
   ],
   "source": [
    "ts.trialScatter('accuracy', 'time', False, 'resnet')"
   ]
  },
  {
   "cell_type": "code",
   "execution_count": 11,
   "metadata": {},
   "outputs": [
    {
     "data": {
      "image/png": "[encoded data removed]",
      "text/plain": [
       "<Figure size 432x288 with 1 Axes>"
      ]
     },
     "metadata": {
      "needs_background": "light"
     },
     "output_type": "display_data"
    }
   ],
   "source": [
    "ts.trialScatter('accuracy', 'time', False, 'useHeirarchy')"
   ]
  },
  {
   "cell_type": "code",
   "execution_count": null,
   "metadata": {},
   "outputs": [],
   "source": []
  }
 ],
 "metadata": {
  "kernelspec": {
   "display_name": "Python 3",
   "language": "python",
   "name": "python3"
  },
  "language_info": {
   "codemirror_mode": {
    "name": "ipython",
    "version": 3
   },
   "file_extension": ".py",
   "mimetype": "text/x-python",
   "name": "python",
   "nbconvert_exporter": "python",
   "pygments_lexer": "ipython3",
   "version": "3.6.9"
  }
 },
 "nbformat": 4,
 "nbformat_minor": 2
}
